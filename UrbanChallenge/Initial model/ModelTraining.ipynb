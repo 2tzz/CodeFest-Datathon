{
  "nbformat": 4,
  "nbformat_minor": 0,
  "metadata": {
    "colab": {
      "provenance": [],
      "gpuType": "T4"
    },
    "kernelspec": {
      "name": "python3",
      "display_name": "Python 3"
    },
    "language_info": {
      "name": "python"
    },
    "accelerator": "GPU"
  },
  "cells": [
    {
      "cell_type": "code",
      "source": [
        "!pip install ultralytics"
      ],
      "metadata": {
        "colab": {
          "base_uri": "https://localhost:8080/"
        },
        "id": "iUggKvVmlsx6",
        "outputId": "2d2d424f-f934-40cb-df08-b09f054af4e2"
      },
      "execution_count": 1,
      "outputs": [
        {
          "output_type": "stream",
          "name": "stdout",
          "text": [
            "Collecting ultralytics\n",
            "  Downloading ultralytics-8.3.176-py3-none-any.whl.metadata (37 kB)\n",
            "Requirement already satisfied: numpy>=1.23.0 in /usr/local/lib/python3.11/dist-packages (from ultralytics) (2.0.2)\n",
            "Requirement already satisfied: matplotlib>=3.3.0 in /usr/local/lib/python3.11/dist-packages (from ultralytics) (3.10.0)\n",
            "Requirement already satisfied: opencv-python>=4.6.0 in /usr/local/lib/python3.11/dist-packages (from ultralytics) (4.12.0.88)\n",
            "Requirement already satisfied: pillow>=7.1.2 in /usr/local/lib/python3.11/dist-packages (from ultralytics) (11.3.0)\n",
            "Requirement already satisfied: pyyaml>=5.3.1 in /usr/local/lib/python3.11/dist-packages (from ultralytics) (6.0.2)\n",
            "Requirement already satisfied: requests>=2.23.0 in /usr/local/lib/python3.11/dist-packages (from ultralytics) (2.32.3)\n",
            "Requirement already satisfied: scipy>=1.4.1 in /usr/local/lib/python3.11/dist-packages (from ultralytics) (1.16.1)\n",
            "Requirement already satisfied: torch>=1.8.0 in /usr/local/lib/python3.11/dist-packages (from ultralytics) (2.6.0+cu124)\n",
            "Requirement already satisfied: torchvision>=0.9.0 in /usr/local/lib/python3.11/dist-packages (from ultralytics) (0.21.0+cu124)\n",
            "Requirement already satisfied: tqdm>=4.64.0 in /usr/local/lib/python3.11/dist-packages (from ultralytics) (4.67.1)\n",
            "Requirement already satisfied: psutil in /usr/local/lib/python3.11/dist-packages (from ultralytics) (5.9.5)\n",
            "Requirement already satisfied: py-cpuinfo in /usr/local/lib/python3.11/dist-packages (from ultralytics) (9.0.0)\n",
            "Requirement already satisfied: pandas>=1.1.4 in /usr/local/lib/python3.11/dist-packages (from ultralytics) (2.2.2)\n",
            "Collecting ultralytics-thop>=2.0.0 (from ultralytics)\n",
            "  Downloading ultralytics_thop-2.0.15-py3-none-any.whl.metadata (14 kB)\n",
            "Requirement already satisfied: contourpy>=1.0.1 in /usr/local/lib/python3.11/dist-packages (from matplotlib>=3.3.0->ultralytics) (1.3.3)\n",
            "Requirement already satisfied: cycler>=0.10 in /usr/local/lib/python3.11/dist-packages (from matplotlib>=3.3.0->ultralytics) (0.12.1)\n",
            "Requirement already satisfied: fonttools>=4.22.0 in /usr/local/lib/python3.11/dist-packages (from matplotlib>=3.3.0->ultralytics) (4.59.0)\n",
            "Requirement already satisfied: kiwisolver>=1.3.1 in /usr/local/lib/python3.11/dist-packages (from matplotlib>=3.3.0->ultralytics) (1.4.8)\n",
            "Requirement already satisfied: packaging>=20.0 in /usr/local/lib/python3.11/dist-packages (from matplotlib>=3.3.0->ultralytics) (25.0)\n",
            "Requirement already satisfied: pyparsing>=2.3.1 in /usr/local/lib/python3.11/dist-packages (from matplotlib>=3.3.0->ultralytics) (3.2.3)\n",
            "Requirement already satisfied: python-dateutil>=2.7 in /usr/local/lib/python3.11/dist-packages (from matplotlib>=3.3.0->ultralytics) (2.9.0.post0)\n",
            "Requirement already satisfied: pytz>=2020.1 in /usr/local/lib/python3.11/dist-packages (from pandas>=1.1.4->ultralytics) (2025.2)\n",
            "Requirement already satisfied: tzdata>=2022.7 in /usr/local/lib/python3.11/dist-packages (from pandas>=1.1.4->ultralytics) (2025.2)\n",
            "Requirement already satisfied: charset-normalizer<4,>=2 in /usr/local/lib/python3.11/dist-packages (from requests>=2.23.0->ultralytics) (3.4.2)\n",
            "Requirement already satisfied: idna<4,>=2.5 in /usr/local/lib/python3.11/dist-packages (from requests>=2.23.0->ultralytics) (3.10)\n",
            "Requirement already satisfied: urllib3<3,>=1.21.1 in /usr/local/lib/python3.11/dist-packages (from requests>=2.23.0->ultralytics) (2.5.0)\n",
            "Requirement already satisfied: certifi>=2017.4.17 in /usr/local/lib/python3.11/dist-packages (from requests>=2.23.0->ultralytics) (2025.8.3)\n",
            "Requirement already satisfied: filelock in /usr/local/lib/python3.11/dist-packages (from torch>=1.8.0->ultralytics) (3.18.0)\n",
            "Requirement already satisfied: typing-extensions>=4.10.0 in /usr/local/lib/python3.11/dist-packages (from torch>=1.8.0->ultralytics) (4.14.1)\n",
            "Requirement already satisfied: networkx in /usr/local/lib/python3.11/dist-packages (from torch>=1.8.0->ultralytics) (3.5)\n",
            "Requirement already satisfied: jinja2 in /usr/local/lib/python3.11/dist-packages (from torch>=1.8.0->ultralytics) (3.1.6)\n",
            "Requirement already satisfied: fsspec in /usr/local/lib/python3.11/dist-packages (from torch>=1.8.0->ultralytics) (2025.3.0)\n",
            "Collecting nvidia-cuda-nvrtc-cu12==12.4.127 (from torch>=1.8.0->ultralytics)\n",
            "  Downloading nvidia_cuda_nvrtc_cu12-12.4.127-py3-none-manylinux2014_x86_64.whl.metadata (1.5 kB)\n",
            "Collecting nvidia-cuda-runtime-cu12==12.4.127 (from torch>=1.8.0->ultralytics)\n",
            "  Downloading nvidia_cuda_runtime_cu12-12.4.127-py3-none-manylinux2014_x86_64.whl.metadata (1.5 kB)\n",
            "Collecting nvidia-cuda-cupti-cu12==12.4.127 (from torch>=1.8.0->ultralytics)\n",
            "  Downloading nvidia_cuda_cupti_cu12-12.4.127-py3-none-manylinux2014_x86_64.whl.metadata (1.6 kB)\n",
            "Collecting nvidia-cudnn-cu12==9.1.0.70 (from torch>=1.8.0->ultralytics)\n",
            "  Downloading nvidia_cudnn_cu12-9.1.0.70-py3-none-manylinux2014_x86_64.whl.metadata (1.6 kB)\n",
            "Collecting nvidia-cublas-cu12==12.4.5.8 (from torch>=1.8.0->ultralytics)\n",
            "  Downloading nvidia_cublas_cu12-12.4.5.8-py3-none-manylinux2014_x86_64.whl.metadata (1.5 kB)\n",
            "Collecting nvidia-cufft-cu12==11.2.1.3 (from torch>=1.8.0->ultralytics)\n",
            "  Downloading nvidia_cufft_cu12-11.2.1.3-py3-none-manylinux2014_x86_64.whl.metadata (1.5 kB)\n",
            "Collecting nvidia-curand-cu12==10.3.5.147 (from torch>=1.8.0->ultralytics)\n",
            "  Downloading nvidia_curand_cu12-10.3.5.147-py3-none-manylinux2014_x86_64.whl.metadata (1.5 kB)\n",
            "Collecting nvidia-cusolver-cu12==11.6.1.9 (from torch>=1.8.0->ultralytics)\n",
            "  Downloading nvidia_cusolver_cu12-11.6.1.9-py3-none-manylinux2014_x86_64.whl.metadata (1.6 kB)\n",
            "Collecting nvidia-cusparse-cu12==12.3.1.170 (from torch>=1.8.0->ultralytics)\n",
            "  Downloading nvidia_cusparse_cu12-12.3.1.170-py3-none-manylinux2014_x86_64.whl.metadata (1.6 kB)\n",
            "Requirement already satisfied: nvidia-cusparselt-cu12==0.6.2 in /usr/local/lib/python3.11/dist-packages (from torch>=1.8.0->ultralytics) (0.6.2)\n",
            "Collecting nvidia-nccl-cu12==2.21.5 (from torch>=1.8.0->ultralytics)\n",
            "  Downloading nvidia_nccl_cu12-2.21.5-py3-none-manylinux2014_x86_64.whl.metadata (1.8 kB)\n",
            "Requirement already satisfied: nvidia-nvtx-cu12==12.4.127 in /usr/local/lib/python3.11/dist-packages (from torch>=1.8.0->ultralytics) (12.4.127)\n",
            "Collecting nvidia-nvjitlink-cu12==12.4.127 (from torch>=1.8.0->ultralytics)\n",
            "  Downloading nvidia_nvjitlink_cu12-12.4.127-py3-none-manylinux2014_x86_64.whl.metadata (1.5 kB)\n",
            "Requirement already satisfied: triton==3.2.0 in /usr/local/lib/python3.11/dist-packages (from torch>=1.8.0->ultralytics) (3.2.0)\n",
            "Requirement already satisfied: sympy==1.13.1 in /usr/local/lib/python3.11/dist-packages (from torch>=1.8.0->ultralytics) (1.13.1)\n",
            "Requirement already satisfied: mpmath<1.4,>=1.1.0 in /usr/local/lib/python3.11/dist-packages (from sympy==1.13.1->torch>=1.8.0->ultralytics) (1.3.0)\n",
            "Requirement already satisfied: six>=1.5 in /usr/local/lib/python3.11/dist-packages (from python-dateutil>=2.7->matplotlib>=3.3.0->ultralytics) (1.17.0)\n",
            "Requirement already satisfied: MarkupSafe>=2.0 in /usr/local/lib/python3.11/dist-packages (from jinja2->torch>=1.8.0->ultralytics) (3.0.2)\n",
            "Downloading ultralytics-8.3.176-py3-none-any.whl (1.0 MB)\n",
            "\u001b[2K   \u001b[90m━━━━━━━━━━━━━━━━━━━━━━━━━━━━━━━━━━━━━━━━\u001b[0m \u001b[32m1.0/1.0 MB\u001b[0m \u001b[31m35.9 MB/s\u001b[0m eta \u001b[36m0:00:00\u001b[0m\n",
            "\u001b[?25hDownloading nvidia_cublas_cu12-12.4.5.8-py3-none-manylinux2014_x86_64.whl (363.4 MB)\n",
            "\u001b[2K   \u001b[90m━━━━━━━━━━━━━━━━━━━━━━━━━━━━━━━━━━━━━━━━\u001b[0m \u001b[32m363.4/363.4 MB\u001b[0m \u001b[31m2.8 MB/s\u001b[0m eta \u001b[36m0:00:00\u001b[0m\n",
            "\u001b[?25hDownloading nvidia_cuda_cupti_cu12-12.4.127-py3-none-manylinux2014_x86_64.whl (13.8 MB)\n",
            "\u001b[2K   \u001b[90m━━━━━━━━━━━━━━━━━━━━━━━━━━━━━━━━━━━━━━━━\u001b[0m \u001b[32m13.8/13.8 MB\u001b[0m \u001b[31m106.1 MB/s\u001b[0m eta \u001b[36m0:00:00\u001b[0m\n",
            "\u001b[?25hDownloading nvidia_cuda_nvrtc_cu12-12.4.127-py3-none-manylinux2014_x86_64.whl (24.6 MB)\n",
            "\u001b[2K   \u001b[90m━━━━━━━━━━━━━━━━━━━━━━━━━━━━━━━━━━━━━━━━\u001b[0m \u001b[32m24.6/24.6 MB\u001b[0m \u001b[31m98.0 MB/s\u001b[0m eta \u001b[36m0:00:00\u001b[0m\n",
            "\u001b[?25hDownloading nvidia_cuda_runtime_cu12-12.4.127-py3-none-manylinux2014_x86_64.whl (883 kB)\n",
            "\u001b[2K   \u001b[90m━━━━━━━━━━━━━━━━━━━━━━━━━━━━━━━━━━━━━━━━\u001b[0m \u001b[32m883.7/883.7 kB\u001b[0m \u001b[31m61.3 MB/s\u001b[0m eta \u001b[36m0:00:00\u001b[0m\n",
            "\u001b[?25hDownloading nvidia_cudnn_cu12-9.1.0.70-py3-none-manylinux2014_x86_64.whl (664.8 MB)\n",
            "\u001b[2K   \u001b[90m━━━━━━━━━━━━━━━━━━━━━━━━━━━━━━━━━━━━━━━━\u001b[0m \u001b[32m664.8/664.8 MB\u001b[0m \u001b[31m2.4 MB/s\u001b[0m eta \u001b[36m0:00:00\u001b[0m\n",
            "\u001b[?25hDownloading nvidia_cufft_cu12-11.2.1.3-py3-none-manylinux2014_x86_64.whl (211.5 MB)\n",
            "\u001b[2K   \u001b[90m━━━━━━━━━━━━━━━━━━━━━━━━━━━━━━━━━━━━━━━━\u001b[0m \u001b[32m211.5/211.5 MB\u001b[0m \u001b[31m5.4 MB/s\u001b[0m eta \u001b[36m0:00:00\u001b[0m\n",
            "\u001b[?25hDownloading nvidia_curand_cu12-10.3.5.147-py3-none-manylinux2014_x86_64.whl (56.3 MB)\n",
            "\u001b[2K   \u001b[90m━━━━━━━━━━━━━━━━━━━━━━━━━━━━━━━━━━━━━━━━\u001b[0m \u001b[32m56.3/56.3 MB\u001b[0m \u001b[31m11.4 MB/s\u001b[0m eta \u001b[36m0:00:00\u001b[0m\n",
            "\u001b[?25hDownloading nvidia_cusolver_cu12-11.6.1.9-py3-none-manylinux2014_x86_64.whl (127.9 MB)\n",
            "\u001b[2K   \u001b[90m━━━━━━━━━━━━━━━━━━━━━━━━━━━━━━━━━━━━━━━━\u001b[0m \u001b[32m127.9/127.9 MB\u001b[0m \u001b[31m7.7 MB/s\u001b[0m eta \u001b[36m0:00:00\u001b[0m\n",
            "\u001b[?25hDownloading nvidia_cusparse_cu12-12.3.1.170-py3-none-manylinux2014_x86_64.whl (207.5 MB)\n",
            "\u001b[2K   \u001b[90m━━━━━━━━━━━━━━━━━━━━━━━━━━━━━━━━━━━━━━━━\u001b[0m \u001b[32m207.5/207.5 MB\u001b[0m \u001b[31m5.5 MB/s\u001b[0m eta \u001b[36m0:00:00\u001b[0m\n",
            "\u001b[?25hDownloading nvidia_nccl_cu12-2.21.5-py3-none-manylinux2014_x86_64.whl (188.7 MB)\n",
            "\u001b[2K   \u001b[90m━━━━━━━━━━━━━━━━━━━━━━━━━━━━━━━━━━━━━━━━\u001b[0m \u001b[32m188.7/188.7 MB\u001b[0m \u001b[31m5.8 MB/s\u001b[0m eta \u001b[36m0:00:00\u001b[0m\n",
            "\u001b[?25hDownloading nvidia_nvjitlink_cu12-12.4.127-py3-none-manylinux2014_x86_64.whl (21.1 MB)\n",
            "\u001b[2K   \u001b[90m━━━━━━━━━━━━━━━━━━━━━━━━━━━━━━━━━━━━━━━━\u001b[0m \u001b[32m21.1/21.1 MB\u001b[0m \u001b[31m111.2 MB/s\u001b[0m eta \u001b[36m0:00:00\u001b[0m\n",
            "\u001b[?25hDownloading ultralytics_thop-2.0.15-py3-none-any.whl (28 kB)\n",
            "Installing collected packages: nvidia-nvjitlink-cu12, nvidia-nccl-cu12, nvidia-curand-cu12, nvidia-cufft-cu12, nvidia-cuda-runtime-cu12, nvidia-cuda-nvrtc-cu12, nvidia-cuda-cupti-cu12, nvidia-cublas-cu12, nvidia-cusparse-cu12, nvidia-cudnn-cu12, nvidia-cusolver-cu12, ultralytics-thop, ultralytics\n",
            "  Attempting uninstall: nvidia-nvjitlink-cu12\n",
            "    Found existing installation: nvidia-nvjitlink-cu12 12.5.82\n",
            "    Uninstalling nvidia-nvjitlink-cu12-12.5.82:\n",
            "      Successfully uninstalled nvidia-nvjitlink-cu12-12.5.82\n",
            "  Attempting uninstall: nvidia-nccl-cu12\n",
            "    Found existing installation: nvidia-nccl-cu12 2.23.4\n",
            "    Uninstalling nvidia-nccl-cu12-2.23.4:\n",
            "      Successfully uninstalled nvidia-nccl-cu12-2.23.4\n",
            "  Attempting uninstall: nvidia-curand-cu12\n",
            "    Found existing installation: nvidia-curand-cu12 10.3.6.82\n",
            "    Uninstalling nvidia-curand-cu12-10.3.6.82:\n",
            "      Successfully uninstalled nvidia-curand-cu12-10.3.6.82\n",
            "  Attempting uninstall: nvidia-cufft-cu12\n",
            "    Found existing installation: nvidia-cufft-cu12 11.2.3.61\n",
            "    Uninstalling nvidia-cufft-cu12-11.2.3.61:\n",
            "      Successfully uninstalled nvidia-cufft-cu12-11.2.3.61\n",
            "  Attempting uninstall: nvidia-cuda-runtime-cu12\n",
            "    Found existing installation: nvidia-cuda-runtime-cu12 12.5.82\n",
            "    Uninstalling nvidia-cuda-runtime-cu12-12.5.82:\n",
            "      Successfully uninstalled nvidia-cuda-runtime-cu12-12.5.82\n",
            "  Attempting uninstall: nvidia-cuda-nvrtc-cu12\n",
            "    Found existing installation: nvidia-cuda-nvrtc-cu12 12.5.82\n",
            "    Uninstalling nvidia-cuda-nvrtc-cu12-12.5.82:\n",
            "      Successfully uninstalled nvidia-cuda-nvrtc-cu12-12.5.82\n",
            "  Attempting uninstall: nvidia-cuda-cupti-cu12\n",
            "    Found existing installation: nvidia-cuda-cupti-cu12 12.5.82\n",
            "    Uninstalling nvidia-cuda-cupti-cu12-12.5.82:\n",
            "      Successfully uninstalled nvidia-cuda-cupti-cu12-12.5.82\n",
            "  Attempting uninstall: nvidia-cublas-cu12\n",
            "    Found existing installation: nvidia-cublas-cu12 12.5.3.2\n",
            "    Uninstalling nvidia-cublas-cu12-12.5.3.2:\n",
            "      Successfully uninstalled nvidia-cublas-cu12-12.5.3.2\n",
            "  Attempting uninstall: nvidia-cusparse-cu12\n",
            "    Found existing installation: nvidia-cusparse-cu12 12.5.1.3\n",
            "    Uninstalling nvidia-cusparse-cu12-12.5.1.3:\n",
            "      Successfully uninstalled nvidia-cusparse-cu12-12.5.1.3\n",
            "  Attempting uninstall: nvidia-cudnn-cu12\n",
            "    Found existing installation: nvidia-cudnn-cu12 9.3.0.75\n",
            "    Uninstalling nvidia-cudnn-cu12-9.3.0.75:\n",
            "      Successfully uninstalled nvidia-cudnn-cu12-9.3.0.75\n",
            "  Attempting uninstall: nvidia-cusolver-cu12\n",
            "    Found existing installation: nvidia-cusolver-cu12 11.6.3.83\n",
            "    Uninstalling nvidia-cusolver-cu12-11.6.3.83:\n",
            "      Successfully uninstalled nvidia-cusolver-cu12-11.6.3.83\n",
            "Successfully installed nvidia-cublas-cu12-12.4.5.8 nvidia-cuda-cupti-cu12-12.4.127 nvidia-cuda-nvrtc-cu12-12.4.127 nvidia-cuda-runtime-cu12-12.4.127 nvidia-cudnn-cu12-9.1.0.70 nvidia-cufft-cu12-11.2.1.3 nvidia-curand-cu12-10.3.5.147 nvidia-cusolver-cu12-11.6.1.9 nvidia-cusparse-cu12-12.3.1.170 nvidia-nccl-cu12-2.21.5 nvidia-nvjitlink-cu12-12.4.127 ultralytics-8.3.176 ultralytics-thop-2.0.15\n"
          ]
        }
      ]
    },
    {
      "cell_type": "code",
      "source": [
        "from ultralytics import YOLO"
      ],
      "metadata": {
        "id": "ew5EFGOimgaV"
      },
      "execution_count": 2,
      "outputs": []
    },
    {
      "cell_type": "markdown",
      "source": [
        "**Upload the Dataset**"
      ],
      "metadata": {
        "id": "se-XfFr1mvzH"
      }
    },
    {
      "cell_type": "code",
      "source": [
        "from google.colab import files\n",
        "files.upload()\n",
        "\n",
        "# Unzip\n",
        "!unzip dataset.zip"
      ],
      "metadata": {
        "colab": {
          "base_uri": "https://localhost:8080/",
          "height": 1000
        },
        "id": "WQWwKiW0moMr",
        "outputId": "f1fb1b16-57e7-431b-c1a3-5d96d57f6419"
      },
      "execution_count": 3,
      "outputs": [
        {
          "output_type": "display_data",
          "data": {
            "text/plain": [
              "<IPython.core.display.HTML object>"
            ],
            "text/html": [
              "\n",
              "     <input type=\"file\" id=\"files-f0f9b5c2-6243-4097-89e4-d530ae35faf8\" name=\"files[]\" multiple disabled\n",
              "        style=\"border:none\" />\n",
              "     <output id=\"result-f0f9b5c2-6243-4097-89e4-d530ae35faf8\">\n",
              "      Upload widget is only available when the cell has been executed in the\n",
              "      current browser session. Please rerun this cell to enable.\n",
              "      </output>\n",
              "      <script>// Copyright 2017 Google LLC\n",
              "//\n",
              "// Licensed under the Apache License, Version 2.0 (the \"License\");\n",
              "// you may not use this file except in compliance with the License.\n",
              "// You may obtain a copy of the License at\n",
              "//\n",
              "//      http://www.apache.org/licenses/LICENSE-2.0\n",
              "//\n",
              "// Unless required by applicable law or agreed to in writing, software\n",
              "// distributed under the License is distributed on an \"AS IS\" BASIS,\n",
              "// WITHOUT WARRANTIES OR CONDITIONS OF ANY KIND, either express or implied.\n",
              "// See the License for the specific language governing permissions and\n",
              "// limitations under the License.\n",
              "\n",
              "/**\n",
              " * @fileoverview Helpers for google.colab Python module.\n",
              " */\n",
              "(function(scope) {\n",
              "function span(text, styleAttributes = {}) {\n",
              "  const element = document.createElement('span');\n",
              "  element.textContent = text;\n",
              "  for (const key of Object.keys(styleAttributes)) {\n",
              "    element.style[key] = styleAttributes[key];\n",
              "  }\n",
              "  return element;\n",
              "}\n",
              "\n",
              "// Max number of bytes which will be uploaded at a time.\n",
              "const MAX_PAYLOAD_SIZE = 100 * 1024;\n",
              "\n",
              "function _uploadFiles(inputId, outputId) {\n",
              "  const steps = uploadFilesStep(inputId, outputId);\n",
              "  const outputElement = document.getElementById(outputId);\n",
              "  // Cache steps on the outputElement to make it available for the next call\n",
              "  // to uploadFilesContinue from Python.\n",
              "  outputElement.steps = steps;\n",
              "\n",
              "  return _uploadFilesContinue(outputId);\n",
              "}\n",
              "\n",
              "// This is roughly an async generator (not supported in the browser yet),\n",
              "// where there are multiple asynchronous steps and the Python side is going\n",
              "// to poll for completion of each step.\n",
              "// This uses a Promise to block the python side on completion of each step,\n",
              "// then passes the result of the previous step as the input to the next step.\n",
              "function _uploadFilesContinue(outputId) {\n",
              "  const outputElement = document.getElementById(outputId);\n",
              "  const steps = outputElement.steps;\n",
              "\n",
              "  const next = steps.next(outputElement.lastPromiseValue);\n",
              "  return Promise.resolve(next.value.promise).then((value) => {\n",
              "    // Cache the last promise value to make it available to the next\n",
              "    // step of the generator.\n",
              "    outputElement.lastPromiseValue = value;\n",
              "    return next.value.response;\n",
              "  });\n",
              "}\n",
              "\n",
              "/**\n",
              " * Generator function which is called between each async step of the upload\n",
              " * process.\n",
              " * @param {string} inputId Element ID of the input file picker element.\n",
              " * @param {string} outputId Element ID of the output display.\n",
              " * @return {!Iterable<!Object>} Iterable of next steps.\n",
              " */\n",
              "function* uploadFilesStep(inputId, outputId) {\n",
              "  const inputElement = document.getElementById(inputId);\n",
              "  inputElement.disabled = false;\n",
              "\n",
              "  const outputElement = document.getElementById(outputId);\n",
              "  outputElement.innerHTML = '';\n",
              "\n",
              "  const pickedPromise = new Promise((resolve) => {\n",
              "    inputElement.addEventListener('change', (e) => {\n",
              "      resolve(e.target.files);\n",
              "    });\n",
              "  });\n",
              "\n",
              "  const cancel = document.createElement('button');\n",
              "  inputElement.parentElement.appendChild(cancel);\n",
              "  cancel.textContent = 'Cancel upload';\n",
              "  const cancelPromise = new Promise((resolve) => {\n",
              "    cancel.onclick = () => {\n",
              "      resolve(null);\n",
              "    };\n",
              "  });\n",
              "\n",
              "  // Wait for the user to pick the files.\n",
              "  const files = yield {\n",
              "    promise: Promise.race([pickedPromise, cancelPromise]),\n",
              "    response: {\n",
              "      action: 'starting',\n",
              "    }\n",
              "  };\n",
              "\n",
              "  cancel.remove();\n",
              "\n",
              "  // Disable the input element since further picks are not allowed.\n",
              "  inputElement.disabled = true;\n",
              "\n",
              "  if (!files) {\n",
              "    return {\n",
              "      response: {\n",
              "        action: 'complete',\n",
              "      }\n",
              "    };\n",
              "  }\n",
              "\n",
              "  for (const file of files) {\n",
              "    const li = document.createElement('li');\n",
              "    li.append(span(file.name, {fontWeight: 'bold'}));\n",
              "    li.append(span(\n",
              "        `(${file.type || 'n/a'}) - ${file.size} bytes, ` +\n",
              "        `last modified: ${\n",
              "            file.lastModifiedDate ? file.lastModifiedDate.toLocaleDateString() :\n",
              "                                    'n/a'} - `));\n",
              "    const percent = span('0% done');\n",
              "    li.appendChild(percent);\n",
              "\n",
              "    outputElement.appendChild(li);\n",
              "\n",
              "    const fileDataPromise = new Promise((resolve) => {\n",
              "      const reader = new FileReader();\n",
              "      reader.onload = (e) => {\n",
              "        resolve(e.target.result);\n",
              "      };\n",
              "      reader.readAsArrayBuffer(file);\n",
              "    });\n",
              "    // Wait for the data to be ready.\n",
              "    let fileData = yield {\n",
              "      promise: fileDataPromise,\n",
              "      response: {\n",
              "        action: 'continue',\n",
              "      }\n",
              "    };\n",
              "\n",
              "    // Use a chunked sending to avoid message size limits. See b/62115660.\n",
              "    let position = 0;\n",
              "    do {\n",
              "      const length = Math.min(fileData.byteLength - position, MAX_PAYLOAD_SIZE);\n",
              "      const chunk = new Uint8Array(fileData, position, length);\n",
              "      position += length;\n",
              "\n",
              "      const base64 = btoa(String.fromCharCode.apply(null, chunk));\n",
              "      yield {\n",
              "        response: {\n",
              "          action: 'append',\n",
              "          file: file.name,\n",
              "          data: base64,\n",
              "        },\n",
              "      };\n",
              "\n",
              "      let percentDone = fileData.byteLength === 0 ?\n",
              "          100 :\n",
              "          Math.round((position / fileData.byteLength) * 100);\n",
              "      percent.textContent = `${percentDone}% done`;\n",
              "\n",
              "    } while (position < fileData.byteLength);\n",
              "  }\n",
              "\n",
              "  // All done.\n",
              "  yield {\n",
              "    response: {\n",
              "      action: 'complete',\n",
              "    }\n",
              "  };\n",
              "}\n",
              "\n",
              "scope.google = scope.google || {};\n",
              "scope.google.colab = scope.google.colab || {};\n",
              "scope.google.colab._files = {\n",
              "  _uploadFiles,\n",
              "  _uploadFilesContinue,\n",
              "};\n",
              "})(self);\n",
              "</script> "
            ]
          },
          "metadata": {}
        },
        {
          "output_type": "stream",
          "name": "stdout",
          "text": [
            "Saving dataset.zip to dataset.zip\n",
            "Archive:  dataset.zip\n",
            "   creating: dataset/\n",
            "  inflating: dataset/data.yml        \n",
            "   creating: dataset/images/\n",
            "   creating: dataset/images/train/\n",
            "  inflating: dataset/images/train/img1.jpg  \n",
            "  inflating: dataset/images/train/img10.jpg  \n",
            "  inflating: dataset/images/train/img100.jpg  \n",
            "  inflating: dataset/images/train/img1000.jpg  \n",
            "  inflating: dataset/images/train/img1001.jpg  \n",
            "  inflating: dataset/images/train/img1003.jpg  \n",
            "  inflating: dataset/images/train/img1004.jpg  \n",
            "  inflating: dataset/images/train/img1005.jpg  \n",
            "  inflating: dataset/images/train/img1006.jpg  \n",
            "  inflating: dataset/images/train/img1007.jpg  \n",
            "  inflating: dataset/images/train/img1009.jpg  \n",
            "  inflating: dataset/images/train/img101.jpg  \n",
            "  inflating: dataset/images/train/img1010.jpg  \n",
            "  inflating: dataset/images/train/img1011.jpg  \n",
            "  inflating: dataset/images/train/img1012.jpg  \n",
            "  inflating: dataset/images/train/img1013.jpg  \n",
            "  inflating: dataset/images/train/img1015.jpg  \n",
            "  inflating: dataset/images/train/img1016.jpg  \n",
            "  inflating: dataset/images/train/img1017.jpg  \n",
            "  inflating: dataset/images/train/img1018.jpg  \n",
            "  inflating: dataset/images/train/img1019.jpg  \n",
            "  inflating: dataset/images/train/img102.jpg  \n",
            "  inflating: dataset/images/train/img1021.jpg  \n",
            "  inflating: dataset/images/train/img1022.jpg  \n",
            "  inflating: dataset/images/train/img1025.jpg  \n",
            "  inflating: dataset/images/train/img1026.jpg  \n",
            "  inflating: dataset/images/train/img1028.jpg  \n",
            "  inflating: dataset/images/train/img1029.jpg  \n",
            "  inflating: dataset/images/train/img1030.jpg  \n",
            "  inflating: dataset/images/train/img1031.jpg  \n",
            "  inflating: dataset/images/train/img1034.jpg  \n",
            "  inflating: dataset/images/train/img1035.jpg  \n",
            "  inflating: dataset/images/train/img1036.jpg  \n",
            "  inflating: dataset/images/train/img1037.jpg  \n",
            "  inflating: dataset/images/train/img1038.jpg  \n",
            "  inflating: dataset/images/train/img1039.jpg  \n",
            "  inflating: dataset/images/train/img104.jpg  \n",
            "  inflating: dataset/images/train/img1040.jpg  \n",
            "  inflating: dataset/images/train/img1041.jpg  \n",
            "  inflating: dataset/images/train/img1042.jpg  \n",
            "  inflating: dataset/images/train/img1043.jpg  \n",
            "  inflating: dataset/images/train/img1046.jpg  \n",
            "  inflating: dataset/images/train/img1048.jpg  \n",
            "  inflating: dataset/images/train/img105.jpg  \n",
            "  inflating: dataset/images/train/img1050.jpg  \n",
            "  inflating: dataset/images/train/img1051.jpg  \n",
            "  inflating: dataset/images/train/img1052.jpg  \n",
            "  inflating: dataset/images/train/img1053.jpg  \n",
            "  inflating: dataset/images/train/img1054.jpg  \n",
            "  inflating: dataset/images/train/img1056.jpg  \n",
            "  inflating: dataset/images/train/img1058.jpg  \n",
            "  inflating: dataset/images/train/img106.jpg  \n",
            "  inflating: dataset/images/train/img1060.jpg  \n",
            "  inflating: dataset/images/train/img1061.jpg  \n",
            "  inflating: dataset/images/train/img1062.jpg  \n",
            "  inflating: dataset/images/train/img1064.jpg  \n",
            "  inflating: dataset/images/train/img1065.jpg  \n",
            "  inflating: dataset/images/train/img1066.jpg  \n",
            "  inflating: dataset/images/train/img1067.jpg  \n",
            "  inflating: dataset/images/train/img1068.jpg  \n",
            "  inflating: dataset/images/train/img107.jpg  \n",
            "  inflating: dataset/images/train/img1072.jpg  \n",
            "  inflating: dataset/images/train/img1073.jpg  \n",
            "  inflating: dataset/images/train/img1074.jpg  \n",
            "  inflating: dataset/images/train/img1075.jpg  \n",
            "  inflating: dataset/images/train/img1078.jpg  \n",
            "  inflating: dataset/images/train/img108.jpg  \n",
            "  inflating: dataset/images/train/img1080.jpg  \n",
            "  inflating: dataset/images/train/img1082.jpg  \n",
            "  inflating: dataset/images/train/img1083.jpg  \n",
            "  inflating: dataset/images/train/img1084.jpg  \n",
            "  inflating: dataset/images/train/img1085.jpg  \n",
            "  inflating: dataset/images/train/img1086.jpg  \n",
            "  inflating: dataset/images/train/img1087.jpg  \n",
            "  inflating: dataset/images/train/img1088.jpg  \n",
            "  inflating: dataset/images/train/img1089.jpg  \n",
            "  inflating: dataset/images/train/img109.jpg  \n",
            "  inflating: dataset/images/train/img1090.jpg  \n",
            "  inflating: dataset/images/train/img1091.jpg  \n",
            "  inflating: dataset/images/train/img1092.jpg  \n",
            "  inflating: dataset/images/train/img1093.jpg  \n",
            "  inflating: dataset/images/train/img1094.jpg  \n",
            "  inflating: dataset/images/train/img1096.jpg  \n",
            "  inflating: dataset/images/train/img1097.jpg  \n",
            "  inflating: dataset/images/train/img1099.jpg  \n",
            "  inflating: dataset/images/train/img11.jpg  \n",
            "  inflating: dataset/images/train/img110.jpg  \n",
            "  inflating: dataset/images/train/img1100.jpg  \n",
            "  inflating: dataset/images/train/img1102.jpg  \n",
            "  inflating: dataset/images/train/img1103.jpg  \n",
            "  inflating: dataset/images/train/img1104.jpg  \n",
            "  inflating: dataset/images/train/img1105.jpg  \n",
            "  inflating: dataset/images/train/img1106.jpg  \n",
            "  inflating: dataset/images/train/img1107.jpg  \n",
            "  inflating: dataset/images/train/img1108.jpg  \n",
            "  inflating: dataset/images/train/img1109.jpg  \n",
            "  inflating: dataset/images/train/img111.jpg  \n",
            "  inflating: dataset/images/train/img1110.jpg  \n",
            "  inflating: dataset/images/train/img1113.jpg  \n",
            "  inflating: dataset/images/train/img1114.jpg  \n",
            "  inflating: dataset/images/train/img1115.jpg  \n",
            "  inflating: dataset/images/train/img1116.jpg  \n",
            "  inflating: dataset/images/train/img1118.jpg  \n",
            "  inflating: dataset/images/train/img1119.jpg  \n",
            "  inflating: dataset/images/train/img112.jpg  \n",
            "  inflating: dataset/images/train/img1120.jpg  \n",
            "  inflating: dataset/images/train/img1121.jpg  \n",
            "  inflating: dataset/images/train/img1122.jpg  \n",
            "  inflating: dataset/images/train/img1123.jpg  \n",
            "  inflating: dataset/images/train/img1124.jpg  \n",
            "  inflating: dataset/images/train/img1125.jpg  \n",
            "  inflating: dataset/images/train/img1128.jpg  \n",
            "  inflating: dataset/images/train/img1129.jpg  \n",
            "  inflating: dataset/images/train/img113.jpg  \n",
            "  inflating: dataset/images/train/img1130.jpg  \n",
            "  inflating: dataset/images/train/img1132.jpg  \n",
            "  inflating: dataset/images/train/img1133.jpg  \n",
            "  inflating: dataset/images/train/img1134.jpg  \n",
            "  inflating: dataset/images/train/img1135.jpg  \n",
            "  inflating: dataset/images/train/img1136.jpg  \n",
            "  inflating: dataset/images/train/img1137.jpg  \n",
            "  inflating: dataset/images/train/img1138.jpg  \n",
            "  inflating: dataset/images/train/img1139.jpg  \n",
            "  inflating: dataset/images/train/img114.jpg  \n",
            "  inflating: dataset/images/train/img1140.jpg  \n",
            "  inflating: dataset/images/train/img1141.jpg  \n",
            "  inflating: dataset/images/train/img1142.jpg  \n",
            "  inflating: dataset/images/train/img1143.jpg  \n",
            "  inflating: dataset/images/train/img1144.jpg  \n",
            "  inflating: dataset/images/train/img1145.jpg  \n",
            "  inflating: dataset/images/train/img1146.jpg  \n",
            "  inflating: dataset/images/train/img1148.jpg  \n",
            "  inflating: dataset/images/train/img115.jpg  \n",
            "  inflating: dataset/images/train/img1150.jpg  \n",
            "  inflating: dataset/images/train/img1151.jpg  \n",
            "  inflating: dataset/images/train/img1152.jpg  \n",
            "  inflating: dataset/images/train/img1154.jpg  \n",
            "  inflating: dataset/images/train/img1155.jpg  \n",
            "  inflating: dataset/images/train/img1158.jpg  \n",
            "  inflating: dataset/images/train/img1159.jpg  \n",
            "  inflating: dataset/images/train/img116.jpg  \n",
            "  inflating: dataset/images/train/img1160.jpg  \n",
            "  inflating: dataset/images/train/img1161.jpg  \n",
            "  inflating: dataset/images/train/img1162.jpg  \n",
            "  inflating: dataset/images/train/img1163.jpg  \n",
            "  inflating: dataset/images/train/img1164.jpg  \n",
            "  inflating: dataset/images/train/img1165.jpg  \n",
            "  inflating: dataset/images/train/img1166.jpg  \n",
            "  inflating: dataset/images/train/img1167.jpg  \n",
            "  inflating: dataset/images/train/img1168.jpg  \n",
            "  inflating: dataset/images/train/img1169.jpg  \n",
            "  inflating: dataset/images/train/img117.jpg  \n",
            "  inflating: dataset/images/train/img1171.jpg  \n",
            "  inflating: dataset/images/train/img1172.jpg  \n",
            "  inflating: dataset/images/train/img1173.jpg  \n",
            "  inflating: dataset/images/train/img1175.jpg  \n",
            "  inflating: dataset/images/train/img1176.jpg  \n",
            "  inflating: dataset/images/train/img1177.jpg  \n",
            "  inflating: dataset/images/train/img1178.jpg  \n",
            "  inflating: dataset/images/train/img1179.jpg  \n",
            "  inflating: dataset/images/train/img118.jpg  \n",
            "  inflating: dataset/images/train/img1181.jpg  \n",
            "  inflating: dataset/images/train/img1182.jpg  \n",
            "  inflating: dataset/images/train/img1184.jpg  \n",
            "  inflating: dataset/images/train/img1185.jpg  \n",
            "  inflating: dataset/images/train/img1187.jpg  \n",
            "  inflating: dataset/images/train/img1189.jpg  \n",
            "  inflating: dataset/images/train/img119.jpg  \n",
            "  inflating: dataset/images/train/img1190.jpg  \n",
            "  inflating: dataset/images/train/img1191.jpg  \n",
            "  inflating: dataset/images/train/img1192.jpg  \n",
            "  inflating: dataset/images/train/img1193.jpg  \n",
            "  inflating: dataset/images/train/img1194.jpg  \n",
            "  inflating: dataset/images/train/img1195.jpg  \n",
            "  inflating: dataset/images/train/img1197.jpg  \n",
            "  inflating: dataset/images/train/img1199.jpg  \n",
            "  inflating: dataset/images/train/img12.jpg  \n",
            "  inflating: dataset/images/train/img120.jpg  \n",
            "  inflating: dataset/images/train/img1200.jpg  \n",
            "  inflating: dataset/images/train/img1201.jpg  \n",
            "  inflating: dataset/images/train/img1202.jpg  \n",
            "  inflating: dataset/images/train/img1203.jpg  \n",
            "  inflating: dataset/images/train/img1204.jpg  \n",
            "  inflating: dataset/images/train/img1205.jpg  \n",
            "  inflating: dataset/images/train/img1206.jpg  \n",
            "  inflating: dataset/images/train/img1207.jpg  \n",
            "  inflating: dataset/images/train/img1208.jpg  \n",
            "  inflating: dataset/images/train/img1209.jpg  \n",
            "  inflating: dataset/images/train/img121.jpg  \n",
            "  inflating: dataset/images/train/img1210.jpg  \n",
            "  inflating: dataset/images/train/img1211.jpg  \n",
            "  inflating: dataset/images/train/img1212.jpg  \n",
            "  inflating: dataset/images/train/img1213.jpg  \n",
            "  inflating: dataset/images/train/img1214.jpg  \n",
            "  inflating: dataset/images/train/img1215.jpg  \n",
            "  inflating: dataset/images/train/img1216.jpg  \n",
            "  inflating: dataset/images/train/img1219.jpg  \n",
            "  inflating: dataset/images/train/img122.jpg  \n",
            "  inflating: dataset/images/train/img1220.jpg  \n",
            "  inflating: dataset/images/train/img1221.jpg  \n",
            "  inflating: dataset/images/train/img1222.jpg  \n",
            "  inflating: dataset/images/train/img1223.jpg  \n",
            "  inflating: dataset/images/train/img1224.jpg  \n",
            "  inflating: dataset/images/train/img1225.jpg  \n",
            "  inflating: dataset/images/train/img1226.jpg  \n",
            "  inflating: dataset/images/train/img1227.jpg  \n",
            "  inflating: dataset/images/train/img1229.jpg  \n",
            "  inflating: dataset/images/train/img123.jpg  \n",
            "  inflating: dataset/images/train/img1230.jpg  \n",
            "  inflating: dataset/images/train/img1231.jpg  \n",
            "  inflating: dataset/images/train/img1232.jpg  \n",
            "  inflating: dataset/images/train/img1233.jpg  \n",
            "  inflating: dataset/images/train/img1234.jpg  \n",
            "  inflating: dataset/images/train/img1235.jpg  \n",
            "  inflating: dataset/images/train/img1237.jpg  \n",
            "  inflating: dataset/images/train/img1238.jpg  \n",
            "  inflating: dataset/images/train/img1239.jpg  \n",
            "  inflating: dataset/images/train/img124.jpg  \n",
            "  inflating: dataset/images/train/img1240.jpg  \n",
            "  inflating: dataset/images/train/img1241.jpg  \n",
            "  inflating: dataset/images/train/img1242.jpg  \n",
            "  inflating: dataset/images/train/img1243.jpg  \n",
            "  inflating: dataset/images/train/img1244.jpg  \n",
            "  inflating: dataset/images/train/img1245.jpg  \n",
            "  inflating: dataset/images/train/img1246.jpg  \n",
            "  inflating: dataset/images/train/img1248.jpg  \n",
            "  inflating: dataset/images/train/img1249.jpg  \n",
            "  inflating: dataset/images/train/img1250.jpg  \n",
            "  inflating: dataset/images/train/img1251.jpg  \n",
            "  inflating: dataset/images/train/img1252.jpg  \n",
            "  inflating: dataset/images/train/img1253.jpg  \n",
            "  inflating: dataset/images/train/img1255.jpg  \n",
            "  inflating: dataset/images/train/img1256.jpg  \n",
            "  inflating: dataset/images/train/img1257.jpg  \n",
            "  inflating: dataset/images/train/img1258.jpg  \n",
            "  inflating: dataset/images/train/img126.jpg  \n",
            "  inflating: dataset/images/train/img1260.jpg  \n",
            "  inflating: dataset/images/train/img1261.jpg  \n",
            "  inflating: dataset/images/train/img1262.jpg  \n",
            "  inflating: dataset/images/train/img1263.jpg  \n",
            "  inflating: dataset/images/train/img1264.jpg  \n",
            "  inflating: dataset/images/train/img1265.jpg  \n",
            "  inflating: dataset/images/train/img1266.jpg  \n",
            "  inflating: dataset/images/train/img1268.jpg  \n",
            "  inflating: dataset/images/train/img1269.jpg  \n",
            "  inflating: dataset/images/train/img1271.jpg  \n",
            "  inflating: dataset/images/train/img1272.jpg  \n",
            "  inflating: dataset/images/train/img1273.jpg  \n",
            "  inflating: dataset/images/train/img1274.jpg  \n",
            "  inflating: dataset/images/train/img1276.jpg  \n",
            "  inflating: dataset/images/train/img1277.jpg  \n",
            "  inflating: dataset/images/train/img1278.jpg  \n",
            "  inflating: dataset/images/train/img1279.jpg  \n",
            "  inflating: dataset/images/train/img1280.jpg  \n",
            "  inflating: dataset/images/train/img1281.jpg  \n",
            "  inflating: dataset/images/train/img1282.jpg  \n",
            "  inflating: dataset/images/train/img1284.jpg  \n",
            "  inflating: dataset/images/train/img1285.jpg  \n",
            "  inflating: dataset/images/train/img1286.jpg  \n",
            "  inflating: dataset/images/train/img1287.jpg  \n",
            "  inflating: dataset/images/train/img1288.jpg  \n",
            "  inflating: dataset/images/train/img1289.jpg  \n",
            "  inflating: dataset/images/train/img129.jpg  \n",
            "  inflating: dataset/images/train/img1290.jpg  \n",
            "  inflating: dataset/images/train/img1291.jpg  \n",
            "  inflating: dataset/images/train/img1293.jpg  \n",
            "  inflating: dataset/images/train/img1294.jpg  \n",
            "  inflating: dataset/images/train/img1295.jpg  \n",
            "  inflating: dataset/images/train/img1296.jpg  \n",
            "  inflating: dataset/images/train/img1297.jpg  \n",
            "  inflating: dataset/images/train/img1298.jpg  \n",
            "  inflating: dataset/images/train/img1299.jpg  \n",
            "  inflating: dataset/images/train/img1301.jpg  \n",
            "  inflating: dataset/images/train/img1302.jpg  \n",
            "  inflating: dataset/images/train/img1303.jpg  \n",
            "  inflating: dataset/images/train/img1304.jpg  \n",
            "  inflating: dataset/images/train/img1305.jpg  \n",
            "  inflating: dataset/images/train/img1306.jpg  \n",
            "  inflating: dataset/images/train/img1307.jpg  \n",
            "  inflating: dataset/images/train/img1308.jpg  \n",
            "  inflating: dataset/images/train/img1309.jpg  \n",
            "  inflating: dataset/images/train/img131.jpg  \n",
            "  inflating: dataset/images/train/img1310.jpg  \n",
            "  inflating: dataset/images/train/img1312.jpg  \n",
            "  inflating: dataset/images/train/img1313.jpg  \n",
            "  inflating: dataset/images/train/img1315.jpg  \n",
            "  inflating: dataset/images/train/img1316.jpg  \n",
            "  inflating: dataset/images/train/img1317.jpg  \n",
            "  inflating: dataset/images/train/img1318.jpg  \n",
            "  inflating: dataset/images/train/img1319.jpg  \n",
            "  inflating: dataset/images/train/img1320.jpg  \n",
            "  inflating: dataset/images/train/img1321.jpg  \n",
            "  inflating: dataset/images/train/img1327.jpg  \n",
            "  inflating: dataset/images/train/img1328.jpg  \n",
            "  inflating: dataset/images/train/img1330.jpg  \n",
            "  inflating: dataset/images/train/img1331.jpg  \n",
            "  inflating: dataset/images/train/img1332.jpg  \n",
            "  inflating: dataset/images/train/img1333.jpg  \n",
            "  inflating: dataset/images/train/img1335.jpg  \n",
            "  inflating: dataset/images/train/img1336.jpg  \n",
            "  inflating: dataset/images/train/img1337.jpg  \n",
            "  inflating: dataset/images/train/img1338.jpg  \n",
            "  inflating: dataset/images/train/img134.jpg  \n",
            "  inflating: dataset/images/train/img1342.jpg  \n",
            "  inflating: dataset/images/train/img1343.jpg  \n",
            "  inflating: dataset/images/train/img1344.jpg  \n",
            "  inflating: dataset/images/train/img1345.jpg  \n",
            "  inflating: dataset/images/train/img1346.jpg  \n",
            "  inflating: dataset/images/train/img1348.jpg  \n",
            "  inflating: dataset/images/train/img1349.jpg  \n",
            "  inflating: dataset/images/train/img135.jpg  \n",
            "  inflating: dataset/images/train/img1351.jpg  \n",
            "  inflating: dataset/images/train/img1352.jpg  \n",
            "  inflating: dataset/images/train/img1353.jpg  \n",
            "  inflating: dataset/images/train/img1354.jpg  \n",
            "  inflating: dataset/images/train/img1356.jpg  \n",
            "  inflating: dataset/images/train/img1357.jpg  \n",
            "  inflating: dataset/images/train/img1358.jpg  \n",
            "  inflating: dataset/images/train/img136.jpg  \n",
            "  inflating: dataset/images/train/img1360.jpg  \n",
            "  inflating: dataset/images/train/img1363.jpg  \n",
            "  inflating: dataset/images/train/img1365.jpg  \n",
            "  inflating: dataset/images/train/img1366.jpg  \n",
            "  inflating: dataset/images/train/img1367.jpg  \n",
            "  inflating: dataset/images/train/img1369.jpg  \n",
            "  inflating: dataset/images/train/img137.jpg  \n",
            "  inflating: dataset/images/train/img1370.jpg  \n",
            "  inflating: dataset/images/train/img1371.jpg  \n",
            "  inflating: dataset/images/train/img1372.jpg  \n",
            "  inflating: dataset/images/train/img1374.jpg  \n",
            "  inflating: dataset/images/train/img1376.jpg  \n",
            "  inflating: dataset/images/train/img1377.jpg  \n",
            "  inflating: dataset/images/train/img1379.jpg  \n",
            "  inflating: dataset/images/train/img138.jpg  \n",
            "  inflating: dataset/images/train/img1380.jpg  \n",
            "  inflating: dataset/images/train/img1381.jpg  \n",
            "  inflating: dataset/images/train/img1382.jpg  \n",
            "  inflating: dataset/images/train/img1383.jpg  \n",
            "  inflating: dataset/images/train/img1384.jpg  \n",
            "  inflating: dataset/images/train/img1385.jpg  \n",
            "  inflating: dataset/images/train/img1386.jpg  \n",
            "  inflating: dataset/images/train/img1389.jpg  \n",
            "  inflating: dataset/images/train/img139.jpg  \n",
            "  inflating: dataset/images/train/img1390.jpg  \n",
            "  inflating: dataset/images/train/img1391.jpg  \n",
            "  inflating: dataset/images/train/img1393.jpg  \n",
            "  inflating: dataset/images/train/img1394.jpg  \n",
            "  inflating: dataset/images/train/img1395.jpg  \n",
            "  inflating: dataset/images/train/img1397.jpg  \n",
            "  inflating: dataset/images/train/img1398.jpg  \n",
            "  inflating: dataset/images/train/img140.jpg  \n",
            "  inflating: dataset/images/train/img1400.jpg  \n",
            "  inflating: dataset/images/train/img1401.jpg  \n",
            "  inflating: dataset/images/train/img1403.jpg  \n",
            "  inflating: dataset/images/train/img1404.jpg  \n",
            "  inflating: dataset/images/train/img1405.jpg  \n",
            "  inflating: dataset/images/train/img1407.jpg  \n",
            "  inflating: dataset/images/train/img1408.jpg  \n",
            "  inflating: dataset/images/train/img1409.jpg  \n",
            "  inflating: dataset/images/train/img1412.jpg  \n",
            "  inflating: dataset/images/train/img1416.jpg  \n",
            "  inflating: dataset/images/train/img1417.jpg  \n",
            "  inflating: dataset/images/train/img1418.jpg  \n",
            "  inflating: dataset/images/train/img1419.jpg  \n",
            "  inflating: dataset/images/train/img142.jpg  \n",
            "  inflating: dataset/images/train/img1420.jpg  \n",
            "  inflating: dataset/images/train/img1421.jpg  \n",
            "  inflating: dataset/images/train/img1422.jpg  \n",
            "  inflating: dataset/images/train/img1423.jpg  \n",
            "  inflating: dataset/images/train/img1424.jpg  \n",
            "  inflating: dataset/images/train/img1425.jpg  \n",
            "  inflating: dataset/images/train/img1426.jpg  \n",
            "  inflating: dataset/images/train/img1427.jpg  \n",
            "  inflating: dataset/images/train/img1428.jpg  \n",
            "  inflating: dataset/images/train/img1429.jpg  \n",
            "  inflating: dataset/images/train/img143.jpg  \n",
            "  inflating: dataset/images/train/img1431.jpg  \n",
            "  inflating: dataset/images/train/img1432.jpg  \n",
            "  inflating: dataset/images/train/img1433.jpg  \n",
            "  inflating: dataset/images/train/img1434.jpg  \n",
            "  inflating: dataset/images/train/img1435.jpg  \n",
            "  inflating: dataset/images/train/img1436.jpg  \n",
            "  inflating: dataset/images/train/img1437.jpg  \n",
            "  inflating: dataset/images/train/img144.jpg  \n",
            "  inflating: dataset/images/train/img1441.jpg  \n",
            "  inflating: dataset/images/train/img1442.jpg  \n",
            "  inflating: dataset/images/train/img1443.jpg  \n",
            "  inflating: dataset/images/train/img1444.jpg  \n",
            "  inflating: dataset/images/train/img1445.jpg  \n",
            "  inflating: dataset/images/train/img1446.jpg  \n",
            "  inflating: dataset/images/train/img1447.jpg  \n",
            "  inflating: dataset/images/train/img1448.jpg  \n",
            "  inflating: dataset/images/train/img1449.jpg  \n",
            "  inflating: dataset/images/train/img1450.jpg  \n",
            "  inflating: dataset/images/train/img1451.jpg  \n",
            "  inflating: dataset/images/train/img1453.jpg  \n",
            "  inflating: dataset/images/train/img1454.jpg  \n",
            "  inflating: dataset/images/train/img1456.jpg  \n",
            "  inflating: dataset/images/train/img1457.jpg  \n",
            "  inflating: dataset/images/train/img1458.jpg  \n",
            "  inflating: dataset/images/train/img146.jpg  \n",
            "  inflating: dataset/images/train/img1460.jpg  \n",
            "  inflating: dataset/images/train/img1461.jpg  \n",
            "  inflating: dataset/images/train/img1462.jpg  \n",
            "  inflating: dataset/images/train/img1463.jpg  \n",
            "  inflating: dataset/images/train/img1464.jpg  \n",
            "  inflating: dataset/images/train/img1465.jpg  \n",
            "  inflating: dataset/images/train/img1466.jpg  \n",
            "  inflating: dataset/images/train/img1468.jpg  \n",
            "  inflating: dataset/images/train/img1469.jpg  \n",
            "  inflating: dataset/images/train/img147.jpg  \n",
            "  inflating: dataset/images/train/img1470.jpg  \n",
            "  inflating: dataset/images/train/img1471.jpg  \n",
            "  inflating: dataset/images/train/img1472.jpg  \n",
            "  inflating: dataset/images/train/img1473.jpg  \n",
            "  inflating: dataset/images/train/img1475.jpg  \n",
            "  inflating: dataset/images/train/img1476.jpg  \n",
            "  inflating: dataset/images/train/img1477.jpg  \n",
            "  inflating: dataset/images/train/img1478.jpg  \n",
            "  inflating: dataset/images/train/img1479.jpg  \n",
            "  inflating: dataset/images/train/img1480.jpg  \n",
            "  inflating: dataset/images/train/img1481.jpg  \n",
            "  inflating: dataset/images/train/img1482.jpg  \n",
            "  inflating: dataset/images/train/img1483.jpg  \n",
            "  inflating: dataset/images/train/img1484.jpg  \n",
            "  inflating: dataset/images/train/img1485.jpg  \n",
            "  inflating: dataset/images/train/img1486.jpg  \n",
            "  inflating: dataset/images/train/img1487.jpg  \n",
            "  inflating: dataset/images/train/img1488.jpg  \n",
            "  inflating: dataset/images/train/img1489.jpg  \n",
            "  inflating: dataset/images/train/img149.jpg  \n",
            "  inflating: dataset/images/train/img1490.jpg  \n",
            "  inflating: dataset/images/train/img1491.jpg  \n",
            "  inflating: dataset/images/train/img1492.jpg  \n",
            "  inflating: dataset/images/train/img1493.jpg  \n",
            "  inflating: dataset/images/train/img1494.jpg  \n",
            "  inflating: dataset/images/train/img1495.jpg  \n",
            "  inflating: dataset/images/train/img1496.jpg  \n",
            "  inflating: dataset/images/train/img1497.jpg  \n",
            "  inflating: dataset/images/train/img1498.jpg  \n",
            "  inflating: dataset/images/train/img1499.jpg  \n",
            "  inflating: dataset/images/train/img150.jpg  \n",
            "  inflating: dataset/images/train/img1500.jpg  \n",
            "  inflating: dataset/images/train/img1501.jpg  \n",
            "  inflating: dataset/images/train/img1502.jpg  \n",
            "  inflating: dataset/images/train/img1503.jpg  \n",
            "  inflating: dataset/images/train/img1504.jpg  \n",
            "  inflating: dataset/images/train/img1506.jpg  \n",
            "  inflating: dataset/images/train/img1507.jpg  \n",
            "  inflating: dataset/images/train/img1508.jpg  \n",
            "  inflating: dataset/images/train/img1509.jpg  \n",
            "  inflating: dataset/images/train/img151.jpg  \n",
            "  inflating: dataset/images/train/img1510.jpg  \n",
            "  inflating: dataset/images/train/img1511.jpg  \n",
            "  inflating: dataset/images/train/img1512.jpg  \n",
            "  inflating: dataset/images/train/img1513.jpg  \n",
            "  inflating: dataset/images/train/img1514.jpg  \n",
            "  inflating: dataset/images/train/img1515.jpg  \n",
            "  inflating: dataset/images/train/img1516.jpg  \n",
            "  inflating: dataset/images/train/img1517.jpg  \n",
            "  inflating: dataset/images/train/img1518.jpg  \n",
            "  inflating: dataset/images/train/img152.jpg  \n",
            "  inflating: dataset/images/train/img1521.jpg  \n",
            "  inflating: dataset/images/train/img1522.jpg  \n",
            "  inflating: dataset/images/train/img1523.jpg  \n",
            "  inflating: dataset/images/train/img1524.jpg  \n",
            "  inflating: dataset/images/train/img1525.jpg  \n",
            "  inflating: dataset/images/train/img1528.jpg  \n",
            "  inflating: dataset/images/train/img1529.jpg  \n",
            "  inflating: dataset/images/train/img153.jpg  \n",
            "  inflating: dataset/images/train/img1531.jpg  \n",
            "  inflating: dataset/images/train/img1532.jpg  \n",
            "  inflating: dataset/images/train/img1533.jpg  \n",
            "  inflating: dataset/images/train/img1535.jpg  \n",
            "  inflating: dataset/images/train/img1536.jpg  \n",
            "  inflating: dataset/images/train/img1537.jpg  \n",
            "  inflating: dataset/images/train/img1539.jpg  \n",
            "  inflating: dataset/images/train/img154.jpg  \n",
            "  inflating: dataset/images/train/img1540.jpg  \n",
            "  inflating: dataset/images/train/img1545.jpg  \n",
            "  inflating: dataset/images/train/img1546.jpg  \n",
            "  inflating: dataset/images/train/img1547.jpg  \n",
            "  inflating: dataset/images/train/img1548.jpg  \n",
            "  inflating: dataset/images/train/img1549.jpg  \n",
            "  inflating: dataset/images/train/img155.jpg  \n",
            "  inflating: dataset/images/train/img1550.jpg  \n",
            "  inflating: dataset/images/train/img1551.jpg  \n",
            "  inflating: dataset/images/train/img1552.jpg  \n",
            "  inflating: dataset/images/train/img1553.jpg  \n",
            "  inflating: dataset/images/train/img1554.jpg  \n",
            "  inflating: dataset/images/train/img1555.jpg  \n",
            "  inflating: dataset/images/train/img1556.jpg  \n",
            "  inflating: dataset/images/train/img1559.jpg  \n",
            "  inflating: dataset/images/train/img156.jpg  \n",
            "  inflating: dataset/images/train/img1560.jpg  \n",
            "  inflating: dataset/images/train/img1561.jpg  \n",
            "  inflating: dataset/images/train/img1562.jpg  \n",
            "  inflating: dataset/images/train/img1564.jpg  \n",
            "  inflating: dataset/images/train/img1565.jpg  \n",
            "  inflating: dataset/images/train/img1566.jpg  \n",
            "  inflating: dataset/images/train/img1569.jpg  \n",
            "  inflating: dataset/images/train/img157.jpg  \n",
            "  inflating: dataset/images/train/img1570.jpg  \n",
            "  inflating: dataset/images/train/img1572.jpg  \n",
            "  inflating: dataset/images/train/img1574.jpg  \n",
            "  inflating: dataset/images/train/img1575.jpg  \n",
            "  inflating: dataset/images/train/img1576.jpg  \n",
            "  inflating: dataset/images/train/img1577.jpg  \n",
            "  inflating: dataset/images/train/img1578.jpg  \n",
            "  inflating: dataset/images/train/img158.jpg  \n",
            "  inflating: dataset/images/train/img1580.jpg  \n",
            "  inflating: dataset/images/train/img1581.jpg  \n",
            "  inflating: dataset/images/train/img1582.jpg  \n",
            "  inflating: dataset/images/train/img1583.jpg  \n",
            "  inflating: dataset/images/train/img1585.jpg  \n",
            "  inflating: dataset/images/train/img1586.jpg  \n",
            "  inflating: dataset/images/train/img1587.jpg  \n",
            "  inflating: dataset/images/train/img1589.jpg  \n",
            "  inflating: dataset/images/train/img159.jpg  \n",
            "  inflating: dataset/images/train/img1590.jpg  \n",
            "  inflating: dataset/images/train/img1591.jpg  \n",
            "  inflating: dataset/images/train/img1592.jpg  \n",
            "  inflating: dataset/images/train/img1593.jpg  \n",
            "  inflating: dataset/images/train/img1594.jpg  \n",
            "  inflating: dataset/images/train/img1596.jpg  \n",
            "  inflating: dataset/images/train/img1597.jpg  \n",
            "  inflating: dataset/images/train/img1598.jpg  \n",
            "  inflating: dataset/images/train/img16.jpg  \n",
            "  inflating: dataset/images/train/img160.jpg  \n",
            "  inflating: dataset/images/train/img1601.jpg  \n",
            "  inflating: dataset/images/train/img1602.jpg  \n",
            "  inflating: dataset/images/train/img1603.jpg  \n",
            "  inflating: dataset/images/train/img1604.jpg  \n",
            "  inflating: dataset/images/train/img1605.jpg  \n",
            "  inflating: dataset/images/train/img1606.jpg  \n",
            "  inflating: dataset/images/train/img1608.jpg  \n",
            "  inflating: dataset/images/train/img1609.jpg  \n",
            "  inflating: dataset/images/train/img161.jpg  \n",
            "  inflating: dataset/images/train/img1610.jpg  \n",
            "  inflating: dataset/images/train/img1611.jpg  \n",
            "  inflating: dataset/images/train/img1612.jpg  \n",
            "  inflating: dataset/images/train/img1613.jpg  \n",
            "  inflating: dataset/images/train/img1614.jpg  \n",
            "  inflating: dataset/images/train/img1615.jpg  \n",
            "  inflating: dataset/images/train/img1616.jpg  \n",
            "  inflating: dataset/images/train/img1618.jpg  \n",
            "  inflating: dataset/images/train/img1619.jpg  \n",
            "  inflating: dataset/images/train/img162.jpg  \n",
            "  inflating: dataset/images/train/img1620.jpg  \n",
            "  inflating: dataset/images/train/img1622.jpg  \n",
            "  inflating: dataset/images/train/img1623.jpg  \n",
            "  inflating: dataset/images/train/img1624.jpg  \n",
            "  inflating: dataset/images/train/img1625.jpg  \n",
            "  inflating: dataset/images/train/img1626.jpg  \n",
            "  inflating: dataset/images/train/img1627.jpg  \n",
            "  inflating: dataset/images/train/img1628.jpg  \n",
            "  inflating: dataset/images/train/img1629.jpg  \n",
            "  inflating: dataset/images/train/img163.jpg  \n",
            "  inflating: dataset/images/train/img1630.jpg  \n",
            "  inflating: dataset/images/train/img1631.jpg  \n",
            "  inflating: dataset/images/train/img1632.jpg  \n",
            "  inflating: dataset/images/train/img1633.jpg  \n",
            "  inflating: dataset/images/train/img1635.jpg  \n",
            "  inflating: dataset/images/train/img1636.jpg  \n",
            "  inflating: dataset/images/train/img1638.jpg  \n",
            "  inflating: dataset/images/train/img1639.jpg  \n",
            "  inflating: dataset/images/train/img164.jpg  \n",
            "  inflating: dataset/images/train/img1640.jpg  \n",
            "  inflating: dataset/images/train/img1641.jpg  \n",
            "  inflating: dataset/images/train/img1642.jpg  \n",
            "  inflating: dataset/images/train/img1643.jpg  \n",
            "  inflating: dataset/images/train/img1644.jpg  \n",
            "  inflating: dataset/images/train/img1645.jpg  \n",
            "  inflating: dataset/images/train/img1646.jpg  \n",
            "  inflating: dataset/images/train/img1648.jpg  \n",
            "  inflating: dataset/images/train/img1649.jpg  \n",
            "  inflating: dataset/images/train/img1651.jpg  \n",
            "  inflating: dataset/images/train/img1653.jpg  \n",
            "  inflating: dataset/images/train/img1655.jpg  \n",
            "  inflating: dataset/images/train/img1656.jpg  \n",
            "  inflating: dataset/images/train/img1657.jpg  \n",
            " extracting: dataset/images/train/img1658.jpg  \n",
            "  inflating: dataset/images/train/img1660.jpg  \n",
            "  inflating: dataset/images/train/img1661.jpg  \n",
            "  inflating: dataset/images/train/img1663.jpg  \n",
            "  inflating: dataset/images/train/img1664.jpg  \n",
            "  inflating: dataset/images/train/img1665.jpg  \n",
            "  inflating: dataset/images/train/img1667.jpg  \n",
            "  inflating: dataset/images/train/img1668.jpg  \n",
            "  inflating: dataset/images/train/img1669.jpg  \n",
            "  inflating: dataset/images/train/img167.jpg  \n",
            "  inflating: dataset/images/train/img1671.jpg  \n",
            "  inflating: dataset/images/train/img1672.jpg  \n",
            "  inflating: dataset/images/train/img1673.jpg  \n",
            " extracting: dataset/images/train/img1674.jpg  \n",
            "  inflating: dataset/images/train/img1676.jpg  \n",
            "  inflating: dataset/images/train/img1677.jpg  \n",
            "  inflating: dataset/images/train/img1679.jpg  \n",
            "  inflating: dataset/images/train/img168.jpg  \n",
            "  inflating: dataset/images/train/img1680.jpg  \n",
            "  inflating: dataset/images/train/img1681.jpg  \n",
            "  inflating: dataset/images/train/img1682.jpg  \n",
            "  inflating: dataset/images/train/img1683.jpg  \n",
            "  inflating: dataset/images/train/img1684.jpg  \n",
            "  inflating: dataset/images/train/img1686.jpg  \n",
            "  inflating: dataset/images/train/img1687.jpg  \n",
            "  inflating: dataset/images/train/img1688.jpg  \n",
            "  inflating: dataset/images/train/img1689.jpg  \n",
            "  inflating: dataset/images/train/img169.jpg  \n",
            "  inflating: dataset/images/train/img1690.jpg  \n",
            "  inflating: dataset/images/train/img1691.jpg  \n",
            "  inflating: dataset/images/train/img1692.jpg  \n",
            "  inflating: dataset/images/train/img1693.jpg  \n",
            "  inflating: dataset/images/train/img1694.jpg  \n",
            "  inflating: dataset/images/train/img1696.jpg  \n",
            "  inflating: dataset/images/train/img1697.jpg  \n",
            "  inflating: dataset/images/train/img17.jpg  \n",
            "  inflating: dataset/images/train/img1700.jpg  \n",
            "  inflating: dataset/images/train/img1701.jpg  \n",
            "  inflating: dataset/images/train/img1703.jpg  \n",
            "  inflating: dataset/images/train/img1705.jpg  \n",
            "  inflating: dataset/images/train/img1706.jpg  \n",
            "  inflating: dataset/images/train/img1708.jpg  \n",
            "  inflating: dataset/images/train/img1709.jpg  \n",
            "  inflating: dataset/images/train/img171.jpg  \n",
            "  inflating: dataset/images/train/img1712.jpg  \n",
            "  inflating: dataset/images/train/img1713.jpg  \n",
            "  inflating: dataset/images/train/img1716.jpg  \n",
            "  inflating: dataset/images/train/img1718.jpg  \n",
            "  inflating: dataset/images/train/img172.jpg  \n",
            "  inflating: dataset/images/train/img1720.jpg  \n",
            "  inflating: dataset/images/train/img1721.jpg  \n",
            " extracting: dataset/images/train/img1722.jpg  \n",
            "  inflating: dataset/images/train/img1723.jpg  \n",
            "  inflating: dataset/images/train/img1724.jpg  \n",
            " extracting: dataset/images/train/img1725.jpg  \n",
            "  inflating: dataset/images/train/img1727.jpg  \n",
            "  inflating: dataset/images/train/img1728.jpg  \n",
            "  inflating: dataset/images/train/img1730.jpg  \n",
            "  inflating: dataset/images/train/img1731.jpg  \n",
            "  inflating: dataset/images/train/img1733.jpg  \n",
            "  inflating: dataset/images/train/img1734.jpg  \n",
            "  inflating: dataset/images/train/img1735.jpg  \n",
            "  inflating: dataset/images/train/img1737.jpg  \n",
            "  inflating: dataset/images/train/img1738.jpg  \n",
            "  inflating: dataset/images/train/img1739.jpg  \n",
            "  inflating: dataset/images/train/img174.jpg  \n",
            "  inflating: dataset/images/train/img1741.jpg  \n",
            "  inflating: dataset/images/train/img1743.jpg  \n",
            "  inflating: dataset/images/train/img1744.jpg  \n",
            "  inflating: dataset/images/train/img1745.jpg  \n",
            "  inflating: dataset/images/train/img1747.jpg  \n",
            "  inflating: dataset/images/train/img1749.jpg  \n",
            "  inflating: dataset/images/train/img175.jpg  \n",
            "  inflating: dataset/images/train/img1750.jpg  \n",
            "  inflating: dataset/images/train/img1751.jpg  \n",
            "  inflating: dataset/images/train/img1752.jpg  \n",
            "  inflating: dataset/images/train/img1753.jpg  \n",
            "  inflating: dataset/images/train/img1754.jpg  \n",
            "  inflating: dataset/images/train/img1755.jpg  \n",
            "  inflating: dataset/images/train/img1756.jpg  \n",
            "  inflating: dataset/images/train/img1758.jpg  \n",
            "  inflating: dataset/images/train/img176.jpg  \n",
            "  inflating: dataset/images/train/img1760.jpg  \n",
            "  inflating: dataset/images/train/img1761.jpg  \n",
            "  inflating: dataset/images/train/img1762.jpg  \n",
            "  inflating: dataset/images/train/img1763.jpg  \n",
            "  inflating: dataset/images/train/img1764.jpg  \n",
            "  inflating: dataset/images/train/img1765.jpg  \n",
            "  inflating: dataset/images/train/img1767.jpg  \n",
            " extracting: dataset/images/train/img1768.jpg  \n",
            " extracting: dataset/images/train/img1769.jpg  \n",
            "  inflating: dataset/images/train/img177.jpg  \n",
            "  inflating: dataset/images/train/img1772.jpg  \n",
            "  inflating: dataset/images/train/img1773.jpg  \n",
            "  inflating: dataset/images/train/img1774.jpg  \n",
            "  inflating: dataset/images/train/img1775.jpg  \n",
            " extracting: dataset/images/train/img1776.jpg  \n",
            "  inflating: dataset/images/train/img1777.jpg  \n",
            "  inflating: dataset/images/train/img1779.jpg  \n",
            "  inflating: dataset/images/train/img1780.jpg  \n",
            "  inflating: dataset/images/train/img1781.jpg  \n",
            " extracting: dataset/images/train/img1782.jpg  \n",
            "  inflating: dataset/images/train/img1784.jpg  \n",
            "  inflating: dataset/images/train/img1785.jpg  \n",
            " extracting: dataset/images/train/img1786.jpg  \n",
            "  inflating: dataset/images/train/img1787.jpg  \n",
            "  inflating: dataset/images/train/img1788.jpg  \n",
            " extracting: dataset/images/train/img1789.jpg  \n",
            "  inflating: dataset/images/train/img1790.jpg  \n",
            " extracting: dataset/images/train/img1791.jpg  \n",
            "  inflating: dataset/images/train/img1793.jpg  \n",
            "  inflating: dataset/images/train/img1797.jpg  \n",
            "  inflating: dataset/images/train/img1798.jpg  \n",
            "  inflating: dataset/images/train/img1799.jpg  \n",
            "  inflating: dataset/images/train/img18.jpg  \n",
            " extracting: dataset/images/train/img180.jpg  \n",
            "  inflating: dataset/images/train/img1800.jpg  \n",
            "  inflating: dataset/images/train/img1803.jpg  \n",
            "  inflating: dataset/images/train/img1804.jpg  \n",
            "  inflating: dataset/images/train/img1806.jpg  \n",
            "  inflating: dataset/images/train/img1807.jpg  \n",
            "  inflating: dataset/images/train/img1808.jpg  \n",
            " extracting: dataset/images/train/img1809.jpg  \n",
            " extracting: dataset/images/train/img181.jpg  \n",
            "  inflating: dataset/images/train/img1810.jpg  \n",
            "  inflating: dataset/images/train/img1811.jpg  \n",
            "  inflating: dataset/images/train/img1812.jpg  \n",
            "  inflating: dataset/images/train/img1815.jpg  \n",
            " extracting: dataset/images/train/img1816.jpg  \n",
            " extracting: dataset/images/train/img1817.jpg  \n",
            "  inflating: dataset/images/train/img1820.jpg  \n",
            "  inflating: dataset/images/train/img1822.jpg  \n",
            "  inflating: dataset/images/train/img1823.jpg  \n",
            "  inflating: dataset/images/train/img1824.jpg  \n",
            "  inflating: dataset/images/train/img1826.jpg  \n",
            "  inflating: dataset/images/train/img1827.jpg  \n",
            "  inflating: dataset/images/train/img1829.jpg  \n",
            "  inflating: dataset/images/train/img183.jpg  \n",
            " extracting: dataset/images/train/img1830.jpg  \n",
            " extracting: dataset/images/train/img1831.jpg  \n",
            "  inflating: dataset/images/train/img1832.jpg  \n",
            " extracting: dataset/images/train/img1833.jpg  \n",
            "  inflating: dataset/images/train/img1834.jpg  \n",
            "  inflating: dataset/images/train/img1835.jpg  \n",
            "  inflating: dataset/images/train/img1836.jpg  \n",
            "  inflating: dataset/images/train/img1838.jpg  \n",
            "  inflating: dataset/images/train/img1839.jpg  \n",
            "  inflating: dataset/images/train/img184.jpg  \n",
            "  inflating: dataset/images/train/img1840.jpg  \n",
            " extracting: dataset/images/train/img1842.jpg  \n",
            "  inflating: dataset/images/train/img1843.jpg  \n",
            "  inflating: dataset/images/train/img1844.jpg  \n",
            "  inflating: dataset/images/train/img1846.jpg  \n",
            "  inflating: dataset/images/train/img1848.jpg  \n",
            "  inflating: dataset/images/train/img1849.jpg  \n",
            "  inflating: dataset/images/train/img185.jpg  \n",
            "  inflating: dataset/images/train/img1852.jpg  \n",
            "  inflating: dataset/images/train/img1853.jpg  \n",
            "  inflating: dataset/images/train/img1855.jpg  \n",
            " extracting: dataset/images/train/img1856.jpg  \n",
            " extracting: dataset/images/train/img1858.jpg  \n",
            "  inflating: dataset/images/train/img1859.jpg  \n",
            "  inflating: dataset/images/train/img186.jpg  \n",
            "  inflating: dataset/images/train/img1860.jpg  \n",
            "  inflating: dataset/images/train/img1861.jpg  \n",
            "  inflating: dataset/images/train/img1862.jpg  \n",
            " extracting: dataset/images/train/img1865.jpg  \n",
            "  inflating: dataset/images/train/img1866.jpg  \n",
            "  inflating: dataset/images/train/img1867.jpg  \n",
            "  inflating: dataset/images/train/img1868.jpg  \n",
            "  inflating: dataset/images/train/img1869.jpg  \n",
            "  inflating: dataset/images/train/img187.jpg  \n",
            "  inflating: dataset/images/train/img1870.jpg  \n",
            "  inflating: dataset/images/train/img1871.jpg  \n",
            "  inflating: dataset/images/train/img1873.jpg  \n",
            "  inflating: dataset/images/train/img1874.jpg  \n",
            "  inflating: dataset/images/train/img1875.jpg  \n",
            "  inflating: dataset/images/train/img1876.jpg  \n",
            "  inflating: dataset/images/train/img1877.jpg  \n",
            "  inflating: dataset/images/train/img1878.jpg  \n",
            "  inflating: dataset/images/train/img1879.jpg  \n",
            " extracting: dataset/images/train/img188.jpg  \n",
            "  inflating: dataset/images/train/img1880.jpg  \n",
            "  inflating: dataset/images/train/img1881.jpg  \n",
            "  inflating: dataset/images/train/img1885.jpg  \n",
            "  inflating: dataset/images/train/img1887.jpg  \n",
            "  inflating: dataset/images/train/img1888.jpg  \n",
            "  inflating: dataset/images/train/img1889.jpg  \n",
            "  inflating: dataset/images/train/img1890.jpg  \n",
            "  inflating: dataset/images/train/img1891.jpg  \n",
            "  inflating: dataset/images/train/img1892.jpg  \n",
            "  inflating: dataset/images/train/img1893.jpg  \n",
            "  inflating: dataset/images/train/img1894.jpg  \n",
            "  inflating: dataset/images/train/img1895.jpg  \n",
            "  inflating: dataset/images/train/img1896.jpg  \n",
            "  inflating: dataset/images/train/img1897.jpg  \n",
            "  inflating: dataset/images/train/img1898.jpg  \n",
            "  inflating: dataset/images/train/img19.jpg  \n",
            "  inflating: dataset/images/train/img190.jpg  \n",
            "  inflating: dataset/images/train/img1900.jpg  \n",
            "  inflating: dataset/images/train/img1902.jpg  \n",
            "  inflating: dataset/images/train/img1904.jpg  \n",
            "  inflating: dataset/images/train/img1905.jpg  \n",
            "  inflating: dataset/images/train/img1906.jpg  \n",
            "  inflating: dataset/images/train/img1907.jpg  \n",
            "  inflating: dataset/images/train/img1909.jpg  \n",
            "  inflating: dataset/images/train/img191.jpg  \n",
            "  inflating: dataset/images/train/img1910.jpg  \n",
            "  inflating: dataset/images/train/img1911.jpg  \n",
            "  inflating: dataset/images/train/img1913.jpg  \n",
            "  inflating: dataset/images/train/img1915.jpg  \n",
            "  inflating: dataset/images/train/img1916.jpg  \n",
            "  inflating: dataset/images/train/img1919.jpg  \n",
            "  inflating: dataset/images/train/img192.jpg  \n",
            "  inflating: dataset/images/train/img1920.jpg  \n",
            "  inflating: dataset/images/train/img1921.jpg  \n",
            "  inflating: dataset/images/train/img1923.jpg  \n",
            "  inflating: dataset/images/train/img1925.jpg  \n",
            "  inflating: dataset/images/train/img1926.jpg  \n",
            "  inflating: dataset/images/train/img1927.jpg  \n",
            "  inflating: dataset/images/train/img1928.jpg  \n",
            "  inflating: dataset/images/train/img1929.jpg  \n",
            "  inflating: dataset/images/train/img193.jpg  \n",
            "  inflating: dataset/images/train/img1931.jpg  \n",
            "  inflating: dataset/images/train/img1932.jpg  \n",
            "  inflating: dataset/images/train/img1933.jpg  \n",
            "  inflating: dataset/images/train/img1934.jpg  \n",
            "  inflating: dataset/images/train/img1935.jpg  \n",
            "  inflating: dataset/images/train/img1936.jpg  \n",
            "  inflating: dataset/images/train/img1937.jpg  \n",
            "  inflating: dataset/images/train/img1939.jpg  \n",
            "  inflating: dataset/images/train/img194.jpg  \n",
            "  inflating: dataset/images/train/img1941.jpg  \n",
            "  inflating: dataset/images/train/img1943.jpg  \n",
            "  inflating: dataset/images/train/img1945.jpg  \n",
            "  inflating: dataset/images/train/img1946.jpg  \n",
            "  inflating: dataset/images/train/img1947.jpg  \n",
            "  inflating: dataset/images/train/img1948.jpg  \n",
            "  inflating: dataset/images/train/img1949.jpg  \n",
            "  inflating: dataset/images/train/img1951.jpg  \n",
            "  inflating: dataset/images/train/img1952.jpg  \n",
            "  inflating: dataset/images/train/img1953.jpg  \n",
            "  inflating: dataset/images/train/img1954.jpg  \n",
            "  inflating: dataset/images/train/img1955.jpg  \n",
            "  inflating: dataset/images/train/img1957.jpg  \n",
            "  inflating: dataset/images/train/img196.jpg  \n",
            "  inflating: dataset/images/train/img1960.jpg  \n",
            "  inflating: dataset/images/train/img1961.jpg  \n",
            "  inflating: dataset/images/train/img1965.jpg  \n",
            "  inflating: dataset/images/train/img1966.jpg  \n",
            "  inflating: dataset/images/train/img1968.jpg  \n",
            "  inflating: dataset/images/train/img1969.jpg  \n",
            "  inflating: dataset/images/train/img197.jpg  \n",
            "  inflating: dataset/images/train/img1970.jpg  \n",
            "  inflating: dataset/images/train/img1971.jpg  \n",
            "  inflating: dataset/images/train/img1972.jpg  \n",
            "  inflating: dataset/images/train/img1974.jpg  \n",
            "  inflating: dataset/images/train/img1975.jpg  \n",
            "  inflating: dataset/images/train/img1976.jpg  \n",
            "  inflating: dataset/images/train/img1977.jpg  \n",
            "  inflating: dataset/images/train/img1979.jpg  \n",
            "  inflating: dataset/images/train/img198.jpg  \n",
            "  inflating: dataset/images/train/img1981.jpg  \n",
            "  inflating: dataset/images/train/img1984.jpg  \n",
            "  inflating: dataset/images/train/img1985.jpg  \n",
            "  inflating: dataset/images/train/img1986.jpg  \n",
            "  inflating: dataset/images/train/img1987.jpg  \n",
            "  inflating: dataset/images/train/img1988.jpg  \n",
            "  inflating: dataset/images/train/img1989.jpg  \n",
            "  inflating: dataset/images/train/img199.jpg  \n",
            "  inflating: dataset/images/train/img1990.jpg  \n",
            "  inflating: dataset/images/train/img1991.jpg  \n",
            "  inflating: dataset/images/train/img1992.jpg  \n",
            "  inflating: dataset/images/train/img1994.jpg  \n",
            "  inflating: dataset/images/train/img1995.jpg  \n",
            "  inflating: dataset/images/train/img1996.jpg  \n",
            "  inflating: dataset/images/train/img1997.jpg  \n",
            "  inflating: dataset/images/train/img1998.jpg  \n",
            "  inflating: dataset/images/train/img1999.jpg  \n",
            "  inflating: dataset/images/train/img2.jpg  \n",
            "  inflating: dataset/images/train/img200.jpg  \n",
            "  inflating: dataset/images/train/img2000.jpg  \n",
            "  inflating: dataset/images/train/img2002.jpg  \n",
            "  inflating: dataset/images/train/img2003.jpg  \n",
            "  inflating: dataset/images/train/img2004.jpg  \n",
            "  inflating: dataset/images/train/img2006.jpg  \n",
            "  inflating: dataset/images/train/img2007.jpg  \n",
            "  inflating: dataset/images/train/img2009.jpg  \n",
            "  inflating: dataset/images/train/img201.jpg  \n",
            "  inflating: dataset/images/train/img2010.jpg  \n",
            "  inflating: dataset/images/train/img2011.jpg  \n",
            "  inflating: dataset/images/train/img2013.jpg  \n",
            "  inflating: dataset/images/train/img2014.jpg  \n",
            "  inflating: dataset/images/train/img2015.jpg  \n",
            "  inflating: dataset/images/train/img2016.jpg  \n",
            "  inflating: dataset/images/train/img2018.jpg  \n",
            "  inflating: dataset/images/train/img2019.png  \n",
            "  inflating: dataset/images/train/img202.jpg  \n",
            "  inflating: dataset/images/train/img2020.png  \n",
            "  inflating: dataset/images/train/img2022.png  \n",
            "  inflating: dataset/images/train/img2023.png  \n",
            "  inflating: dataset/images/train/img2024.png  \n",
            "  inflating: dataset/images/train/img2025.png  \n",
            "  inflating: dataset/images/train/img2026.png  \n",
            "  inflating: dataset/images/train/img2028.png  \n",
            "  inflating: dataset/images/train/img2029.png  \n",
            "  inflating: dataset/images/train/img203.jpg  \n",
            "  inflating: dataset/images/train/img2030.png  \n",
            "  inflating: dataset/images/train/img2032.png  \n",
            "  inflating: dataset/images/train/img2033.png  \n",
            "  inflating: dataset/images/train/img2034.png  \n",
            "  inflating: dataset/images/train/img2035.png  \n",
            "  inflating: dataset/images/train/img2036.png  \n",
            "  inflating: dataset/images/train/img2037.png  \n",
            "  inflating: dataset/images/train/img2038.png  \n",
            "  inflating: dataset/images/train/img204.jpg  \n",
            "  inflating: dataset/images/train/img2042.png  \n",
            "  inflating: dataset/images/train/img2043.png  \n",
            "  inflating: dataset/images/train/img2044.png  \n",
            "  inflating: dataset/images/train/img2045.png  \n",
            "  inflating: dataset/images/train/img2046.png  \n",
            "  inflating: dataset/images/train/img2047.png  \n",
            "  inflating: dataset/images/train/img2048.png  \n",
            "  inflating: dataset/images/train/img205.jpg  \n",
            "  inflating: dataset/images/train/img2050.png  \n",
            "  inflating: dataset/images/train/img2052.png  \n",
            "  inflating: dataset/images/train/img2053.png  \n",
            "  inflating: dataset/images/train/img2056.png  \n",
            "  inflating: dataset/images/train/img2057.png  \n",
            "  inflating: dataset/images/train/img2059.png  \n",
            " extracting: dataset/images/train/img206.jpg  \n",
            "  inflating: dataset/images/train/img2060.png  \n",
            "  inflating: dataset/images/train/img2061.png  \n",
            "  inflating: dataset/images/train/img2062.png  \n",
            "  inflating: dataset/images/train/img2063.png  \n",
            "  inflating: dataset/images/train/img2064.png  \n",
            "  inflating: dataset/images/train/img2066.png  \n",
            "  inflating: dataset/images/train/img2067.png  \n",
            "  inflating: dataset/images/train/img2068.png  \n",
            "  inflating: dataset/images/train/img2069.png  \n",
            " extracting: dataset/images/train/img207.jpg  \n",
            "  inflating: dataset/images/train/img2070.png  \n",
            "  inflating: dataset/images/train/img2071.png  \n",
            "  inflating: dataset/images/train/img2072.png  \n",
            "  inflating: dataset/images/train/img2073.png  \n",
            "  inflating: dataset/images/train/img2074.png  \n",
            "  inflating: dataset/images/train/img2075.png  \n",
            "  inflating: dataset/images/train/img2076.png  \n",
            "  inflating: dataset/images/train/img2078.png  \n",
            "  inflating: dataset/images/train/img2079.png  \n",
            "  inflating: dataset/images/train/img208.jpg  \n",
            "  inflating: dataset/images/train/img2081.png  \n",
            "  inflating: dataset/images/train/img2083.png  \n",
            "  inflating: dataset/images/train/img2084.png  \n",
            "  inflating: dataset/images/train/img2085.png  \n",
            "  inflating: dataset/images/train/img2086.png  \n",
            "  inflating: dataset/images/train/img2088.png  \n",
            "  inflating: dataset/images/train/img2089.png  \n",
            "  inflating: dataset/images/train/img209.jpg  \n",
            "  inflating: dataset/images/train/img2090.png  \n",
            "  inflating: dataset/images/train/img2091.png  \n",
            "  inflating: dataset/images/train/img2092.png  \n",
            "  inflating: dataset/images/train/img2093.png  \n",
            "  inflating: dataset/images/train/img2095.png  \n",
            "  inflating: dataset/images/train/img2096.png  \n",
            "  inflating: dataset/images/train/img2098.png  \n",
            "  inflating: dataset/images/train/img2099.png  \n",
            "  inflating: dataset/images/train/img21.jpg  \n",
            "  inflating: dataset/images/train/img210.jpg  \n",
            "  inflating: dataset/images/train/img2100.png  \n",
            "  inflating: dataset/images/train/img2101.png  \n",
            "  inflating: dataset/images/train/img2102.png  \n",
            "  inflating: dataset/images/train/img2104.png  \n",
            "  inflating: dataset/images/train/img2105.png  \n",
            "  inflating: dataset/images/train/img2106.png  \n",
            "  inflating: dataset/images/train/img2107.png  \n",
            "  inflating: dataset/images/train/img2108.png  \n",
            "  inflating: dataset/images/train/img2109.jpg  \n",
            "  inflating: dataset/images/train/img211.jpg  \n",
            "  inflating: dataset/images/train/img2110.jpg  \n",
            "  inflating: dataset/images/train/img2111.jpg  \n",
            "  inflating: dataset/images/train/img2112.jpg  \n",
            "  inflating: dataset/images/train/img2114.jpg  \n",
            "  inflating: dataset/images/train/img2115.jpg  \n",
            "  inflating: dataset/images/train/img2116.jpg  \n",
            "  inflating: dataset/images/train/img212.jpg  \n",
            "  inflating: dataset/images/train/img214.jpg  \n",
            "  inflating: dataset/images/train/img216.jpg  \n",
            "  inflating: dataset/images/train/img217.jpg  \n",
            " extracting: dataset/images/train/img218.jpg  \n",
            "  inflating: dataset/images/train/img219.jpg  \n",
            "  inflating: dataset/images/train/img22.jpg  \n",
            "  inflating: dataset/images/train/img220.jpg  \n",
            "  inflating: dataset/images/train/img221.jpg  \n",
            "  inflating: dataset/images/train/img222.jpg  \n",
            " extracting: dataset/images/train/img223.jpg  \n",
            "  inflating: dataset/images/train/img224.jpg  \n",
            " extracting: dataset/images/train/img226.jpg  \n",
            "  inflating: dataset/images/train/img227.jpg  \n",
            "  inflating: dataset/images/train/img229.jpg  \n",
            "  inflating: dataset/images/train/img23.jpg  \n",
            "  inflating: dataset/images/train/img230.jpg  \n",
            "  inflating: dataset/images/train/img231.jpg  \n",
            "  inflating: dataset/images/train/img232.jpg  \n",
            "  inflating: dataset/images/train/img233.jpg  \n",
            " extracting: dataset/images/train/img234.jpg  \n",
            "  inflating: dataset/images/train/img235.jpg  \n",
            "  inflating: dataset/images/train/img237.jpg  \n",
            "  inflating: dataset/images/train/img239.jpg  \n",
            " extracting: dataset/images/train/img241.jpg  \n",
            "  inflating: dataset/images/train/img243.jpg  \n",
            "  inflating: dataset/images/train/img244.jpg  \n",
            "  inflating: dataset/images/train/img247.jpg  \n",
            "  inflating: dataset/images/train/img248.jpg  \n",
            "  inflating: dataset/images/train/img249.jpg  \n",
            "  inflating: dataset/images/train/img25.jpg  \n",
            "  inflating: dataset/images/train/img250.jpg  \n",
            "  inflating: dataset/images/train/img251.jpg  \n",
            "  inflating: dataset/images/train/img252.jpg  \n",
            " extracting: dataset/images/train/img254.jpg  \n",
            "  inflating: dataset/images/train/img255.jpg  \n",
            "  inflating: dataset/images/train/img256.jpg  \n",
            "  inflating: dataset/images/train/img257.jpg  \n",
            "  inflating: dataset/images/train/img258.jpg  \n",
            "  inflating: dataset/images/train/img26.jpg  \n",
            "  inflating: dataset/images/train/img260.jpg  \n",
            "  inflating: dataset/images/train/img261.jpg  \n",
            "  inflating: dataset/images/train/img262.jpg  \n",
            "  inflating: dataset/images/train/img264.jpg  \n",
            "  inflating: dataset/images/train/img265.jpg  \n",
            "  inflating: dataset/images/train/img267.jpg  \n",
            "  inflating: dataset/images/train/img27.jpg  \n",
            "  inflating: dataset/images/train/img271.jpg  \n",
            "  inflating: dataset/images/train/img273.jpg  \n",
            "  inflating: dataset/images/train/img274.jpg  \n",
            " extracting: dataset/images/train/img275.jpg  \n",
            "  inflating: dataset/images/train/img277.jpg  \n",
            "  inflating: dataset/images/train/img279.jpg  \n",
            "  inflating: dataset/images/train/img28.jpg  \n",
            "  inflating: dataset/images/train/img281.jpg  \n",
            "  inflating: dataset/images/train/img282.jpg  \n",
            "  inflating: dataset/images/train/img284.jpg  \n",
            "  inflating: dataset/images/train/img285.jpg  \n",
            "  inflating: dataset/images/train/img286.jpg  \n",
            "  inflating: dataset/images/train/img287.jpg  \n",
            "  inflating: dataset/images/train/img288.jpg  \n",
            "  inflating: dataset/images/train/img289.jpg  \n",
            "  inflating: dataset/images/train/img29.jpg  \n",
            "  inflating: dataset/images/train/img290.jpg  \n",
            "  inflating: dataset/images/train/img291.jpg  \n",
            "  inflating: dataset/images/train/img292.jpg  \n",
            "  inflating: dataset/images/train/img293.jpg  \n",
            "  inflating: dataset/images/train/img294.jpg  \n",
            "  inflating: dataset/images/train/img295.jpg  \n",
            "  inflating: dataset/images/train/img296.jpg  \n",
            " extracting: dataset/images/train/img297.jpg  \n",
            "  inflating: dataset/images/train/img299.jpg  \n",
            "  inflating: dataset/images/train/img3.jpg  \n",
            "  inflating: dataset/images/train/img30.jpg  \n",
            "  inflating: dataset/images/train/img300.jpg  \n",
            "  inflating: dataset/images/train/img302.jpg  \n",
            "  inflating: dataset/images/train/img303.jpg  \n",
            "  inflating: dataset/images/train/img306.jpg  \n",
            "  inflating: dataset/images/train/img307.jpg  \n",
            " extracting: dataset/images/train/img308.jpg  \n",
            "  inflating: dataset/images/train/img309.jpg  \n",
            "  inflating: dataset/images/train/img310.jpg  \n",
            "  inflating: dataset/images/train/img311.jpg  \n",
            "  inflating: dataset/images/train/img313.jpg  \n",
            "  inflating: dataset/images/train/img314.jpg  \n",
            "  inflating: dataset/images/train/img317.jpg  \n",
            "  inflating: dataset/images/train/img318.jpg  \n",
            "  inflating: dataset/images/train/img319.jpg  \n",
            "  inflating: dataset/images/train/img32.jpg  \n",
            "  inflating: dataset/images/train/img320.jpg  \n",
            "  inflating: dataset/images/train/img321.jpg  \n",
            " extracting: dataset/images/train/img322.jpg  \n",
            "  inflating: dataset/images/train/img325.jpg  \n",
            "  inflating: dataset/images/train/img326.jpg  \n",
            "  inflating: dataset/images/train/img327.jpg  \n",
            "  inflating: dataset/images/train/img328.jpg  \n",
            "  inflating: dataset/images/train/img329.jpg  \n",
            "  inflating: dataset/images/train/img33.jpg  \n",
            "  inflating: dataset/images/train/img331.jpg  \n",
            "  inflating: dataset/images/train/img332.jpg  \n",
            "  inflating: dataset/images/train/img333.jpg  \n",
            "  inflating: dataset/images/train/img334.jpg  \n",
            "  inflating: dataset/images/train/img335.jpg  \n",
            "  inflating: dataset/images/train/img336.jpg  \n",
            " extracting: dataset/images/train/img337.jpg  \n",
            "  inflating: dataset/images/train/img338.jpg  \n",
            "  inflating: dataset/images/train/img339.jpg  \n",
            "  inflating: dataset/images/train/img342.jpg  \n",
            "  inflating: dataset/images/train/img343.jpg  \n",
            "  inflating: dataset/images/train/img344.jpg  \n",
            " extracting: dataset/images/train/img345.jpg  \n",
            "  inflating: dataset/images/train/img346.jpg  \n",
            "  inflating: dataset/images/train/img348.jpg  \n",
            "  inflating: dataset/images/train/img35.jpg  \n",
            "  inflating: dataset/images/train/img350.jpg  \n",
            "  inflating: dataset/images/train/img351.jpg  \n",
            "  inflating: dataset/images/train/img352.jpg  \n",
            "  inflating: dataset/images/train/img356.jpg  \n",
            " extracting: dataset/images/train/img357.jpg  \n",
            "  inflating: dataset/images/train/img358.jpg  \n",
            "  inflating: dataset/images/train/img36.jpg  \n",
            "  inflating: dataset/images/train/img360.jpg  \n",
            "  inflating: dataset/images/train/img361.jpg  \n",
            "  inflating: dataset/images/train/img363.jpg  \n",
            "  inflating: dataset/images/train/img364.jpg  \n",
            "  inflating: dataset/images/train/img365.jpg  \n",
            "  inflating: dataset/images/train/img366.jpg  \n",
            "  inflating: dataset/images/train/img367.jpg  \n",
            "  inflating: dataset/images/train/img368.jpg  \n",
            "  inflating: dataset/images/train/img369.jpg  \n",
            "  inflating: dataset/images/train/img371.jpg  \n",
            "  inflating: dataset/images/train/img372.jpg  \n",
            "  inflating: dataset/images/train/img373.jpg  \n",
            "  inflating: dataset/images/train/img374.jpg  \n",
            "  inflating: dataset/images/train/img375.jpg  \n",
            "  inflating: dataset/images/train/img376.jpg  \n",
            "  inflating: dataset/images/train/img377.jpg  \n",
            "  inflating: dataset/images/train/img379.jpg  \n",
            "  inflating: dataset/images/train/img38.jpg  \n",
            "  inflating: dataset/images/train/img380.jpg  \n",
            "  inflating: dataset/images/train/img381.jpg  \n",
            "  inflating: dataset/images/train/img382.jpg  \n",
            " extracting: dataset/images/train/img383.jpg  \n",
            "  inflating: dataset/images/train/img384.jpg  \n",
            "  inflating: dataset/images/train/img385.jpg  \n",
            " extracting: dataset/images/train/img386.jpg  \n",
            "  inflating: dataset/images/train/img388.jpg  \n",
            "  inflating: dataset/images/train/img389.jpg  \n",
            "  inflating: dataset/images/train/img39.jpg  \n",
            "  inflating: dataset/images/train/img390.jpg  \n",
            "  inflating: dataset/images/train/img391.jpg  \n",
            "  inflating: dataset/images/train/img392.jpg  \n",
            "  inflating: dataset/images/train/img395.jpg  \n",
            "  inflating: dataset/images/train/img396.jpg  \n",
            "  inflating: dataset/images/train/img397.jpg  \n",
            "  inflating: dataset/images/train/img399.jpg  \n",
            "  inflating: dataset/images/train/img4.jpg  \n",
            "  inflating: dataset/images/train/img40.jpg  \n",
            "  inflating: dataset/images/train/img400.png  \n",
            "  inflating: dataset/images/train/img402.png  \n",
            "  inflating: dataset/images/train/img403.png  \n",
            "  inflating: dataset/images/train/img405.png  \n",
            "  inflating: dataset/images/train/img407.png  \n",
            "  inflating: dataset/images/train/img408.png  \n",
            "  inflating: dataset/images/train/img41.jpg  \n",
            "  inflating: dataset/images/train/img410.png  \n",
            "  inflating: dataset/images/train/img411.png  \n",
            "  inflating: dataset/images/train/img412.png  \n",
            "  inflating: dataset/images/train/img414.png  \n",
            "  inflating: dataset/images/train/img415.png  \n",
            "  inflating: dataset/images/train/img416.png  \n",
            "  inflating: dataset/images/train/img418.png  \n",
            "  inflating: dataset/images/train/img419.png  \n",
            "  inflating: dataset/images/train/img420.png  \n",
            "  inflating: dataset/images/train/img421.png  \n",
            "  inflating: dataset/images/train/img422.png  \n",
            "  inflating: dataset/images/train/img423.png  \n",
            "  inflating: dataset/images/train/img424.png  \n",
            "  inflating: dataset/images/train/img425.png  \n",
            "  inflating: dataset/images/train/img426.png  \n",
            "  inflating: dataset/images/train/img427.png  \n",
            "  inflating: dataset/images/train/img428.png  \n",
            "  inflating: dataset/images/train/img429.png  \n",
            "  inflating: dataset/images/train/img43.jpg  \n",
            "  inflating: dataset/images/train/img430.png  \n",
            "  inflating: dataset/images/train/img431.png  \n",
            "  inflating: dataset/images/train/img432.png  \n",
            "  inflating: dataset/images/train/img434.png  \n",
            "  inflating: dataset/images/train/img436.png  \n",
            "  inflating: dataset/images/train/img437.png  \n",
            "  inflating: dataset/images/train/img438.png  \n",
            "  inflating: dataset/images/train/img439.png  \n",
            "  inflating: dataset/images/train/img44.jpg  \n",
            "  inflating: dataset/images/train/img441.png  \n",
            "  inflating: dataset/images/train/img442.png  \n",
            "  inflating: dataset/images/train/img444.png  \n",
            "  inflating: dataset/images/train/img445.png  \n",
            "  inflating: dataset/images/train/img447.png  \n",
            "  inflating: dataset/images/train/img448.png  \n",
            "  inflating: dataset/images/train/img449.png  \n",
            "  inflating: dataset/images/train/img45.jpg  \n",
            "  inflating: dataset/images/train/img450.png  \n",
            "  inflating: dataset/images/train/img452.png  \n",
            "  inflating: dataset/images/train/img453.png  \n",
            "  inflating: dataset/images/train/img455.png  \n",
            "  inflating: dataset/images/train/img456.png  \n",
            "  inflating: dataset/images/train/img457.png  \n",
            "  inflating: dataset/images/train/img458.png  \n",
            "  inflating: dataset/images/train/img459.png  \n",
            "  inflating: dataset/images/train/img46.jpg  \n",
            "  inflating: dataset/images/train/img460.png  \n",
            "  inflating: dataset/images/train/img461.png  \n",
            "  inflating: dataset/images/train/img462.jpg  \n",
            "  inflating: dataset/images/train/img463.jpg  \n",
            "  inflating: dataset/images/train/img466.png  \n",
            "  inflating: dataset/images/train/img467.png  \n",
            "  inflating: dataset/images/train/img468.png  \n",
            "  inflating: dataset/images/train/img469.png  \n",
            "  inflating: dataset/images/train/img47.jpg  \n",
            "  inflating: dataset/images/train/img471.png  \n",
            "  inflating: dataset/images/train/img472.png  \n",
            "  inflating: dataset/images/train/img473.jpg  \n",
            "  inflating: dataset/images/train/img474.png  \n",
            "  inflating: dataset/images/train/img475.png  \n",
            "  inflating: dataset/images/train/img477.png  \n",
            "  inflating: dataset/images/train/img478.png  \n",
            "  inflating: dataset/images/train/img48.jpg  \n",
            "  inflating: dataset/images/train/img480.png  \n",
            "  inflating: dataset/images/train/img481.png  \n",
            "  inflating: dataset/images/train/img482.png  \n",
            "  inflating: dataset/images/train/img484.png  \n",
            "  inflating: dataset/images/train/img486.png  \n",
            "  inflating: dataset/images/train/img487.png  \n",
            "  inflating: dataset/images/train/img489.png  \n",
            "  inflating: dataset/images/train/img49.jpg  \n",
            "  inflating: dataset/images/train/img491.png  \n",
            "  inflating: dataset/images/train/img492.png  \n",
            "  inflating: dataset/images/train/img493.png  \n",
            "  inflating: dataset/images/train/img494.png  \n",
            "  inflating: dataset/images/train/img497.png  \n",
            "  inflating: dataset/images/train/img498.png  \n",
            "  inflating: dataset/images/train/img499.png  \n",
            "  inflating: dataset/images/train/img5.jpg  \n",
            "  inflating: dataset/images/train/img50.jpg  \n",
            "  inflating: dataset/images/train/img502.png  \n",
            "  inflating: dataset/images/train/img503.png  \n",
            "  inflating: dataset/images/train/img504.png  \n",
            "  inflating: dataset/images/train/img505.png  \n",
            "  inflating: dataset/images/train/img507.png  \n",
            "  inflating: dataset/images/train/img508.png  \n",
            "  inflating: dataset/images/train/img509.png  \n",
            "  inflating: dataset/images/train/img51.jpg  \n",
            "  inflating: dataset/images/train/img510.png  \n",
            "  inflating: dataset/images/train/img511.png  \n",
            "  inflating: dataset/images/train/img512.png  \n",
            "  inflating: dataset/images/train/img513.png  \n",
            "  inflating: dataset/images/train/img514.png  \n",
            "  inflating: dataset/images/train/img515.png  \n",
            "  inflating: dataset/images/train/img516.png  \n",
            "  inflating: dataset/images/train/img517.png  \n",
            "  inflating: dataset/images/train/img518.png  \n",
            "  inflating: dataset/images/train/img52.jpg  \n",
            "  inflating: dataset/images/train/img521.png  \n",
            "  inflating: dataset/images/train/img522.png  \n",
            "  inflating: dataset/images/train/img523.png  \n",
            "  inflating: dataset/images/train/img525.png  \n",
            "  inflating: dataset/images/train/img526.png  \n",
            "  inflating: dataset/images/train/img527.png  \n",
            "  inflating: dataset/images/train/img528.png  \n",
            "  inflating: dataset/images/train/img53.jpg  \n",
            "  inflating: dataset/images/train/img530.png  \n",
            "  inflating: dataset/images/train/img531.png  \n",
            "  inflating: dataset/images/train/img532.png  \n",
            "  inflating: dataset/images/train/img533.png  \n",
            "  inflating: dataset/images/train/img534.png  \n",
            "  inflating: dataset/images/train/img535.jpg  \n",
            "  inflating: dataset/images/train/img536.png  \n",
            "  inflating: dataset/images/train/img537.png  \n",
            "  inflating: dataset/images/train/img538.png  \n",
            "  inflating: dataset/images/train/img539.png  \n",
            "  inflating: dataset/images/train/img54.jpg  \n",
            "  inflating: dataset/images/train/img540.png  \n",
            "  inflating: dataset/images/train/img541.png  \n",
            "  inflating: dataset/images/train/img542.png  \n",
            "  inflating: dataset/images/train/img543.png  \n",
            "  inflating: dataset/images/train/img544.png  \n",
            "  inflating: dataset/images/train/img545.png  \n",
            "  inflating: dataset/images/train/img546.png  \n",
            "  inflating: dataset/images/train/img547.png  \n",
            "  inflating: dataset/images/train/img549.png  \n",
            "  inflating: dataset/images/train/img55.jpg  \n",
            "  inflating: dataset/images/train/img550.png  \n",
            "  inflating: dataset/images/train/img551.png  \n",
            "  inflating: dataset/images/train/img552.png  \n",
            "  inflating: dataset/images/train/img553.png  \n",
            "  inflating: dataset/images/train/img555.png  \n",
            "  inflating: dataset/images/train/img556.png  \n",
            "  inflating: dataset/images/train/img557.png  \n",
            "  inflating: dataset/images/train/img558.png  \n",
            "  inflating: dataset/images/train/img559.png  \n",
            "  inflating: dataset/images/train/img56.jpg  \n",
            "  inflating: dataset/images/train/img560.png  \n",
            "  inflating: dataset/images/train/img561.png  \n",
            "  inflating: dataset/images/train/img563.png  \n",
            "  inflating: dataset/images/train/img564.png  \n",
            "  inflating: dataset/images/train/img565.png  \n",
            "  inflating: dataset/images/train/img567.png  \n",
            "  inflating: dataset/images/train/img569.png  \n",
            "  inflating: dataset/images/train/img57.jpg  \n",
            "  inflating: dataset/images/train/img570.png  \n",
            "  inflating: dataset/images/train/img571.png  \n",
            "  inflating: dataset/images/train/img572.png  \n",
            "  inflating: dataset/images/train/img573.png  \n",
            "  inflating: dataset/images/train/img574.png  \n",
            "  inflating: dataset/images/train/img575.jpg  \n",
            "  inflating: dataset/images/train/img576.png  \n",
            "  inflating: dataset/images/train/img577.png  \n",
            "  inflating: dataset/images/train/img578.png  \n",
            "  inflating: dataset/images/train/img58.jpg  \n",
            "  inflating: dataset/images/train/img580.png  \n",
            "  inflating: dataset/images/train/img581.png  \n",
            "  inflating: dataset/images/train/img582.png  \n",
            "  inflating: dataset/images/train/img583.png  \n",
            "  inflating: dataset/images/train/img584.png  \n",
            "  inflating: dataset/images/train/img585.png  \n",
            "  inflating: dataset/images/train/img586.png  \n",
            "  inflating: dataset/images/train/img587.png  \n",
            "  inflating: dataset/images/train/img588.png  \n",
            "  inflating: dataset/images/train/img589.png  \n",
            "  inflating: dataset/images/train/img59.jpg  \n",
            "  inflating: dataset/images/train/img592.png  \n",
            "  inflating: dataset/images/train/img593.png  \n",
            "  inflating: dataset/images/train/img594.png  \n",
            "  inflating: dataset/images/train/img596.png  \n",
            "  inflating: dataset/images/train/img597.png  \n",
            "  inflating: dataset/images/train/img598.png  \n",
            "  inflating: dataset/images/train/img599.jpg  \n",
            "  inflating: dataset/images/train/img6.jpg  \n",
            "  inflating: dataset/images/train/img600.png  \n",
            "  inflating: dataset/images/train/img602.png  \n",
            "  inflating: dataset/images/train/img603.png  \n",
            "  inflating: dataset/images/train/img604.png  \n",
            "  inflating: dataset/images/train/img605.png  \n",
            "  inflating: dataset/images/train/img606.png  \n",
            "  inflating: dataset/images/train/img608.png  \n",
            "  inflating: dataset/images/train/img609.jpg  \n",
            "  inflating: dataset/images/train/img610.jpg  \n",
            "  inflating: dataset/images/train/img611.png  \n",
            "  inflating: dataset/images/train/img612.png  \n",
            "  inflating: dataset/images/train/img613.png  \n",
            "  inflating: dataset/images/train/img615.png  \n",
            "  inflating: dataset/images/train/img616.jpg  \n",
            "  inflating: dataset/images/train/img617.jpg  \n",
            "  inflating: dataset/images/train/img618.jpg  \n",
            "  inflating: dataset/images/train/img619.jpg  \n",
            "  inflating: dataset/images/train/img62.jpg  \n",
            " extracting: dataset/images/train/img621.jpg  \n",
            "  inflating: dataset/images/train/img622.jpg  \n",
            "  inflating: dataset/images/train/img623.jpg  \n",
            "  inflating: dataset/images/train/img624.jpg  \n",
            " extracting: dataset/images/train/img625.jpg  \n",
            "  inflating: dataset/images/train/img627.jpg  \n",
            "  inflating: dataset/images/train/img629.jpg  \n",
            "  inflating: dataset/images/train/img63.jpg  \n",
            "  inflating: dataset/images/train/img630.jpg  \n",
            "  inflating: dataset/images/train/img631.jpg  \n",
            "  inflating: dataset/images/train/img632.jpg  \n",
            "  inflating: dataset/images/train/img634.jpg  \n",
            "  inflating: dataset/images/train/img635.jpg  \n",
            "  inflating: dataset/images/train/img636.jpg  \n",
            "  inflating: dataset/images/train/img637.jpg  \n",
            "  inflating: dataset/images/train/img638.jpg  \n",
            "  inflating: dataset/images/train/img639.jpg  \n",
            "  inflating: dataset/images/train/img64.jpg  \n",
            "  inflating: dataset/images/train/img640.jpg  \n",
            " extracting: dataset/images/train/img642.jpg  \n",
            "  inflating: dataset/images/train/img645.jpg  \n",
            "  inflating: dataset/images/train/img646.jpg  \n",
            "  inflating: dataset/images/train/img647.jpg  \n",
            "  inflating: dataset/images/train/img648.jpg  \n",
            "  inflating: dataset/images/train/img649.jpg  \n",
            "  inflating: dataset/images/train/img65.jpg  \n",
            "  inflating: dataset/images/train/img650.jpg  \n",
            "  inflating: dataset/images/train/img651.jpg  \n",
            "  inflating: dataset/images/train/img652.jpg  \n",
            "  inflating: dataset/images/train/img653.jpg  \n",
            " extracting: dataset/images/train/img654.jpg  \n",
            "  inflating: dataset/images/train/img655.jpg  \n",
            "  inflating: dataset/images/train/img656.jpg  \n",
            "  inflating: dataset/images/train/img658.jpg  \n",
            "  inflating: dataset/images/train/img659.jpg  \n",
            "  inflating: dataset/images/train/img66.jpg  \n",
            " extracting: dataset/images/train/img663.jpg  \n",
            "  inflating: dataset/images/train/img664.jpg  \n",
            "  inflating: dataset/images/train/img665.jpg  \n",
            "  inflating: dataset/images/train/img667.jpg  \n",
            "  inflating: dataset/images/train/img668.jpg  \n",
            "  inflating: dataset/images/train/img669.jpg  \n",
            "  inflating: dataset/images/train/img67.jpg  \n",
            "  inflating: dataset/images/train/img670.jpg  \n",
            "  inflating: dataset/images/train/img672.jpg  \n",
            "  inflating: dataset/images/train/img673.jpg  \n",
            "  inflating: dataset/images/train/img674.jpg  \n",
            "  inflating: dataset/images/train/img675.jpg  \n",
            "  inflating: dataset/images/train/img677.jpg  \n",
            "  inflating: dataset/images/train/img679.jpg  \n",
            "  inflating: dataset/images/train/img68.jpg  \n",
            "  inflating: dataset/images/train/img680.jpg  \n",
            "  inflating: dataset/images/train/img681.jpg  \n",
            "  inflating: dataset/images/train/img682.jpg  \n",
            "  inflating: dataset/images/train/img683.jpg  \n",
            "  inflating: dataset/images/train/img684.jpg  \n",
            " extracting: dataset/images/train/img686.jpg  \n",
            " extracting: dataset/images/train/img687.jpg  \n",
            " extracting: dataset/images/train/img688.jpg  \n",
            " extracting: dataset/images/train/img689.jpg  \n",
            "  inflating: dataset/images/train/img69.jpg  \n",
            " extracting: dataset/images/train/img690.jpg  \n",
            " extracting: dataset/images/train/img691.jpg  \n",
            "  inflating: dataset/images/train/img692.jpg  \n",
            " extracting: dataset/images/train/img693.jpg  \n",
            "  inflating: dataset/images/train/img694.jpg  \n",
            " extracting: dataset/images/train/img696.jpg  \n",
            " extracting: dataset/images/train/img697.jpg  \n",
            " extracting: dataset/images/train/img698.jpg  \n",
            "  inflating: dataset/images/train/img699.jpg  \n",
            "  inflating: dataset/images/train/img7.jpg  \n",
            "  inflating: dataset/images/train/img70.jpg  \n",
            "  inflating: dataset/images/train/img700.jpg  \n",
            " extracting: dataset/images/train/img701.jpg  \n",
            " extracting: dataset/images/train/img702.jpg  \n",
            "  inflating: dataset/images/train/img703.jpg  \n",
            " extracting: dataset/images/train/img704.jpg  \n",
            " extracting: dataset/images/train/img706.jpg  \n",
            " extracting: dataset/images/train/img707.jpg  \n",
            "  inflating: dataset/images/train/img71.jpg  \n",
            " extracting: dataset/images/train/img713.jpg  \n",
            "  inflating: dataset/images/train/img714.jpg  \n",
            "  inflating: dataset/images/train/img715.jpg  \n",
            "  inflating: dataset/images/train/img716.jpg  \n",
            " extracting: dataset/images/train/img717.jpg  \n",
            " extracting: dataset/images/train/img718.jpg  \n",
            "  inflating: dataset/images/train/img719.jpg  \n",
            "  inflating: dataset/images/train/img72.jpg  \n",
            "  inflating: dataset/images/train/img720.jpg  \n",
            "  inflating: dataset/images/train/img721.jpg  \n",
            "  inflating: dataset/images/train/img722.jpg  \n",
            "  inflating: dataset/images/train/img723.jpg  \n",
            " extracting: dataset/images/train/img724.jpg  \n",
            "  inflating: dataset/images/train/img725.jpg  \n",
            " extracting: dataset/images/train/img726.jpg  \n",
            "  inflating: dataset/images/train/img727.jpg  \n",
            "  inflating: dataset/images/train/img728.jpg  \n",
            "  inflating: dataset/images/train/img73.jpg  \n",
            " extracting: dataset/images/train/img731.jpg  \n",
            " extracting: dataset/images/train/img732.jpg  \n",
            "  inflating: dataset/images/train/img733.jpg  \n",
            " extracting: dataset/images/train/img734.jpg  \n",
            "  inflating: dataset/images/train/img735.jpg  \n",
            " extracting: dataset/images/train/img736.jpg  \n",
            " extracting: dataset/images/train/img737.jpg  \n",
            "  inflating: dataset/images/train/img738.jpg  \n",
            "  inflating: dataset/images/train/img739.jpg  \n",
            "  inflating: dataset/images/train/img74.jpg  \n",
            " extracting: dataset/images/train/img740.jpg  \n",
            " extracting: dataset/images/train/img741.jpg  \n",
            " extracting: dataset/images/train/img742.jpg  \n",
            " extracting: dataset/images/train/img745.jpg  \n",
            " extracting: dataset/images/train/img747.jpg  \n",
            " extracting: dataset/images/train/img748.jpg  \n",
            "  inflating: dataset/images/train/img75.jpg  \n",
            " extracting: dataset/images/train/img750.jpg  \n",
            " extracting: dataset/images/train/img751.jpg  \n",
            "  inflating: dataset/images/train/img752.jpg  \n",
            "  inflating: dataset/images/train/img753.jpg  \n",
            "  inflating: dataset/images/train/img754.jpg  \n",
            " extracting: dataset/images/train/img755.jpg  \n",
            " extracting: dataset/images/train/img756.jpg  \n",
            " extracting: dataset/images/train/img757.jpg  \n",
            " extracting: dataset/images/train/img758.jpg  \n",
            " extracting: dataset/images/train/img759.jpg  \n",
            "  inflating: dataset/images/train/img76.jpg  \n",
            " extracting: dataset/images/train/img760.jpg  \n",
            " extracting: dataset/images/train/img762.jpg  \n",
            "  inflating: dataset/images/train/img763.jpg  \n",
            "  inflating: dataset/images/train/img764.jpg  \n",
            " extracting: dataset/images/train/img765.jpg  \n",
            " extracting: dataset/images/train/img767.jpg  \n",
            " extracting: dataset/images/train/img768.jpg  \n",
            " extracting: dataset/images/train/img769.jpg  \n",
            "  inflating: dataset/images/train/img77.jpg  \n",
            "  inflating: dataset/images/train/img770.jpg  \n",
            "  inflating: dataset/images/train/img772.jpg  \n",
            "  inflating: dataset/images/train/img774.jpg  \n",
            "  inflating: dataset/images/train/img775.jpg  \n",
            " extracting: dataset/images/train/img776.jpg  \n",
            " extracting: dataset/images/train/img778.jpg  \n",
            " extracting: dataset/images/train/img779.jpg  \n",
            "  inflating: dataset/images/train/img78.jpg  \n",
            " extracting: dataset/images/train/img780.jpg  \n",
            " extracting: dataset/images/train/img781.jpg  \n",
            "  inflating: dataset/images/train/img782.jpg  \n",
            "  inflating: dataset/images/train/img783.jpg  \n",
            " extracting: dataset/images/train/img784.jpg  \n",
            "  inflating: dataset/images/train/img785.jpg  \n",
            "  inflating: dataset/images/train/img786.jpg  \n",
            " extracting: dataset/images/train/img787.jpg  \n",
            " extracting: dataset/images/train/img788.jpg  \n",
            "  inflating: dataset/images/train/img789.jpg  \n",
            "  inflating: dataset/images/train/img79.jpg  \n",
            " extracting: dataset/images/train/img791.jpg  \n",
            " extracting: dataset/images/train/img792.jpg  \n",
            " extracting: dataset/images/train/img793.jpg  \n",
            "  inflating: dataset/images/train/img794.jpg  \n",
            "  inflating: dataset/images/train/img795.jpg  \n",
            "  inflating: dataset/images/train/img796.jpg  \n",
            "  inflating: dataset/images/train/img797.jpg  \n",
            "  inflating: dataset/images/train/img799.jpg  \n",
            "  inflating: dataset/images/train/img8.jpg  \n",
            "  inflating: dataset/images/train/img80.jpg  \n",
            "  inflating: dataset/images/train/img800.jpg  \n",
            " extracting: dataset/images/train/img801.jpg  \n",
            " extracting: dataset/images/train/img802.jpg  \n",
            " extracting: dataset/images/train/img803.jpg  \n",
            " extracting: dataset/images/train/img804.jpg  \n",
            " extracting: dataset/images/train/img806.jpg  \n",
            "  inflating: dataset/images/train/img807.jpg  \n",
            "  inflating: dataset/images/train/img81.jpg  \n",
            "  inflating: dataset/images/train/img810.jpg  \n",
            "  inflating: dataset/images/train/img811.jpg  \n",
            " extracting: dataset/images/train/img812.jpg  \n",
            "  inflating: dataset/images/train/img813.jpg  \n",
            " extracting: dataset/images/train/img814.jpg  \n",
            " extracting: dataset/images/train/img815.jpg  \n",
            "  inflating: dataset/images/train/img816.jpg  \n",
            "  inflating: dataset/images/train/img817.jpg  \n",
            "  inflating: dataset/images/train/img818.jpg  \n",
            "  inflating: dataset/images/train/img82.jpg  \n",
            "  inflating: dataset/images/train/img821.jpg  \n",
            "  inflating: dataset/images/train/img822.jpg  \n",
            "  inflating: dataset/images/train/img823.jpg  \n",
            " extracting: dataset/images/train/img824.jpg  \n",
            "  inflating: dataset/images/train/img825.jpg  \n",
            "  inflating: dataset/images/train/img826.jpg  \n",
            "  inflating: dataset/images/train/img827.jpg  \n",
            "  inflating: dataset/images/train/img828.jpg  \n",
            "  inflating: dataset/images/train/img829.jpg  \n",
            "  inflating: dataset/images/train/img83.jpg  \n",
            "  inflating: dataset/images/train/img830.jpg  \n",
            "  inflating: dataset/images/train/img831.jpg  \n",
            "  inflating: dataset/images/train/img832.jpg  \n",
            "  inflating: dataset/images/train/img833.jpg  \n",
            "  inflating: dataset/images/train/img834.jpg  \n",
            "  inflating: dataset/images/train/img835.jpg  \n",
            "  inflating: dataset/images/train/img836.jpg  \n",
            "  inflating: dataset/images/train/img837.jpg  \n",
            "  inflating: dataset/images/train/img838.jpg  \n",
            "  inflating: dataset/images/train/img839.jpg  \n",
            "  inflating: dataset/images/train/img84.jpg  \n",
            "  inflating: dataset/images/train/img840.jpg  \n",
            "  inflating: dataset/images/train/img841.jpg  \n",
            "  inflating: dataset/images/train/img843.jpg  \n",
            "  inflating: dataset/images/train/img844.jpg  \n",
            "  inflating: dataset/images/train/img845.jpg  \n",
            "  inflating: dataset/images/train/img847.jpg  \n",
            "  inflating: dataset/images/train/img848.jpg  \n",
            "  inflating: dataset/images/train/img849.jpg  \n",
            "  inflating: dataset/images/train/img85.jpg  \n",
            "  inflating: dataset/images/train/img850.jpg  \n",
            "  inflating: dataset/images/train/img851.jpg  \n",
            "  inflating: dataset/images/train/img852.jpg  \n",
            "  inflating: dataset/images/train/img853.jpg  \n",
            "  inflating: dataset/images/train/img854.jpg  \n",
            "  inflating: dataset/images/train/img855.jpg  \n",
            "  inflating: dataset/images/train/img856.jpg  \n",
            "  inflating: dataset/images/train/img857.jpg  \n",
            "  inflating: dataset/images/train/img858.jpg  \n",
            "  inflating: dataset/images/train/img859.jpg  \n",
            "  inflating: dataset/images/train/img86.jpg  \n",
            "  inflating: dataset/images/train/img860.jpg  \n",
            "  inflating: dataset/images/train/img863.jpg  \n",
            "  inflating: dataset/images/train/img864.jpg  \n",
            "  inflating: dataset/images/train/img867.jpg  \n",
            "  inflating: dataset/images/train/img868.jpg  \n",
            "  inflating: dataset/images/train/img869.jpg  \n",
            "  inflating: dataset/images/train/img87.jpg  \n",
            "  inflating: dataset/images/train/img870.jpg  \n",
            "  inflating: dataset/images/train/img872.jpg  \n",
            "  inflating: dataset/images/train/img873.jpg  \n",
            "  inflating: dataset/images/train/img875.jpg  \n",
            "  inflating: dataset/images/train/img876.jpg  \n",
            "  inflating: dataset/images/train/img877.jpg  \n",
            "  inflating: dataset/images/train/img879.jpg  \n",
            "  inflating: dataset/images/train/img88.jpg  \n",
            "  inflating: dataset/images/train/img881.jpg  \n",
            "  inflating: dataset/images/train/img882.jpg  \n",
            "  inflating: dataset/images/train/img883.jpg  \n",
            "  inflating: dataset/images/train/img884.jpg  \n",
            "  inflating: dataset/images/train/img885.jpg  \n",
            "  inflating: dataset/images/train/img886.jpg  \n",
            "  inflating: dataset/images/train/img887.jpg  \n",
            "  inflating: dataset/images/train/img888.jpg  \n",
            "  inflating: dataset/images/train/img89.jpg  \n",
            "  inflating: dataset/images/train/img890.jpg  \n",
            "  inflating: dataset/images/train/img891.jpg  \n",
            "  inflating: dataset/images/train/img892.jpg  \n",
            "  inflating: dataset/images/train/img893.jpg  \n",
            "  inflating: dataset/images/train/img894.jpg  \n",
            "  inflating: dataset/images/train/img896.jpg  \n",
            "  inflating: dataset/images/train/img897.jpg  \n",
            "  inflating: dataset/images/train/img898.jpg  \n",
            "  inflating: dataset/images/train/img899.jpg  \n",
            "  inflating: dataset/images/train/img90.jpg  \n",
            "  inflating: dataset/images/train/img900.jpg  \n",
            "  inflating: dataset/images/train/img901.jpg  \n",
            "  inflating: dataset/images/train/img903.jpg  \n",
            "  inflating: dataset/images/train/img905.jpg  \n",
            "  inflating: dataset/images/train/img906.jpg  \n",
            "  inflating: dataset/images/train/img907.jpg  \n",
            "  inflating: dataset/images/train/img908.jpg  \n",
            "  inflating: dataset/images/train/img909.jpg  \n",
            "  inflating: dataset/images/train/img91.jpg  \n",
            "  inflating: dataset/images/train/img910.jpg  \n",
            "  inflating: dataset/images/train/img911.jpg  \n",
            "  inflating: dataset/images/train/img912.jpg  \n",
            "  inflating: dataset/images/train/img914.jpg  \n",
            "  inflating: dataset/images/train/img915.jpg  \n",
            "  inflating: dataset/images/train/img917.jpg  \n",
            "  inflating: dataset/images/train/img918.jpg  \n",
            "  inflating: dataset/images/train/img919.jpg  \n",
            "  inflating: dataset/images/train/img92.jpg  \n",
            "  inflating: dataset/images/train/img920.jpg  \n",
            "  inflating: dataset/images/train/img921.jpg  \n",
            "  inflating: dataset/images/train/img922.jpg  \n",
            "  inflating: dataset/images/train/img923.jpg  \n",
            "  inflating: dataset/images/train/img924.jpg  \n",
            "  inflating: dataset/images/train/img925.jpg  \n",
            "  inflating: dataset/images/train/img927.jpg  \n",
            "  inflating: dataset/images/train/img928.jpg  \n",
            "  inflating: dataset/images/train/img929.jpg  \n",
            "  inflating: dataset/images/train/img93.jpg  \n",
            "  inflating: dataset/images/train/img931.jpg  \n",
            "  inflating: dataset/images/train/img932.jpg  \n",
            "  inflating: dataset/images/train/img933.jpg  \n",
            "  inflating: dataset/images/train/img934.jpg  \n",
            "  inflating: dataset/images/train/img935.jpg  \n",
            "  inflating: dataset/images/train/img936.jpg  \n",
            "  inflating: dataset/images/train/img937.jpg  \n",
            "  inflating: dataset/images/train/img938.jpg  \n",
            "  inflating: dataset/images/train/img939.jpg  \n",
            "  inflating: dataset/images/train/img94.jpg  \n",
            "  inflating: dataset/images/train/img940.jpg  \n",
            "  inflating: dataset/images/train/img941.jpg  \n",
            "  inflating: dataset/images/train/img942.jpg  \n",
            "  inflating: dataset/images/train/img944.jpg  \n",
            "  inflating: dataset/images/train/img945.jpg  \n",
            "  inflating: dataset/images/train/img946.jpg  \n",
            "  inflating: dataset/images/train/img947.jpg  \n",
            "  inflating: dataset/images/train/img948.jpg  \n",
            "  inflating: dataset/images/train/img950.jpg  \n",
            "  inflating: dataset/images/train/img951.jpg  \n",
            "  inflating: dataset/images/train/img952.jpg  \n",
            "  inflating: dataset/images/train/img953.jpg  \n",
            "  inflating: dataset/images/train/img954.jpg  \n",
            "  inflating: dataset/images/train/img956.jpg  \n",
            "  inflating: dataset/images/train/img957.jpg  \n",
            "  inflating: dataset/images/train/img958.jpg  \n",
            "  inflating: dataset/images/train/img959.jpg  \n",
            "  inflating: dataset/images/train/img96.jpg  \n",
            "  inflating: dataset/images/train/img960.jpg  \n",
            "  inflating: dataset/images/train/img961.jpg  \n",
            "  inflating: dataset/images/train/img962.jpg  \n",
            "  inflating: dataset/images/train/img963.jpg  \n",
            "  inflating: dataset/images/train/img965.jpg  \n",
            "  inflating: dataset/images/train/img966.jpg  \n",
            "  inflating: dataset/images/train/img967.jpg  \n",
            "  inflating: dataset/images/train/img969.jpg  \n",
            "  inflating: dataset/images/train/img97.jpg  \n",
            "  inflating: dataset/images/train/img970.jpg  \n",
            "  inflating: dataset/images/train/img971.jpg  \n",
            "  inflating: dataset/images/train/img972.jpg  \n",
            "  inflating: dataset/images/train/img973.jpg  \n",
            "  inflating: dataset/images/train/img974.jpg  \n",
            "  inflating: dataset/images/train/img976.jpg  \n",
            "  inflating: dataset/images/train/img978.jpg  \n",
            "  inflating: dataset/images/train/img979.jpg  \n",
            "  inflating: dataset/images/train/img98.jpg  \n",
            "  inflating: dataset/images/train/img980.jpg  \n",
            "  inflating: dataset/images/train/img981.jpg  \n",
            "  inflating: dataset/images/train/img982.jpg  \n",
            "  inflating: dataset/images/train/img984.jpg  \n",
            "  inflating: dataset/images/train/img985.jpg  \n",
            "  inflating: dataset/images/train/img986.jpg  \n",
            "  inflating: dataset/images/train/img987.jpg  \n",
            "  inflating: dataset/images/train/img988.jpg  \n",
            "  inflating: dataset/images/train/img989.jpg  \n",
            "  inflating: dataset/images/train/img99.jpg  \n",
            "  inflating: dataset/images/train/img990.jpg  \n",
            "  inflating: dataset/images/train/img991.jpg  \n",
            "  inflating: dataset/images/train/img992.jpg  \n",
            "  inflating: dataset/images/train/img993.jpg  \n",
            "  inflating: dataset/images/train/img994.jpg  \n",
            "  inflating: dataset/images/train/img995.jpg  \n",
            "  inflating: dataset/images/train/img996.jpg  \n",
            "  inflating: dataset/images/train/img997.jpg  \n",
            "  inflating: dataset/images/train/img998.jpg  \n",
            "   creating: dataset/images/val/\n",
            "  inflating: dataset/images/val/img1002.jpg  \n",
            "  inflating: dataset/images/val/img1008.jpg  \n",
            "  inflating: dataset/images/val/img1014.jpg  \n",
            "  inflating: dataset/images/val/img1020.jpg  \n",
            "  inflating: dataset/images/val/img1023.jpg  \n",
            "  inflating: dataset/images/val/img1024.jpg  \n",
            "  inflating: dataset/images/val/img1027.jpg  \n",
            "  inflating: dataset/images/val/img103.jpg  \n",
            "  inflating: dataset/images/val/img1032.jpg  \n",
            "  inflating: dataset/images/val/img1033.jpg  \n",
            "  inflating: dataset/images/val/img1044.jpg  \n",
            "  inflating: dataset/images/val/img1045.jpg  \n",
            "  inflating: dataset/images/val/img1047.jpg  \n",
            "  inflating: dataset/images/val/img1049.jpg  \n",
            "  inflating: dataset/images/val/img1055.jpg  \n",
            "  inflating: dataset/images/val/img1057.jpg  \n",
            "  inflating: dataset/images/val/img1059.jpg  \n",
            "  inflating: dataset/images/val/img1063.jpg  \n",
            "  inflating: dataset/images/val/img1069.jpg  \n",
            "  inflating: dataset/images/val/img1070.jpg  \n",
            "  inflating: dataset/images/val/img1071.jpg  \n",
            "  inflating: dataset/images/val/img1076.jpg  \n",
            "  inflating: dataset/images/val/img1077.jpg  \n",
            "  inflating: dataset/images/val/img1079.jpg  \n",
            "  inflating: dataset/images/val/img1081.jpg  \n",
            "  inflating: dataset/images/val/img1095.jpg  \n",
            "  inflating: dataset/images/val/img1098.jpg  \n",
            "  inflating: dataset/images/val/img1101.jpg  \n",
            "  inflating: dataset/images/val/img1111.jpg  \n",
            "  inflating: dataset/images/val/img1112.jpg  \n",
            "  inflating: dataset/images/val/img1117.jpg  \n",
            "  inflating: dataset/images/val/img1126.jpg  \n",
            "  inflating: dataset/images/val/img1127.jpg  \n",
            "  inflating: dataset/images/val/img1131.jpg  \n",
            "  inflating: dataset/images/val/img1147.jpg  \n",
            "  inflating: dataset/images/val/img1149.jpg  \n",
            "  inflating: dataset/images/val/img1153.jpg  \n",
            "  inflating: dataset/images/val/img1156.jpg  \n",
            "  inflating: dataset/images/val/img1157.jpg  \n",
            "  inflating: dataset/images/val/img1170.jpg  \n",
            "  inflating: dataset/images/val/img1174.jpg  \n",
            "  inflating: dataset/images/val/img1180.jpg  \n",
            "  inflating: dataset/images/val/img1183.jpg  \n",
            "  inflating: dataset/images/val/img1186.jpg  \n",
            "  inflating: dataset/images/val/img1188.jpg  \n",
            "  inflating: dataset/images/val/img1196.jpg  \n",
            "  inflating: dataset/images/val/img1198.jpg  \n",
            "  inflating: dataset/images/val/img1217.jpg  \n",
            "  inflating: dataset/images/val/img1218.jpg  \n",
            "  inflating: dataset/images/val/img1228.jpg  \n",
            "  inflating: dataset/images/val/img1236.jpg  \n",
            "  inflating: dataset/images/val/img1247.jpg  \n",
            "  inflating: dataset/images/val/img125.jpg  \n",
            "  inflating: dataset/images/val/img1254.jpg  \n",
            "  inflating: dataset/images/val/img1259.jpg  \n",
            "  inflating: dataset/images/val/img1267.jpg  \n",
            "  inflating: dataset/images/val/img127.jpg  \n",
            "  inflating: dataset/images/val/img1270.jpg  \n",
            "  inflating: dataset/images/val/img1275.jpg  \n",
            "  inflating: dataset/images/val/img128.jpg  \n",
            "  inflating: dataset/images/val/img1283.jpg  \n",
            "  inflating: dataset/images/val/img1292.jpg  \n",
            "  inflating: dataset/images/val/img13.jpg  \n",
            "  inflating: dataset/images/val/img130.jpg  \n",
            "  inflating: dataset/images/val/img1300.jpg  \n",
            "  inflating: dataset/images/val/img1311.jpg  \n",
            "  inflating: dataset/images/val/img1314.jpg  \n",
            "  inflating: dataset/images/val/img132.jpg  \n",
            "  inflating: dataset/images/val/img1322.jpg  \n",
            "  inflating: dataset/images/val/img1323.jpg  \n",
            "  inflating: dataset/images/val/img1324.jpg  \n",
            "  inflating: dataset/images/val/img1325.jpg  \n",
            "  inflating: dataset/images/val/img1326.jpg  \n",
            "  inflating: dataset/images/val/img1329.jpg  \n",
            "  inflating: dataset/images/val/img133.jpg  \n",
            "  inflating: dataset/images/val/img1334.jpg  \n",
            "  inflating: dataset/images/val/img1339.jpg  \n",
            "  inflating: dataset/images/val/img1340.jpg  \n",
            "  inflating: dataset/images/val/img1341.jpg  \n",
            "  inflating: dataset/images/val/img1347.jpg  \n",
            "  inflating: dataset/images/val/img1350.jpg  \n",
            "  inflating: dataset/images/val/img1355.jpg  \n",
            "  inflating: dataset/images/val/img1359.jpg  \n",
            "  inflating: dataset/images/val/img1361.jpg  \n",
            "  inflating: dataset/images/val/img1362.jpg  \n",
            "  inflating: dataset/images/val/img1364.jpg  \n",
            "  inflating: dataset/images/val/img1368.jpg  \n",
            "  inflating: dataset/images/val/img1373.jpg  \n",
            "  inflating: dataset/images/val/img1375.jpg  \n",
            "  inflating: dataset/images/val/img1378.jpg  \n",
            "  inflating: dataset/images/val/img1387.jpg  \n",
            "  inflating: dataset/images/val/img1388.jpg  \n",
            "  inflating: dataset/images/val/img1392.jpg  \n",
            "  inflating: dataset/images/val/img1396.jpg  \n",
            "  inflating: dataset/images/val/img1399.jpg  \n",
            "  inflating: dataset/images/val/img14.jpg  \n",
            "  inflating: dataset/images/val/img1402.jpg  \n",
            "  inflating: dataset/images/val/img1406.jpg  \n",
            "  inflating: dataset/images/val/img141.jpg  \n",
            "  inflating: dataset/images/val/img1410.jpg  \n",
            "  inflating: dataset/images/val/img1411.jpg  \n",
            "  inflating: dataset/images/val/img1413.jpg  \n",
            "  inflating: dataset/images/val/img1414.jpg  \n",
            "  inflating: dataset/images/val/img1415.jpg  \n",
            "  inflating: dataset/images/val/img1430.jpg  \n",
            "  inflating: dataset/images/val/img1438.jpg  \n",
            "  inflating: dataset/images/val/img1439.jpg  \n",
            "  inflating: dataset/images/val/img1440.jpg  \n",
            "  inflating: dataset/images/val/img145.jpg  \n",
            "  inflating: dataset/images/val/img1452.jpg  \n",
            "  inflating: dataset/images/val/img1455.jpg  \n",
            "  inflating: dataset/images/val/img1459.jpg  \n",
            "  inflating: dataset/images/val/img1467.jpg  \n",
            "  inflating: dataset/images/val/img1474.jpg  \n",
            "  inflating: dataset/images/val/img148.jpg  \n",
            "  inflating: dataset/images/val/img15.jpg  \n",
            "  inflating: dataset/images/val/img1505.jpg  \n",
            "  inflating: dataset/images/val/img1519.jpg  \n",
            "  inflating: dataset/images/val/img1520.jpg  \n",
            "  inflating: dataset/images/val/img1526.jpg  \n",
            "  inflating: dataset/images/val/img1527.jpg  \n",
            "  inflating: dataset/images/val/img1530.jpg  \n",
            "  inflating: dataset/images/val/img1534.jpg  \n",
            "  inflating: dataset/images/val/img1538.jpg  \n",
            "  inflating: dataset/images/val/img1541.jpg  \n",
            "  inflating: dataset/images/val/img1542.jpg  \n",
            "  inflating: dataset/images/val/img1543.jpg  \n",
            "  inflating: dataset/images/val/img1544.jpg  \n",
            "  inflating: dataset/images/val/img1557.jpg  \n",
            "  inflating: dataset/images/val/img1558.jpg  \n",
            "  inflating: dataset/images/val/img1563.jpg  \n",
            "  inflating: dataset/images/val/img1567.jpg  \n",
            "  inflating: dataset/images/val/img1568.jpg  \n",
            "  inflating: dataset/images/val/img1571.jpg  \n",
            "  inflating: dataset/images/val/img1573.jpg  \n",
            "  inflating: dataset/images/val/img1579.jpg  \n",
            "  inflating: dataset/images/val/img1584.jpg  \n",
            "  inflating: dataset/images/val/img1588.jpg  \n",
            "  inflating: dataset/images/val/img1595.jpg  \n",
            "  inflating: dataset/images/val/img1599.jpg  \n",
            "  inflating: dataset/images/val/img1600.jpg  \n",
            "  inflating: dataset/images/val/img1607.jpg  \n",
            "  inflating: dataset/images/val/img1617.jpg  \n",
            "  inflating: dataset/images/val/img1621.jpg  \n",
            "  inflating: dataset/images/val/img1634.jpg  \n",
            "  inflating: dataset/images/val/img1637.jpg  \n",
            "  inflating: dataset/images/val/img1647.jpg  \n",
            " extracting: dataset/images/val/img165.jpg  \n",
            "  inflating: dataset/images/val/img1650.jpg  \n",
            "  inflating: dataset/images/val/img1652.jpg  \n",
            "  inflating: dataset/images/val/img1654.jpg  \n",
            "  inflating: dataset/images/val/img1659.jpg  \n",
            "  inflating: dataset/images/val/img166.jpg  \n",
            "  inflating: dataset/images/val/img1662.jpg  \n",
            " extracting: dataset/images/val/img1666.jpg  \n",
            "  inflating: dataset/images/val/img1670.jpg  \n",
            "  inflating: dataset/images/val/img1675.jpg  \n",
            "  inflating: dataset/images/val/img1695.jpg  \n",
            "  inflating: dataset/images/val/img1698.jpg  \n",
            "  inflating: dataset/images/val/img1699.jpg  \n",
            "  inflating: dataset/images/val/img170.jpg  \n",
            "  inflating: dataset/images/val/img1702.jpg  \n",
            "  inflating: dataset/images/val/img1707.jpg  \n",
            "  inflating: dataset/images/val/img1710.jpg  \n",
            "  inflating: dataset/images/val/img1711.jpg  \n",
            "  inflating: dataset/images/val/img1714.jpg  \n",
            "  inflating: dataset/images/val/img1715.jpg  \n",
            "  inflating: dataset/images/val/img1719.jpg  \n",
            "  inflating: dataset/images/val/img1726.jpg  \n",
            "  inflating: dataset/images/val/img1729.jpg  \n",
            "  inflating: dataset/images/val/img1732.jpg  \n",
            "  inflating: dataset/images/val/img1736.jpg  \n",
            " extracting: dataset/images/val/img1740.jpg  \n",
            "  inflating: dataset/images/val/img1748.jpg  \n",
            " extracting: dataset/images/val/img1757.jpg  \n",
            "  inflating: dataset/images/val/img1759.jpg  \n",
            "  inflating: dataset/images/val/img1770.jpg  \n",
            "  inflating: dataset/images/val/img1771.jpg  \n",
            "  inflating: dataset/images/val/img1778.jpg  \n",
            "  inflating: dataset/images/val/img178.jpg  \n",
            "  inflating: dataset/images/val/img1783.jpg  \n",
            "  inflating: dataset/images/val/img179.jpg  \n",
            "  inflating: dataset/images/val/img1795.jpg  \n",
            "  inflating: dataset/images/val/img1796.jpg  \n",
            "  inflating: dataset/images/val/img1802.jpg  \n",
            "  inflating: dataset/images/val/img1805.jpg  \n",
            " extracting: dataset/images/val/img1813.jpg  \n",
            "  inflating: dataset/images/val/img1814.jpg  \n",
            "  inflating: dataset/images/val/img1818.jpg  \n",
            "  inflating: dataset/images/val/img1819.jpg  \n",
            "  inflating: dataset/images/val/img182.jpg  \n",
            "  inflating: dataset/images/val/img1821.jpg  \n",
            "  inflating: dataset/images/val/img1828.jpg  \n",
            "  inflating: dataset/images/val/img1837.jpg  \n",
            "  inflating: dataset/images/val/img1845.jpg  \n",
            "  inflating: dataset/images/val/img1850.jpg  \n",
            "  inflating: dataset/images/val/img1854.jpg  \n",
            "  inflating: dataset/images/val/img1857.jpg  \n",
            "  inflating: dataset/images/val/img1863.jpg  \n",
            "  inflating: dataset/images/val/img1872.jpg  \n",
            " extracting: dataset/images/val/img1882.jpg  \n",
            "  inflating: dataset/images/val/img1883.jpg  \n",
            "  inflating: dataset/images/val/img1884.jpg  \n",
            "  inflating: dataset/images/val/img1886.jpg  \n",
            "  inflating: dataset/images/val/img189.jpg  \n",
            "  inflating: dataset/images/val/img1899.jpg  \n",
            "  inflating: dataset/images/val/img1901.jpg  \n",
            "  inflating: dataset/images/val/img1903.jpg  \n",
            "  inflating: dataset/images/val/img1908.jpg  \n",
            "  inflating: dataset/images/val/img1912.jpg  \n",
            "  inflating: dataset/images/val/img1914.jpg  \n",
            "  inflating: dataset/images/val/img1917.jpg  \n",
            "  inflating: dataset/images/val/img1918.jpg  \n",
            "  inflating: dataset/images/val/img1922.jpg  \n",
            "  inflating: dataset/images/val/img1924.jpg  \n",
            "  inflating: dataset/images/val/img1930.jpg  \n",
            "  inflating: dataset/images/val/img1938.jpg  \n",
            "  inflating: dataset/images/val/img1940.jpg  \n",
            "  inflating: dataset/images/val/img1942.jpg  \n",
            "  inflating: dataset/images/val/img1944.jpg  \n",
            "  inflating: dataset/images/val/img195.jpg  \n",
            "  inflating: dataset/images/val/img1950.jpg  \n",
            "  inflating: dataset/images/val/img1956.jpg  \n",
            "  inflating: dataset/images/val/img1958.jpg  \n",
            "  inflating: dataset/images/val/img1959.jpg  \n",
            "  inflating: dataset/images/val/img1962.jpg  \n",
            "  inflating: dataset/images/val/img1963.jpg  \n",
            "  inflating: dataset/images/val/img1964.jpg  \n",
            "  inflating: dataset/images/val/img1967.jpg  \n",
            "  inflating: dataset/images/val/img1973.jpg  \n",
            "  inflating: dataset/images/val/img1978.jpg  \n",
            "  inflating: dataset/images/val/img1980.jpg  \n",
            "  inflating: dataset/images/val/img1982.jpg  \n",
            "  inflating: dataset/images/val/img1983.jpg  \n",
            "  inflating: dataset/images/val/img1993.jpg  \n",
            "  inflating: dataset/images/val/img20.jpg  \n",
            "  inflating: dataset/images/val/img2001.jpg  \n",
            "  inflating: dataset/images/val/img2005.jpg  \n",
            "  inflating: dataset/images/val/img2008.jpg  \n",
            "  inflating: dataset/images/val/img2012.jpg  \n",
            "  inflating: dataset/images/val/img2017.jpg  \n",
            "  inflating: dataset/images/val/img2021.png  \n",
            "  inflating: dataset/images/val/img2027.png  \n",
            "  inflating: dataset/images/val/img2031.png  \n",
            "  inflating: dataset/images/val/img2039.png  \n",
            "  inflating: dataset/images/val/img2040.png  \n",
            "  inflating: dataset/images/val/img2041.png  \n",
            "  inflating: dataset/images/val/img2049.png  \n",
            "  inflating: dataset/images/val/img2051.png  \n",
            "  inflating: dataset/images/val/img2054.png  \n",
            "  inflating: dataset/images/val/img2055.png  \n",
            "  inflating: dataset/images/val/img2058.png  \n",
            "  inflating: dataset/images/val/img2065.png  \n",
            "  inflating: dataset/images/val/img2077.png  \n",
            "  inflating: dataset/images/val/img2080.png  \n",
            "  inflating: dataset/images/val/img2082.png  \n",
            "  inflating: dataset/images/val/img2087.png  \n",
            "  inflating: dataset/images/val/img2094.png  \n",
            "  inflating: dataset/images/val/img2097.png  \n",
            "  inflating: dataset/images/val/img2103.png  \n",
            "  inflating: dataset/images/val/img2113.jpg  \n",
            "  inflating: dataset/images/val/img213.jpg  \n",
            "  inflating: dataset/images/val/img215.jpg  \n",
            "  inflating: dataset/images/val/img228.jpg  \n",
            "  inflating: dataset/images/val/img236.jpg  \n",
            "  inflating: dataset/images/val/img238.jpg  \n",
            "  inflating: dataset/images/val/img24.jpg  \n",
            "  inflating: dataset/images/val/img240.jpg  \n",
            "  inflating: dataset/images/val/img242.jpg  \n",
            "  inflating: dataset/images/val/img253.jpg  \n",
            "  inflating: dataset/images/val/img263.jpg  \n",
            "  inflating: dataset/images/val/img266.jpg  \n",
            "  inflating: dataset/images/val/img270.jpg  \n",
            "  inflating: dataset/images/val/img272.jpg  \n",
            "  inflating: dataset/images/val/img276.jpg  \n",
            "  inflating: dataset/images/val/img278.jpg  \n",
            "  inflating: dataset/images/val/img280.jpg  \n",
            " extracting: dataset/images/val/img283.jpg  \n",
            "  inflating: dataset/images/val/img298.jpg  \n",
            "  inflating: dataset/images/val/img301.jpg  \n",
            "  inflating: dataset/images/val/img304.jpg  \n",
            "  inflating: dataset/images/val/img305.jpg  \n",
            "  inflating: dataset/images/val/img31.jpg  \n",
            "  inflating: dataset/images/val/img315.jpg  \n",
            "  inflating: dataset/images/val/img316.jpg  \n",
            " extracting: dataset/images/val/img323.jpg  \n",
            "  inflating: dataset/images/val/img324.jpg  \n",
            " extracting: dataset/images/val/img330.jpg  \n",
            "  inflating: dataset/images/val/img34.jpg  \n",
            "  inflating: dataset/images/val/img340.jpg  \n",
            "  inflating: dataset/images/val/img341.jpg  \n",
            "  inflating: dataset/images/val/img347.jpg  \n",
            "  inflating: dataset/images/val/img349.jpg  \n",
            "  inflating: dataset/images/val/img353.jpg  \n",
            "  inflating: dataset/images/val/img354.jpg  \n",
            "  inflating: dataset/images/val/img355.jpg  \n",
            "  inflating: dataset/images/val/img359.jpg  \n",
            "  inflating: dataset/images/val/img37.jpg  \n",
            "  inflating: dataset/images/val/img370.jpg  \n",
            "  inflating: dataset/images/val/img378.jpg  \n",
            "  inflating: dataset/images/val/img387.jpg  \n",
            "  inflating: dataset/images/val/img393.jpg  \n",
            "  inflating: dataset/images/val/img394.jpg  \n",
            "  inflating: dataset/images/val/img398.jpg  \n",
            "  inflating: dataset/images/val/img401.jpg  \n",
            "  inflating: dataset/images/val/img404.png  \n",
            "  inflating: dataset/images/val/img406.png  \n",
            "  inflating: dataset/images/val/img409.png  \n",
            "  inflating: dataset/images/val/img413.png  \n",
            "  inflating: dataset/images/val/img417.png  \n",
            "  inflating: dataset/images/val/img42.jpg  \n",
            "  inflating: dataset/images/val/img433.jpg  \n",
            "  inflating: dataset/images/val/img435.png  \n",
            "  inflating: dataset/images/val/img440.png  \n",
            "  inflating: dataset/images/val/img443.png  \n",
            "  inflating: dataset/images/val/img446.png  \n",
            "  inflating: dataset/images/val/img451.png  \n",
            "  inflating: dataset/images/val/img454.png  \n",
            "  inflating: dataset/images/val/img470.png  \n",
            "  inflating: dataset/images/val/img476.png  \n",
            "  inflating: dataset/images/val/img479.png  \n",
            "  inflating: dataset/images/val/img483.png  \n",
            "  inflating: dataset/images/val/img485.png  \n",
            "  inflating: dataset/images/val/img488.png  \n",
            "  inflating: dataset/images/val/img490.png  \n",
            "  inflating: dataset/images/val/img495.png  \n",
            "  inflating: dataset/images/val/img496.png  \n",
            "  inflating: dataset/images/val/img500.png  \n",
            "  inflating: dataset/images/val/img501.png  \n",
            "  inflating: dataset/images/val/img506.png  \n",
            "  inflating: dataset/images/val/img519.png  \n",
            "  inflating: dataset/images/val/img520.png  \n",
            "  inflating: dataset/images/val/img524.png  \n",
            "  inflating: dataset/images/val/img529.png  \n",
            "  inflating: dataset/images/val/img548.png  \n",
            "  inflating: dataset/images/val/img554.png  \n",
            "  inflating: dataset/images/val/img562.png  \n",
            "  inflating: dataset/images/val/img566.png  \n",
            "  inflating: dataset/images/val/img568.png  \n",
            "  inflating: dataset/images/val/img579.png  \n",
            "  inflating: dataset/images/val/img590.png  \n",
            "  inflating: dataset/images/val/img591.png  \n",
            "  inflating: dataset/images/val/img595.png  \n",
            "  inflating: dataset/images/val/img60.jpg  \n",
            "  inflating: dataset/images/val/img601.png  \n",
            "  inflating: dataset/images/val/img607.png  \n",
            "  inflating: dataset/images/val/img61.jpg  \n",
            "  inflating: dataset/images/val/img614.png  \n",
            "  inflating: dataset/images/val/img620.jpg  \n",
            "  inflating: dataset/images/val/img626.jpg  \n",
            "  inflating: dataset/images/val/img628.jpg  \n",
            "  inflating: dataset/images/val/img633.jpg  \n",
            "  inflating: dataset/images/val/img641.jpg  \n",
            "  inflating: dataset/images/val/img643.jpg  \n",
            "  inflating: dataset/images/val/img644.jpg  \n",
            "  inflating: dataset/images/val/img657.jpg  \n",
            "  inflating: dataset/images/val/img660.jpg  \n",
            "  inflating: dataset/images/val/img661.jpg  \n",
            "  inflating: dataset/images/val/img662.jpg  \n",
            "  inflating: dataset/images/val/img666.jpg  \n",
            "  inflating: dataset/images/val/img671.jpg  \n",
            "  inflating: dataset/images/val/img676.jpg  \n",
            "  inflating: dataset/images/val/img678.jpg  \n",
            "  inflating: dataset/images/val/img685.jpg  \n",
            " extracting: dataset/images/val/img695.jpg  \n",
            " extracting: dataset/images/val/img705.jpg  \n",
            " extracting: dataset/images/val/img708.jpg  \n",
            " extracting: dataset/images/val/img709.jpg  \n",
            " extracting: dataset/images/val/img710.jpg  \n",
            " extracting: dataset/images/val/img711.jpg  \n",
            " extracting: dataset/images/val/img712.jpg  \n",
            " extracting: dataset/images/val/img729.jpg  \n",
            "  inflating: dataset/images/val/img730.jpg  \n",
            " extracting: dataset/images/val/img743.jpg  \n",
            " extracting: dataset/images/val/img744.jpg  \n",
            " extracting: dataset/images/val/img746.jpg  \n",
            " extracting: dataset/images/val/img749.jpg  \n",
            " extracting: dataset/images/val/img761.jpg  \n",
            "  inflating: dataset/images/val/img766.jpg  \n",
            "  inflating: dataset/images/val/img771.jpg  \n",
            "  inflating: dataset/images/val/img773.jpg  \n",
            " extracting: dataset/images/val/img777.jpg  \n",
            "  inflating: dataset/images/val/img790.jpg  \n",
            "  inflating: dataset/images/val/img798.jpg  \n",
            " extracting: dataset/images/val/img805.jpg  \n",
            "  inflating: dataset/images/val/img808.jpg  \n",
            "  inflating: dataset/images/val/img809.jpg  \n",
            "  inflating: dataset/images/val/img819.jpg  \n",
            "  inflating: dataset/images/val/img820.jpg  \n",
            "  inflating: dataset/images/val/img842.jpg  \n",
            "  inflating: dataset/images/val/img846.jpg  \n",
            "  inflating: dataset/images/val/img861.jpg  \n",
            "  inflating: dataset/images/val/img862.jpg  \n",
            "  inflating: dataset/images/val/img865.jpg  \n",
            "  inflating: dataset/images/val/img866.jpg  \n",
            "  inflating: dataset/images/val/img871.jpg  \n",
            "  inflating: dataset/images/val/img874.jpg  \n",
            "  inflating: dataset/images/val/img878.jpg  \n",
            "  inflating: dataset/images/val/img880.jpg  \n",
            "  inflating: dataset/images/val/img889.jpg  \n",
            "  inflating: dataset/images/val/img895.jpg  \n",
            "  inflating: dataset/images/val/img9.jpg  \n",
            "  inflating: dataset/images/val/img902.jpg  \n",
            "  inflating: dataset/images/val/img904.jpg  \n",
            "  inflating: dataset/images/val/img913.jpg  \n",
            "  inflating: dataset/images/val/img916.jpg  \n",
            "  inflating: dataset/images/val/img926.jpg  \n",
            "  inflating: dataset/images/val/img930.jpg  \n",
            "  inflating: dataset/images/val/img943.jpg  \n",
            "  inflating: dataset/images/val/img949.jpg  \n",
            "  inflating: dataset/images/val/img95.jpg  \n",
            "  inflating: dataset/images/val/img955.jpg  \n",
            "  inflating: dataset/images/val/img964.jpg  \n",
            "  inflating: dataset/images/val/img968.jpg  \n",
            "  inflating: dataset/images/val/img975.jpg  \n",
            "  inflating: dataset/images/val/img977.jpg  \n",
            "  inflating: dataset/images/val/img983.jpg  \n",
            "  inflating: dataset/images/val/img999.jpg  \n",
            "   creating: dataset/labels/\n",
            "   creating: dataset/labels/train/\n",
            "  inflating: dataset/labels/train/img1.txt  \n",
            "  inflating: dataset/labels/train/img10.txt  \n",
            " extracting: dataset/labels/train/img100.txt  \n",
            " extracting: dataset/labels/train/img1000.txt  \n",
            " extracting: dataset/labels/train/img1001.txt  \n",
            " extracting: dataset/labels/train/img1003.txt  \n",
            " extracting: dataset/labels/train/img1004.txt  \n",
            " extracting: dataset/labels/train/img1005.txt  \n",
            " extracting: dataset/labels/train/img1006.txt  \n",
            " extracting: dataset/labels/train/img1007.txt  \n",
            " extracting: dataset/labels/train/img1009.txt  \n",
            " extracting: dataset/labels/train/img101.txt  \n",
            " extracting: dataset/labels/train/img1010.txt  \n",
            " extracting: dataset/labels/train/img1011.txt  \n",
            " extracting: dataset/labels/train/img1012.txt  \n",
            " extracting: dataset/labels/train/img1013.txt  \n",
            " extracting: dataset/labels/train/img1015.txt  \n",
            " extracting: dataset/labels/train/img1016.txt  \n",
            " extracting: dataset/labels/train/img1017.txt  \n",
            " extracting: dataset/labels/train/img1018.txt  \n",
            " extracting: dataset/labels/train/img1019.txt  \n",
            " extracting: dataset/labels/train/img102.txt  \n",
            " extracting: dataset/labels/train/img1021.txt  \n",
            " extracting: dataset/labels/train/img1022.txt  \n",
            " extracting: dataset/labels/train/img1025.txt  \n",
            " extracting: dataset/labels/train/img1026.txt  \n",
            " extracting: dataset/labels/train/img1028.txt  \n",
            " extracting: dataset/labels/train/img1029.txt  \n",
            " extracting: dataset/labels/train/img1030.txt  \n",
            " extracting: dataset/labels/train/img1031.txt  \n",
            " extracting: dataset/labels/train/img1034.txt  \n",
            " extracting: dataset/labels/train/img1035.txt  \n",
            " extracting: dataset/labels/train/img1036.txt  \n",
            " extracting: dataset/labels/train/img1037.txt  \n",
            " extracting: dataset/labels/train/img1038.txt  \n",
            " extracting: dataset/labels/train/img1039.txt  \n",
            " extracting: dataset/labels/train/img104.txt  \n",
            " extracting: dataset/labels/train/img1040.txt  \n",
            " extracting: dataset/labels/train/img1041.txt  \n",
            " extracting: dataset/labels/train/img1042.txt  \n",
            " extracting: dataset/labels/train/img1043.txt  \n",
            " extracting: dataset/labels/train/img1046.txt  \n",
            " extracting: dataset/labels/train/img1048.txt  \n",
            " extracting: dataset/labels/train/img105.txt  \n",
            " extracting: dataset/labels/train/img1050.txt  \n",
            " extracting: dataset/labels/train/img1051.txt  \n",
            " extracting: dataset/labels/train/img1052.txt  \n",
            " extracting: dataset/labels/train/img1053.txt  \n",
            " extracting: dataset/labels/train/img1054.txt  \n",
            " extracting: dataset/labels/train/img1056.txt  \n",
            " extracting: dataset/labels/train/img1058.txt  \n",
            " extracting: dataset/labels/train/img106.txt  \n",
            " extracting: dataset/labels/train/img1060.txt  \n",
            " extracting: dataset/labels/train/img1061.txt  \n",
            " extracting: dataset/labels/train/img1062.txt  \n",
            " extracting: dataset/labels/train/img1064.txt  \n",
            " extracting: dataset/labels/train/img1065.txt  \n",
            " extracting: dataset/labels/train/img1066.txt  \n",
            " extracting: dataset/labels/train/img1067.txt  \n",
            " extracting: dataset/labels/train/img1068.txt  \n",
            " extracting: dataset/labels/train/img107.txt  \n",
            " extracting: dataset/labels/train/img1072.txt  \n",
            " extracting: dataset/labels/train/img1073.txt  \n",
            " extracting: dataset/labels/train/img1074.txt  \n",
            " extracting: dataset/labels/train/img1075.txt  \n",
            " extracting: dataset/labels/train/img1078.txt  \n",
            " extracting: dataset/labels/train/img108.txt  \n",
            " extracting: dataset/labels/train/img1080.txt  \n",
            " extracting: dataset/labels/train/img1082.txt  \n",
            " extracting: dataset/labels/train/img1083.txt  \n",
            " extracting: dataset/labels/train/img1084.txt  \n",
            " extracting: dataset/labels/train/img1085.txt  \n",
            " extracting: dataset/labels/train/img1086.txt  \n",
            " extracting: dataset/labels/train/img1087.txt  \n",
            " extracting: dataset/labels/train/img1088.txt  \n",
            " extracting: dataset/labels/train/img1089.txt  \n",
            " extracting: dataset/labels/train/img109.txt  \n",
            " extracting: dataset/labels/train/img1090.txt  \n",
            " extracting: dataset/labels/train/img1091.txt  \n",
            " extracting: dataset/labels/train/img1092.txt  \n",
            " extracting: dataset/labels/train/img1093.txt  \n",
            " extracting: dataset/labels/train/img1094.txt  \n",
            " extracting: dataset/labels/train/img1096.txt  \n",
            " extracting: dataset/labels/train/img1097.txt  \n",
            " extracting: dataset/labels/train/img1099.txt  \n",
            " extracting: dataset/labels/train/img11.txt  \n",
            " extracting: dataset/labels/train/img110.txt  \n",
            " extracting: dataset/labels/train/img1100.txt  \n",
            " extracting: dataset/labels/train/img1102.txt  \n",
            " extracting: dataset/labels/train/img1103.txt  \n",
            " extracting: dataset/labels/train/img1104.txt  \n",
            " extracting: dataset/labels/train/img1105.txt  \n",
            " extracting: dataset/labels/train/img1106.txt  \n",
            " extracting: dataset/labels/train/img1107.txt  \n",
            " extracting: dataset/labels/train/img1108.txt  \n",
            " extracting: dataset/labels/train/img1109.txt  \n",
            " extracting: dataset/labels/train/img111.txt  \n",
            " extracting: dataset/labels/train/img1110.txt  \n",
            " extracting: dataset/labels/train/img1113.txt  \n",
            " extracting: dataset/labels/train/img1114.txt  \n",
            " extracting: dataset/labels/train/img1115.txt  \n",
            " extracting: dataset/labels/train/img1116.txt  \n",
            " extracting: dataset/labels/train/img1118.txt  \n",
            " extracting: dataset/labels/train/img1119.txt  \n",
            " extracting: dataset/labels/train/img112.txt  \n",
            " extracting: dataset/labels/train/img1120.txt  \n",
            " extracting: dataset/labels/train/img1121.txt  \n",
            " extracting: dataset/labels/train/img1122.txt  \n",
            " extracting: dataset/labels/train/img1123.txt  \n",
            " extracting: dataset/labels/train/img1124.txt  \n",
            " extracting: dataset/labels/train/img1125.txt  \n",
            " extracting: dataset/labels/train/img1128.txt  \n",
            " extracting: dataset/labels/train/img1129.txt  \n",
            " extracting: dataset/labels/train/img113.txt  \n",
            " extracting: dataset/labels/train/img1130.txt  \n",
            " extracting: dataset/labels/train/img1132.txt  \n",
            " extracting: dataset/labels/train/img1133.txt  \n",
            " extracting: dataset/labels/train/img1134.txt  \n",
            " extracting: dataset/labels/train/img1135.txt  \n",
            " extracting: dataset/labels/train/img1136.txt  \n",
            " extracting: dataset/labels/train/img1137.txt  \n",
            " extracting: dataset/labels/train/img1138.txt  \n",
            " extracting: dataset/labels/train/img1139.txt  \n",
            " extracting: dataset/labels/train/img114.txt  \n",
            " extracting: dataset/labels/train/img1140.txt  \n",
            " extracting: dataset/labels/train/img1141.txt  \n",
            " extracting: dataset/labels/train/img1142.txt  \n",
            " extracting: dataset/labels/train/img1143.txt  \n",
            " extracting: dataset/labels/train/img1144.txt  \n",
            " extracting: dataset/labels/train/img1145.txt  \n",
            " extracting: dataset/labels/train/img1146.txt  \n",
            " extracting: dataset/labels/train/img1148.txt  \n",
            " extracting: dataset/labels/train/img115.txt  \n",
            " extracting: dataset/labels/train/img1150.txt  \n",
            " extracting: dataset/labels/train/img1151.txt  \n",
            " extracting: dataset/labels/train/img1152.txt  \n",
            " extracting: dataset/labels/train/img1154.txt  \n",
            " extracting: dataset/labels/train/img1155.txt  \n",
            " extracting: dataset/labels/train/img1158.txt  \n",
            " extracting: dataset/labels/train/img1159.txt  \n",
            " extracting: dataset/labels/train/img116.txt  \n",
            " extracting: dataset/labels/train/img1160.txt  \n",
            " extracting: dataset/labels/train/img1161.txt  \n",
            " extracting: dataset/labels/train/img1162.txt  \n",
            " extracting: dataset/labels/train/img1163.txt  \n",
            " extracting: dataset/labels/train/img1164.txt  \n",
            " extracting: dataset/labels/train/img1165.txt  \n",
            " extracting: dataset/labels/train/img1166.txt  \n",
            " extracting: dataset/labels/train/img1167.txt  \n",
            " extracting: dataset/labels/train/img1168.txt  \n",
            " extracting: dataset/labels/train/img1169.txt  \n",
            " extracting: dataset/labels/train/img117.txt  \n",
            " extracting: dataset/labels/train/img1171.txt  \n",
            " extracting: dataset/labels/train/img1172.txt  \n",
            " extracting: dataset/labels/train/img1173.txt  \n",
            " extracting: dataset/labels/train/img1175.txt  \n",
            " extracting: dataset/labels/train/img1176.txt  \n",
            " extracting: dataset/labels/train/img1177.txt  \n",
            " extracting: dataset/labels/train/img1178.txt  \n",
            " extracting: dataset/labels/train/img1179.txt  \n",
            " extracting: dataset/labels/train/img118.txt  \n",
            " extracting: dataset/labels/train/img1181.txt  \n",
            " extracting: dataset/labels/train/img1182.txt  \n",
            " extracting: dataset/labels/train/img1184.txt  \n",
            " extracting: dataset/labels/train/img1185.txt  \n",
            " extracting: dataset/labels/train/img1187.txt  \n",
            " extracting: dataset/labels/train/img1189.txt  \n",
            " extracting: dataset/labels/train/img119.txt  \n",
            " extracting: dataset/labels/train/img1190.txt  \n",
            " extracting: dataset/labels/train/img1191.txt  \n",
            " extracting: dataset/labels/train/img1192.txt  \n",
            " extracting: dataset/labels/train/img1193.txt  \n",
            " extracting: dataset/labels/train/img1194.txt  \n",
            " extracting: dataset/labels/train/img1195.txt  \n",
            " extracting: dataset/labels/train/img1197.txt  \n",
            " extracting: dataset/labels/train/img1199.txt  \n",
            " extracting: dataset/labels/train/img12.txt  \n",
            " extracting: dataset/labels/train/img120.txt  \n",
            " extracting: dataset/labels/train/img1200.txt  \n",
            " extracting: dataset/labels/train/img1201.txt  \n",
            " extracting: dataset/labels/train/img1202.txt  \n",
            " extracting: dataset/labels/train/img1203.txt  \n",
            " extracting: dataset/labels/train/img1204.txt  \n",
            " extracting: dataset/labels/train/img1205.txt  \n",
            " extracting: dataset/labels/train/img1206.txt  \n",
            " extracting: dataset/labels/train/img1207.txt  \n",
            " extracting: dataset/labels/train/img1208.txt  \n",
            " extracting: dataset/labels/train/img1209.txt  \n",
            " extracting: dataset/labels/train/img121.txt  \n",
            " extracting: dataset/labels/train/img1210.txt  \n",
            "  inflating: dataset/labels/train/img1211.txt  \n",
            "  inflating: dataset/labels/train/img1212.txt  \n",
            " extracting: dataset/labels/train/img1213.txt  \n",
            " extracting: dataset/labels/train/img1214.txt  \n",
            " extracting: dataset/labels/train/img1215.txt  \n",
            "  inflating: dataset/labels/train/img1216.txt  \n",
            "  inflating: dataset/labels/train/img1219.txt  \n",
            " extracting: dataset/labels/train/img122.txt  \n",
            "  inflating: dataset/labels/train/img1220.txt  \n",
            " extracting: dataset/labels/train/img1221.txt  \n",
            " extracting: dataset/labels/train/img1222.txt  \n",
            "  inflating: dataset/labels/train/img1223.txt  \n",
            " extracting: dataset/labels/train/img1224.txt  \n",
            " extracting: dataset/labels/train/img1225.txt  \n",
            "  inflating: dataset/labels/train/img1226.txt  \n",
            "  inflating: dataset/labels/train/img1227.txt  \n",
            " extracting: dataset/labels/train/img1229.txt  \n",
            " extracting: dataset/labels/train/img123.txt  \n",
            "  inflating: dataset/labels/train/img1230.txt  \n",
            "  inflating: dataset/labels/train/img1231.txt  \n",
            "  inflating: dataset/labels/train/img1232.txt  \n",
            "  inflating: dataset/labels/train/img1233.txt  \n",
            "  inflating: dataset/labels/train/img1234.txt  \n",
            "  inflating: dataset/labels/train/img1235.txt  \n",
            "  inflating: dataset/labels/train/img1237.txt  \n",
            " extracting: dataset/labels/train/img1238.txt  \n",
            "  inflating: dataset/labels/train/img1239.txt  \n",
            " extracting: dataset/labels/train/img124.txt  \n",
            "  inflating: dataset/labels/train/img1240.txt  \n",
            " extracting: dataset/labels/train/img1241.txt  \n",
            " extracting: dataset/labels/train/img1242.txt  \n",
            "  inflating: dataset/labels/train/img1243.txt  \n",
            "  inflating: dataset/labels/train/img1244.txt  \n",
            "  inflating: dataset/labels/train/img1245.txt  \n",
            "  inflating: dataset/labels/train/img1246.txt  \n",
            " extracting: dataset/labels/train/img1248.txt  \n",
            " extracting: dataset/labels/train/img1249.txt  \n",
            "  inflating: dataset/labels/train/img1250.txt  \n",
            " extracting: dataset/labels/train/img1251.txt  \n",
            " extracting: dataset/labels/train/img1252.txt  \n",
            "  inflating: dataset/labels/train/img1253.txt  \n",
            "  inflating: dataset/labels/train/img1255.txt  \n",
            " extracting: dataset/labels/train/img1256.txt  \n",
            " extracting: dataset/labels/train/img1257.txt  \n",
            "  inflating: dataset/labels/train/img1258.txt  \n",
            " extracting: dataset/labels/train/img126.txt  \n",
            "  inflating: dataset/labels/train/img1260.txt  \n",
            "  inflating: dataset/labels/train/img1261.txt  \n",
            " extracting: dataset/labels/train/img1262.txt  \n",
            "  inflating: dataset/labels/train/img1263.txt  \n",
            "  inflating: dataset/labels/train/img1264.txt  \n",
            "  inflating: dataset/labels/train/img1265.txt  \n",
            "  inflating: dataset/labels/train/img1266.txt  \n",
            " extracting: dataset/labels/train/img1268.txt  \n",
            "  inflating: dataset/labels/train/img1269.txt  \n",
            "  inflating: dataset/labels/train/img1271.txt  \n",
            "  inflating: dataset/labels/train/img1272.txt  \n",
            " extracting: dataset/labels/train/img1273.txt  \n",
            "  inflating: dataset/labels/train/img1274.txt  \n",
            " extracting: dataset/labels/train/img1276.txt  \n",
            "  inflating: dataset/labels/train/img1277.txt  \n",
            "  inflating: dataset/labels/train/img1278.txt  \n",
            "  inflating: dataset/labels/train/img1279.txt  \n",
            "  inflating: dataset/labels/train/img1280.txt  \n",
            " extracting: dataset/labels/train/img1281.txt  \n",
            " extracting: dataset/labels/train/img1282.txt  \n",
            "  inflating: dataset/labels/train/img1284.txt  \n",
            "  inflating: dataset/labels/train/img1285.txt  \n",
            "  inflating: dataset/labels/train/img1286.txt  \n",
            "  inflating: dataset/labels/train/img1287.txt  \n",
            "  inflating: dataset/labels/train/img1288.txt  \n",
            "  inflating: dataset/labels/train/img1289.txt  \n",
            " extracting: dataset/labels/train/img129.txt  \n",
            "  inflating: dataset/labels/train/img1290.txt  \n",
            "  inflating: dataset/labels/train/img1291.txt  \n",
            "  inflating: dataset/labels/train/img1293.txt  \n",
            "  inflating: dataset/labels/train/img1294.txt  \n",
            " extracting: dataset/labels/train/img1295.txt  \n",
            "  inflating: dataset/labels/train/img1296.txt  \n",
            "  inflating: dataset/labels/train/img1297.txt  \n",
            " extracting: dataset/labels/train/img1298.txt  \n",
            " extracting: dataset/labels/train/img1299.txt  \n",
            "  inflating: dataset/labels/train/img1301.txt  \n",
            "  inflating: dataset/labels/train/img1302.txt  \n",
            "  inflating: dataset/labels/train/img1303.txt  \n",
            "  inflating: dataset/labels/train/img1304.txt  \n",
            "  inflating: dataset/labels/train/img1305.txt  \n",
            "  inflating: dataset/labels/train/img1306.txt  \n",
            "  inflating: dataset/labels/train/img1307.txt  \n",
            " extracting: dataset/labels/train/img1308.txt  \n",
            "  inflating: dataset/labels/train/img1309.txt  \n",
            " extracting: dataset/labels/train/img131.txt  \n",
            "  inflating: dataset/labels/train/img1310.txt  \n",
            " extracting: dataset/labels/train/img1312.txt  \n",
            "  inflating: dataset/labels/train/img1313.txt  \n",
            " extracting: dataset/labels/train/img1315.txt  \n",
            " extracting: dataset/labels/train/img1316.txt  \n",
            "  inflating: dataset/labels/train/img1317.txt  \n",
            " extracting: dataset/labels/train/img1318.txt  \n",
            " extracting: dataset/labels/train/img1319.txt  \n",
            " extracting: dataset/labels/train/img1320.txt  \n",
            "  inflating: dataset/labels/train/img1321.txt  \n",
            "  inflating: dataset/labels/train/img1327.txt  \n",
            "  inflating: dataset/labels/train/img1328.txt  \n",
            "  inflating: dataset/labels/train/img1330.txt  \n",
            "  inflating: dataset/labels/train/img1331.txt  \n",
            " extracting: dataset/labels/train/img1332.txt  \n",
            " extracting: dataset/labels/train/img1333.txt  \n",
            "  inflating: dataset/labels/train/img1335.txt  \n",
            "  inflating: dataset/labels/train/img1336.txt  \n",
            " extracting: dataset/labels/train/img1337.txt  \n",
            "  inflating: dataset/labels/train/img1338.txt  \n",
            " extracting: dataset/labels/train/img134.txt  \n",
            "  inflating: dataset/labels/train/img1342.txt  \n",
            "  inflating: dataset/labels/train/img1343.txt  \n",
            "  inflating: dataset/labels/train/img1344.txt  \n",
            "  inflating: dataset/labels/train/img1345.txt  \n",
            " extracting: dataset/labels/train/img1346.txt  \n",
            "  inflating: dataset/labels/train/img1348.txt  \n",
            " extracting: dataset/labels/train/img1349.txt  \n",
            " extracting: dataset/labels/train/img135.txt  \n",
            "  inflating: dataset/labels/train/img1351.txt  \n",
            "  inflating: dataset/labels/train/img1352.txt  \n",
            " extracting: dataset/labels/train/img1353.txt  \n",
            "  inflating: dataset/labels/train/img1354.txt  \n",
            "  inflating: dataset/labels/train/img1356.txt  \n",
            "  inflating: dataset/labels/train/img1357.txt  \n",
            " extracting: dataset/labels/train/img1358.txt  \n",
            " extracting: dataset/labels/train/img136.txt  \n",
            " extracting: dataset/labels/train/img1360.txt  \n",
            "  inflating: dataset/labels/train/img1363.txt  \n",
            "  inflating: dataset/labels/train/img1365.txt  \n",
            " extracting: dataset/labels/train/img1366.txt  \n",
            "  inflating: dataset/labels/train/img1367.txt  \n",
            "  inflating: dataset/labels/train/img1369.txt  \n",
            " extracting: dataset/labels/train/img137.txt  \n",
            "  inflating: dataset/labels/train/img1370.txt  \n",
            "  inflating: dataset/labels/train/img1371.txt  \n",
            "  inflating: dataset/labels/train/img1372.txt  \n",
            " extracting: dataset/labels/train/img1374.txt  \n",
            "  inflating: dataset/labels/train/img1376.txt  \n",
            "  inflating: dataset/labels/train/img1377.txt  \n",
            "  inflating: dataset/labels/train/img1379.txt  \n",
            " extracting: dataset/labels/train/img138.txt  \n",
            "  inflating: dataset/labels/train/img1380.txt  \n",
            " extracting: dataset/labels/train/img1381.txt  \n",
            " extracting: dataset/labels/train/img1382.txt  \n",
            " extracting: dataset/labels/train/img1383.txt  \n",
            " extracting: dataset/labels/train/img1384.txt  \n",
            "  inflating: dataset/labels/train/img1385.txt  \n",
            "  inflating: dataset/labels/train/img1386.txt  \n",
            "  inflating: dataset/labels/train/img1389.txt  \n",
            " extracting: dataset/labels/train/img139.txt  \n",
            "  inflating: dataset/labels/train/img1390.txt  \n",
            "  inflating: dataset/labels/train/img1391.txt  \n",
            " extracting: dataset/labels/train/img1393.txt  \n",
            "  inflating: dataset/labels/train/img1394.txt  \n",
            "  inflating: dataset/labels/train/img1395.txt  \n",
            " extracting: dataset/labels/train/img1397.txt  \n",
            "  inflating: dataset/labels/train/img1398.txt  \n",
            " extracting: dataset/labels/train/img140.txt  \n",
            "  inflating: dataset/labels/train/img1400.txt  \n",
            " extracting: dataset/labels/train/img1401.txt  \n",
            "  inflating: dataset/labels/train/img1403.txt  \n",
            "  inflating: dataset/labels/train/img1404.txt  \n",
            "  inflating: dataset/labels/train/img1405.txt  \n",
            "  inflating: dataset/labels/train/img1407.txt  \n",
            "  inflating: dataset/labels/train/img1408.txt  \n",
            "  inflating: dataset/labels/train/img1409.txt  \n",
            " extracting: dataset/labels/train/img1412.txt  \n",
            " extracting: dataset/labels/train/img1416.txt  \n",
            " extracting: dataset/labels/train/img1417.txt  \n",
            " extracting: dataset/labels/train/img1418.txt  \n",
            " extracting: dataset/labels/train/img1419.txt  \n",
            " extracting: dataset/labels/train/img142.txt  \n",
            " extracting: dataset/labels/train/img1420.txt  \n",
            " extracting: dataset/labels/train/img1421.txt  \n",
            " extracting: dataset/labels/train/img1422.txt  \n",
            " extracting: dataset/labels/train/img1423.txt  \n",
            " extracting: dataset/labels/train/img1424.txt  \n",
            " extracting: dataset/labels/train/img1425.txt  \n",
            " extracting: dataset/labels/train/img1426.txt  \n",
            " extracting: dataset/labels/train/img1427.txt  \n",
            " extracting: dataset/labels/train/img1428.txt  \n",
            " extracting: dataset/labels/train/img1429.txt  \n",
            " extracting: dataset/labels/train/img143.txt  \n",
            " extracting: dataset/labels/train/img1431.txt  \n",
            " extracting: dataset/labels/train/img1432.txt  \n",
            " extracting: dataset/labels/train/img1433.txt  \n",
            " extracting: dataset/labels/train/img1434.txt  \n",
            " extracting: dataset/labels/train/img1435.txt  \n",
            " extracting: dataset/labels/train/img1436.txt  \n",
            " extracting: dataset/labels/train/img1437.txt  \n",
            " extracting: dataset/labels/train/img144.txt  \n",
            " extracting: dataset/labels/train/img1441.txt  \n",
            " extracting: dataset/labels/train/img1442.txt  \n",
            " extracting: dataset/labels/train/img1443.txt  \n",
            " extracting: dataset/labels/train/img1444.txt  \n",
            " extracting: dataset/labels/train/img1445.txt  \n",
            " extracting: dataset/labels/train/img1446.txt  \n",
            " extracting: dataset/labels/train/img1447.txt  \n",
            " extracting: dataset/labels/train/img1448.txt  \n",
            " extracting: dataset/labels/train/img1449.txt  \n",
            " extracting: dataset/labels/train/img1450.txt  \n",
            " extracting: dataset/labels/train/img1451.txt  \n",
            " extracting: dataset/labels/train/img1453.txt  \n",
            " extracting: dataset/labels/train/img1454.txt  \n",
            " extracting: dataset/labels/train/img1456.txt  \n",
            " extracting: dataset/labels/train/img1457.txt  \n",
            " extracting: dataset/labels/train/img1458.txt  \n",
            " extracting: dataset/labels/train/img146.txt  \n",
            " extracting: dataset/labels/train/img1460.txt  \n",
            " extracting: dataset/labels/train/img1461.txt  \n",
            " extracting: dataset/labels/train/img1462.txt  \n",
            " extracting: dataset/labels/train/img1463.txt  \n",
            " extracting: dataset/labels/train/img1464.txt  \n",
            " extracting: dataset/labels/train/img1465.txt  \n",
            " extracting: dataset/labels/train/img1466.txt  \n",
            " extracting: dataset/labels/train/img1468.txt  \n",
            " extracting: dataset/labels/train/img1469.txt  \n",
            " extracting: dataset/labels/train/img147.txt  \n",
            " extracting: dataset/labels/train/img1470.txt  \n",
            " extracting: dataset/labels/train/img1471.txt  \n",
            " extracting: dataset/labels/train/img1472.txt  \n",
            " extracting: dataset/labels/train/img1473.txt  \n",
            " extracting: dataset/labels/train/img1475.txt  \n",
            " extracting: dataset/labels/train/img1476.txt  \n",
            "  inflating: dataset/labels/train/img1477.txt  \n",
            " extracting: dataset/labels/train/img1478.txt  \n",
            "  inflating: dataset/labels/train/img1479.txt  \n",
            " extracting: dataset/labels/train/img1480.txt  \n",
            "  inflating: dataset/labels/train/img1481.txt  \n",
            "  inflating: dataset/labels/train/img1482.txt  \n",
            "  inflating: dataset/labels/train/img1483.txt  \n",
            " extracting: dataset/labels/train/img1484.txt  \n",
            " extracting: dataset/labels/train/img1485.txt  \n",
            " extracting: dataset/labels/train/img1486.txt  \n",
            " extracting: dataset/labels/train/img1487.txt  \n",
            " extracting: dataset/labels/train/img1488.txt  \n",
            " extracting: dataset/labels/train/img1489.txt  \n",
            " extracting: dataset/labels/train/img149.txt  \n",
            " extracting: dataset/labels/train/img1490.txt  \n",
            " extracting: dataset/labels/train/img1491.txt  \n",
            " extracting: dataset/labels/train/img1492.txt  \n",
            " extracting: dataset/labels/train/img1493.txt  \n",
            " extracting: dataset/labels/train/img1494.txt  \n",
            " extracting: dataset/labels/train/img1495.txt  \n",
            " extracting: dataset/labels/train/img1496.txt  \n",
            " extracting: dataset/labels/train/img1497.txt  \n",
            " extracting: dataset/labels/train/img1498.txt  \n",
            " extracting: dataset/labels/train/img1499.txt  \n",
            " extracting: dataset/labels/train/img150.txt  \n",
            " extracting: dataset/labels/train/img1500.txt  \n",
            "  inflating: dataset/labels/train/img1501.txt  \n",
            " extracting: dataset/labels/train/img1502.txt  \n",
            " extracting: dataset/labels/train/img1503.txt  \n",
            "  inflating: dataset/labels/train/img1504.txt  \n",
            " extracting: dataset/labels/train/img1506.txt  \n",
            "  inflating: dataset/labels/train/img1507.txt  \n",
            " extracting: dataset/labels/train/img1508.txt  \n",
            " extracting: dataset/labels/train/img1509.txt  \n",
            " extracting: dataset/labels/train/img151.txt  \n",
            "  inflating: dataset/labels/train/img1510.txt  \n",
            "  inflating: dataset/labels/train/img1511.txt  \n",
            " extracting: dataset/labels/train/img1512.txt  \n",
            " extracting: dataset/labels/train/img1513.txt  \n",
            " extracting: dataset/labels/train/img1514.txt  \n",
            "  inflating: dataset/labels/train/img1515.txt  \n",
            "  inflating: dataset/labels/train/img1516.txt  \n",
            " extracting: dataset/labels/train/img1517.txt  \n",
            " extracting: dataset/labels/train/img1518.txt  \n",
            " extracting: dataset/labels/train/img152.txt  \n",
            "  inflating: dataset/labels/train/img1521.txt  \n",
            " extracting: dataset/labels/train/img1522.txt  \n",
            " extracting: dataset/labels/train/img1523.txt  \n",
            "  inflating: dataset/labels/train/img1524.txt  \n",
            "  inflating: dataset/labels/train/img1525.txt  \n",
            " extracting: dataset/labels/train/img1528.txt  \n",
            " extracting: dataset/labels/train/img1529.txt  \n",
            " extracting: dataset/labels/train/img153.txt  \n",
            " extracting: dataset/labels/train/img1531.txt  \n",
            " extracting: dataset/labels/train/img1532.txt  \n",
            " extracting: dataset/labels/train/img1533.txt  \n",
            "  inflating: dataset/labels/train/img1535.txt  \n",
            " extracting: dataset/labels/train/img1536.txt  \n",
            " extracting: dataset/labels/train/img1537.txt  \n",
            "  inflating: dataset/labels/train/img1539.txt  \n",
            " extracting: dataset/labels/train/img154.txt  \n",
            " extracting: dataset/labels/train/img1540.txt  \n",
            "  inflating: dataset/labels/train/img1545.txt  \n",
            "  inflating: dataset/labels/train/img1546.txt  \n",
            "  inflating: dataset/labels/train/img1547.txt  \n",
            "  inflating: dataset/labels/train/img1548.txt  \n",
            " extracting: dataset/labels/train/img1549.txt  \n",
            " extracting: dataset/labels/train/img155.txt  \n",
            "  inflating: dataset/labels/train/img1550.txt  \n",
            " extracting: dataset/labels/train/img1551.txt  \n",
            "  inflating: dataset/labels/train/img1552.txt  \n",
            " extracting: dataset/labels/train/img1553.txt  \n",
            "  inflating: dataset/labels/train/img1554.txt  \n",
            " extracting: dataset/labels/train/img1555.txt  \n",
            "  inflating: dataset/labels/train/img1556.txt  \n",
            "  inflating: dataset/labels/train/img1559.txt  \n",
            " extracting: dataset/labels/train/img156.txt  \n",
            " extracting: dataset/labels/train/img1560.txt  \n",
            "  inflating: dataset/labels/train/img1561.txt  \n",
            "  inflating: dataset/labels/train/img1562.txt  \n",
            "  inflating: dataset/labels/train/img1564.txt  \n",
            " extracting: dataset/labels/train/img1565.txt  \n",
            " extracting: dataset/labels/train/img1566.txt  \n",
            " extracting: dataset/labels/train/img1569.txt  \n",
            " extracting: dataset/labels/train/img157.txt  \n",
            " extracting: dataset/labels/train/img1570.txt  \n",
            " extracting: dataset/labels/train/img1572.txt  \n",
            " extracting: dataset/labels/train/img1574.txt  \n",
            " extracting: dataset/labels/train/img1575.txt  \n",
            " extracting: dataset/labels/train/img1576.txt  \n",
            " extracting: dataset/labels/train/img1577.txt  \n",
            " extracting: dataset/labels/train/img1578.txt  \n",
            " extracting: dataset/labels/train/img158.txt  \n",
            " extracting: dataset/labels/train/img1580.txt  \n",
            " extracting: dataset/labels/train/img1581.txt  \n",
            " extracting: dataset/labels/train/img1582.txt  \n",
            " extracting: dataset/labels/train/img1583.txt  \n",
            " extracting: dataset/labels/train/img1585.txt  \n",
            " extracting: dataset/labels/train/img1586.txt  \n",
            " extracting: dataset/labels/train/img1587.txt  \n",
            " extracting: dataset/labels/train/img1589.txt  \n",
            " extracting: dataset/labels/train/img159.txt  \n",
            " extracting: dataset/labels/train/img1590.txt  \n",
            " extracting: dataset/labels/train/img1591.txt  \n",
            " extracting: dataset/labels/train/img1592.txt  \n",
            " extracting: dataset/labels/train/img1593.txt  \n",
            " extracting: dataset/labels/train/img1594.txt  \n",
            " extracting: dataset/labels/train/img1596.txt  \n",
            " extracting: dataset/labels/train/img1597.txt  \n",
            " extracting: dataset/labels/train/img1598.txt  \n",
            " extracting: dataset/labels/train/img16.txt  \n",
            " extracting: dataset/labels/train/img160.txt  \n",
            " extracting: dataset/labels/train/img1601.txt  \n",
            " extracting: dataset/labels/train/img1602.txt  \n",
            " extracting: dataset/labels/train/img1603.txt  \n",
            " extracting: dataset/labels/train/img1604.txt  \n",
            " extracting: dataset/labels/train/img1605.txt  \n",
            " extracting: dataset/labels/train/img1606.txt  \n",
            " extracting: dataset/labels/train/img1608.txt  \n",
            " extracting: dataset/labels/train/img1609.txt  \n",
            " extracting: dataset/labels/train/img161.txt  \n",
            " extracting: dataset/labels/train/img1610.txt  \n",
            " extracting: dataset/labels/train/img1611.txt  \n",
            " extracting: dataset/labels/train/img1612.txt  \n",
            " extracting: dataset/labels/train/img1613.txt  \n",
            "  inflating: dataset/labels/train/img1614.txt  \n",
            " extracting: dataset/labels/train/img1615.txt  \n",
            " extracting: dataset/labels/train/img1616.txt  \n",
            " extracting: dataset/labels/train/img1618.txt  \n",
            " extracting: dataset/labels/train/img1619.txt  \n",
            " extracting: dataset/labels/train/img162.txt  \n",
            " extracting: dataset/labels/train/img1620.txt  \n",
            " extracting: dataset/labels/train/img1622.txt  \n",
            " extracting: dataset/labels/train/img1623.txt  \n",
            " extracting: dataset/labels/train/img1624.txt  \n",
            " extracting: dataset/labels/train/img1625.txt  \n",
            " extracting: dataset/labels/train/img1626.txt  \n",
            " extracting: dataset/labels/train/img1627.txt  \n",
            " extracting: dataset/labels/train/img1628.txt  \n",
            " extracting: dataset/labels/train/img1629.txt  \n",
            " extracting: dataset/labels/train/img163.txt  \n",
            " extracting: dataset/labels/train/img1630.txt  \n",
            " extracting: dataset/labels/train/img1631.txt  \n",
            " extracting: dataset/labels/train/img1632.txt  \n",
            " extracting: dataset/labels/train/img1633.txt  \n",
            "  inflating: dataset/labels/train/img1635.txt  \n",
            " extracting: dataset/labels/train/img1636.txt  \n",
            "  inflating: dataset/labels/train/img1638.txt  \n",
            " extracting: dataset/labels/train/img1639.txt  \n",
            "  inflating: dataset/labels/train/img164.txt  \n",
            " extracting: dataset/labels/train/img1640.txt  \n",
            "  inflating: dataset/labels/train/img1641.txt  \n",
            "  inflating: dataset/labels/train/img1642.txt  \n",
            "  inflating: dataset/labels/train/img1643.txt  \n",
            " extracting: dataset/labels/train/img1644.txt  \n",
            " extracting: dataset/labels/train/img1645.txt  \n",
            " extracting: dataset/labels/train/img1646.txt  \n",
            " extracting: dataset/labels/train/img1648.txt  \n",
            "  inflating: dataset/labels/train/img1649.txt  \n",
            " extracting: dataset/labels/train/img1651.txt  \n",
            " extracting: dataset/labels/train/img1653.txt  \n",
            "  inflating: dataset/labels/train/img1655.txt  \n",
            "  inflating: dataset/labels/train/img1656.txt  \n",
            " extracting: dataset/labels/train/img1657.txt  \n",
            " extracting: dataset/labels/train/img1658.txt  \n",
            " extracting: dataset/labels/train/img1660.txt  \n",
            " extracting: dataset/labels/train/img1661.txt  \n",
            " extracting: dataset/labels/train/img1663.txt  \n",
            " extracting: dataset/labels/train/img1664.txt  \n",
            " extracting: dataset/labels/train/img1665.txt  \n",
            " extracting: dataset/labels/train/img1667.txt  \n",
            " extracting: dataset/labels/train/img1668.txt  \n",
            " extracting: dataset/labels/train/img1669.txt  \n",
            "  inflating: dataset/labels/train/img167.txt  \n",
            " extracting: dataset/labels/train/img1671.txt  \n",
            " extracting: dataset/labels/train/img1672.txt  \n",
            " extracting: dataset/labels/train/img1673.txt  \n",
            " extracting: dataset/labels/train/img1674.txt  \n",
            " extracting: dataset/labels/train/img1676.txt  \n",
            " extracting: dataset/labels/train/img1677.txt  \n",
            " extracting: dataset/labels/train/img1679.txt  \n",
            " extracting: dataset/labels/train/img168.txt  \n",
            " extracting: dataset/labels/train/img1680.txt  \n",
            " extracting: dataset/labels/train/img1681.txt  \n",
            " extracting: dataset/labels/train/img1682.txt  \n",
            " extracting: dataset/labels/train/img1683.txt  \n",
            " extracting: dataset/labels/train/img1684.txt  \n",
            " extracting: dataset/labels/train/img1686.txt  \n",
            " extracting: dataset/labels/train/img1687.txt  \n",
            " extracting: dataset/labels/train/img1688.txt  \n",
            " extracting: dataset/labels/train/img1689.txt  \n",
            "  inflating: dataset/labels/train/img169.txt  \n",
            " extracting: dataset/labels/train/img1690.txt  \n",
            " extracting: dataset/labels/train/img1691.txt  \n",
            " extracting: dataset/labels/train/img1692.txt  \n",
            " extracting: dataset/labels/train/img1693.txt  \n",
            " extracting: dataset/labels/train/img1694.txt  \n",
            " extracting: dataset/labels/train/img1696.txt  \n",
            "  inflating: dataset/labels/train/img1697.txt  \n",
            "  inflating: dataset/labels/train/img17.txt  \n",
            " extracting: dataset/labels/train/img1700.txt  \n",
            " extracting: dataset/labels/train/img1701.txt  \n",
            " extracting: dataset/labels/train/img1703.txt  \n",
            " extracting: dataset/labels/train/img1705.txt  \n",
            " extracting: dataset/labels/train/img1706.txt  \n",
            " extracting: dataset/labels/train/img1708.txt  \n",
            " extracting: dataset/labels/train/img1709.txt  \n",
            "  inflating: dataset/labels/train/img171.txt  \n",
            " extracting: dataset/labels/train/img1712.txt  \n",
            " extracting: dataset/labels/train/img1713.txt  \n",
            " extracting: dataset/labels/train/img1716.txt  \n",
            " extracting: dataset/labels/train/img1718.txt  \n",
            "  inflating: dataset/labels/train/img172.txt  \n",
            " extracting: dataset/labels/train/img1720.txt  \n",
            " extracting: dataset/labels/train/img1721.txt  \n",
            " extracting: dataset/labels/train/img1722.txt  \n",
            " extracting: dataset/labels/train/img1723.txt  \n",
            " extracting: dataset/labels/train/img1724.txt  \n",
            " extracting: dataset/labels/train/img1725.txt  \n",
            " extracting: dataset/labels/train/img1727.txt  \n",
            "  inflating: dataset/labels/train/img1728.txt  \n",
            " extracting: dataset/labels/train/img1730.txt  \n",
            " extracting: dataset/labels/train/img1731.txt  \n",
            " extracting: dataset/labels/train/img1733.txt  \n",
            " extracting: dataset/labels/train/img1734.txt  \n",
            " extracting: dataset/labels/train/img1735.txt  \n",
            "  inflating: dataset/labels/train/img1737.txt  \n",
            " extracting: dataset/labels/train/img1738.txt  \n",
            " extracting: dataset/labels/train/img1739.txt  \n",
            " extracting: dataset/labels/train/img174.txt  \n",
            " extracting: dataset/labels/train/img1741.txt  \n",
            " extracting: dataset/labels/train/img1743.txt  \n",
            " extracting: dataset/labels/train/img1744.txt  \n",
            " extracting: dataset/labels/train/img1745.txt  \n",
            " extracting: dataset/labels/train/img1747.txt  \n",
            " extracting: dataset/labels/train/img1749.txt  \n",
            "  inflating: dataset/labels/train/img175.txt  \n",
            " extracting: dataset/labels/train/img1750.txt  \n",
            " extracting: dataset/labels/train/img1751.txt  \n",
            " extracting: dataset/labels/train/img1752.txt  \n",
            " extracting: dataset/labels/train/img1753.txt  \n",
            " extracting: dataset/labels/train/img1754.txt  \n",
            " extracting: dataset/labels/train/img1755.txt  \n",
            " extracting: dataset/labels/train/img1756.txt  \n",
            "  inflating: dataset/labels/train/img1758.txt  \n",
            " extracting: dataset/labels/train/img176.txt  \n",
            "  inflating: dataset/labels/train/img1760.txt  \n",
            "  inflating: dataset/labels/train/img1761.txt  \n",
            "  inflating: dataset/labels/train/img1762.txt  \n",
            "  inflating: dataset/labels/train/img1763.txt  \n",
            "  inflating: dataset/labels/train/img1764.txt  \n",
            "  inflating: dataset/labels/train/img1765.txt  \n",
            "  inflating: dataset/labels/train/img1767.txt  \n",
            "  inflating: dataset/labels/train/img1768.txt  \n",
            "  inflating: dataset/labels/train/img1769.txt  \n",
            " extracting: dataset/labels/train/img177.txt  \n",
            "  inflating: dataset/labels/train/img1772.txt  \n",
            "  inflating: dataset/labels/train/img1773.txt  \n",
            "  inflating: dataset/labels/train/img1774.txt  \n",
            "  inflating: dataset/labels/train/img1775.txt  \n",
            "  inflating: dataset/labels/train/img1776.txt  \n",
            "  inflating: dataset/labels/train/img1777.txt  \n",
            "  inflating: dataset/labels/train/img1779.txt  \n",
            " extracting: dataset/labels/train/img1780.txt  \n",
            "  inflating: dataset/labels/train/img1781.txt  \n",
            "  inflating: dataset/labels/train/img1782.txt  \n",
            "  inflating: dataset/labels/train/img1784.txt  \n",
            "  inflating: dataset/labels/train/img1785.txt  \n",
            " extracting: dataset/labels/train/img1786.txt  \n",
            " extracting: dataset/labels/train/img1787.txt  \n",
            "  inflating: dataset/labels/train/img1788.txt  \n",
            "  inflating: dataset/labels/train/img1789.txt  \n",
            "  inflating: dataset/labels/train/img1790.txt  \n",
            "  inflating: dataset/labels/train/img1791.txt  \n",
            "  inflating: dataset/labels/train/img1793.txt  \n",
            "  inflating: dataset/labels/train/img1797.txt  \n",
            "  inflating: dataset/labels/train/img1798.txt  \n",
            "  inflating: dataset/labels/train/img1799.txt  \n",
            "  inflating: dataset/labels/train/img18.txt  \n",
            "  inflating: dataset/labels/train/img180.txt  \n",
            "  inflating: dataset/labels/train/img1800.txt  \n",
            "  inflating: dataset/labels/train/img1803.txt  \n",
            "  inflating: dataset/labels/train/img1804.txt  \n",
            "  inflating: dataset/labels/train/img1806.txt  \n",
            "  inflating: dataset/labels/train/img1807.txt  \n",
            "  inflating: dataset/labels/train/img1808.txt  \n",
            "  inflating: dataset/labels/train/img1809.txt  \n",
            "  inflating: dataset/labels/train/img181.txt  \n",
            " extracting: dataset/labels/train/img1810.txt  \n",
            " extracting: dataset/labels/train/img1811.txt  \n",
            "  inflating: dataset/labels/train/img1812.txt  \n",
            "  inflating: dataset/labels/train/img1815.txt  \n",
            "  inflating: dataset/labels/train/img1816.txt  \n",
            "  inflating: dataset/labels/train/img1817.txt  \n",
            "  inflating: dataset/labels/train/img1820.txt  \n",
            " extracting: dataset/labels/train/img1822.txt  \n",
            "  inflating: dataset/labels/train/img1823.txt  \n",
            "  inflating: dataset/labels/train/img1824.txt  \n",
            " extracting: dataset/labels/train/img1826.txt  \n",
            "  inflating: dataset/labels/train/img1827.txt  \n",
            "  inflating: dataset/labels/train/img1829.txt  \n",
            "  inflating: dataset/labels/train/img183.txt  \n",
            " extracting: dataset/labels/train/img1830.txt  \n",
            "  inflating: dataset/labels/train/img1831.txt  \n",
            "  inflating: dataset/labels/train/img1832.txt  \n",
            "  inflating: dataset/labels/train/img1833.txt  \n",
            "  inflating: dataset/labels/train/img1834.txt  \n",
            " extracting: dataset/labels/train/img1835.txt  \n",
            "  inflating: dataset/labels/train/img1836.txt  \n",
            "  inflating: dataset/labels/train/img1838.txt  \n",
            "  inflating: dataset/labels/train/img1839.txt  \n",
            "  inflating: dataset/labels/train/img184.txt  \n",
            " extracting: dataset/labels/train/img1840.txt  \n",
            "  inflating: dataset/labels/train/img1842.txt  \n",
            " extracting: dataset/labels/train/img1843.txt  \n",
            "  inflating: dataset/labels/train/img1844.txt  \n",
            " extracting: dataset/labels/train/img1846.txt  \n",
            " extracting: dataset/labels/train/img1848.txt  \n",
            "  inflating: dataset/labels/train/img1849.txt  \n",
            " extracting: dataset/labels/train/img185.txt  \n",
            " extracting: dataset/labels/train/img1852.txt  \n",
            "  inflating: dataset/labels/train/img1853.txt  \n",
            " extracting: dataset/labels/train/img1855.txt  \n",
            " extracting: dataset/labels/train/img1856.txt  \n",
            " extracting: dataset/labels/train/img1858.txt  \n",
            " extracting: dataset/labels/train/img1859.txt  \n",
            " extracting: dataset/labels/train/img186.txt  \n",
            " extracting: dataset/labels/train/img1860.txt  \n",
            " extracting: dataset/labels/train/img1861.txt  \n",
            "  inflating: dataset/labels/train/img1862.txt  \n",
            "  inflating: dataset/labels/train/img1865.txt  \n",
            "  inflating: dataset/labels/train/img1866.txt  \n",
            "  inflating: dataset/labels/train/img1867.txt  \n",
            " extracting: dataset/labels/train/img1868.txt  \n",
            "  inflating: dataset/labels/train/img1869.txt  \n",
            "  inflating: dataset/labels/train/img187.txt  \n",
            " extracting: dataset/labels/train/img1870.txt  \n",
            "  inflating: dataset/labels/train/img1871.txt  \n",
            " extracting: dataset/labels/train/img1873.txt  \n",
            "  inflating: dataset/labels/train/img1874.txt  \n",
            "  inflating: dataset/labels/train/img1875.txt  \n",
            " extracting: dataset/labels/train/img1876.txt  \n",
            "  inflating: dataset/labels/train/img1877.txt  \n",
            "  inflating: dataset/labels/train/img1878.txt  \n",
            "  inflating: dataset/labels/train/img1879.txt  \n",
            " extracting: dataset/labels/train/img188.txt  \n",
            " extracting: dataset/labels/train/img1880.txt  \n",
            " extracting: dataset/labels/train/img1881.txt  \n",
            " extracting: dataset/labels/train/img1885.txt  \n",
            "  inflating: dataset/labels/train/img1887.txt  \n",
            "  inflating: dataset/labels/train/img1888.txt  \n",
            "  inflating: dataset/labels/train/img1889.txt  \n",
            "  inflating: dataset/labels/train/img1890.txt  \n",
            "  inflating: dataset/labels/train/img1891.txt  \n",
            " extracting: dataset/labels/train/img1892.txt  \n",
            "  inflating: dataset/labels/train/img1893.txt  \n",
            " extracting: dataset/labels/train/img1894.txt  \n",
            "  inflating: dataset/labels/train/img1895.txt  \n",
            " extracting: dataset/labels/train/img1896.txt  \n",
            " extracting: dataset/labels/train/img1897.txt  \n",
            "  inflating: dataset/labels/train/img1898.txt  \n",
            "  inflating: dataset/labels/train/img19.txt  \n",
            "  inflating: dataset/labels/train/img190.txt  \n",
            " extracting: dataset/labels/train/img1900.txt  \n",
            "  inflating: dataset/labels/train/img1902.txt  \n",
            "  inflating: dataset/labels/train/img1904.txt  \n",
            "  inflating: dataset/labels/train/img1905.txt  \n",
            "  inflating: dataset/labels/train/img1906.txt  \n",
            "  inflating: dataset/labels/train/img1907.txt  \n",
            "  inflating: dataset/labels/train/img1909.txt  \n",
            " extracting: dataset/labels/train/img191.txt  \n",
            "  inflating: dataset/labels/train/img1910.txt  \n",
            "  inflating: dataset/labels/train/img1911.txt  \n",
            "  inflating: dataset/labels/train/img1913.txt  \n",
            "  inflating: dataset/labels/train/img1915.txt  \n",
            " extracting: dataset/labels/train/img1916.txt  \n",
            " extracting: dataset/labels/train/img1919.txt  \n",
            "  inflating: dataset/labels/train/img192.txt  \n",
            " extracting: dataset/labels/train/img1920.txt  \n",
            " extracting: dataset/labels/train/img1921.txt  \n",
            " extracting: dataset/labels/train/img1923.txt  \n",
            "  inflating: dataset/labels/train/img1925.txt  \n",
            "  inflating: dataset/labels/train/img1926.txt  \n",
            "  inflating: dataset/labels/train/img1927.txt  \n",
            " extracting: dataset/labels/train/img1928.txt  \n",
            " extracting: dataset/labels/train/img1929.txt  \n",
            " extracting: dataset/labels/train/img193.txt  \n",
            " extracting: dataset/labels/train/img1931.txt  \n",
            " extracting: dataset/labels/train/img1932.txt  \n",
            " extracting: dataset/labels/train/img1933.txt  \n",
            " extracting: dataset/labels/train/img1934.txt  \n",
            " extracting: dataset/labels/train/img1935.txt  \n",
            " extracting: dataset/labels/train/img1936.txt  \n",
            " extracting: dataset/labels/train/img1937.txt  \n",
            "  inflating: dataset/labels/train/img1939.txt  \n",
            "  inflating: dataset/labels/train/img194.txt  \n",
            " extracting: dataset/labels/train/img1941.txt  \n",
            " extracting: dataset/labels/train/img1943.txt  \n",
            " extracting: dataset/labels/train/img1945.txt  \n",
            " extracting: dataset/labels/train/img1946.txt  \n",
            " extracting: dataset/labels/train/img1947.txt  \n",
            " extracting: dataset/labels/train/img1948.txt  \n",
            " extracting: dataset/labels/train/img1949.txt  \n",
            "  inflating: dataset/labels/train/img1951.txt  \n",
            " extracting: dataset/labels/train/img1952.txt  \n",
            "  inflating: dataset/labels/train/img1953.txt  \n",
            " extracting: dataset/labels/train/img1954.txt  \n",
            "  inflating: dataset/labels/train/img1955.txt  \n",
            " extracting: dataset/labels/train/img1957.txt  \n",
            " extracting: dataset/labels/train/img196.txt  \n",
            " extracting: dataset/labels/train/img1960.txt  \n",
            " extracting: dataset/labels/train/img1961.txt  \n",
            "  inflating: dataset/labels/train/img1965.txt  \n",
            " extracting: dataset/labels/train/img1966.txt  \n",
            " extracting: dataset/labels/train/img1968.txt  \n",
            "  inflating: dataset/labels/train/img1969.txt  \n",
            " extracting: dataset/labels/train/img197.txt  \n",
            "  inflating: dataset/labels/train/img1970.txt  \n",
            " extracting: dataset/labels/train/img1971.txt  \n",
            "  inflating: dataset/labels/train/img1972.txt  \n",
            "  inflating: dataset/labels/train/img1974.txt  \n",
            " extracting: dataset/labels/train/img1975.txt  \n",
            " extracting: dataset/labels/train/img1976.txt  \n",
            "  inflating: dataset/labels/train/img1977.txt  \n",
            "  inflating: dataset/labels/train/img1979.txt  \n",
            " extracting: dataset/labels/train/img198.txt  \n",
            "  inflating: dataset/labels/train/img1981.txt  \n",
            " extracting: dataset/labels/train/img1984.txt  \n",
            "  inflating: dataset/labels/train/img1985.txt  \n",
            "  inflating: dataset/labels/train/img1986.txt  \n",
            "  inflating: dataset/labels/train/img1987.txt  \n",
            " extracting: dataset/labels/train/img1988.txt  \n",
            " extracting: dataset/labels/train/img1989.txt  \n",
            "  inflating: dataset/labels/train/img199.txt  \n",
            " extracting: dataset/labels/train/img1990.txt  \n",
            "  inflating: dataset/labels/train/img1991.txt  \n",
            "  inflating: dataset/labels/train/img1992.txt  \n",
            " extracting: dataset/labels/train/img1994.txt  \n",
            "  inflating: dataset/labels/train/img1995.txt  \n",
            " extracting: dataset/labels/train/img1996.txt  \n",
            " extracting: dataset/labels/train/img1997.txt  \n",
            "  inflating: dataset/labels/train/img1998.txt  \n",
            " extracting: dataset/labels/train/img1999.txt  \n",
            "  inflating: dataset/labels/train/img2.txt  \n",
            " extracting: dataset/labels/train/img200.txt  \n",
            "  inflating: dataset/labels/train/img2000.txt  \n",
            " extracting: dataset/labels/train/img2002.txt  \n",
            " extracting: dataset/labels/train/img2003.txt  \n",
            " extracting: dataset/labels/train/img2004.txt  \n",
            " extracting: dataset/labels/train/img2006.txt  \n",
            " extracting: dataset/labels/train/img2007.txt  \n",
            " extracting: dataset/labels/train/img2009.txt  \n",
            " extracting: dataset/labels/train/img201.txt  \n",
            "  inflating: dataset/labels/train/img2010.txt  \n",
            "  inflating: dataset/labels/train/img2011.txt  \n",
            "  inflating: dataset/labels/train/img2013.txt  \n",
            "  inflating: dataset/labels/train/img2014.txt  \n",
            "  inflating: dataset/labels/train/img2015.txt  \n",
            " extracting: dataset/labels/train/img2016.txt  \n",
            "  inflating: dataset/labels/train/img2018.txt  \n",
            "  inflating: dataset/labels/train/img2019.txt  \n",
            " extracting: dataset/labels/train/img202.txt  \n",
            "  inflating: dataset/labels/train/img2020.txt  \n",
            "  inflating: dataset/labels/train/img2022.txt  \n",
            " extracting: dataset/labels/train/img2023.txt  \n",
            "  inflating: dataset/labels/train/img2024.txt  \n",
            "  inflating: dataset/labels/train/img2025.txt  \n",
            " extracting: dataset/labels/train/img2026.txt  \n",
            "  inflating: dataset/labels/train/img2028.txt  \n",
            "  inflating: dataset/labels/train/img2029.txt  \n",
            " extracting: dataset/labels/train/img203.txt  \n",
            "  inflating: dataset/labels/train/img2030.txt  \n",
            "  inflating: dataset/labels/train/img2032.txt  \n",
            "  inflating: dataset/labels/train/img2033.txt  \n",
            "  inflating: dataset/labels/train/img2034.txt  \n",
            "  inflating: dataset/labels/train/img2035.txt  \n",
            " extracting: dataset/labels/train/img2036.txt  \n",
            "  inflating: dataset/labels/train/img2037.txt  \n",
            "  inflating: dataset/labels/train/img2038.txt  \n",
            " extracting: dataset/labels/train/img204.txt  \n",
            "  inflating: dataset/labels/train/img2042.txt  \n",
            "  inflating: dataset/labels/train/img2043.txt  \n",
            " extracting: dataset/labels/train/img2044.txt  \n",
            "  inflating: dataset/labels/train/img2045.txt  \n",
            " extracting: dataset/labels/train/img2046.txt  \n",
            "  inflating: dataset/labels/train/img2047.txt  \n",
            "  inflating: dataset/labels/train/img2048.txt  \n",
            " extracting: dataset/labels/train/img205.txt  \n",
            "  inflating: dataset/labels/train/img2050.txt  \n",
            "  inflating: dataset/labels/train/img2052.txt  \n",
            "  inflating: dataset/labels/train/img2053.txt  \n",
            "  inflating: dataset/labels/train/img2056.txt  \n",
            "  inflating: dataset/labels/train/img2057.txt  \n",
            "  inflating: dataset/labels/train/img2059.txt  \n",
            "  inflating: dataset/labels/train/img206.txt  \n",
            "  inflating: dataset/labels/train/img2060.txt  \n",
            " extracting: dataset/labels/train/img2061.txt  \n",
            " extracting: dataset/labels/train/img2062.txt  \n",
            " extracting: dataset/labels/train/img2063.txt  \n",
            " extracting: dataset/labels/train/img2064.txt  \n",
            "  inflating: dataset/labels/train/img2066.txt  \n",
            "  inflating: dataset/labels/train/img2067.txt  \n",
            " extracting: dataset/labels/train/img2068.txt  \n",
            "  inflating: dataset/labels/train/img2069.txt  \n",
            "  inflating: dataset/labels/train/img207.txt  \n",
            "  inflating: dataset/labels/train/img2070.txt  \n",
            "  inflating: dataset/labels/train/img2071.txt  \n",
            "  inflating: dataset/labels/train/img2072.txt  \n",
            "  inflating: dataset/labels/train/img2073.txt  \n",
            "  inflating: dataset/labels/train/img2074.txt  \n",
            "  inflating: dataset/labels/train/img2075.txt  \n",
            "  inflating: dataset/labels/train/img2076.txt  \n",
            " extracting: dataset/labels/train/img2078.txt  \n",
            " extracting: dataset/labels/train/img2079.txt  \n",
            " extracting: dataset/labels/train/img208.txt  \n",
            "  inflating: dataset/labels/train/img2081.txt  \n",
            "  inflating: dataset/labels/train/img2083.txt  \n",
            "  inflating: dataset/labels/train/img2084.txt  \n",
            " extracting: dataset/labels/train/img2085.txt  \n",
            "  inflating: dataset/labels/train/img2086.txt  \n",
            "  inflating: dataset/labels/train/img2088.txt  \n",
            " extracting: dataset/labels/train/img2089.txt  \n",
            "  inflating: dataset/labels/train/img209.txt  \n",
            "  inflating: dataset/labels/train/img2090.txt  \n",
            " extracting: dataset/labels/train/img2091.txt  \n",
            "  inflating: dataset/labels/train/img2092.txt  \n",
            " extracting: dataset/labels/train/img2093.txt  \n",
            "  inflating: dataset/labels/train/img2095.txt  \n",
            "  inflating: dataset/labels/train/img2096.txt  \n",
            "  inflating: dataset/labels/train/img2098.txt  \n",
            "  inflating: dataset/labels/train/img2099.txt  \n",
            "  inflating: dataset/labels/train/img21.txt  \n",
            "  inflating: dataset/labels/train/img210.txt  \n",
            "  inflating: dataset/labels/train/img2100.txt  \n",
            "  inflating: dataset/labels/train/img2101.txt  \n",
            "  inflating: dataset/labels/train/img2102.txt  \n",
            " extracting: dataset/labels/train/img2104.txt  \n",
            "  inflating: dataset/labels/train/img2105.txt  \n",
            "  inflating: dataset/labels/train/img2106.txt  \n",
            " extracting: dataset/labels/train/img2107.txt  \n",
            " extracting: dataset/labels/train/img2108.txt  \n",
            "  inflating: dataset/labels/train/img2109.txt  \n",
            " extracting: dataset/labels/train/img211.txt  \n",
            " extracting: dataset/labels/train/img2110.txt  \n",
            " extracting: dataset/labels/train/img2111.txt  \n",
            "  inflating: dataset/labels/train/img2112.txt  \n",
            "  inflating: dataset/labels/train/img2114.txt  \n",
            "  inflating: dataset/labels/train/img2115.txt  \n",
            " extracting: dataset/labels/train/img2116.txt  \n",
            "  inflating: dataset/labels/train/img212.txt  \n",
            " extracting: dataset/labels/train/img214.txt  \n",
            "  inflating: dataset/labels/train/img216.txt  \n",
            "  inflating: dataset/labels/train/img217.txt  \n",
            "  inflating: dataset/labels/train/img218.txt  \n",
            "  inflating: dataset/labels/train/img219.txt  \n",
            "  inflating: dataset/labels/train/img22.txt  \n",
            "  inflating: dataset/labels/train/img220.txt  \n",
            " extracting: dataset/labels/train/img221.txt  \n",
            "  inflating: dataset/labels/train/img222.txt  \n",
            " extracting: dataset/labels/train/img223.txt  \n",
            "  inflating: dataset/labels/train/img224.txt  \n",
            "  inflating: dataset/labels/train/img226.txt  \n",
            "  inflating: dataset/labels/train/img227.txt  \n",
            " extracting: dataset/labels/train/img229.txt  \n",
            "  inflating: dataset/labels/train/img23.txt  \n",
            "  inflating: dataset/labels/train/img230.txt  \n",
            "  inflating: dataset/labels/train/img231.txt  \n",
            "  inflating: dataset/labels/train/img232.txt  \n",
            " extracting: dataset/labels/train/img233.txt  \n",
            "  inflating: dataset/labels/train/img234.txt  \n",
            "  inflating: dataset/labels/train/img235.txt  \n",
            " extracting: dataset/labels/train/img237.txt  \n",
            "  inflating: dataset/labels/train/img239.txt  \n",
            " extracting: dataset/labels/train/img241.txt  \n",
            "  inflating: dataset/labels/train/img243.txt  \n",
            " extracting: dataset/labels/train/img244.txt  \n",
            "  inflating: dataset/labels/train/img247.txt  \n",
            "  inflating: dataset/labels/train/img248.txt  \n",
            "  inflating: dataset/labels/train/img249.txt  \n",
            "  inflating: dataset/labels/train/img25.txt  \n",
            "  inflating: dataset/labels/train/img250.txt  \n",
            "  inflating: dataset/labels/train/img251.txt  \n",
            "  inflating: dataset/labels/train/img252.txt  \n",
            "  inflating: dataset/labels/train/img254.txt  \n",
            "  inflating: dataset/labels/train/img255.txt  \n",
            "  inflating: dataset/labels/train/img256.txt  \n",
            " extracting: dataset/labels/train/img257.txt  \n",
            " extracting: dataset/labels/train/img258.txt  \n",
            " extracting: dataset/labels/train/img26.txt  \n",
            "  inflating: dataset/labels/train/img260.txt  \n",
            " extracting: dataset/labels/train/img261.txt  \n",
            " extracting: dataset/labels/train/img262.txt  \n",
            "  inflating: dataset/labels/train/img264.txt  \n",
            "  inflating: dataset/labels/train/img265.txt  \n",
            "  inflating: dataset/labels/train/img267.txt  \n",
            " extracting: dataset/labels/train/img27.txt  \n",
            "  inflating: dataset/labels/train/img271.txt  \n",
            "  inflating: dataset/labels/train/img273.txt  \n",
            "  inflating: dataset/labels/train/img274.txt  \n",
            "  inflating: dataset/labels/train/img275.txt  \n",
            "  inflating: dataset/labels/train/img277.txt  \n",
            "  inflating: dataset/labels/train/img279.txt  \n",
            " extracting: dataset/labels/train/img28.txt  \n",
            "  inflating: dataset/labels/train/img281.txt  \n",
            " extracting: dataset/labels/train/img282.txt  \n",
            " extracting: dataset/labels/train/img284.txt  \n",
            "  inflating: dataset/labels/train/img285.txt  \n",
            "  inflating: dataset/labels/train/img286.txt  \n",
            " extracting: dataset/labels/train/img287.txt  \n",
            " extracting: dataset/labels/train/img288.txt  \n",
            "  inflating: dataset/labels/train/img289.txt  \n",
            " extracting: dataset/labels/train/img29.txt  \n",
            " extracting: dataset/labels/train/img290.txt  \n",
            " extracting: dataset/labels/train/img291.txt  \n",
            " extracting: dataset/labels/train/img292.txt  \n",
            "  inflating: dataset/labels/train/img293.txt  \n",
            "  inflating: dataset/labels/train/img294.txt  \n",
            "  inflating: dataset/labels/train/img295.txt  \n",
            " extracting: dataset/labels/train/img296.txt  \n",
            "  inflating: dataset/labels/train/img297.txt  \n",
            " extracting: dataset/labels/train/img299.txt  \n",
            "  inflating: dataset/labels/train/img3.txt  \n",
            " extracting: dataset/labels/train/img30.txt  \n",
            " extracting: dataset/labels/train/img300.txt  \n",
            "  inflating: dataset/labels/train/img302.txt  \n",
            "  inflating: dataset/labels/train/img303.txt  \n",
            "  inflating: dataset/labels/train/img306.txt  \n",
            "  inflating: dataset/labels/train/img307.txt  \n",
            " extracting: dataset/labels/train/img308.txt  \n",
            " extracting: dataset/labels/train/img309.txt  \n",
            "  inflating: dataset/labels/train/img310.txt  \n",
            "  inflating: dataset/labels/train/img311.txt  \n",
            "  inflating: dataset/labels/train/img313.txt  \n",
            " extracting: dataset/labels/train/img314.txt  \n",
            "  inflating: dataset/labels/train/img317.txt  \n",
            "  inflating: dataset/labels/train/img318.txt  \n",
            "  inflating: dataset/labels/train/img319.txt  \n",
            " extracting: dataset/labels/train/img32.txt  \n",
            "  inflating: dataset/labels/train/img320.txt  \n",
            "  inflating: dataset/labels/train/img321.txt  \n",
            " extracting: dataset/labels/train/img322.txt  \n",
            "  inflating: dataset/labels/train/img325.txt  \n",
            "  inflating: dataset/labels/train/img326.txt  \n",
            "  inflating: dataset/labels/train/img327.txt  \n",
            "  inflating: dataset/labels/train/img328.txt  \n",
            " extracting: dataset/labels/train/img329.txt  \n",
            " extracting: dataset/labels/train/img33.txt  \n",
            "  inflating: dataset/labels/train/img331.txt  \n",
            "  inflating: dataset/labels/train/img332.txt  \n",
            " extracting: dataset/labels/train/img333.txt  \n",
            "  inflating: dataset/labels/train/img334.txt  \n",
            "  inflating: dataset/labels/train/img335.txt  \n",
            " extracting: dataset/labels/train/img336.txt  \n",
            "  inflating: dataset/labels/train/img337.txt  \n",
            "  inflating: dataset/labels/train/img338.txt  \n",
            "  inflating: dataset/labels/train/img339.txt  \n",
            " extracting: dataset/labels/train/img342.txt  \n",
            "  inflating: dataset/labels/train/img343.txt  \n",
            "  inflating: dataset/labels/train/img344.txt  \n",
            " extracting: dataset/labels/train/img345.txt  \n",
            "  inflating: dataset/labels/train/img346.txt  \n",
            "  inflating: dataset/labels/train/img348.txt  \n",
            " extracting: dataset/labels/train/img35.txt  \n",
            " extracting: dataset/labels/train/img350.txt  \n",
            "  inflating: dataset/labels/train/img351.txt  \n",
            "  inflating: dataset/labels/train/img352.txt  \n",
            "  inflating: dataset/labels/train/img356.txt  \n",
            "  inflating: dataset/labels/train/img357.txt  \n",
            "  inflating: dataset/labels/train/img358.txt  \n",
            " extracting: dataset/labels/train/img36.txt  \n",
            " extracting: dataset/labels/train/img360.txt  \n",
            "  inflating: dataset/labels/train/img361.txt  \n",
            "  inflating: dataset/labels/train/img363.txt  \n",
            "  inflating: dataset/labels/train/img364.txt  \n",
            "  inflating: dataset/labels/train/img365.txt  \n",
            " extracting: dataset/labels/train/img366.txt  \n",
            "  inflating: dataset/labels/train/img367.txt  \n",
            "  inflating: dataset/labels/train/img368.txt  \n",
            " extracting: dataset/labels/train/img369.txt  \n",
            "  inflating: dataset/labels/train/img371.txt  \n",
            "  inflating: dataset/labels/train/img372.txt  \n",
            "  inflating: dataset/labels/train/img373.txt  \n",
            " extracting: dataset/labels/train/img374.txt  \n",
            " extracting: dataset/labels/train/img375.txt  \n",
            "  inflating: dataset/labels/train/img376.txt  \n",
            "  inflating: dataset/labels/train/img377.txt  \n",
            " extracting: dataset/labels/train/img379.txt  \n",
            " extracting: dataset/labels/train/img38.txt  \n",
            "  inflating: dataset/labels/train/img380.txt  \n",
            "  inflating: dataset/labels/train/img381.txt  \n",
            "  inflating: dataset/labels/train/img382.txt  \n",
            "  inflating: dataset/labels/train/img383.txt  \n",
            "  inflating: dataset/labels/train/img384.txt  \n",
            "  inflating: dataset/labels/train/img385.txt  \n",
            " extracting: dataset/labels/train/img386.txt  \n",
            "  inflating: dataset/labels/train/img388.txt  \n",
            "  inflating: dataset/labels/train/img389.txt  \n",
            " extracting: dataset/labels/train/img39.txt  \n",
            "  inflating: dataset/labels/train/img390.txt  \n",
            "  inflating: dataset/labels/train/img391.txt  \n",
            "  inflating: dataset/labels/train/img392.txt  \n",
            "  inflating: dataset/labels/train/img395.txt  \n",
            " extracting: dataset/labels/train/img396.txt  \n",
            "  inflating: dataset/labels/train/img397.txt  \n",
            "  inflating: dataset/labels/train/img399.txt  \n",
            "  inflating: dataset/labels/train/img4.txt  \n",
            " extracting: dataset/labels/train/img40.txt  \n",
            " extracting: dataset/labels/train/img400.txt  \n",
            "  inflating: dataset/labels/train/img402.txt  \n",
            " extracting: dataset/labels/train/img403.txt  \n",
            "  inflating: dataset/labels/train/img405.txt  \n",
            "  inflating: dataset/labels/train/img407.txt  \n",
            "  inflating: dataset/labels/train/img408.txt  \n",
            " extracting: dataset/labels/train/img41.txt  \n",
            " extracting: dataset/labels/train/img410.txt  \n",
            "  inflating: dataset/labels/train/img411.txt  \n",
            "  inflating: dataset/labels/train/img412.txt  \n",
            "  inflating: dataset/labels/train/img414.txt  \n",
            " extracting: dataset/labels/train/img415.txt  \n",
            "  inflating: dataset/labels/train/img416.txt  \n",
            "  inflating: dataset/labels/train/img418.txt  \n",
            " extracting: dataset/labels/train/img419.txt  \n",
            "  inflating: dataset/labels/train/img420.txt  \n",
            " extracting: dataset/labels/train/img421.txt  \n",
            " extracting: dataset/labels/train/img422.txt  \n",
            " extracting: dataset/labels/train/img423.txt  \n",
            " extracting: dataset/labels/train/img424.txt  \n",
            " extracting: dataset/labels/train/img425.txt  \n",
            "  inflating: dataset/labels/train/img426.txt  \n",
            " extracting: dataset/labels/train/img427.txt  \n",
            "  inflating: dataset/labels/train/img428.txt  \n",
            " extracting: dataset/labels/train/img429.txt  \n",
            " extracting: dataset/labels/train/img43.txt  \n",
            " extracting: dataset/labels/train/img430.txt  \n",
            " extracting: dataset/labels/train/img431.txt  \n",
            "  inflating: dataset/labels/train/img432.txt  \n",
            " extracting: dataset/labels/train/img434.txt  \n",
            " extracting: dataset/labels/train/img436.txt  \n",
            "  inflating: dataset/labels/train/img437.txt  \n",
            " extracting: dataset/labels/train/img438.txt  \n",
            "  inflating: dataset/labels/train/img439.txt  \n",
            " extracting: dataset/labels/train/img44.txt  \n",
            "  inflating: dataset/labels/train/img441.txt  \n",
            " extracting: dataset/labels/train/img442.txt  \n",
            "  inflating: dataset/labels/train/img444.txt  \n",
            "  inflating: dataset/labels/train/img445.txt  \n",
            "  inflating: dataset/labels/train/img447.txt  \n",
            " extracting: dataset/labels/train/img448.txt  \n",
            " extracting: dataset/labels/train/img449.txt  \n",
            " extracting: dataset/labels/train/img45.txt  \n",
            "  inflating: dataset/labels/train/img450.txt  \n",
            " extracting: dataset/labels/train/img452.txt  \n",
            " extracting: dataset/labels/train/img453.txt  \n",
            "  inflating: dataset/labels/train/img455.txt  \n",
            " extracting: dataset/labels/train/img456.txt  \n",
            " extracting: dataset/labels/train/img457.txt  \n",
            " extracting: dataset/labels/train/img458.txt  \n",
            "  inflating: dataset/labels/train/img459.txt  \n",
            " extracting: dataset/labels/train/img46.txt  \n",
            "  inflating: dataset/labels/train/img460.txt  \n",
            "  inflating: dataset/labels/train/img461.txt  \n",
            "  inflating: dataset/labels/train/img462.txt  \n",
            "  inflating: dataset/labels/train/img463.txt  \n",
            " extracting: dataset/labels/train/img466.txt  \n",
            "  inflating: dataset/labels/train/img467.txt  \n",
            "  inflating: dataset/labels/train/img468.txt  \n",
            " extracting: dataset/labels/train/img469.txt  \n",
            " extracting: dataset/labels/train/img47.txt  \n",
            "  inflating: dataset/labels/train/img471.txt  \n",
            " extracting: dataset/labels/train/img472.txt  \n",
            "  inflating: dataset/labels/train/img473.txt  \n",
            "  inflating: dataset/labels/train/img474.txt  \n",
            "  inflating: dataset/labels/train/img475.txt  \n",
            "  inflating: dataset/labels/train/img477.txt  \n",
            "  inflating: dataset/labels/train/img478.txt  \n",
            " extracting: dataset/labels/train/img48.txt  \n",
            "  inflating: dataset/labels/train/img480.txt  \n",
            " extracting: dataset/labels/train/img481.txt  \n",
            " extracting: dataset/labels/train/img482.txt  \n",
            "  inflating: dataset/labels/train/img484.txt  \n",
            "  inflating: dataset/labels/train/img486.txt  \n",
            "  inflating: dataset/labels/train/img487.txt  \n",
            "  inflating: dataset/labels/train/img489.txt  \n",
            " extracting: dataset/labels/train/img49.txt  \n",
            " extracting: dataset/labels/train/img491.txt  \n",
            " extracting: dataset/labels/train/img492.txt  \n",
            "  inflating: dataset/labels/train/img493.txt  \n",
            "  inflating: dataset/labels/train/img494.txt  \n",
            " extracting: dataset/labels/train/img497.txt  \n",
            " extracting: dataset/labels/train/img498.txt  \n",
            "  inflating: dataset/labels/train/img499.txt  \n",
            "  inflating: dataset/labels/train/img5.txt  \n",
            " extracting: dataset/labels/train/img50.txt  \n",
            " extracting: dataset/labels/train/img502.txt  \n",
            "  inflating: dataset/labels/train/img503.txt  \n",
            " extracting: dataset/labels/train/img504.txt  \n",
            "  inflating: dataset/labels/train/img505.txt  \n",
            "  inflating: dataset/labels/train/img507.txt  \n",
            " extracting: dataset/labels/train/img508.txt  \n",
            "  inflating: dataset/labels/train/img509.txt  \n",
            " extracting: dataset/labels/train/img51.txt  \n",
            "  inflating: dataset/labels/train/img510.txt  \n",
            " extracting: dataset/labels/train/img511.txt  \n",
            " extracting: dataset/labels/train/img512.txt  \n",
            "  inflating: dataset/labels/train/img513.txt  \n",
            "  inflating: dataset/labels/train/img514.txt  \n",
            " extracting: dataset/labels/train/img515.txt  \n",
            "  inflating: dataset/labels/train/img516.txt  \n",
            "  inflating: dataset/labels/train/img517.txt  \n",
            " extracting: dataset/labels/train/img518.txt  \n",
            " extracting: dataset/labels/train/img52.txt  \n",
            "  inflating: dataset/labels/train/img521.txt  \n",
            "  inflating: dataset/labels/train/img522.txt  \n",
            "  inflating: dataset/labels/train/img523.txt  \n",
            "  inflating: dataset/labels/train/img525.txt  \n",
            " extracting: dataset/labels/train/img526.txt  \n",
            "  inflating: dataset/labels/train/img527.txt  \n",
            " extracting: dataset/labels/train/img528.txt  \n",
            " extracting: dataset/labels/train/img53.txt  \n",
            " extracting: dataset/labels/train/img530.txt  \n",
            " extracting: dataset/labels/train/img531.txt  \n",
            " extracting: dataset/labels/train/img532.txt  \n",
            "  inflating: dataset/labels/train/img533.txt  \n",
            " extracting: dataset/labels/train/img534.txt  \n",
            " extracting: dataset/labels/train/img535.txt  \n",
            " extracting: dataset/labels/train/img536.txt  \n",
            " extracting: dataset/labels/train/img537.txt  \n",
            " extracting: dataset/labels/train/img538.txt  \n",
            "  inflating: dataset/labels/train/img539.txt  \n",
            " extracting: dataset/labels/train/img54.txt  \n",
            "  inflating: dataset/labels/train/img540.txt  \n",
            "  inflating: dataset/labels/train/img541.txt  \n",
            "  inflating: dataset/labels/train/img542.txt  \n",
            " extracting: dataset/labels/train/img543.txt  \n",
            "  inflating: dataset/labels/train/img544.txt  \n",
            " extracting: dataset/labels/train/img545.txt  \n",
            " extracting: dataset/labels/train/img546.txt  \n",
            "  inflating: dataset/labels/train/img547.txt  \n",
            "  inflating: dataset/labels/train/img549.txt  \n",
            " extracting: dataset/labels/train/img55.txt  \n",
            "  inflating: dataset/labels/train/img550.txt  \n",
            "  inflating: dataset/labels/train/img551.txt  \n",
            "  inflating: dataset/labels/train/img552.txt  \n",
            " extracting: dataset/labels/train/img553.txt  \n",
            "  inflating: dataset/labels/train/img555.txt  \n",
            "  inflating: dataset/labels/train/img556.txt  \n",
            "  inflating: dataset/labels/train/img557.txt  \n",
            "  inflating: dataset/labels/train/img558.txt  \n",
            "  inflating: dataset/labels/train/img559.txt  \n",
            " extracting: dataset/labels/train/img56.txt  \n",
            "  inflating: dataset/labels/train/img560.txt  \n",
            " extracting: dataset/labels/train/img561.txt  \n",
            "  inflating: dataset/labels/train/img563.txt  \n",
            " extracting: dataset/labels/train/img564.txt  \n",
            " extracting: dataset/labels/train/img565.txt  \n",
            " extracting: dataset/labels/train/img567.txt  \n",
            "  inflating: dataset/labels/train/img569.txt  \n",
            " extracting: dataset/labels/train/img57.txt  \n",
            "  inflating: dataset/labels/train/img570.txt  \n",
            "  inflating: dataset/labels/train/img571.txt  \n",
            "  inflating: dataset/labels/train/img572.txt  \n",
            "  inflating: dataset/labels/train/img573.txt  \n",
            "  inflating: dataset/labels/train/img574.txt  \n",
            "  inflating: dataset/labels/train/img575.txt  \n",
            " extracting: dataset/labels/train/img576.txt  \n",
            " extracting: dataset/labels/train/img577.txt  \n",
            " extracting: dataset/labels/train/img578.txt  \n",
            " extracting: dataset/labels/train/img58.txt  \n",
            " extracting: dataset/labels/train/img580.txt  \n",
            "  inflating: dataset/labels/train/img581.txt  \n",
            " extracting: dataset/labels/train/img582.txt  \n",
            " extracting: dataset/labels/train/img583.txt  \n",
            " extracting: dataset/labels/train/img584.txt  \n",
            " extracting: dataset/labels/train/img585.txt  \n",
            "  inflating: dataset/labels/train/img586.txt  \n",
            " extracting: dataset/labels/train/img587.txt  \n",
            "  inflating: dataset/labels/train/img588.txt  \n",
            " extracting: dataset/labels/train/img589.txt  \n",
            " extracting: dataset/labels/train/img59.txt  \n",
            " extracting: dataset/labels/train/img592.txt  \n",
            " extracting: dataset/labels/train/img593.txt  \n",
            " extracting: dataset/labels/train/img594.txt  \n",
            " extracting: dataset/labels/train/img596.txt  \n",
            " extracting: dataset/labels/train/img597.txt  \n",
            "  inflating: dataset/labels/train/img598.txt  \n",
            " extracting: dataset/labels/train/img599.txt  \n",
            " extracting: dataset/labels/train/img6.txt  \n",
            " extracting: dataset/labels/train/img600.txt  \n",
            " extracting: dataset/labels/train/img602.txt  \n",
            " extracting: dataset/labels/train/img603.txt  \n",
            " extracting: dataset/labels/train/img604.txt  \n",
            "  inflating: dataset/labels/train/img605.txt  \n",
            "  inflating: dataset/labels/train/img606.txt  \n",
            " extracting: dataset/labels/train/img608.txt  \n",
            " extracting: dataset/labels/train/img609.txt  \n",
            "  inflating: dataset/labels/train/img610.txt  \n",
            " extracting: dataset/labels/train/img611.txt  \n",
            " extracting: dataset/labels/train/img612.txt  \n",
            " extracting: dataset/labels/train/img613.txt  \n",
            "  inflating: dataset/labels/train/img615.txt  \n",
            "  inflating: dataset/labels/train/img616.txt  \n",
            "  inflating: dataset/labels/train/img617.txt  \n",
            "  inflating: dataset/labels/train/img618.txt  \n",
            "  inflating: dataset/labels/train/img619.txt  \n",
            " extracting: dataset/labels/train/img62.txt  \n",
            "  inflating: dataset/labels/train/img621.txt  \n",
            "  inflating: dataset/labels/train/img622.txt  \n",
            "  inflating: dataset/labels/train/img623.txt  \n",
            " extracting: dataset/labels/train/img624.txt  \n",
            "  inflating: dataset/labels/train/img625.txt  \n",
            "  inflating: dataset/labels/train/img627.txt  \n",
            "  inflating: dataset/labels/train/img629.txt  \n",
            " extracting: dataset/labels/train/img63.txt  \n",
            "  inflating: dataset/labels/train/img630.txt  \n",
            "  inflating: dataset/labels/train/img631.txt  \n",
            "  inflating: dataset/labels/train/img632.txt  \n",
            "  inflating: dataset/labels/train/img634.txt  \n",
            "  inflating: dataset/labels/train/img635.txt  \n",
            " extracting: dataset/labels/train/img636.txt  \n",
            "  inflating: dataset/labels/train/img637.txt  \n",
            "  inflating: dataset/labels/train/img638.txt  \n",
            " extracting: dataset/labels/train/img639.txt  \n",
            " extracting: dataset/labels/train/img64.txt  \n",
            "  inflating: dataset/labels/train/img640.txt  \n",
            "  inflating: dataset/labels/train/img642.txt  \n",
            " extracting: dataset/labels/train/img645.txt  \n",
            "  inflating: dataset/labels/train/img646.txt  \n",
            "  inflating: dataset/labels/train/img647.txt  \n",
            "  inflating: dataset/labels/train/img648.txt  \n",
            "  inflating: dataset/labels/train/img649.txt  \n",
            " extracting: dataset/labels/train/img65.txt  \n",
            "  inflating: dataset/labels/train/img650.txt  \n",
            " extracting: dataset/labels/train/img651.txt  \n",
            " extracting: dataset/labels/train/img652.txt  \n",
            "  inflating: dataset/labels/train/img653.txt  \n",
            " extracting: dataset/labels/train/img654.txt  \n",
            " extracting: dataset/labels/train/img655.txt  \n",
            " extracting: dataset/labels/train/img656.txt  \n",
            "  inflating: dataset/labels/train/img658.txt  \n",
            " extracting: dataset/labels/train/img659.txt  \n",
            " extracting: dataset/labels/train/img66.txt  \n",
            "  inflating: dataset/labels/train/img663.txt  \n",
            "  inflating: dataset/labels/train/img664.txt  \n",
            " extracting: dataset/labels/train/img665.txt  \n",
            "  inflating: dataset/labels/train/img667.txt  \n",
            "  inflating: dataset/labels/train/img668.txt  \n",
            " extracting: dataset/labels/train/img669.txt  \n",
            " extracting: dataset/labels/train/img67.txt  \n",
            "  inflating: dataset/labels/train/img670.txt  \n",
            " extracting: dataset/labels/train/img672.txt  \n",
            " extracting: dataset/labels/train/img673.txt  \n",
            " extracting: dataset/labels/train/img674.txt  \n",
            " extracting: dataset/labels/train/img675.txt  \n",
            " extracting: dataset/labels/train/img677.txt  \n",
            "  inflating: dataset/labels/train/img679.txt  \n",
            " extracting: dataset/labels/train/img68.txt  \n",
            "  inflating: dataset/labels/train/img680.txt  \n",
            "  inflating: dataset/labels/train/img681.txt  \n",
            " extracting: dataset/labels/train/img682.txt  \n",
            " extracting: dataset/labels/train/img683.txt  \n",
            " extracting: dataset/labels/train/img684.txt  \n",
            "  inflating: dataset/labels/train/img686.txt  \n",
            "  inflating: dataset/labels/train/img687.txt  \n",
            " extracting: dataset/labels/train/img688.txt  \n",
            "  inflating: dataset/labels/train/img689.txt  \n",
            " extracting: dataset/labels/train/img69.txt  \n",
            "  inflating: dataset/labels/train/img690.txt  \n",
            " extracting: dataset/labels/train/img691.txt  \n",
            " extracting: dataset/labels/train/img692.txt  \n",
            " extracting: dataset/labels/train/img693.txt  \n",
            " extracting: dataset/labels/train/img694.txt  \n",
            "  inflating: dataset/labels/train/img696.txt  \n",
            "  inflating: dataset/labels/train/img697.txt  \n",
            "  inflating: dataset/labels/train/img698.txt  \n",
            " extracting: dataset/labels/train/img699.txt  \n",
            " extracting: dataset/labels/train/img7.txt  \n",
            " extracting: dataset/labels/train/img70.txt  \n",
            "  inflating: dataset/labels/train/img700.txt  \n",
            " extracting: dataset/labels/train/img701.txt  \n",
            "  inflating: dataset/labels/train/img702.txt  \n",
            " extracting: dataset/labels/train/img703.txt  \n",
            " extracting: dataset/labels/train/img704.txt  \n",
            " extracting: dataset/labels/train/img706.txt  \n",
            " extracting: dataset/labels/train/img707.txt  \n",
            " extracting: dataset/labels/train/img71.txt  \n",
            " extracting: dataset/labels/train/img713.txt  \n",
            "  inflating: dataset/labels/train/img714.txt  \n",
            " extracting: dataset/labels/train/img715.txt  \n",
            "  inflating: dataset/labels/train/img716.txt  \n",
            "  inflating: dataset/labels/train/img717.txt  \n",
            " extracting: dataset/labels/train/img718.txt  \n",
            " extracting: dataset/labels/train/img719.txt  \n",
            " extracting: dataset/labels/train/img72.txt  \n",
            " extracting: dataset/labels/train/img720.txt  \n",
            "  inflating: dataset/labels/train/img721.txt  \n",
            " extracting: dataset/labels/train/img722.txt  \n",
            " extracting: dataset/labels/train/img723.txt  \n",
            "  inflating: dataset/labels/train/img724.txt  \n",
            " extracting: dataset/labels/train/img725.txt  \n",
            " extracting: dataset/labels/train/img726.txt  \n",
            "  inflating: dataset/labels/train/img727.txt  \n",
            " extracting: dataset/labels/train/img728.txt  \n",
            " extracting: dataset/labels/train/img73.txt  \n",
            " extracting: dataset/labels/train/img731.txt  \n",
            " extracting: dataset/labels/train/img732.txt  \n",
            " extracting: dataset/labels/train/img733.txt  \n",
            " extracting: dataset/labels/train/img734.txt  \n",
            "  inflating: dataset/labels/train/img735.txt  \n",
            " extracting: dataset/labels/train/img736.txt  \n",
            " extracting: dataset/labels/train/img737.txt  \n",
            " extracting: dataset/labels/train/img738.txt  \n",
            " extracting: dataset/labels/train/img739.txt  \n",
            " extracting: dataset/labels/train/img74.txt  \n",
            " extracting: dataset/labels/train/img740.txt  \n",
            " extracting: dataset/labels/train/img741.txt  \n",
            "  inflating: dataset/labels/train/img742.txt  \n",
            " extracting: dataset/labels/train/img745.txt  \n",
            " extracting: dataset/labels/train/img747.txt  \n",
            "  inflating: dataset/labels/train/img748.txt  \n",
            " extracting: dataset/labels/train/img75.txt  \n",
            " extracting: dataset/labels/train/img750.txt  \n",
            " extracting: dataset/labels/train/img751.txt  \n",
            " extracting: dataset/labels/train/img752.txt  \n",
            "  inflating: dataset/labels/train/img753.txt  \n",
            " extracting: dataset/labels/train/img754.txt  \n",
            " extracting: dataset/labels/train/img755.txt  \n",
            " extracting: dataset/labels/train/img756.txt  \n",
            "  inflating: dataset/labels/train/img757.txt  \n",
            " extracting: dataset/labels/train/img758.txt  \n",
            "  inflating: dataset/labels/train/img759.txt  \n",
            " extracting: dataset/labels/train/img76.txt  \n",
            " extracting: dataset/labels/train/img760.txt  \n",
            "  inflating: dataset/labels/train/img762.txt  \n",
            " extracting: dataset/labels/train/img763.txt  \n",
            "  inflating: dataset/labels/train/img764.txt  \n",
            "  inflating: dataset/labels/train/img765.txt  \n",
            " extracting: dataset/labels/train/img767.txt  \n",
            " extracting: dataset/labels/train/img768.txt  \n",
            " extracting: dataset/labels/train/img769.txt  \n",
            " extracting: dataset/labels/train/img77.txt  \n",
            " extracting: dataset/labels/train/img770.txt  \n",
            "  inflating: dataset/labels/train/img772.txt  \n",
            " extracting: dataset/labels/train/img774.txt  \n",
            " extracting: dataset/labels/train/img775.txt  \n",
            " extracting: dataset/labels/train/img776.txt  \n",
            " extracting: dataset/labels/train/img778.txt  \n",
            " extracting: dataset/labels/train/img779.txt  \n",
            " extracting: dataset/labels/train/img78.txt  \n",
            " extracting: dataset/labels/train/img780.txt  \n",
            " extracting: dataset/labels/train/img781.txt  \n",
            "  inflating: dataset/labels/train/img782.txt  \n",
            " extracting: dataset/labels/train/img783.txt  \n",
            " extracting: dataset/labels/train/img784.txt  \n",
            "  inflating: dataset/labels/train/img785.txt  \n",
            " extracting: dataset/labels/train/img786.txt  \n",
            "  inflating: dataset/labels/train/img787.txt  \n",
            " extracting: dataset/labels/train/img788.txt  \n",
            "  inflating: dataset/labels/train/img789.txt  \n",
            " extracting: dataset/labels/train/img79.txt  \n",
            " extracting: dataset/labels/train/img791.txt  \n",
            " extracting: dataset/labels/train/img792.txt  \n",
            " extracting: dataset/labels/train/img793.txt  \n",
            "  inflating: dataset/labels/train/img794.txt  \n",
            "  inflating: dataset/labels/train/img795.txt  \n",
            " extracting: dataset/labels/train/img796.txt  \n",
            "  inflating: dataset/labels/train/img797.txt  \n",
            " extracting: dataset/labels/train/img799.txt  \n",
            " extracting: dataset/labels/train/img8.txt  \n",
            " extracting: dataset/labels/train/img80.txt  \n",
            " extracting: dataset/labels/train/img800.txt  \n",
            "  inflating: dataset/labels/train/img801.txt  \n",
            "  inflating: dataset/labels/train/img802.txt  \n",
            "  inflating: dataset/labels/train/img803.txt  \n",
            "  inflating: dataset/labels/train/img804.txt  \n",
            "  inflating: dataset/labels/train/img806.txt  \n",
            " extracting: dataset/labels/train/img807.txt  \n",
            " extracting: dataset/labels/train/img81.txt  \n",
            "  inflating: dataset/labels/train/img810.txt  \n",
            " extracting: dataset/labels/train/img811.txt  \n",
            "  inflating: dataset/labels/train/img812.txt  \n",
            "  inflating: dataset/labels/train/img813.txt  \n",
            " extracting: dataset/labels/train/img814.txt  \n",
            "  inflating: dataset/labels/train/img815.txt  \n",
            " extracting: dataset/labels/train/img816.txt  \n",
            " extracting: dataset/labels/train/img817.txt  \n",
            "  inflating: dataset/labels/train/img818.txt  \n",
            " extracting: dataset/labels/train/img82.txt  \n",
            " extracting: dataset/labels/train/img821.txt  \n",
            " extracting: dataset/labels/train/img822.txt  \n",
            "  inflating: dataset/labels/train/img823.txt  \n",
            " extracting: dataset/labels/train/img824.txt  \n",
            " extracting: dataset/labels/train/img825.txt  \n",
            " extracting: dataset/labels/train/img826.txt  \n",
            " extracting: dataset/labels/train/img827.txt  \n",
            " extracting: dataset/labels/train/img828.txt  \n",
            "  inflating: dataset/labels/train/img829.txt  \n",
            " extracting: dataset/labels/train/img83.txt  \n",
            "  inflating: dataset/labels/train/img830.txt  \n",
            " extracting: dataset/labels/train/img831.txt  \n",
            " extracting: dataset/labels/train/img832.txt  \n",
            " extracting: dataset/labels/train/img833.txt  \n",
            "  inflating: dataset/labels/train/img834.txt  \n",
            " extracting: dataset/labels/train/img835.txt  \n",
            " extracting: dataset/labels/train/img836.txt  \n",
            " extracting: dataset/labels/train/img837.txt  \n",
            "  inflating: dataset/labels/train/img838.txt  \n",
            " extracting: dataset/labels/train/img839.txt  \n",
            " extracting: dataset/labels/train/img84.txt  \n",
            "  inflating: dataset/labels/train/img840.txt  \n",
            " extracting: dataset/labels/train/img841.txt  \n",
            " extracting: dataset/labels/train/img843.txt  \n",
            "  inflating: dataset/labels/train/img844.txt  \n",
            " extracting: dataset/labels/train/img845.txt  \n",
            " extracting: dataset/labels/train/img847.txt  \n",
            " extracting: dataset/labels/train/img848.txt  \n",
            " extracting: dataset/labels/train/img849.txt  \n",
            " extracting: dataset/labels/train/img85.txt  \n",
            "  inflating: dataset/labels/train/img850.txt  \n",
            "  inflating: dataset/labels/train/img851.txt  \n",
            " extracting: dataset/labels/train/img852.txt  \n",
            " extracting: dataset/labels/train/img853.txt  \n",
            " extracting: dataset/labels/train/img854.txt  \n",
            "  inflating: dataset/labels/train/img855.txt  \n",
            "  inflating: dataset/labels/train/img856.txt  \n",
            "  inflating: dataset/labels/train/img857.txt  \n",
            "  inflating: dataset/labels/train/img858.txt  \n",
            " extracting: dataset/labels/train/img859.txt  \n",
            " extracting: dataset/labels/train/img86.txt  \n",
            " extracting: dataset/labels/train/img860.txt  \n",
            "  inflating: dataset/labels/train/img863.txt  \n",
            " extracting: dataset/labels/train/img864.txt  \n",
            " extracting: dataset/labels/train/img867.txt  \n",
            " extracting: dataset/labels/train/img868.txt  \n",
            " extracting: dataset/labels/train/img869.txt  \n",
            " extracting: dataset/labels/train/img87.txt  \n",
            " extracting: dataset/labels/train/img870.txt  \n",
            "  inflating: dataset/labels/train/img872.txt  \n",
            " extracting: dataset/labels/train/img873.txt  \n",
            " extracting: dataset/labels/train/img875.txt  \n",
            " extracting: dataset/labels/train/img876.txt  \n",
            " extracting: dataset/labels/train/img877.txt  \n",
            " extracting: dataset/labels/train/img879.txt  \n",
            " extracting: dataset/labels/train/img88.txt  \n",
            "  inflating: dataset/labels/train/img881.txt  \n",
            " extracting: dataset/labels/train/img882.txt  \n",
            "  inflating: dataset/labels/train/img883.txt  \n",
            "  inflating: dataset/labels/train/img884.txt  \n",
            " extracting: dataset/labels/train/img885.txt  \n",
            " extracting: dataset/labels/train/img886.txt  \n",
            "  inflating: dataset/labels/train/img887.txt  \n",
            " extracting: dataset/labels/train/img888.txt  \n",
            " extracting: dataset/labels/train/img89.txt  \n",
            " extracting: dataset/labels/train/img890.txt  \n",
            " extracting: dataset/labels/train/img891.txt  \n",
            " extracting: dataset/labels/train/img892.txt  \n",
            " extracting: dataset/labels/train/img893.txt  \n",
            "  inflating: dataset/labels/train/img894.txt  \n",
            " extracting: dataset/labels/train/img896.txt  \n",
            "  inflating: dataset/labels/train/img897.txt  \n",
            "  inflating: dataset/labels/train/img898.txt  \n",
            " extracting: dataset/labels/train/img899.txt  \n",
            " extracting: dataset/labels/train/img90.txt  \n",
            " extracting: dataset/labels/train/img900.txt  \n",
            " extracting: dataset/labels/train/img901.txt  \n",
            "  inflating: dataset/labels/train/img903.txt  \n",
            "  inflating: dataset/labels/train/img905.txt  \n",
            " extracting: dataset/labels/train/img906.txt  \n",
            " extracting: dataset/labels/train/img907.txt  \n",
            "  inflating: dataset/labels/train/img908.txt  \n",
            " extracting: dataset/labels/train/img909.txt  \n",
            " extracting: dataset/labels/train/img91.txt  \n",
            " extracting: dataset/labels/train/img910.txt  \n",
            "  inflating: dataset/labels/train/img911.txt  \n",
            "  inflating: dataset/labels/train/img912.txt  \n",
            "  inflating: dataset/labels/train/img914.txt  \n",
            "  inflating: dataset/labels/train/img915.txt  \n",
            "  inflating: dataset/labels/train/img917.txt  \n",
            " extracting: dataset/labels/train/img918.txt  \n",
            " extracting: dataset/labels/train/img919.txt  \n",
            " extracting: dataset/labels/train/img92.txt  \n",
            " extracting: dataset/labels/train/img920.txt  \n",
            " extracting: dataset/labels/train/img921.txt  \n",
            "  inflating: dataset/labels/train/img922.txt  \n",
            "  inflating: dataset/labels/train/img923.txt  \n",
            " extracting: dataset/labels/train/img924.txt  \n",
            " extracting: dataset/labels/train/img925.txt  \n",
            "  inflating: dataset/labels/train/img927.txt  \n",
            "  inflating: dataset/labels/train/img928.txt  \n",
            "  inflating: dataset/labels/train/img929.txt  \n",
            " extracting: dataset/labels/train/img93.txt  \n",
            " extracting: dataset/labels/train/img931.txt  \n",
            " extracting: dataset/labels/train/img932.txt  \n",
            "  inflating: dataset/labels/train/img933.txt  \n",
            "  inflating: dataset/labels/train/img934.txt  \n",
            " extracting: dataset/labels/train/img935.txt  \n",
            " extracting: dataset/labels/train/img936.txt  \n",
            "  inflating: dataset/labels/train/img937.txt  \n",
            "  inflating: dataset/labels/train/img938.txt  \n",
            "  inflating: dataset/labels/train/img939.txt  \n",
            " extracting: dataset/labels/train/img94.txt  \n",
            " extracting: dataset/labels/train/img940.txt  \n",
            "  inflating: dataset/labels/train/img941.txt  \n",
            "  inflating: dataset/labels/train/img942.txt  \n",
            "  inflating: dataset/labels/train/img944.txt  \n",
            " extracting: dataset/labels/train/img945.txt  \n",
            "  inflating: dataset/labels/train/img946.txt  \n",
            " extracting: dataset/labels/train/img947.txt  \n",
            "  inflating: dataset/labels/train/img948.txt  \n",
            "  inflating: dataset/labels/train/img950.txt  \n",
            " extracting: dataset/labels/train/img951.txt  \n",
            "  inflating: dataset/labels/train/img952.txt  \n",
            " extracting: dataset/labels/train/img953.txt  \n",
            "  inflating: dataset/labels/train/img954.txt  \n",
            "  inflating: dataset/labels/train/img956.txt  \n",
            " extracting: dataset/labels/train/img957.txt  \n",
            " extracting: dataset/labels/train/img958.txt  \n",
            " extracting: dataset/labels/train/img959.txt  \n",
            " extracting: dataset/labels/train/img96.txt  \n",
            " extracting: dataset/labels/train/img960.txt  \n",
            "  inflating: dataset/labels/train/img961.txt  \n",
            "  inflating: dataset/labels/train/img962.txt  \n",
            " extracting: dataset/labels/train/img963.txt  \n",
            " extracting: dataset/labels/train/img965.txt  \n",
            "  inflating: dataset/labels/train/img966.txt  \n",
            " extracting: dataset/labels/train/img967.txt  \n",
            " extracting: dataset/labels/train/img969.txt  \n",
            " extracting: dataset/labels/train/img97.txt  \n",
            " extracting: dataset/labels/train/img970.txt  \n",
            " extracting: dataset/labels/train/img971.txt  \n",
            "  inflating: dataset/labels/train/img972.txt  \n",
            "  inflating: dataset/labels/train/img973.txt  \n",
            " extracting: dataset/labels/train/img974.txt  \n",
            " extracting: dataset/labels/train/img976.txt  \n",
            " extracting: dataset/labels/train/img978.txt  \n",
            " extracting: dataset/labels/train/img979.txt  \n",
            " extracting: dataset/labels/train/img98.txt  \n",
            "  inflating: dataset/labels/train/img980.txt  \n",
            "  inflating: dataset/labels/train/img981.txt  \n",
            "  inflating: dataset/labels/train/img982.txt  \n",
            " extracting: dataset/labels/train/img984.txt  \n",
            " extracting: dataset/labels/train/img985.txt  \n",
            " extracting: dataset/labels/train/img986.txt  \n",
            " extracting: dataset/labels/train/img987.txt  \n",
            " extracting: dataset/labels/train/img988.txt  \n",
            "  inflating: dataset/labels/train/img989.txt  \n",
            " extracting: dataset/labels/train/img99.txt  \n",
            "  inflating: dataset/labels/train/img990.txt  \n",
            " extracting: dataset/labels/train/img991.txt  \n",
            "  inflating: dataset/labels/train/img992.txt  \n",
            "  inflating: dataset/labels/train/img993.txt  \n",
            " extracting: dataset/labels/train/img994.txt  \n",
            " extracting: dataset/labels/train/img995.txt  \n",
            " extracting: dataset/labels/train/img996.txt  \n",
            " extracting: dataset/labels/train/img997.txt  \n",
            " extracting: dataset/labels/train/img998.txt  \n",
            "   creating: dataset/labels/val/\n",
            " extracting: dataset/labels/val/img1002.txt  \n",
            " extracting: dataset/labels/val/img1008.txt  \n",
            " extracting: dataset/labels/val/img1014.txt  \n",
            " extracting: dataset/labels/val/img1020.txt  \n",
            " extracting: dataset/labels/val/img1023.txt  \n",
            " extracting: dataset/labels/val/img1024.txt  \n",
            " extracting: dataset/labels/val/img1027.txt  \n",
            " extracting: dataset/labels/val/img103.txt  \n",
            " extracting: dataset/labels/val/img1032.txt  \n",
            " extracting: dataset/labels/val/img1033.txt  \n",
            " extracting: dataset/labels/val/img1044.txt  \n",
            " extracting: dataset/labels/val/img1045.txt  \n",
            " extracting: dataset/labels/val/img1047.txt  \n",
            " extracting: dataset/labels/val/img1049.txt  \n",
            " extracting: dataset/labels/val/img1055.txt  \n",
            " extracting: dataset/labels/val/img1057.txt  \n",
            " extracting: dataset/labels/val/img1059.txt  \n",
            " extracting: dataset/labels/val/img1063.txt  \n",
            " extracting: dataset/labels/val/img1069.txt  \n",
            " extracting: dataset/labels/val/img1070.txt  \n",
            " extracting: dataset/labels/val/img1071.txt  \n",
            " extracting: dataset/labels/val/img1076.txt  \n",
            " extracting: dataset/labels/val/img1077.txt  \n",
            " extracting: dataset/labels/val/img1079.txt  \n",
            " extracting: dataset/labels/val/img1081.txt  \n",
            " extracting: dataset/labels/val/img1095.txt  \n",
            " extracting: dataset/labels/val/img1098.txt  \n",
            " extracting: dataset/labels/val/img1101.txt  \n",
            " extracting: dataset/labels/val/img1111.txt  \n",
            " extracting: dataset/labels/val/img1112.txt  \n",
            " extracting: dataset/labels/val/img1117.txt  \n",
            " extracting: dataset/labels/val/img1126.txt  \n",
            " extracting: dataset/labels/val/img1127.txt  \n",
            " extracting: dataset/labels/val/img1131.txt  \n",
            " extracting: dataset/labels/val/img1147.txt  \n",
            " extracting: dataset/labels/val/img1149.txt  \n",
            " extracting: dataset/labels/val/img1153.txt  \n",
            " extracting: dataset/labels/val/img1156.txt  \n",
            " extracting: dataset/labels/val/img1157.txt  \n",
            " extracting: dataset/labels/val/img1170.txt  \n",
            " extracting: dataset/labels/val/img1174.txt  \n",
            " extracting: dataset/labels/val/img1180.txt  \n",
            " extracting: dataset/labels/val/img1183.txt  \n",
            " extracting: dataset/labels/val/img1186.txt  \n",
            " extracting: dataset/labels/val/img1188.txt  \n",
            " extracting: dataset/labels/val/img1196.txt  \n",
            " extracting: dataset/labels/val/img1198.txt  \n",
            " extracting: dataset/labels/val/img1217.txt  \n",
            " extracting: dataset/labels/val/img1218.txt  \n",
            "  inflating: dataset/labels/val/img1228.txt  \n",
            " extracting: dataset/labels/val/img1236.txt  \n",
            "  inflating: dataset/labels/val/img1247.txt  \n",
            " extracting: dataset/labels/val/img125.txt  \n",
            "  inflating: dataset/labels/val/img1254.txt  \n",
            "  inflating: dataset/labels/val/img1259.txt  \n",
            "  inflating: dataset/labels/val/img1267.txt  \n",
            " extracting: dataset/labels/val/img127.txt  \n",
            " extracting: dataset/labels/val/img1270.txt  \n",
            "  inflating: dataset/labels/val/img1275.txt  \n",
            " extracting: dataset/labels/val/img128.txt  \n",
            " extracting: dataset/labels/val/img1283.txt  \n",
            " extracting: dataset/labels/val/img1292.txt  \n",
            "  inflating: dataset/labels/val/img13.txt  \n",
            " extracting: dataset/labels/val/img130.txt  \n",
            "  inflating: dataset/labels/val/img1300.txt  \n",
            "  inflating: dataset/labels/val/img1311.txt  \n",
            "  inflating: dataset/labels/val/img1314.txt  \n",
            " extracting: dataset/labels/val/img132.txt  \n",
            " extracting: dataset/labels/val/img1322.txt  \n",
            " extracting: dataset/labels/val/img1323.txt  \n",
            " extracting: dataset/labels/val/img1324.txt  \n",
            " extracting: dataset/labels/val/img1325.txt  \n",
            "  inflating: dataset/labels/val/img1326.txt  \n",
            "  inflating: dataset/labels/val/img1329.txt  \n",
            " extracting: dataset/labels/val/img133.txt  \n",
            "  inflating: dataset/labels/val/img1334.txt  \n",
            "  inflating: dataset/labels/val/img1339.txt  \n",
            "  inflating: dataset/labels/val/img1340.txt  \n",
            " extracting: dataset/labels/val/img1341.txt  \n",
            " extracting: dataset/labels/val/img1347.txt  \n",
            "  inflating: dataset/labels/val/img1350.txt  \n",
            "  inflating: dataset/labels/val/img1355.txt  \n",
            "  inflating: dataset/labels/val/img1359.txt  \n",
            "  inflating: dataset/labels/val/img1361.txt  \n",
            "  inflating: dataset/labels/val/img1362.txt  \n",
            "  inflating: dataset/labels/val/img1364.txt  \n",
            " extracting: dataset/labels/val/img1368.txt  \n",
            "  inflating: dataset/labels/val/img1373.txt  \n",
            " extracting: dataset/labels/val/img1375.txt  \n",
            "  inflating: dataset/labels/val/img1378.txt  \n",
            "  inflating: dataset/labels/val/img1387.txt  \n",
            "  inflating: dataset/labels/val/img1388.txt  \n",
            "  inflating: dataset/labels/val/img1392.txt  \n",
            "  inflating: dataset/labels/val/img1396.txt  \n",
            "  inflating: dataset/labels/val/img1399.txt  \n",
            "  inflating: dataset/labels/val/img14.txt  \n",
            "  inflating: dataset/labels/val/img1402.txt  \n",
            "  inflating: dataset/labels/val/img1406.txt  \n",
            " extracting: dataset/labels/val/img141.txt  \n",
            "  inflating: dataset/labels/val/img1410.txt  \n",
            " extracting: dataset/labels/val/img1411.txt  \n",
            " extracting: dataset/labels/val/img1413.txt  \n",
            " extracting: dataset/labels/val/img1414.txt  \n",
            " extracting: dataset/labels/val/img1415.txt  \n",
            " extracting: dataset/labels/val/img1430.txt  \n",
            " extracting: dataset/labels/val/img1438.txt  \n",
            " extracting: dataset/labels/val/img1439.txt  \n",
            " extracting: dataset/labels/val/img1440.txt  \n",
            " extracting: dataset/labels/val/img145.txt  \n",
            " extracting: dataset/labels/val/img1452.txt  \n",
            " extracting: dataset/labels/val/img1455.txt  \n",
            " extracting: dataset/labels/val/img1459.txt  \n",
            " extracting: dataset/labels/val/img1467.txt  \n",
            " extracting: dataset/labels/val/img1474.txt  \n",
            " extracting: dataset/labels/val/img148.txt  \n",
            " extracting: dataset/labels/val/img15.txt  \n",
            " extracting: dataset/labels/val/img1505.txt  \n",
            "  inflating: dataset/labels/val/img1519.txt  \n",
            " extracting: dataset/labels/val/img1520.txt  \n",
            "  inflating: dataset/labels/val/img1526.txt  \n",
            "  inflating: dataset/labels/val/img1527.txt  \n",
            " extracting: dataset/labels/val/img1530.txt  \n",
            "  inflating: dataset/labels/val/img1534.txt  \n",
            " extracting: dataset/labels/val/img1538.txt  \n",
            "  inflating: dataset/labels/val/img1541.txt  \n",
            "  inflating: dataset/labels/val/img1542.txt  \n",
            " extracting: dataset/labels/val/img1543.txt  \n",
            " extracting: dataset/labels/val/img1544.txt  \n",
            "  inflating: dataset/labels/val/img1557.txt  \n",
            "  inflating: dataset/labels/val/img1558.txt  \n",
            "  inflating: dataset/labels/val/img1563.txt  \n",
            " extracting: dataset/labels/val/img1567.txt  \n",
            " extracting: dataset/labels/val/img1568.txt  \n",
            " extracting: dataset/labels/val/img1571.txt  \n",
            " extracting: dataset/labels/val/img1573.txt  \n",
            " extracting: dataset/labels/val/img1579.txt  \n",
            " extracting: dataset/labels/val/img1584.txt  \n",
            " extracting: dataset/labels/val/img1588.txt  \n",
            " extracting: dataset/labels/val/img1595.txt  \n",
            " extracting: dataset/labels/val/img1599.txt  \n",
            " extracting: dataset/labels/val/img1600.txt  \n",
            " extracting: dataset/labels/val/img1607.txt  \n",
            " extracting: dataset/labels/val/img1617.txt  \n",
            " extracting: dataset/labels/val/img1621.txt  \n",
            " extracting: dataset/labels/val/img1634.txt  \n",
            "  inflating: dataset/labels/val/img1637.txt  \n",
            " extracting: dataset/labels/val/img1647.txt  \n",
            "  inflating: dataset/labels/val/img165.txt  \n",
            " extracting: dataset/labels/val/img1650.txt  \n",
            " extracting: dataset/labels/val/img1652.txt  \n",
            " extracting: dataset/labels/val/img1654.txt  \n",
            " extracting: dataset/labels/val/img1659.txt  \n",
            "  inflating: dataset/labels/val/img166.txt  \n",
            " extracting: dataset/labels/val/img1662.txt  \n",
            " extracting: dataset/labels/val/img1666.txt  \n",
            " extracting: dataset/labels/val/img1670.txt  \n",
            " extracting: dataset/labels/val/img1675.txt  \n",
            " extracting: dataset/labels/val/img1695.txt  \n",
            " extracting: dataset/labels/val/img1698.txt  \n",
            " extracting: dataset/labels/val/img1699.txt  \n",
            "  inflating: dataset/labels/val/img170.txt  \n",
            " extracting: dataset/labels/val/img1702.txt  \n",
            " extracting: dataset/labels/val/img1707.txt  \n",
            " extracting: dataset/labels/val/img1710.txt  \n",
            " extracting: dataset/labels/val/img1711.txt  \n",
            " extracting: dataset/labels/val/img1714.txt  \n",
            " extracting: dataset/labels/val/img1715.txt  \n",
            " extracting: dataset/labels/val/img1719.txt  \n",
            " extracting: dataset/labels/val/img1726.txt  \n",
            " extracting: dataset/labels/val/img1729.txt  \n",
            " extracting: dataset/labels/val/img1732.txt  \n",
            " extracting: dataset/labels/val/img1736.txt  \n",
            "  inflating: dataset/labels/val/img1740.txt  \n",
            " extracting: dataset/labels/val/img1748.txt  \n",
            " extracting: dataset/labels/val/img1757.txt  \n",
            " extracting: dataset/labels/val/img1759.txt  \n",
            "  inflating: dataset/labels/val/img1770.txt  \n",
            "  inflating: dataset/labels/val/img1771.txt  \n",
            "  inflating: dataset/labels/val/img1778.txt  \n",
            "  inflating: dataset/labels/val/img178.txt  \n",
            " extracting: dataset/labels/val/img1783.txt  \n",
            " extracting: dataset/labels/val/img179.txt  \n",
            "  inflating: dataset/labels/val/img1795.txt  \n",
            "  inflating: dataset/labels/val/img1796.txt  \n",
            "  inflating: dataset/labels/val/img1802.txt  \n",
            "  inflating: dataset/labels/val/img1805.txt  \n",
            " extracting: dataset/labels/val/img1813.txt  \n",
            " extracting: dataset/labels/val/img1814.txt  \n",
            " extracting: dataset/labels/val/img1818.txt  \n",
            "  inflating: dataset/labels/val/img1819.txt  \n",
            "  inflating: dataset/labels/val/img182.txt  \n",
            "  inflating: dataset/labels/val/img1821.txt  \n",
            "  inflating: dataset/labels/val/img1828.txt  \n",
            "  inflating: dataset/labels/val/img1837.txt  \n",
            "  inflating: dataset/labels/val/img1845.txt  \n",
            " extracting: dataset/labels/val/img1850.txt  \n",
            "  inflating: dataset/labels/val/img1854.txt  \n",
            "  inflating: dataset/labels/val/img1857.txt  \n",
            " extracting: dataset/labels/val/img1863.txt  \n",
            " extracting: dataset/labels/val/img1872.txt  \n",
            " extracting: dataset/labels/val/img1882.txt  \n",
            "  inflating: dataset/labels/val/img1883.txt  \n",
            " extracting: dataset/labels/val/img1884.txt  \n",
            " extracting: dataset/labels/val/img1886.txt  \n",
            "  inflating: dataset/labels/val/img189.txt  \n",
            " extracting: dataset/labels/val/img1899.txt  \n",
            " extracting: dataset/labels/val/img1901.txt  \n",
            "  inflating: dataset/labels/val/img1903.txt  \n",
            " extracting: dataset/labels/val/img1908.txt  \n",
            "  inflating: dataset/labels/val/img1912.txt  \n",
            " extracting: dataset/labels/val/img1914.txt  \n",
            "  inflating: dataset/labels/val/img1917.txt  \n",
            "  inflating: dataset/labels/val/img1918.txt  \n",
            "  inflating: dataset/labels/val/img1922.txt  \n",
            "  inflating: dataset/labels/val/img1924.txt  \n",
            "  inflating: dataset/labels/val/img1930.txt  \n",
            "  inflating: dataset/labels/val/img1938.txt  \n",
            " extracting: dataset/labels/val/img1940.txt  \n",
            " extracting: dataset/labels/val/img1942.txt  \n",
            " extracting: dataset/labels/val/img1944.txt  \n",
            "  inflating: dataset/labels/val/img195.txt  \n",
            "  inflating: dataset/labels/val/img1950.txt  \n",
            " extracting: dataset/labels/val/img1956.txt  \n",
            "  inflating: dataset/labels/val/img1958.txt  \n",
            " extracting: dataset/labels/val/img1959.txt  \n",
            "  inflating: dataset/labels/val/img1962.txt  \n",
            " extracting: dataset/labels/val/img1963.txt  \n",
            "  inflating: dataset/labels/val/img1964.txt  \n",
            " extracting: dataset/labels/val/img1967.txt  \n",
            "  inflating: dataset/labels/val/img1973.txt  \n",
            "  inflating: dataset/labels/val/img1978.txt  \n",
            " extracting: dataset/labels/val/img1980.txt  \n",
            " extracting: dataset/labels/val/img1982.txt  \n",
            "  inflating: dataset/labels/val/img1983.txt  \n",
            "  inflating: dataset/labels/val/img1993.txt  \n",
            " extracting: dataset/labels/val/img20.txt  \n",
            "  inflating: dataset/labels/val/img2001.txt  \n",
            "  inflating: dataset/labels/val/img2005.txt  \n",
            "  inflating: dataset/labels/val/img2008.txt  \n",
            " extracting: dataset/labels/val/img2012.txt  \n",
            "  inflating: dataset/labels/val/img2017.txt  \n",
            "  inflating: dataset/labels/val/img2021.txt  \n",
            " extracting: dataset/labels/val/img2027.txt  \n",
            "  inflating: dataset/labels/val/img2031.txt  \n",
            " extracting: dataset/labels/val/img2039.txt  \n",
            "  inflating: dataset/labels/val/img2040.txt  \n",
            "  inflating: dataset/labels/val/img2041.txt  \n",
            "  inflating: dataset/labels/val/img2049.txt  \n",
            "  inflating: dataset/labels/val/img2051.txt  \n",
            "  inflating: dataset/labels/val/img2054.txt  \n",
            " extracting: dataset/labels/val/img2055.txt  \n",
            "  inflating: dataset/labels/val/img2058.txt  \n",
            "  inflating: dataset/labels/val/img2065.txt  \n",
            " extracting: dataset/labels/val/img2077.txt  \n",
            "  inflating: dataset/labels/val/img2080.txt  \n",
            "  inflating: dataset/labels/val/img2082.txt  \n",
            " extracting: dataset/labels/val/img2087.txt  \n",
            "  inflating: dataset/labels/val/img2094.txt  \n",
            "  inflating: dataset/labels/val/img2097.txt  \n",
            " extracting: dataset/labels/val/img2103.txt  \n",
            "  inflating: dataset/labels/val/img2113.txt  \n",
            "  inflating: dataset/labels/val/img213.txt  \n",
            "  inflating: dataset/labels/val/img215.txt  \n",
            " extracting: dataset/labels/val/img228.txt  \n",
            "  inflating: dataset/labels/val/img236.txt  \n",
            "  inflating: dataset/labels/val/img238.txt  \n",
            " extracting: dataset/labels/val/img24.txt  \n",
            "  inflating: dataset/labels/val/img240.txt  \n",
            " extracting: dataset/labels/val/img242.txt  \n",
            " extracting: dataset/labels/val/img253.txt  \n",
            "  inflating: dataset/labels/val/img263.txt  \n",
            "  inflating: dataset/labels/val/img266.txt  \n",
            "  inflating: dataset/labels/val/img270.txt  \n",
            "  inflating: dataset/labels/val/img272.txt  \n",
            "  inflating: dataset/labels/val/img276.txt  \n",
            "  inflating: dataset/labels/val/img278.txt  \n",
            "  inflating: dataset/labels/val/img280.txt  \n",
            "  inflating: dataset/labels/val/img283.txt  \n",
            " extracting: dataset/labels/val/img298.txt  \n",
            "  inflating: dataset/labels/val/img301.txt  \n",
            "  inflating: dataset/labels/val/img304.txt  \n",
            " extracting: dataset/labels/val/img305.txt  \n",
            " extracting: dataset/labels/val/img31.txt  \n",
            " extracting: dataset/labels/val/img315.txt  \n",
            "  inflating: dataset/labels/val/img316.txt  \n",
            "  inflating: dataset/labels/val/img323.txt  \n",
            " extracting: dataset/labels/val/img324.txt  \n",
            " extracting: dataset/labels/val/img330.txt  \n",
            " extracting: dataset/labels/val/img34.txt  \n",
            " extracting: dataset/labels/val/img340.txt  \n",
            " extracting: dataset/labels/val/img341.txt  \n",
            "  inflating: dataset/labels/val/img347.txt  \n",
            "  inflating: dataset/labels/val/img349.txt  \n",
            "  inflating: dataset/labels/val/img353.txt  \n",
            "  inflating: dataset/labels/val/img354.txt  \n",
            "  inflating: dataset/labels/val/img355.txt  \n",
            "  inflating: dataset/labels/val/img359.txt  \n",
            " extracting: dataset/labels/val/img37.txt  \n",
            "  inflating: dataset/labels/val/img370.txt  \n",
            "  inflating: dataset/labels/val/img378.txt  \n",
            " extracting: dataset/labels/val/img387.txt  \n",
            " extracting: dataset/labels/val/img393.txt  \n",
            "  inflating: dataset/labels/val/img394.txt  \n",
            "  inflating: dataset/labels/val/img398.txt  \n",
            " extracting: dataset/labels/val/img401.txt  \n",
            " extracting: dataset/labels/val/img404.txt  \n",
            "  inflating: dataset/labels/val/img406.txt  \n",
            " extracting: dataset/labels/val/img409.txt  \n",
            " extracting: dataset/labels/val/img413.txt  \n",
            "  inflating: dataset/labels/val/img417.txt  \n",
            " extracting: dataset/labels/val/img42.txt  \n",
            " extracting: dataset/labels/val/img433.txt  \n",
            " extracting: dataset/labels/val/img435.txt  \n",
            " extracting: dataset/labels/val/img440.txt  \n",
            " extracting: dataset/labels/val/img443.txt  \n",
            "  inflating: dataset/labels/val/img446.txt  \n",
            " extracting: dataset/labels/val/img451.txt  \n",
            " extracting: dataset/labels/val/img454.txt  \n",
            "  inflating: dataset/labels/val/img470.txt  \n",
            "  inflating: dataset/labels/val/img476.txt  \n",
            "  inflating: dataset/labels/val/img479.txt  \n",
            "  inflating: dataset/labels/val/img483.txt  \n",
            "  inflating: dataset/labels/val/img485.txt  \n",
            " extracting: dataset/labels/val/img488.txt  \n",
            " extracting: dataset/labels/val/img490.txt  \n",
            "  inflating: dataset/labels/val/img495.txt  \n",
            " extracting: dataset/labels/val/img496.txt  \n",
            " extracting: dataset/labels/val/img500.txt  \n",
            " extracting: dataset/labels/val/img501.txt  \n",
            "  inflating: dataset/labels/val/img506.txt  \n",
            "  inflating: dataset/labels/val/img519.txt  \n",
            "  inflating: dataset/labels/val/img520.txt  \n",
            " extracting: dataset/labels/val/img524.txt  \n",
            "  inflating: dataset/labels/val/img529.txt  \n",
            " extracting: dataset/labels/val/img548.txt  \n",
            " extracting: dataset/labels/val/img554.txt  \n",
            "  inflating: dataset/labels/val/img562.txt  \n",
            "  inflating: dataset/labels/val/img566.txt  \n",
            "  inflating: dataset/labels/val/img568.txt  \n",
            " extracting: dataset/labels/val/img579.txt  \n",
            " extracting: dataset/labels/val/img590.txt  \n",
            " extracting: dataset/labels/val/img591.txt  \n",
            " extracting: dataset/labels/val/img595.txt  \n",
            " extracting: dataset/labels/val/img60.txt  \n",
            " extracting: dataset/labels/val/img601.txt  \n",
            " extracting: dataset/labels/val/img607.txt  \n",
            " extracting: dataset/labels/val/img61.txt  \n",
            " extracting: dataset/labels/val/img614.txt  \n",
            " extracting: dataset/labels/val/img620.txt  \n",
            " extracting: dataset/labels/val/img626.txt  \n",
            " extracting: dataset/labels/val/img628.txt  \n",
            " extracting: dataset/labels/val/img633.txt  \n",
            "  inflating: dataset/labels/val/img641.txt  \n",
            " extracting: dataset/labels/val/img643.txt  \n",
            "  inflating: dataset/labels/val/img644.txt  \n",
            " extracting: dataset/labels/val/img657.txt  \n",
            "  inflating: dataset/labels/val/img660.txt  \n",
            "  inflating: dataset/labels/val/img661.txt  \n",
            " extracting: dataset/labels/val/img662.txt  \n",
            " extracting: dataset/labels/val/img666.txt  \n",
            "  inflating: dataset/labels/val/img671.txt  \n",
            " extracting: dataset/labels/val/img676.txt  \n",
            "  inflating: dataset/labels/val/img678.txt  \n",
            " extracting: dataset/labels/val/img685.txt  \n",
            " extracting: dataset/labels/val/img695.txt  \n",
            "  inflating: dataset/labels/val/img705.txt  \n",
            " extracting: dataset/labels/val/img708.txt  \n",
            " extracting: dataset/labels/val/img709.txt  \n",
            "  inflating: dataset/labels/val/img710.txt  \n",
            "  inflating: dataset/labels/val/img711.txt  \n",
            " extracting: dataset/labels/val/img712.txt  \n",
            " extracting: dataset/labels/val/img729.txt  \n",
            " extracting: dataset/labels/val/img730.txt  \n",
            " extracting: dataset/labels/val/img743.txt  \n",
            " extracting: dataset/labels/val/img744.txt  \n",
            " extracting: dataset/labels/val/img746.txt  \n",
            " extracting: dataset/labels/val/img749.txt  \n",
            " extracting: dataset/labels/val/img761.txt  \n",
            " extracting: dataset/labels/val/img766.txt  \n",
            " extracting: dataset/labels/val/img771.txt  \n",
            "  inflating: dataset/labels/val/img773.txt  \n",
            " extracting: dataset/labels/val/img777.txt  \n",
            " extracting: dataset/labels/val/img790.txt  \n",
            " extracting: dataset/labels/val/img798.txt  \n",
            "  inflating: dataset/labels/val/img805.txt  \n",
            " extracting: dataset/labels/val/img808.txt  \n",
            "  inflating: dataset/labels/val/img809.txt  \n",
            "  inflating: dataset/labels/val/img819.txt  \n",
            " extracting: dataset/labels/val/img820.txt  \n",
            " extracting: dataset/labels/val/img842.txt  \n",
            " extracting: dataset/labels/val/img846.txt  \n",
            " extracting: dataset/labels/val/img861.txt  \n",
            " extracting: dataset/labels/val/img862.txt  \n",
            " extracting: dataset/labels/val/img865.txt  \n",
            " extracting: dataset/labels/val/img866.txt  \n",
            " extracting: dataset/labels/val/img871.txt  \n",
            " extracting: dataset/labels/val/img874.txt  \n",
            " extracting: dataset/labels/val/img878.txt  \n",
            " extracting: dataset/labels/val/img880.txt  \n",
            "  inflating: dataset/labels/val/img889.txt  \n",
            " extracting: dataset/labels/val/img895.txt  \n",
            "  inflating: dataset/labels/val/img9.txt  \n",
            "  inflating: dataset/labels/val/img902.txt  \n",
            " extracting: dataset/labels/val/img904.txt  \n",
            " extracting: dataset/labels/val/img913.txt  \n",
            " extracting: dataset/labels/val/img916.txt  \n",
            " extracting: dataset/labels/val/img926.txt  \n",
            "  inflating: dataset/labels/val/img930.txt  \n",
            " extracting: dataset/labels/val/img943.txt  \n",
            "  inflating: dataset/labels/val/img949.txt  \n",
            " extracting: dataset/labels/val/img95.txt  \n",
            "  inflating: dataset/labels/val/img955.txt  \n",
            " extracting: dataset/labels/val/img964.txt  \n",
            " extracting: dataset/labels/val/img968.txt  \n",
            " extracting: dataset/labels/val/img975.txt  \n",
            " extracting: dataset/labels/val/img977.txt  \n",
            " extracting: dataset/labels/val/img983.txt  \n",
            " extracting: dataset/labels/val/img999.txt  \n"
          ]
        }
      ]
    },
    {
      "cell_type": "code",
      "source": [
        "import os\n",
        "import shutil\n",
        "import random\n",
        "\n",
        "# Paths\n",
        "val_images_path = 'dataset/images/val'\n",
        "val_labels_path = 'dataset/labels/val'\n",
        "\n",
        "test_images_path = 'dataset/images/test'\n",
        "test_labels_path = 'dataset/labels/test'\n",
        "\n",
        "# Create folders\n",
        "os.makedirs(test_images_path, exist_ok=True)\n",
        "os.makedirs(test_labels_path, exist_ok=True)\n",
        "\n",
        "val_images = os.listdir(val_images_path)\n",
        "\n",
        "test_split_count = int(len(val_images) * 0.5)\n",
        "test_files = random.sample(val_images, test_split_count)\n",
        "\n",
        "# Move files\n",
        "for file in test_files:\n",
        "    shutil.move(os.path.join(val_images_path, file), os.path.join(test_images_path, file))\n",
        "\n",
        "    label_file = file.replace('.jpg', '.txt').replace('.png', '.txt')\n",
        "    if os.path.exists(os.path.join(val_labels_path, label_file)):\n",
        "        shutil.move(os.path.join(val_labels_path, label_file), os.path.join(test_labels_path, label_file))\n"
      ],
      "metadata": {
        "id": "oURIIMM8morB"
      },
      "execution_count": 4,
      "outputs": []
    },
    {
      "cell_type": "code",
      "source": [
        "# Train the model\n",
        "\n",
        "# Load model\n",
        "model = YOLO('yolov8n.pt')\n",
        "\n",
        "model.train(\n",
        "    data='dataset/data.yml',\n",
        "    epochs=50,\n",
        "    imgsz=640,\n",
        "    batch=16,\n",
        ")"
      ],
      "metadata": {
        "colab": {
          "base_uri": "https://localhost:8080/"
        },
        "id": "4QuFWAYADpeO",
        "outputId": "c2003502-f7f6-44d1-aa07-2d1eb5d0c90c"
      },
      "execution_count": 11,
      "outputs": [
        {
          "output_type": "stream",
          "name": "stdout",
          "text": [
            "Ultralytics 8.3.176 🚀 Python-3.11.13 torch-2.6.0+cu124 CUDA:0 (Tesla T4, 15095MiB)\n",
            "\u001b[34m\u001b[1mengine/trainer: \u001b[0magnostic_nms=False, amp=True, augment=False, auto_augment=randaugment, batch=16, bgr=0.0, box=7.5, cache=False, cfg=None, classes=None, close_mosaic=10, cls=0.5, conf=None, copy_paste=0.0, copy_paste_mode=flip, cos_lr=False, cutmix=0.0, data=dataset/data.yml, degrees=0.0, deterministic=True, device=None, dfl=1.5, dnn=False, dropout=0.0, dynamic=False, embed=None, epochs=50, erasing=0.4, exist_ok=False, fliplr=0.5, flipud=0.0, format=torchscript, fraction=1.0, freeze=None, half=False, hsv_h=0.015, hsv_s=0.7, hsv_v=0.4, imgsz=640, int8=False, iou=0.7, keras=False, kobj=1.0, line_width=None, lr0=0.01, lrf=0.01, mask_ratio=4, max_det=300, mixup=0.0, mode=train, model=yolov8n.pt, momentum=0.937, mosaic=1.0, multi_scale=False, name=train5, nbs=64, nms=False, opset=None, optimize=False, optimizer=auto, overlap_mask=True, patience=100, perspective=0.0, plots=True, pose=12.0, pretrained=True, profile=False, project=None, rect=False, resume=False, retina_masks=False, save=True, save_conf=False, save_crop=False, save_dir=runs/detect/train5, save_frames=False, save_json=False, save_period=-1, save_txt=False, scale=0.5, seed=0, shear=0.0, show=False, show_boxes=True, show_conf=True, show_labels=True, simplify=True, single_cls=False, source=None, split=val, stream_buffer=False, task=detect, time=None, tracker=botsort.yaml, translate=0.1, val=True, verbose=True, vid_stride=1, visualize=False, warmup_bias_lr=0.1, warmup_epochs=3.0, warmup_momentum=0.8, weight_decay=0.0005, workers=8, workspace=None\n",
            "Overriding model.yaml nc=80 with nc=6\n",
            "\n",
            "                   from  n    params  module                                       arguments                     \n",
            "  0                  -1  1       464  ultralytics.nn.modules.conv.Conv             [3, 16, 3, 2]                 \n",
            "  1                  -1  1      4672  ultralytics.nn.modules.conv.Conv             [16, 32, 3, 2]                \n",
            "  2                  -1  1      7360  ultralytics.nn.modules.block.C2f             [32, 32, 1, True]             \n",
            "  3                  -1  1     18560  ultralytics.nn.modules.conv.Conv             [32, 64, 3, 2]                \n",
            "  4                  -1  2     49664  ultralytics.nn.modules.block.C2f             [64, 64, 2, True]             \n",
            "  5                  -1  1     73984  ultralytics.nn.modules.conv.Conv             [64, 128, 3, 2]               \n",
            "  6                  -1  2    197632  ultralytics.nn.modules.block.C2f             [128, 128, 2, True]           \n",
            "  7                  -1  1    295424  ultralytics.nn.modules.conv.Conv             [128, 256, 3, 2]              \n",
            "  8                  -1  1    460288  ultralytics.nn.modules.block.C2f             [256, 256, 1, True]           \n",
            "  9                  -1  1    164608  ultralytics.nn.modules.block.SPPF            [256, 256, 5]                 \n",
            " 10                  -1  1         0  torch.nn.modules.upsampling.Upsample         [None, 2, 'nearest']          \n",
            " 11             [-1, 6]  1         0  ultralytics.nn.modules.conv.Concat           [1]                           \n",
            " 12                  -1  1    148224  ultralytics.nn.modules.block.C2f             [384, 128, 1]                 \n",
            " 13                  -1  1         0  torch.nn.modules.upsampling.Upsample         [None, 2, 'nearest']          \n",
            " 14             [-1, 4]  1         0  ultralytics.nn.modules.conv.Concat           [1]                           \n",
            " 15                  -1  1     37248  ultralytics.nn.modules.block.C2f             [192, 64, 1]                  \n",
            " 16                  -1  1     36992  ultralytics.nn.modules.conv.Conv             [64, 64, 3, 2]                \n",
            " 17            [-1, 12]  1         0  ultralytics.nn.modules.conv.Concat           [1]                           \n",
            " 18                  -1  1    123648  ultralytics.nn.modules.block.C2f             [192, 128, 1]                 \n",
            " 19                  -1  1    147712  ultralytics.nn.modules.conv.Conv             [128, 128, 3, 2]              \n",
            " 20             [-1, 9]  1         0  ultralytics.nn.modules.conv.Concat           [1]                           \n",
            " 21                  -1  1    493056  ultralytics.nn.modules.block.C2f             [384, 256, 1]                 \n",
            " 22        [15, 18, 21]  1    752482  ultralytics.nn.modules.head.Detect           [6, [64, 128, 256]]           \n",
            "Model summary: 129 layers, 3,012,018 parameters, 3,012,002 gradients, 8.2 GFLOPs\n",
            "\n",
            "Transferred 319/355 items from pretrained weights\n",
            "Freezing layer 'model.22.dfl.conv.weight'\n",
            "\u001b[34m\u001b[1mAMP: \u001b[0mrunning Automatic Mixed Precision (AMP) checks...\n",
            "\u001b[34m\u001b[1mAMP: \u001b[0mchecks passed ✅\n",
            "\u001b[34m\u001b[1mtrain: \u001b[0mFast image access ✅ (ping: 0.0±0.0 ms, read: 1385.6±532.1 MB/s, size: 65.8 KB)\n"
          ]
        },
        {
          "output_type": "stream",
          "name": "stderr",
          "text": [
            "\u001b[34m\u001b[1mtrain: \u001b[0mScanning /content/dataset/labels/train.cache... 1672 images, 490 backgrounds, 0 corrupt: 100%|██████████| 1672/1672 [00:00<?, ?it/s]"
          ]
        },
        {
          "output_type": "stream",
          "name": "stdout",
          "text": [
            "\u001b[34m\u001b[1mtrain: \u001b[0m/content/dataset/images/train/img1683.jpg: corrupt JPEG restored and saved\n",
            "\u001b[34m\u001b[1mtrain: \u001b[0m/content/dataset/images/train/img368.jpg: corrupt JPEG restored and saved\n",
            "\u001b[34m\u001b[1mtrain: \u001b[0m/content/dataset/images/train/img789.jpg: corrupt JPEG restored and saved\n",
            "\u001b[34m\u001b[1malbumentations: \u001b[0mBlur(p=0.01, blur_limit=(3, 7)), MedianBlur(p=0.01, blur_limit=(3, 7)), ToGray(p=0.01, method='weighted_average', num_output_channels=3), CLAHE(p=0.01, clip_limit=(1.0, 4.0), tile_grid_size=(8, 8))\n"
          ]
        },
        {
          "output_type": "stream",
          "name": "stderr",
          "text": [
            "\n"
          ]
        },
        {
          "output_type": "stream",
          "name": "stdout",
          "text": [
            "\u001b[34m\u001b[1mval: \u001b[0mFast image access ✅ (ping: 0.0±0.0 ms, read: 433.8±163.1 MB/s, size: 311.2 KB)\n"
          ]
        },
        {
          "output_type": "stream",
          "name": "stderr",
          "text": [
            "\u001b[34m\u001b[1mval: \u001b[0mScanning /content/dataset/labels/val.cache... 209 images, 51 backgrounds, 0 corrupt: 100%|██████████| 209/209 [00:00<?, ?it/s]"
          ]
        },
        {
          "output_type": "stream",
          "name": "stdout",
          "text": [
            "\u001b[34m\u001b[1mval: \u001b[0m/content/dataset/images/val/img340.jpg: corrupt JPEG restored and saved\n",
            "\u001b[34m\u001b[1mval: \u001b[0m/content/dataset/images/val/img354.jpg: corrupt JPEG restored and saved\n",
            "\u001b[34m\u001b[1mval: \u001b[0m/content/dataset/images/val/img790.jpg: corrupt JPEG restored and saved\n"
          ]
        },
        {
          "output_type": "stream",
          "name": "stderr",
          "text": [
            "\n"
          ]
        },
        {
          "output_type": "stream",
          "name": "stdout",
          "text": [
            "Plotting labels to runs/detect/train5/labels.jpg... \n",
            "\u001b[34m\u001b[1moptimizer:\u001b[0m 'optimizer=auto' found, ignoring 'lr0=0.01' and 'momentum=0.937' and determining best 'optimizer', 'lr0' and 'momentum' automatically... \n",
            "\u001b[34m\u001b[1moptimizer:\u001b[0m AdamW(lr=0.001, momentum=0.9) with parameter groups 57 weight(decay=0.0), 64 weight(decay=0.0005), 63 bias(decay=0.0)\n",
            "Image sizes 640 train, 640 val\n",
            "Using 2 dataloader workers\n",
            "Logging results to \u001b[1mruns/detect/train5\u001b[0m\n",
            "Starting training for 50 epochs...\n",
            "\n",
            "      Epoch    GPU_mem   box_loss   cls_loss   dfl_loss  Instances       Size\n"
          ]
        },
        {
          "output_type": "stream",
          "name": "stderr",
          "text": [
            "       1/50      2.18G      2.002       3.97      2.011         21        640: 100%|██████████| 105/105 [00:57<00:00,  1.82it/s]\n",
            "                 Class     Images  Instances      Box(P          R      mAP50  mAP50-95): 100%|██████████| 7/7 [00:04<00:00,  1.60it/s]"
          ]
        },
        {
          "output_type": "stream",
          "name": "stdout",
          "text": [
            "                   all        209        248      0.281       0.18      0.163     0.0563\n"
          ]
        },
        {
          "output_type": "stream",
          "name": "stderr",
          "text": [
            "\n"
          ]
        },
        {
          "output_type": "stream",
          "name": "stdout",
          "text": [
            "\n",
            "      Epoch    GPU_mem   box_loss   cls_loss   dfl_loss  Instances       Size\n"
          ]
        },
        {
          "output_type": "stream",
          "name": "stderr",
          "text": [
            "       2/50      2.68G      2.026       3.43      2.027         11        640: 100%|██████████| 105/105 [00:45<00:00,  2.30it/s]\n",
            "                 Class     Images  Instances      Box(P          R      mAP50  mAP50-95): 100%|██████████| 7/7 [00:05<00:00,  1.31it/s]"
          ]
        },
        {
          "output_type": "stream",
          "name": "stdout",
          "text": [
            "                   all        209        248      0.236      0.152     0.0605     0.0213\n"
          ]
        },
        {
          "output_type": "stream",
          "name": "stderr",
          "text": [
            "\n"
          ]
        },
        {
          "output_type": "stream",
          "name": "stdout",
          "text": [
            "\n",
            "      Epoch    GPU_mem   box_loss   cls_loss   dfl_loss  Instances       Size\n"
          ]
        },
        {
          "output_type": "stream",
          "name": "stderr",
          "text": [
            "       3/50      2.68G      2.083      3.311      2.104         19        640: 100%|██████████| 105/105 [00:43<00:00,  2.40it/s]\n",
            "                 Class     Images  Instances      Box(P          R      mAP50  mAP50-95): 100%|██████████| 7/7 [00:03<00:00,  2.08it/s]"
          ]
        },
        {
          "output_type": "stream",
          "name": "stdout",
          "text": [
            "                   all        209        248      0.338      0.127     0.0993     0.0328\n"
          ]
        },
        {
          "output_type": "stream",
          "name": "stderr",
          "text": [
            "\n"
          ]
        },
        {
          "output_type": "stream",
          "name": "stdout",
          "text": [
            "\n",
            "      Epoch    GPU_mem   box_loss   cls_loss   dfl_loss  Instances       Size\n"
          ]
        },
        {
          "output_type": "stream",
          "name": "stderr",
          "text": [
            "       4/50      2.68G      2.066      3.163      2.109         17        640: 100%|██████████| 105/105 [00:44<00:00,  2.37it/s]\n",
            "                 Class     Images  Instances      Box(P          R      mAP50  mAP50-95): 100%|██████████| 7/7 [00:03<00:00,  2.04it/s]"
          ]
        },
        {
          "output_type": "stream",
          "name": "stdout",
          "text": [
            "                   all        209        248      0.139      0.156     0.0849     0.0281\n"
          ]
        },
        {
          "output_type": "stream",
          "name": "stderr",
          "text": [
            "\n"
          ]
        },
        {
          "output_type": "stream",
          "name": "stdout",
          "text": [
            "\n",
            "      Epoch    GPU_mem   box_loss   cls_loss   dfl_loss  Instances       Size\n"
          ]
        },
        {
          "output_type": "stream",
          "name": "stderr",
          "text": [
            "       5/50      2.68G      2.064      3.005      2.094         19        640: 100%|██████████| 105/105 [00:42<00:00,  2.48it/s]\n",
            "                 Class     Images  Instances      Box(P          R      mAP50  mAP50-95): 100%|██████████| 7/7 [00:03<00:00,  2.22it/s]"
          ]
        },
        {
          "output_type": "stream",
          "name": "stdout",
          "text": [
            "                   all        209        248      0.145      0.255      0.101     0.0323\n"
          ]
        },
        {
          "output_type": "stream",
          "name": "stderr",
          "text": [
            "\n"
          ]
        },
        {
          "output_type": "stream",
          "name": "stdout",
          "text": [
            "\n",
            "      Epoch    GPU_mem   box_loss   cls_loss   dfl_loss  Instances       Size\n"
          ]
        },
        {
          "output_type": "stream",
          "name": "stderr",
          "text": [
            "       6/50      2.68G      1.992      2.907       2.05         14        640: 100%|██████████| 105/105 [00:44<00:00,  2.37it/s]\n",
            "                 Class     Images  Instances      Box(P          R      mAP50  mAP50-95): 100%|██████████| 7/7 [00:04<00:00,  1.48it/s]"
          ]
        },
        {
          "output_type": "stream",
          "name": "stdout",
          "text": [
            "                   all        209        248      0.485      0.202       0.16     0.0548\n"
          ]
        },
        {
          "output_type": "stream",
          "name": "stderr",
          "text": [
            "\n"
          ]
        },
        {
          "output_type": "stream",
          "name": "stdout",
          "text": [
            "\n",
            "      Epoch    GPU_mem   box_loss   cls_loss   dfl_loss  Instances       Size\n"
          ]
        },
        {
          "output_type": "stream",
          "name": "stderr",
          "text": [
            "       7/50      2.68G      1.998       2.86      2.064         18        640: 100%|██████████| 105/105 [00:44<00:00,  2.36it/s]\n",
            "                 Class     Images  Instances      Box(P          R      mAP50  mAP50-95): 100%|██████████| 7/7 [00:03<00:00,  2.05it/s]"
          ]
        },
        {
          "output_type": "stream",
          "name": "stdout",
          "text": [
            "                   all        209        248       0.12      0.195      0.125     0.0396\n"
          ]
        },
        {
          "output_type": "stream",
          "name": "stderr",
          "text": [
            "\n"
          ]
        },
        {
          "output_type": "stream",
          "name": "stdout",
          "text": [
            "\n",
            "      Epoch    GPU_mem   box_loss   cls_loss   dfl_loss  Instances       Size\n"
          ]
        },
        {
          "output_type": "stream",
          "name": "stderr",
          "text": [
            "       8/50      2.68G      1.964      2.733       2.03         20        640: 100%|██████████| 105/105 [00:44<00:00,  2.38it/s]\n",
            "                 Class     Images  Instances      Box(P          R      mAP50  mAP50-95): 100%|██████████| 7/7 [00:03<00:00,  2.01it/s]"
          ]
        },
        {
          "output_type": "stream",
          "name": "stdout",
          "text": [
            "                   all        209        248      0.234      0.259      0.197     0.0764\n"
          ]
        },
        {
          "output_type": "stream",
          "name": "stderr",
          "text": [
            "\n"
          ]
        },
        {
          "output_type": "stream",
          "name": "stdout",
          "text": [
            "\n",
            "      Epoch    GPU_mem   box_loss   cls_loss   dfl_loss  Instances       Size\n"
          ]
        },
        {
          "output_type": "stream",
          "name": "stderr",
          "text": [
            "       9/50      2.68G      1.936      2.683      1.992          8        640: 100%|██████████| 105/105 [00:41<00:00,  2.51it/s]\n",
            "                 Class     Images  Instances      Box(P          R      mAP50  mAP50-95): 100%|██████████| 7/7 [00:04<00:00,  1.69it/s]"
          ]
        },
        {
          "output_type": "stream",
          "name": "stdout",
          "text": [
            "                   all        209        248       0.39      0.233      0.193     0.0618\n"
          ]
        },
        {
          "output_type": "stream",
          "name": "stderr",
          "text": [
            "\n"
          ]
        },
        {
          "output_type": "stream",
          "name": "stdout",
          "text": [
            "\n",
            "      Epoch    GPU_mem   box_loss   cls_loss   dfl_loss  Instances       Size\n"
          ]
        },
        {
          "output_type": "stream",
          "name": "stderr",
          "text": [
            "      10/50      2.68G      1.933      2.611      1.995         21        640: 100%|██████████| 105/105 [00:43<00:00,  2.44it/s]\n",
            "                 Class     Images  Instances      Box(P          R      mAP50  mAP50-95): 100%|██████████| 7/7 [00:03<00:00,  2.14it/s]"
          ]
        },
        {
          "output_type": "stream",
          "name": "stdout",
          "text": [
            "                   all        209        248      0.186      0.267      0.178     0.0635\n"
          ]
        },
        {
          "output_type": "stream",
          "name": "stderr",
          "text": [
            "\n"
          ]
        },
        {
          "output_type": "stream",
          "name": "stdout",
          "text": [
            "\n",
            "      Epoch    GPU_mem   box_loss   cls_loss   dfl_loss  Instances       Size\n"
          ]
        },
        {
          "output_type": "stream",
          "name": "stderr",
          "text": [
            "      11/50      2.68G      1.903      2.568      1.972         14        640: 100%|██████████| 105/105 [00:43<00:00,  2.40it/s]\n",
            "                 Class     Images  Instances      Box(P          R      mAP50  mAP50-95): 100%|██████████| 7/7 [00:03<00:00,  2.17it/s]"
          ]
        },
        {
          "output_type": "stream",
          "name": "stdout",
          "text": [
            "                   all        209        248      0.375      0.302      0.259     0.0934\n"
          ]
        },
        {
          "output_type": "stream",
          "name": "stderr",
          "text": [
            "\n"
          ]
        },
        {
          "output_type": "stream",
          "name": "stdout",
          "text": [
            "\n",
            "      Epoch    GPU_mem   box_loss   cls_loss   dfl_loss  Instances       Size\n"
          ]
        },
        {
          "output_type": "stream",
          "name": "stderr",
          "text": [
            "      12/50      2.69G      1.882       2.52      1.957         20        640: 100%|██████████| 105/105 [00:43<00:00,  2.40it/s]\n",
            "                 Class     Images  Instances      Box(P          R      mAP50  mAP50-95): 100%|██████████| 7/7 [00:03<00:00,  1.82it/s]"
          ]
        },
        {
          "output_type": "stream",
          "name": "stdout",
          "text": [
            "                   all        209        248      0.256      0.306      0.218     0.0779\n"
          ]
        },
        {
          "output_type": "stream",
          "name": "stderr",
          "text": [
            "\n"
          ]
        },
        {
          "output_type": "stream",
          "name": "stdout",
          "text": [
            "\n",
            "      Epoch    GPU_mem   box_loss   cls_loss   dfl_loss  Instances       Size\n"
          ]
        },
        {
          "output_type": "stream",
          "name": "stderr",
          "text": [
            "      13/50       2.7G      1.861      2.482      1.935         14        640: 100%|██████████| 105/105 [00:42<00:00,  2.48it/s]\n",
            "                 Class     Images  Instances      Box(P          R      mAP50  mAP50-95): 100%|██████████| 7/7 [00:04<00:00,  1.74it/s]"
          ]
        },
        {
          "output_type": "stream",
          "name": "stdout",
          "text": [
            "                   all        209        248      0.322      0.315      0.258      0.089\n"
          ]
        },
        {
          "output_type": "stream",
          "name": "stderr",
          "text": [
            "\n"
          ]
        },
        {
          "output_type": "stream",
          "name": "stdout",
          "text": [
            "\n",
            "      Epoch    GPU_mem   box_loss   cls_loss   dfl_loss  Instances       Size\n"
          ]
        },
        {
          "output_type": "stream",
          "name": "stderr",
          "text": [
            "      14/50       2.7G      1.855      2.443      1.937         15        640: 100%|██████████| 105/105 [00:45<00:00,  2.30it/s]\n",
            "                 Class     Images  Instances      Box(P          R      mAP50  mAP50-95): 100%|██████████| 7/7 [00:03<00:00,  2.17it/s]"
          ]
        },
        {
          "output_type": "stream",
          "name": "stdout",
          "text": [
            "                   all        209        248      0.321      0.296      0.268        0.1\n"
          ]
        },
        {
          "output_type": "stream",
          "name": "stderr",
          "text": [
            "\n"
          ]
        },
        {
          "output_type": "stream",
          "name": "stdout",
          "text": [
            "\n",
            "      Epoch    GPU_mem   box_loss   cls_loss   dfl_loss  Instances       Size\n"
          ]
        },
        {
          "output_type": "stream",
          "name": "stderr",
          "text": [
            "      15/50       2.7G      1.852      2.385       1.92         27        640: 100%|██████████| 105/105 [00:42<00:00,  2.46it/s]\n",
            "                 Class     Images  Instances      Box(P          R      mAP50  mAP50-95): 100%|██████████| 7/7 [00:03<00:00,  2.02it/s]"
          ]
        },
        {
          "output_type": "stream",
          "name": "stdout",
          "text": [
            "                   all        209        248      0.308       0.38      0.289      0.107\n"
          ]
        },
        {
          "output_type": "stream",
          "name": "stderr",
          "text": [
            "\n"
          ]
        },
        {
          "output_type": "stream",
          "name": "stdout",
          "text": [
            "\n",
            "      Epoch    GPU_mem   box_loss   cls_loss   dfl_loss  Instances       Size\n"
          ]
        },
        {
          "output_type": "stream",
          "name": "stderr",
          "text": [
            "      16/50      2.72G      1.829      2.365      1.902         14        640: 100%|██████████| 105/105 [00:40<00:00,  2.57it/s]\n",
            "                 Class     Images  Instances      Box(P          R      mAP50  mAP50-95): 100%|██████████| 7/7 [00:04<00:00,  1.45it/s]"
          ]
        },
        {
          "output_type": "stream",
          "name": "stdout",
          "text": [
            "                   all        209        248      0.301      0.395      0.287      0.112\n"
          ]
        },
        {
          "output_type": "stream",
          "name": "stderr",
          "text": [
            "\n"
          ]
        },
        {
          "output_type": "stream",
          "name": "stdout",
          "text": [
            "\n",
            "      Epoch    GPU_mem   box_loss   cls_loss   dfl_loss  Instances       Size\n"
          ]
        },
        {
          "output_type": "stream",
          "name": "stderr",
          "text": [
            "      17/50      2.73G      1.798      2.308      1.882         23        640: 100%|██████████| 105/105 [00:41<00:00,  2.51it/s]\n",
            "                 Class     Images  Instances      Box(P          R      mAP50  mAP50-95): 100%|██████████| 7/7 [00:03<00:00,  2.06it/s]"
          ]
        },
        {
          "output_type": "stream",
          "name": "stdout",
          "text": [
            "                   all        209        248      0.392      0.344      0.302       0.11\n"
          ]
        },
        {
          "output_type": "stream",
          "name": "stderr",
          "text": [
            "\n"
          ]
        },
        {
          "output_type": "stream",
          "name": "stdout",
          "text": [
            "\n",
            "      Epoch    GPU_mem   box_loss   cls_loss   dfl_loss  Instances       Size\n"
          ]
        },
        {
          "output_type": "stream",
          "name": "stderr",
          "text": [
            "      18/50      2.74G      1.813      2.327      1.891         22        640: 100%|██████████| 105/105 [00:43<00:00,  2.39it/s]\n",
            "                 Class     Images  Instances      Box(P          R      mAP50  mAP50-95): 100%|██████████| 7/7 [00:03<00:00,  2.23it/s]"
          ]
        },
        {
          "output_type": "stream",
          "name": "stdout",
          "text": [
            "                   all        209        248      0.473      0.356      0.339      0.126\n"
          ]
        },
        {
          "output_type": "stream",
          "name": "stderr",
          "text": [
            "\n"
          ]
        },
        {
          "output_type": "stream",
          "name": "stdout",
          "text": [
            "\n",
            "      Epoch    GPU_mem   box_loss   cls_loss   dfl_loss  Instances       Size\n"
          ]
        },
        {
          "output_type": "stream",
          "name": "stderr",
          "text": [
            "      19/50      2.74G      1.794      2.296      1.878         16        640: 100%|██████████| 105/105 [00:41<00:00,  2.53it/s]\n",
            "                 Class     Images  Instances      Box(P          R      mAP50  mAP50-95): 100%|██████████| 7/7 [00:03<00:00,  2.29it/s]"
          ]
        },
        {
          "output_type": "stream",
          "name": "stdout",
          "text": [
            "                   all        209        248      0.292      0.362      0.267       0.09\n"
          ]
        },
        {
          "output_type": "stream",
          "name": "stderr",
          "text": [
            "\n"
          ]
        },
        {
          "output_type": "stream",
          "name": "stdout",
          "text": [
            "\n",
            "      Epoch    GPU_mem   box_loss   cls_loss   dfl_loss  Instances       Size\n"
          ]
        },
        {
          "output_type": "stream",
          "name": "stderr",
          "text": [
            "      20/50      2.74G      1.786      2.238      1.861         12        640: 100%|██████████| 105/105 [00:42<00:00,  2.46it/s]\n",
            "                 Class     Images  Instances      Box(P          R      mAP50  mAP50-95): 100%|██████████| 7/7 [00:04<00:00,  1.42it/s]"
          ]
        },
        {
          "output_type": "stream",
          "name": "stdout",
          "text": [
            "                   all        209        248      0.396      0.403      0.357      0.131\n"
          ]
        },
        {
          "output_type": "stream",
          "name": "stderr",
          "text": [
            "\n"
          ]
        },
        {
          "output_type": "stream",
          "name": "stdout",
          "text": [
            "\n",
            "      Epoch    GPU_mem   box_loss   cls_loss   dfl_loss  Instances       Size\n"
          ]
        },
        {
          "output_type": "stream",
          "name": "stderr",
          "text": [
            "      21/50      2.74G      1.784       2.21      1.854         16        640: 100%|██████████| 105/105 [00:44<00:00,  2.37it/s]\n",
            "                 Class     Images  Instances      Box(P          R      mAP50  mAP50-95): 100%|██████████| 7/7 [00:03<00:00,  1.94it/s]"
          ]
        },
        {
          "output_type": "stream",
          "name": "stdout",
          "text": [
            "                   all        209        248      0.384      0.368      0.316       0.12\n"
          ]
        },
        {
          "output_type": "stream",
          "name": "stderr",
          "text": [
            "\n"
          ]
        },
        {
          "output_type": "stream",
          "name": "stdout",
          "text": [
            "\n",
            "      Epoch    GPU_mem   box_loss   cls_loss   dfl_loss  Instances       Size\n"
          ]
        },
        {
          "output_type": "stream",
          "name": "stderr",
          "text": [
            "      22/50      2.74G       1.74      2.197      1.832         10        640: 100%|██████████| 105/105 [00:43<00:00,  2.40it/s]\n",
            "                 Class     Images  Instances      Box(P          R      mAP50  mAP50-95): 100%|██████████| 7/7 [00:03<00:00,  2.05it/s]"
          ]
        },
        {
          "output_type": "stream",
          "name": "stdout",
          "text": [
            "                   all        209        248      0.485      0.374       0.35      0.134\n"
          ]
        },
        {
          "output_type": "stream",
          "name": "stderr",
          "text": [
            "\n"
          ]
        },
        {
          "output_type": "stream",
          "name": "stdout",
          "text": [
            "\n",
            "      Epoch    GPU_mem   box_loss   cls_loss   dfl_loss  Instances       Size\n"
          ]
        },
        {
          "output_type": "stream",
          "name": "stderr",
          "text": [
            "      23/50      2.74G      1.748      2.191      1.835         20        640: 100%|██████████| 105/105 [00:41<00:00,  2.50it/s]\n",
            "                 Class     Images  Instances      Box(P          R      mAP50  mAP50-95): 100%|██████████| 7/7 [00:04<00:00,  1.60it/s]"
          ]
        },
        {
          "output_type": "stream",
          "name": "stdout",
          "text": [
            "                   all        209        248      0.384      0.421      0.368      0.138\n"
          ]
        },
        {
          "output_type": "stream",
          "name": "stderr",
          "text": [
            "\n"
          ]
        },
        {
          "output_type": "stream",
          "name": "stdout",
          "text": [
            "\n",
            "      Epoch    GPU_mem   box_loss   cls_loss   dfl_loss  Instances       Size\n"
          ]
        },
        {
          "output_type": "stream",
          "name": "stderr",
          "text": [
            "      24/50      2.74G      1.761       2.13      1.818         15        640: 100%|██████████| 105/105 [00:41<00:00,  2.54it/s]\n",
            "                 Class     Images  Instances      Box(P          R      mAP50  mAP50-95): 100%|██████████| 7/7 [00:04<00:00,  1.42it/s]"
          ]
        },
        {
          "output_type": "stream",
          "name": "stdout",
          "text": [
            "                   all        209        248      0.394      0.383      0.317      0.127\n"
          ]
        },
        {
          "output_type": "stream",
          "name": "stderr",
          "text": [
            "\n"
          ]
        },
        {
          "output_type": "stream",
          "name": "stdout",
          "text": [
            "\n",
            "      Epoch    GPU_mem   box_loss   cls_loss   dfl_loss  Instances       Size\n"
          ]
        },
        {
          "output_type": "stream",
          "name": "stderr",
          "text": [
            "      25/50      2.74G      1.732       2.08      1.805         14        640: 100%|██████████| 105/105 [00:43<00:00,  2.42it/s]\n",
            "                 Class     Images  Instances      Box(P          R      mAP50  mAP50-95): 100%|██████████| 7/7 [00:03<00:00,  2.11it/s]"
          ]
        },
        {
          "output_type": "stream",
          "name": "stdout",
          "text": [
            "                   all        209        248       0.44      0.367      0.373      0.147\n"
          ]
        },
        {
          "output_type": "stream",
          "name": "stderr",
          "text": [
            "\n"
          ]
        },
        {
          "output_type": "stream",
          "name": "stdout",
          "text": [
            "\n",
            "      Epoch    GPU_mem   box_loss   cls_loss   dfl_loss  Instances       Size\n"
          ]
        },
        {
          "output_type": "stream",
          "name": "stderr",
          "text": [
            "      26/50      2.74G      1.715      2.096        1.8         19        640: 100%|██████████| 105/105 [00:42<00:00,  2.48it/s]\n",
            "                 Class     Images  Instances      Box(P          R      mAP50  mAP50-95): 100%|██████████| 7/7 [00:04<00:00,  1.55it/s]"
          ]
        },
        {
          "output_type": "stream",
          "name": "stdout",
          "text": [
            "                   all        209        248      0.518      0.357      0.376      0.163\n"
          ]
        },
        {
          "output_type": "stream",
          "name": "stderr",
          "text": [
            "\n"
          ]
        },
        {
          "output_type": "stream",
          "name": "stdout",
          "text": [
            "\n",
            "      Epoch    GPU_mem   box_loss   cls_loss   dfl_loss  Instances       Size\n"
          ]
        },
        {
          "output_type": "stream",
          "name": "stderr",
          "text": [
            "      27/50      2.74G      1.711      2.046      1.805         22        640: 100%|██████████| 105/105 [00:41<00:00,  2.55it/s]\n",
            "                 Class     Images  Instances      Box(P          R      mAP50  mAP50-95): 100%|██████████| 7/7 [00:03<00:00,  2.02it/s]"
          ]
        },
        {
          "output_type": "stream",
          "name": "stdout",
          "text": [
            "                   all        209        248       0.43        0.4      0.379      0.148\n"
          ]
        },
        {
          "output_type": "stream",
          "name": "stderr",
          "text": [
            "\n"
          ]
        },
        {
          "output_type": "stream",
          "name": "stdout",
          "text": [
            "\n",
            "      Epoch    GPU_mem   box_loss   cls_loss   dfl_loss  Instances       Size\n"
          ]
        },
        {
          "output_type": "stream",
          "name": "stderr",
          "text": [
            "      28/50      2.74G      1.698      2.021      1.782         23        640: 100%|██████████| 105/105 [00:42<00:00,  2.49it/s]\n",
            "                 Class     Images  Instances      Box(P          R      mAP50  mAP50-95): 100%|██████████| 7/7 [00:03<00:00,  2.24it/s]"
          ]
        },
        {
          "output_type": "stream",
          "name": "stdout",
          "text": [
            "                   all        209        248      0.449      0.423      0.379      0.151\n"
          ]
        },
        {
          "output_type": "stream",
          "name": "stderr",
          "text": [
            "\n"
          ]
        },
        {
          "output_type": "stream",
          "name": "stdout",
          "text": [
            "\n",
            "      Epoch    GPU_mem   box_loss   cls_loss   dfl_loss  Instances       Size\n"
          ]
        },
        {
          "output_type": "stream",
          "name": "stderr",
          "text": [
            "      29/50      2.74G      1.665      1.962      1.765          9        640: 100%|██████████| 105/105 [00:40<00:00,  2.57it/s]\n",
            "                 Class     Images  Instances      Box(P          R      mAP50  mAP50-95): 100%|██████████| 7/7 [00:03<00:00,  2.07it/s]"
          ]
        },
        {
          "output_type": "stream",
          "name": "stdout",
          "text": [
            "                   all        209        248      0.366      0.447      0.384      0.153\n"
          ]
        },
        {
          "output_type": "stream",
          "name": "stderr",
          "text": [
            "\n"
          ]
        },
        {
          "output_type": "stream",
          "name": "stdout",
          "text": [
            "\n",
            "      Epoch    GPU_mem   box_loss   cls_loss   dfl_loss  Instances       Size\n"
          ]
        },
        {
          "output_type": "stream",
          "name": "stderr",
          "text": [
            "      30/50      2.74G      1.666       1.94      1.743         26        640: 100%|██████████| 105/105 [00:42<00:00,  2.45it/s]\n",
            "                 Class     Images  Instances      Box(P          R      mAP50  mAP50-95): 100%|██████████| 7/7 [00:04<00:00,  1.67it/s]"
          ]
        },
        {
          "output_type": "stream",
          "name": "stdout",
          "text": [
            "                   all        209        248      0.401      0.451      0.386      0.156\n"
          ]
        },
        {
          "output_type": "stream",
          "name": "stderr",
          "text": [
            "\n"
          ]
        },
        {
          "output_type": "stream",
          "name": "stdout",
          "text": [
            "\n",
            "      Epoch    GPU_mem   box_loss   cls_loss   dfl_loss  Instances       Size\n"
          ]
        },
        {
          "output_type": "stream",
          "name": "stderr",
          "text": [
            "      31/50      2.74G      1.672      1.952      1.773         20        640: 100%|██████████| 105/105 [00:43<00:00,  2.41it/s]\n",
            "                 Class     Images  Instances      Box(P          R      mAP50  mAP50-95): 100%|██████████| 7/7 [00:04<00:00,  1.57it/s]"
          ]
        },
        {
          "output_type": "stream",
          "name": "stdout",
          "text": [
            "                   all        209        248      0.476      0.369      0.381      0.152\n"
          ]
        },
        {
          "output_type": "stream",
          "name": "stderr",
          "text": [
            "\n"
          ]
        },
        {
          "output_type": "stream",
          "name": "stdout",
          "text": [
            "\n",
            "      Epoch    GPU_mem   box_loss   cls_loss   dfl_loss  Instances       Size\n"
          ]
        },
        {
          "output_type": "stream",
          "name": "stderr",
          "text": [
            "      32/50      2.74G      1.634      1.884      1.729          7        640: 100%|██████████| 105/105 [00:42<00:00,  2.45it/s]\n",
            "                 Class     Images  Instances      Box(P          R      mAP50  mAP50-95): 100%|██████████| 7/7 [00:03<00:00,  2.25it/s]"
          ]
        },
        {
          "output_type": "stream",
          "name": "stdout",
          "text": [
            "                   all        209        248      0.466      0.415       0.41       0.16\n"
          ]
        },
        {
          "output_type": "stream",
          "name": "stderr",
          "text": [
            "\n"
          ]
        },
        {
          "output_type": "stream",
          "name": "stdout",
          "text": [
            "\n",
            "      Epoch    GPU_mem   box_loss   cls_loss   dfl_loss  Instances       Size\n"
          ]
        },
        {
          "output_type": "stream",
          "name": "stderr",
          "text": [
            "      33/50      2.74G       1.62      1.859      1.723         26        640: 100%|██████████| 105/105 [00:43<00:00,  2.40it/s]\n",
            "                 Class     Images  Instances      Box(P          R      mAP50  mAP50-95): 100%|██████████| 7/7 [00:03<00:00,  2.09it/s]"
          ]
        },
        {
          "output_type": "stream",
          "name": "stdout",
          "text": [
            "                   all        209        248      0.471      0.406      0.391      0.156\n"
          ]
        },
        {
          "output_type": "stream",
          "name": "stderr",
          "text": [
            "\n"
          ]
        },
        {
          "output_type": "stream",
          "name": "stdout",
          "text": [
            "\n",
            "      Epoch    GPU_mem   box_loss   cls_loss   dfl_loss  Instances       Size\n"
          ]
        },
        {
          "output_type": "stream",
          "name": "stderr",
          "text": [
            "      34/50      2.74G       1.61      1.821      1.708         18        640: 100%|██████████| 105/105 [00:41<00:00,  2.55it/s]\n",
            "                 Class     Images  Instances      Box(P          R      mAP50  mAP50-95): 100%|██████████| 7/7 [00:04<00:00,  1.50it/s]"
          ]
        },
        {
          "output_type": "stream",
          "name": "stdout",
          "text": [
            "                   all        209        248      0.488      0.421      0.415      0.171\n"
          ]
        },
        {
          "output_type": "stream",
          "name": "stderr",
          "text": [
            "\n"
          ]
        },
        {
          "output_type": "stream",
          "name": "stdout",
          "text": [
            "\n",
            "      Epoch    GPU_mem   box_loss   cls_loss   dfl_loss  Instances       Size\n"
          ]
        },
        {
          "output_type": "stream",
          "name": "stderr",
          "text": [
            "      35/50      2.74G      1.589      1.813      1.695         14        640: 100%|██████████| 105/105 [00:43<00:00,  2.44it/s]\n",
            "                 Class     Images  Instances      Box(P          R      mAP50  mAP50-95): 100%|██████████| 7/7 [00:04<00:00,  1.67it/s]"
          ]
        },
        {
          "output_type": "stream",
          "name": "stdout",
          "text": [
            "                   all        209        248      0.413      0.448      0.405      0.157\n"
          ]
        },
        {
          "output_type": "stream",
          "name": "stderr",
          "text": [
            "\n"
          ]
        },
        {
          "output_type": "stream",
          "name": "stdout",
          "text": [
            "\n",
            "      Epoch    GPU_mem   box_loss   cls_loss   dfl_loss  Instances       Size\n"
          ]
        },
        {
          "output_type": "stream",
          "name": "stderr",
          "text": [
            "      36/50      2.74G        1.6      1.785      1.686         22        640: 100%|██████████| 105/105 [00:41<00:00,  2.55it/s]\n",
            "                 Class     Images  Instances      Box(P          R      mAP50  mAP50-95): 100%|██████████| 7/7 [00:03<00:00,  2.13it/s]"
          ]
        },
        {
          "output_type": "stream",
          "name": "stdout",
          "text": [
            "                   all        209        248       0.43      0.466      0.433      0.181\n"
          ]
        },
        {
          "output_type": "stream",
          "name": "stderr",
          "text": [
            "\n"
          ]
        },
        {
          "output_type": "stream",
          "name": "stdout",
          "text": [
            "\n",
            "      Epoch    GPU_mem   box_loss   cls_loss   dfl_loss  Instances       Size\n"
          ]
        },
        {
          "output_type": "stream",
          "name": "stderr",
          "text": [
            "      37/50      2.74G      1.577      1.739      1.665         18        640: 100%|██████████| 105/105 [00:42<00:00,  2.49it/s]\n",
            "                 Class     Images  Instances      Box(P          R      mAP50  mAP50-95): 100%|██████████| 7/7 [00:03<00:00,  2.25it/s]"
          ]
        },
        {
          "output_type": "stream",
          "name": "stdout",
          "text": [
            "                   all        209        248      0.626      0.334      0.415      0.169\n"
          ]
        },
        {
          "output_type": "stream",
          "name": "stderr",
          "text": [
            "\n"
          ]
        },
        {
          "output_type": "stream",
          "name": "stdout",
          "text": [
            "\n",
            "      Epoch    GPU_mem   box_loss   cls_loss   dfl_loss  Instances       Size\n"
          ]
        },
        {
          "output_type": "stream",
          "name": "stderr",
          "text": [
            "      38/50      2.74G      1.569      1.766       1.68         19        640: 100%|██████████| 105/105 [00:43<00:00,  2.41it/s]\n",
            "                 Class     Images  Instances      Box(P          R      mAP50  mAP50-95): 100%|██████████| 7/7 [00:04<00:00,  1.48it/s]"
          ]
        },
        {
          "output_type": "stream",
          "name": "stdout",
          "text": [
            "                   all        209        248      0.529      0.356      0.412      0.165\n"
          ]
        },
        {
          "output_type": "stream",
          "name": "stderr",
          "text": [
            "\n"
          ]
        },
        {
          "output_type": "stream",
          "name": "stdout",
          "text": [
            "\n",
            "      Epoch    GPU_mem   box_loss   cls_loss   dfl_loss  Instances       Size\n"
          ]
        },
        {
          "output_type": "stream",
          "name": "stderr",
          "text": [
            "      39/50      2.74G      1.551       1.72      1.653         22        640: 100%|██████████| 105/105 [00:42<00:00,  2.47it/s]\n",
            "                 Class     Images  Instances      Box(P          R      mAP50  mAP50-95): 100%|██████████| 7/7 [00:03<00:00,  2.04it/s]"
          ]
        },
        {
          "output_type": "stream",
          "name": "stdout",
          "text": [
            "                   all        209        248       0.44      0.413      0.428       0.16\n"
          ]
        },
        {
          "output_type": "stream",
          "name": "stderr",
          "text": [
            "\n"
          ]
        },
        {
          "output_type": "stream",
          "name": "stdout",
          "text": [
            "\n",
            "      Epoch    GPU_mem   box_loss   cls_loss   dfl_loss  Instances       Size\n"
          ]
        },
        {
          "output_type": "stream",
          "name": "stderr",
          "text": [
            "      40/50      2.74G      1.537      1.667       1.65         18        640: 100%|██████████| 105/105 [00:42<00:00,  2.49it/s]\n",
            "                 Class     Images  Instances      Box(P          R      mAP50  mAP50-95): 100%|██████████| 7/7 [00:03<00:00,  2.00it/s]"
          ]
        },
        {
          "output_type": "stream",
          "name": "stdout",
          "text": [
            "                   all        209        248      0.535      0.388      0.428      0.168\n"
          ]
        },
        {
          "output_type": "stream",
          "name": "stderr",
          "text": [
            "\n"
          ]
        },
        {
          "output_type": "stream",
          "name": "stdout",
          "text": [
            "Closing dataloader mosaic\n",
            "\u001b[34m\u001b[1malbumentations: \u001b[0mBlur(p=0.01, blur_limit=(3, 7)), MedianBlur(p=0.01, blur_limit=(3, 7)), ToGray(p=0.01, method='weighted_average', num_output_channels=3), CLAHE(p=0.01, clip_limit=(1.0, 4.0), tile_grid_size=(8, 8))\n",
            "\n",
            "      Epoch    GPU_mem   box_loss   cls_loss   dfl_loss  Instances       Size\n"
          ]
        },
        {
          "output_type": "stream",
          "name": "stderr",
          "text": [
            "      41/50      2.74G      1.607      1.679      1.758          9        640: 100%|██████████| 105/105 [00:44<00:00,  2.36it/s]\n",
            "                 Class     Images  Instances      Box(P          R      mAP50  mAP50-95): 100%|██████████| 7/7 [00:04<00:00,  1.53it/s]"
          ]
        },
        {
          "output_type": "stream",
          "name": "stdout",
          "text": [
            "                   all        209        248      0.504      0.358      0.386      0.157\n"
          ]
        },
        {
          "output_type": "stream",
          "name": "stderr",
          "text": [
            "\n"
          ]
        },
        {
          "output_type": "stream",
          "name": "stdout",
          "text": [
            "\n",
            "      Epoch    GPU_mem   box_loss   cls_loss   dfl_loss  Instances       Size\n"
          ]
        },
        {
          "output_type": "stream",
          "name": "stderr",
          "text": [
            "      42/50      2.74G      1.554       1.57      1.724          9        640: 100%|██████████| 105/105 [00:44<00:00,  2.36it/s]\n",
            "                 Class     Images  Instances      Box(P          R      mAP50  mAP50-95): 100%|██████████| 7/7 [00:03<00:00,  2.06it/s]"
          ]
        },
        {
          "output_type": "stream",
          "name": "stdout",
          "text": [
            "                   all        209        248      0.542      0.367      0.412      0.166\n"
          ]
        },
        {
          "output_type": "stream",
          "name": "stderr",
          "text": [
            "\n"
          ]
        },
        {
          "output_type": "stream",
          "name": "stdout",
          "text": [
            "\n",
            "      Epoch    GPU_mem   box_loss   cls_loss   dfl_loss  Instances       Size\n"
          ]
        },
        {
          "output_type": "stream",
          "name": "stderr",
          "text": [
            "      43/50      2.74G      1.528      1.525      1.702          8        640: 100%|██████████| 105/105 [00:40<00:00,  2.57it/s]\n",
            "                 Class     Images  Instances      Box(P          R      mAP50  mAP50-95): 100%|██████████| 7/7 [00:03<00:00,  2.16it/s]"
          ]
        },
        {
          "output_type": "stream",
          "name": "stdout",
          "text": [
            "                   all        209        248      0.566      0.418      0.465      0.193\n"
          ]
        },
        {
          "output_type": "stream",
          "name": "stderr",
          "text": [
            "\n"
          ]
        },
        {
          "output_type": "stream",
          "name": "stdout",
          "text": [
            "\n",
            "      Epoch    GPU_mem   box_loss   cls_loss   dfl_loss  Instances       Size\n"
          ]
        },
        {
          "output_type": "stream",
          "name": "stderr",
          "text": [
            "      44/50      2.74G      1.511      1.502      1.686         10        640: 100%|██████████| 105/105 [00:42<00:00,  2.47it/s]\n",
            "                 Class     Images  Instances      Box(P          R      mAP50  mAP50-95): 100%|██████████| 7/7 [00:03<00:00,  2.07it/s]"
          ]
        },
        {
          "output_type": "stream",
          "name": "stdout",
          "text": [
            "                   all        209        248       0.47      0.434      0.445       0.18\n"
          ]
        },
        {
          "output_type": "stream",
          "name": "stderr",
          "text": [
            "\n"
          ]
        },
        {
          "output_type": "stream",
          "name": "stdout",
          "text": [
            "\n",
            "      Epoch    GPU_mem   box_loss   cls_loss   dfl_loss  Instances       Size\n"
          ]
        },
        {
          "output_type": "stream",
          "name": "stderr",
          "text": [
            "      45/50      2.74G      1.475      1.422      1.652          5        640: 100%|██████████| 105/105 [00:41<00:00,  2.50it/s]\n",
            "                 Class     Images  Instances      Box(P          R      mAP50  mAP50-95): 100%|██████████| 7/7 [00:04<00:00,  1.50it/s]"
          ]
        },
        {
          "output_type": "stream",
          "name": "stdout",
          "text": [
            "                   all        209        248      0.531      0.474      0.471      0.195\n"
          ]
        },
        {
          "output_type": "stream",
          "name": "stderr",
          "text": [
            "\n"
          ]
        },
        {
          "output_type": "stream",
          "name": "stdout",
          "text": [
            "\n",
            "      Epoch    GPU_mem   box_loss   cls_loss   dfl_loss  Instances       Size\n"
          ]
        },
        {
          "output_type": "stream",
          "name": "stderr",
          "text": [
            "      46/50      2.74G      1.458      1.416      1.646         10        640: 100%|██████████| 105/105 [00:41<00:00,  2.54it/s]\n",
            "                 Class     Images  Instances      Box(P          R      mAP50  mAP50-95): 100%|██████████| 7/7 [00:03<00:00,  2.09it/s]"
          ]
        },
        {
          "output_type": "stream",
          "name": "stdout",
          "text": [
            "                   all        209        248      0.507      0.466      0.466      0.187\n"
          ]
        },
        {
          "output_type": "stream",
          "name": "stderr",
          "text": [
            "\n"
          ]
        },
        {
          "output_type": "stream",
          "name": "stdout",
          "text": [
            "\n",
            "      Epoch    GPU_mem   box_loss   cls_loss   dfl_loss  Instances       Size\n"
          ]
        },
        {
          "output_type": "stream",
          "name": "stderr",
          "text": [
            "      47/50      2.74G      1.445      1.378      1.634          4        640: 100%|██████████| 105/105 [00:41<00:00,  2.54it/s]\n",
            "                 Class     Images  Instances      Box(P          R      mAP50  mAP50-95): 100%|██████████| 7/7 [00:03<00:00,  2.30it/s]"
          ]
        },
        {
          "output_type": "stream",
          "name": "stdout",
          "text": [
            "                   all        209        248      0.518      0.448      0.455      0.188\n"
          ]
        },
        {
          "output_type": "stream",
          "name": "stderr",
          "text": [
            "\n"
          ]
        },
        {
          "output_type": "stream",
          "name": "stdout",
          "text": [
            "\n",
            "      Epoch    GPU_mem   box_loss   cls_loss   dfl_loss  Instances       Size\n"
          ]
        },
        {
          "output_type": "stream",
          "name": "stderr",
          "text": [
            "      48/50      2.74G      1.425      1.331      1.605          8        640: 100%|██████████| 105/105 [00:40<00:00,  2.59it/s]\n",
            "                 Class     Images  Instances      Box(P          R      mAP50  mAP50-95): 100%|██████████| 7/7 [00:03<00:00,  2.15it/s]"
          ]
        },
        {
          "output_type": "stream",
          "name": "stdout",
          "text": [
            "                   all        209        248      0.539       0.45      0.467      0.187\n"
          ]
        },
        {
          "output_type": "stream",
          "name": "stderr",
          "text": [
            "\n"
          ]
        },
        {
          "output_type": "stream",
          "name": "stdout",
          "text": [
            "\n",
            "      Epoch    GPU_mem   box_loss   cls_loss   dfl_loss  Instances       Size\n"
          ]
        },
        {
          "output_type": "stream",
          "name": "stderr",
          "text": [
            "      49/50      2.74G      1.411      1.358      1.611         10        640: 100%|██████████| 105/105 [00:42<00:00,  2.44it/s]\n",
            "                 Class     Images  Instances      Box(P          R      mAP50  mAP50-95): 100%|██████████| 7/7 [00:03<00:00,  2.17it/s]"
          ]
        },
        {
          "output_type": "stream",
          "name": "stdout",
          "text": [
            "                   all        209        248       0.52      0.447      0.458      0.186\n"
          ]
        },
        {
          "output_type": "stream",
          "name": "stderr",
          "text": [
            "\n"
          ]
        },
        {
          "output_type": "stream",
          "name": "stdout",
          "text": [
            "\n",
            "      Epoch    GPU_mem   box_loss   cls_loss   dfl_loss  Instances       Size\n"
          ]
        },
        {
          "output_type": "stream",
          "name": "stderr",
          "text": [
            "      50/50      2.74G      1.395        1.3      1.593          5        640: 100%|██████████| 105/105 [00:40<00:00,  2.56it/s]\n",
            "                 Class     Images  Instances      Box(P          R      mAP50  mAP50-95): 100%|██████████| 7/7 [00:03<00:00,  1.95it/s]"
          ]
        },
        {
          "output_type": "stream",
          "name": "stdout",
          "text": [
            "                   all        209        248       0.47      0.454       0.45      0.184\n"
          ]
        },
        {
          "output_type": "stream",
          "name": "stderr",
          "text": [
            "\n"
          ]
        },
        {
          "output_type": "stream",
          "name": "stdout",
          "text": [
            "\n",
            "50 epochs completed in 0.658 hours.\n",
            "Optimizer stripped from runs/detect/train5/weights/last.pt, 6.2MB\n",
            "Optimizer stripped from runs/detect/train5/weights/best.pt, 6.2MB\n",
            "\n",
            "Validating runs/detect/train5/weights/best.pt...\n",
            "Ultralytics 8.3.176 🚀 Python-3.11.13 torch-2.6.0+cu124 CUDA:0 (Tesla T4, 15095MiB)\n",
            "Model summary (fused): 72 layers, 3,006,818 parameters, 0 gradients, 8.1 GFLOPs\n"
          ]
        },
        {
          "output_type": "stream",
          "name": "stderr",
          "text": [
            "                 Class     Images  Instances      Box(P          R      mAP50  mAP50-95): 100%|██████████| 7/7 [00:04<00:00,  1.54it/s]\n"
          ]
        },
        {
          "output_type": "stream",
          "name": "stdout",
          "text": [
            "                   all        209        248      0.532      0.475      0.471      0.195\n",
            "     broken_road_signs         20         33      0.501      0.243      0.292      0.173\n",
            "     damaged_buildings         33         57      0.438      0.404      0.328      0.114\n",
            "             littering         30         43      0.465      0.395      0.422      0.208\n",
            "        parking_issues         23         33      0.644      0.455      0.466      0.132\n",
            "              potholes         30         49      0.513      0.714      0.674      0.244\n",
            "             vandalism         26         33      0.631      0.636      0.641        0.3\n",
            "Speed: 0.3ms preprocess, 3.1ms inference, 0.0ms loss, 6.1ms postprocess per image\n",
            "Results saved to \u001b[1mruns/detect/train5\u001b[0m\n"
          ]
        },
        {
          "output_type": "execute_result",
          "data": {
            "text/plain": [
              "ultralytics.utils.metrics.DetMetrics object with attributes:\n",
              "\n",
              "ap_class_index: array([0, 1, 2, 3, 4, 5])\n",
              "box: ultralytics.utils.metrics.Metric object\n",
              "confusion_matrix: <ultralytics.utils.metrics.ConfusionMatrix object at 0x7c2a0d0e5950>\n",
              "curves: ['Precision-Recall(B)', 'F1-Confidence(B)', 'Precision-Confidence(B)', 'Recall-Confidence(B)']\n",
              "curves_results: [[array([          0,    0.001001,    0.002002,    0.003003,    0.004004,    0.005005,    0.006006,    0.007007,    0.008008,    0.009009,     0.01001,    0.011011,    0.012012,    0.013013,    0.014014,    0.015015,    0.016016,    0.017017,    0.018018,    0.019019,     0.02002,    0.021021,    0.022022,    0.023023,\n",
              "          0.024024,    0.025025,    0.026026,    0.027027,    0.028028,    0.029029,     0.03003,    0.031031,    0.032032,    0.033033,    0.034034,    0.035035,    0.036036,    0.037037,    0.038038,    0.039039,     0.04004,    0.041041,    0.042042,    0.043043,    0.044044,    0.045045,    0.046046,    0.047047,\n",
              "          0.048048,    0.049049,     0.05005,    0.051051,    0.052052,    0.053053,    0.054054,    0.055055,    0.056056,    0.057057,    0.058058,    0.059059,     0.06006,    0.061061,    0.062062,    0.063063,    0.064064,    0.065065,    0.066066,    0.067067,    0.068068,    0.069069,     0.07007,    0.071071,\n",
              "          0.072072,    0.073073,    0.074074,    0.075075,    0.076076,    0.077077,    0.078078,    0.079079,     0.08008,    0.081081,    0.082082,    0.083083,    0.084084,    0.085085,    0.086086,    0.087087,    0.088088,    0.089089,     0.09009,    0.091091,    0.092092,    0.093093,    0.094094,    0.095095,\n",
              "          0.096096,    0.097097,    0.098098,    0.099099,      0.1001,      0.1011,      0.1021,      0.1031,      0.1041,     0.10511,     0.10611,     0.10711,     0.10811,     0.10911,     0.11011,     0.11111,     0.11211,     0.11311,     0.11411,     0.11512,     0.11612,     0.11712,     0.11812,     0.11912,\n",
              "           0.12012,     0.12112,     0.12212,     0.12312,     0.12412,     0.12513,     0.12613,     0.12713,     0.12813,     0.12913,     0.13013,     0.13113,     0.13213,     0.13313,     0.13413,     0.13514,     0.13614,     0.13714,     0.13814,     0.13914,     0.14014,     0.14114,     0.14214,     0.14314,\n",
              "           0.14414,     0.14515,     0.14615,     0.14715,     0.14815,     0.14915,     0.15015,     0.15115,     0.15215,     0.15315,     0.15415,     0.15516,     0.15616,     0.15716,     0.15816,     0.15916,     0.16016,     0.16116,     0.16216,     0.16316,     0.16416,     0.16517,     0.16617,     0.16717,\n",
              "           0.16817,     0.16917,     0.17017,     0.17117,     0.17217,     0.17317,     0.17417,     0.17518,     0.17618,     0.17718,     0.17818,     0.17918,     0.18018,     0.18118,     0.18218,     0.18318,     0.18418,     0.18519,     0.18619,     0.18719,     0.18819,     0.18919,     0.19019,     0.19119,\n",
              "           0.19219,     0.19319,     0.19419,      0.1952,      0.1962,      0.1972,      0.1982,      0.1992,      0.2002,      0.2012,      0.2022,      0.2032,      0.2042,     0.20521,     0.20621,     0.20721,     0.20821,     0.20921,     0.21021,     0.21121,     0.21221,     0.21321,     0.21421,     0.21522,\n",
              "           0.21622,     0.21722,     0.21822,     0.21922,     0.22022,     0.22122,     0.22222,     0.22322,     0.22422,     0.22523,     0.22623,     0.22723,     0.22823,     0.22923,     0.23023,     0.23123,     0.23223,     0.23323,     0.23423,     0.23524,     0.23624,     0.23724,     0.23824,     0.23924,\n",
              "           0.24024,     0.24124,     0.24224,     0.24324,     0.24424,     0.24525,     0.24625,     0.24725,     0.24825,     0.24925,     0.25025,     0.25125,     0.25225,     0.25325,     0.25425,     0.25526,     0.25626,     0.25726,     0.25826,     0.25926,     0.26026,     0.26126,     0.26226,     0.26326,\n",
              "           0.26426,     0.26527,     0.26627,     0.26727,     0.26827,     0.26927,     0.27027,     0.27127,     0.27227,     0.27327,     0.27427,     0.27528,     0.27628,     0.27728,     0.27828,     0.27928,     0.28028,     0.28128,     0.28228,     0.28328,     0.28428,     0.28529,     0.28629,     0.28729,\n",
              "           0.28829,     0.28929,     0.29029,     0.29129,     0.29229,     0.29329,     0.29429,      0.2953,      0.2963,      0.2973,      0.2983,      0.2993,      0.3003,      0.3013,      0.3023,      0.3033,      0.3043,     0.30531,     0.30631,     0.30731,     0.30831,     0.30931,     0.31031,     0.31131,\n",
              "           0.31231,     0.31331,     0.31431,     0.31532,     0.31632,     0.31732,     0.31832,     0.31932,     0.32032,     0.32132,     0.32232,     0.32332,     0.32432,     0.32533,     0.32633,     0.32733,     0.32833,     0.32933,     0.33033,     0.33133,     0.33233,     0.33333,     0.33433,     0.33534,\n",
              "           0.33634,     0.33734,     0.33834,     0.33934,     0.34034,     0.34134,     0.34234,     0.34334,     0.34434,     0.34535,     0.34635,     0.34735,     0.34835,     0.34935,     0.35035,     0.35135,     0.35235,     0.35335,     0.35435,     0.35536,     0.35636,     0.35736,     0.35836,     0.35936,\n",
              "           0.36036,     0.36136,     0.36236,     0.36336,     0.36436,     0.36537,     0.36637,     0.36737,     0.36837,     0.36937,     0.37037,     0.37137,     0.37237,     0.37337,     0.37437,     0.37538,     0.37638,     0.37738,     0.37838,     0.37938,     0.38038,     0.38138,     0.38238,     0.38338,\n",
              "           0.38438,     0.38539,     0.38639,     0.38739,     0.38839,     0.38939,     0.39039,     0.39139,     0.39239,     0.39339,     0.39439,      0.3954,      0.3964,      0.3974,      0.3984,      0.3994,      0.4004,      0.4014,      0.4024,      0.4034,      0.4044,     0.40541,     0.40641,     0.40741,\n",
              "           0.40841,     0.40941,     0.41041,     0.41141,     0.41241,     0.41341,     0.41441,     0.41542,     0.41642,     0.41742,     0.41842,     0.41942,     0.42042,     0.42142,     0.42242,     0.42342,     0.42442,     0.42543,     0.42643,     0.42743,     0.42843,     0.42943,     0.43043,     0.43143,\n",
              "           0.43243,     0.43343,     0.43443,     0.43544,     0.43644,     0.43744,     0.43844,     0.43944,     0.44044,     0.44144,     0.44244,     0.44344,     0.44444,     0.44545,     0.44645,     0.44745,     0.44845,     0.44945,     0.45045,     0.45145,     0.45245,     0.45345,     0.45445,     0.45546,\n",
              "           0.45646,     0.45746,     0.45846,     0.45946,     0.46046,     0.46146,     0.46246,     0.46346,     0.46446,     0.46547,     0.46647,     0.46747,     0.46847,     0.46947,     0.47047,     0.47147,     0.47247,     0.47347,     0.47447,     0.47548,     0.47648,     0.47748,     0.47848,     0.47948,\n",
              "           0.48048,     0.48148,     0.48248,     0.48348,     0.48448,     0.48549,     0.48649,     0.48749,     0.48849,     0.48949,     0.49049,     0.49149,     0.49249,     0.49349,     0.49449,      0.4955,      0.4965,      0.4975,      0.4985,      0.4995,      0.5005,      0.5015,      0.5025,      0.5035,\n",
              "            0.5045,     0.50551,     0.50651,     0.50751,     0.50851,     0.50951,     0.51051,     0.51151,     0.51251,     0.51351,     0.51451,     0.51552,     0.51652,     0.51752,     0.51852,     0.51952,     0.52052,     0.52152,     0.52252,     0.52352,     0.52452,     0.52553,     0.52653,     0.52753,\n",
              "           0.52853,     0.52953,     0.53053,     0.53153,     0.53253,     0.53353,     0.53453,     0.53554,     0.53654,     0.53754,     0.53854,     0.53954,     0.54054,     0.54154,     0.54254,     0.54354,     0.54454,     0.54555,     0.54655,     0.54755,     0.54855,     0.54955,     0.55055,     0.55155,\n",
              "           0.55255,     0.55355,     0.55455,     0.55556,     0.55656,     0.55756,     0.55856,     0.55956,     0.56056,     0.56156,     0.56256,     0.56356,     0.56456,     0.56557,     0.56657,     0.56757,     0.56857,     0.56957,     0.57057,     0.57157,     0.57257,     0.57357,     0.57457,     0.57558,\n",
              "           0.57658,     0.57758,     0.57858,     0.57958,     0.58058,     0.58158,     0.58258,     0.58358,     0.58458,     0.58559,     0.58659,     0.58759,     0.58859,     0.58959,     0.59059,     0.59159,     0.59259,     0.59359,     0.59459,      0.5956,      0.5966,      0.5976,      0.5986,      0.5996,\n",
              "            0.6006,      0.6016,      0.6026,      0.6036,      0.6046,     0.60561,     0.60661,     0.60761,     0.60861,     0.60961,     0.61061,     0.61161,     0.61261,     0.61361,     0.61461,     0.61562,     0.61662,     0.61762,     0.61862,     0.61962,     0.62062,     0.62162,     0.62262,     0.62362,\n",
              "           0.62462,     0.62563,     0.62663,     0.62763,     0.62863,     0.62963,     0.63063,     0.63163,     0.63263,     0.63363,     0.63463,     0.63564,     0.63664,     0.63764,     0.63864,     0.63964,     0.64064,     0.64164,     0.64264,     0.64364,     0.64464,     0.64565,     0.64665,     0.64765,\n",
              "           0.64865,     0.64965,     0.65065,     0.65165,     0.65265,     0.65365,     0.65465,     0.65566,     0.65666,     0.65766,     0.65866,     0.65966,     0.66066,     0.66166,     0.66266,     0.66366,     0.66466,     0.66567,     0.66667,     0.66767,     0.66867,     0.66967,     0.67067,     0.67167,\n",
              "           0.67267,     0.67367,     0.67467,     0.67568,     0.67668,     0.67768,     0.67868,     0.67968,     0.68068,     0.68168,     0.68268,     0.68368,     0.68468,     0.68569,     0.68669,     0.68769,     0.68869,     0.68969,     0.69069,     0.69169,     0.69269,     0.69369,     0.69469,      0.6957,\n",
              "            0.6967,      0.6977,      0.6987,      0.6997,      0.7007,      0.7017,      0.7027,      0.7037,      0.7047,     0.70571,     0.70671,     0.70771,     0.70871,     0.70971,     0.71071,     0.71171,     0.71271,     0.71371,     0.71471,     0.71572,     0.71672,     0.71772,     0.71872,     0.71972,\n",
              "           0.72072,     0.72172,     0.72272,     0.72372,     0.72472,     0.72573,     0.72673,     0.72773,     0.72873,     0.72973,     0.73073,     0.73173,     0.73273,     0.73373,     0.73473,     0.73574,     0.73674,     0.73774,     0.73874,     0.73974,     0.74074,     0.74174,     0.74274,     0.74374,\n",
              "           0.74474,     0.74575,     0.74675,     0.74775,     0.74875,     0.74975,     0.75075,     0.75175,     0.75275,     0.75375,     0.75475,     0.75576,     0.75676,     0.75776,     0.75876,     0.75976,     0.76076,     0.76176,     0.76276,     0.76376,     0.76476,     0.76577,     0.76677,     0.76777,\n",
              "           0.76877,     0.76977,     0.77077,     0.77177,     0.77277,     0.77377,     0.77477,     0.77578,     0.77678,     0.77778,     0.77878,     0.77978,     0.78078,     0.78178,     0.78278,     0.78378,     0.78478,     0.78579,     0.78679,     0.78779,     0.78879,     0.78979,     0.79079,     0.79179,\n",
              "           0.79279,     0.79379,     0.79479,      0.7958,      0.7968,      0.7978,      0.7988,      0.7998,      0.8008,      0.8018,      0.8028,      0.8038,      0.8048,     0.80581,     0.80681,     0.80781,     0.80881,     0.80981,     0.81081,     0.81181,     0.81281,     0.81381,     0.81481,     0.81582,\n",
              "           0.81682,     0.81782,     0.81882,     0.81982,     0.82082,     0.82182,     0.82282,     0.82382,     0.82482,     0.82583,     0.82683,     0.82783,     0.82883,     0.82983,     0.83083,     0.83183,     0.83283,     0.83383,     0.83483,     0.83584,     0.83684,     0.83784,     0.83884,     0.83984,\n",
              "           0.84084,     0.84184,     0.84284,     0.84384,     0.84484,     0.84585,     0.84685,     0.84785,     0.84885,     0.84985,     0.85085,     0.85185,     0.85285,     0.85385,     0.85485,     0.85586,     0.85686,     0.85786,     0.85886,     0.85986,     0.86086,     0.86186,     0.86286,     0.86386,\n",
              "           0.86486,     0.86587,     0.86687,     0.86787,     0.86887,     0.86987,     0.87087,     0.87187,     0.87287,     0.87387,     0.87487,     0.87588,     0.87688,     0.87788,     0.87888,     0.87988,     0.88088,     0.88188,     0.88288,     0.88388,     0.88488,     0.88589,     0.88689,     0.88789,\n",
              "           0.88889,     0.88989,     0.89089,     0.89189,     0.89289,     0.89389,     0.89489,      0.8959,      0.8969,      0.8979,      0.8989,      0.8999,      0.9009,      0.9019,      0.9029,      0.9039,      0.9049,     0.90591,     0.90691,     0.90791,     0.90891,     0.90991,     0.91091,     0.91191,\n",
              "           0.91291,     0.91391,     0.91491,     0.91592,     0.91692,     0.91792,     0.91892,     0.91992,     0.92092,     0.92192,     0.92292,     0.92392,     0.92492,     0.92593,     0.92693,     0.92793,     0.92893,     0.92993,     0.93093,     0.93193,     0.93293,     0.93393,     0.93493,     0.93594,\n",
              "           0.93694,     0.93794,     0.93894,     0.93994,     0.94094,     0.94194,     0.94294,     0.94394,     0.94494,     0.94595,     0.94695,     0.94795,     0.94895,     0.94995,     0.95095,     0.95195,     0.95295,     0.95395,     0.95495,     0.95596,     0.95696,     0.95796,     0.95896,     0.95996,\n",
              "           0.96096,     0.96196,     0.96296,     0.96396,     0.96496,     0.96597,     0.96697,     0.96797,     0.96897,     0.96997,     0.97097,     0.97197,     0.97297,     0.97397,     0.97497,     0.97598,     0.97698,     0.97798,     0.97898,     0.97998,     0.98098,     0.98198,     0.98298,     0.98398,\n",
              "           0.98498,     0.98599,     0.98699,     0.98799,     0.98899,     0.98999,     0.99099,     0.99199,     0.99299,     0.99399,     0.99499,       0.996,       0.997,       0.998,       0.999,           1]), array([[          1,           1,           1, ...,  0.00010131,  5.0654e-05,           0],\n",
              "       [          1,           1,           1, ...,  0.00060645,  0.00030323,           0],\n",
              "       [          1,           1,           1, ...,  0.00039779,   0.0001989,           0],\n",
              "       [          1,           1,           1, ...,   0.0002349,  0.00011745,           0],\n",
              "       [          1,           1,           1, ...,   0.0011344,  0.00056718,           0],\n",
              "       [          1,           1,           1, ...,   0.0034715,   0.0017357,           0]]), 'Recall', 'Precision'], [array([          0,    0.001001,    0.002002,    0.003003,    0.004004,    0.005005,    0.006006,    0.007007,    0.008008,    0.009009,     0.01001,    0.011011,    0.012012,    0.013013,    0.014014,    0.015015,    0.016016,    0.017017,    0.018018,    0.019019,     0.02002,    0.021021,    0.022022,    0.023023,\n",
              "          0.024024,    0.025025,    0.026026,    0.027027,    0.028028,    0.029029,     0.03003,    0.031031,    0.032032,    0.033033,    0.034034,    0.035035,    0.036036,    0.037037,    0.038038,    0.039039,     0.04004,    0.041041,    0.042042,    0.043043,    0.044044,    0.045045,    0.046046,    0.047047,\n",
              "          0.048048,    0.049049,     0.05005,    0.051051,    0.052052,    0.053053,    0.054054,    0.055055,    0.056056,    0.057057,    0.058058,    0.059059,     0.06006,    0.061061,    0.062062,    0.063063,    0.064064,    0.065065,    0.066066,    0.067067,    0.068068,    0.069069,     0.07007,    0.071071,\n",
              "          0.072072,    0.073073,    0.074074,    0.075075,    0.076076,    0.077077,    0.078078,    0.079079,     0.08008,    0.081081,    0.082082,    0.083083,    0.084084,    0.085085,    0.086086,    0.087087,    0.088088,    0.089089,     0.09009,    0.091091,    0.092092,    0.093093,    0.094094,    0.095095,\n",
              "          0.096096,    0.097097,    0.098098,    0.099099,      0.1001,      0.1011,      0.1021,      0.1031,      0.1041,     0.10511,     0.10611,     0.10711,     0.10811,     0.10911,     0.11011,     0.11111,     0.11211,     0.11311,     0.11411,     0.11512,     0.11612,     0.11712,     0.11812,     0.11912,\n",
              "           0.12012,     0.12112,     0.12212,     0.12312,     0.12412,     0.12513,     0.12613,     0.12713,     0.12813,     0.12913,     0.13013,     0.13113,     0.13213,     0.13313,     0.13413,     0.13514,     0.13614,     0.13714,     0.13814,     0.13914,     0.14014,     0.14114,     0.14214,     0.14314,\n",
              "           0.14414,     0.14515,     0.14615,     0.14715,     0.14815,     0.14915,     0.15015,     0.15115,     0.15215,     0.15315,     0.15415,     0.15516,     0.15616,     0.15716,     0.15816,     0.15916,     0.16016,     0.16116,     0.16216,     0.16316,     0.16416,     0.16517,     0.16617,     0.16717,\n",
              "           0.16817,     0.16917,     0.17017,     0.17117,     0.17217,     0.17317,     0.17417,     0.17518,     0.17618,     0.17718,     0.17818,     0.17918,     0.18018,     0.18118,     0.18218,     0.18318,     0.18418,     0.18519,     0.18619,     0.18719,     0.18819,     0.18919,     0.19019,     0.19119,\n",
              "           0.19219,     0.19319,     0.19419,      0.1952,      0.1962,      0.1972,      0.1982,      0.1992,      0.2002,      0.2012,      0.2022,      0.2032,      0.2042,     0.20521,     0.20621,     0.20721,     0.20821,     0.20921,     0.21021,     0.21121,     0.21221,     0.21321,     0.21421,     0.21522,\n",
              "           0.21622,     0.21722,     0.21822,     0.21922,     0.22022,     0.22122,     0.22222,     0.22322,     0.22422,     0.22523,     0.22623,     0.22723,     0.22823,     0.22923,     0.23023,     0.23123,     0.23223,     0.23323,     0.23423,     0.23524,     0.23624,     0.23724,     0.23824,     0.23924,\n",
              "           0.24024,     0.24124,     0.24224,     0.24324,     0.24424,     0.24525,     0.24625,     0.24725,     0.24825,     0.24925,     0.25025,     0.25125,     0.25225,     0.25325,     0.25425,     0.25526,     0.25626,     0.25726,     0.25826,     0.25926,     0.26026,     0.26126,     0.26226,     0.26326,\n",
              "           0.26426,     0.26527,     0.26627,     0.26727,     0.26827,     0.26927,     0.27027,     0.27127,     0.27227,     0.27327,     0.27427,     0.27528,     0.27628,     0.27728,     0.27828,     0.27928,     0.28028,     0.28128,     0.28228,     0.28328,     0.28428,     0.28529,     0.28629,     0.28729,\n",
              "           0.28829,     0.28929,     0.29029,     0.29129,     0.29229,     0.29329,     0.29429,      0.2953,      0.2963,      0.2973,      0.2983,      0.2993,      0.3003,      0.3013,      0.3023,      0.3033,      0.3043,     0.30531,     0.30631,     0.30731,     0.30831,     0.30931,     0.31031,     0.31131,\n",
              "           0.31231,     0.31331,     0.31431,     0.31532,     0.31632,     0.31732,     0.31832,     0.31932,     0.32032,     0.32132,     0.32232,     0.32332,     0.32432,     0.32533,     0.32633,     0.32733,     0.32833,     0.32933,     0.33033,     0.33133,     0.33233,     0.33333,     0.33433,     0.33534,\n",
              "           0.33634,     0.33734,     0.33834,     0.33934,     0.34034,     0.34134,     0.34234,     0.34334,     0.34434,     0.34535,     0.34635,     0.34735,     0.34835,     0.34935,     0.35035,     0.35135,     0.35235,     0.35335,     0.35435,     0.35536,     0.35636,     0.35736,     0.35836,     0.35936,\n",
              "           0.36036,     0.36136,     0.36236,     0.36336,     0.36436,     0.36537,     0.36637,     0.36737,     0.36837,     0.36937,     0.37037,     0.37137,     0.37237,     0.37337,     0.37437,     0.37538,     0.37638,     0.37738,     0.37838,     0.37938,     0.38038,     0.38138,     0.38238,     0.38338,\n",
              "           0.38438,     0.38539,     0.38639,     0.38739,     0.38839,     0.38939,     0.39039,     0.39139,     0.39239,     0.39339,     0.39439,      0.3954,      0.3964,      0.3974,      0.3984,      0.3994,      0.4004,      0.4014,      0.4024,      0.4034,      0.4044,     0.40541,     0.40641,     0.40741,\n",
              "           0.40841,     0.40941,     0.41041,     0.41141,     0.41241,     0.41341,     0.41441,     0.41542,     0.41642,     0.41742,     0.41842,     0.41942,     0.42042,     0.42142,     0.42242,     0.42342,     0.42442,     0.42543,     0.42643,     0.42743,     0.42843,     0.42943,     0.43043,     0.43143,\n",
              "           0.43243,     0.43343,     0.43443,     0.43544,     0.43644,     0.43744,     0.43844,     0.43944,     0.44044,     0.44144,     0.44244,     0.44344,     0.44444,     0.44545,     0.44645,     0.44745,     0.44845,     0.44945,     0.45045,     0.45145,     0.45245,     0.45345,     0.45445,     0.45546,\n",
              "           0.45646,     0.45746,     0.45846,     0.45946,     0.46046,     0.46146,     0.46246,     0.46346,     0.46446,     0.46547,     0.46647,     0.46747,     0.46847,     0.46947,     0.47047,     0.47147,     0.47247,     0.47347,     0.47447,     0.47548,     0.47648,     0.47748,     0.47848,     0.47948,\n",
              "           0.48048,     0.48148,     0.48248,     0.48348,     0.48448,     0.48549,     0.48649,     0.48749,     0.48849,     0.48949,     0.49049,     0.49149,     0.49249,     0.49349,     0.49449,      0.4955,      0.4965,      0.4975,      0.4985,      0.4995,      0.5005,      0.5015,      0.5025,      0.5035,\n",
              "            0.5045,     0.50551,     0.50651,     0.50751,     0.50851,     0.50951,     0.51051,     0.51151,     0.51251,     0.51351,     0.51451,     0.51552,     0.51652,     0.51752,     0.51852,     0.51952,     0.52052,     0.52152,     0.52252,     0.52352,     0.52452,     0.52553,     0.52653,     0.52753,\n",
              "           0.52853,     0.52953,     0.53053,     0.53153,     0.53253,     0.53353,     0.53453,     0.53554,     0.53654,     0.53754,     0.53854,     0.53954,     0.54054,     0.54154,     0.54254,     0.54354,     0.54454,     0.54555,     0.54655,     0.54755,     0.54855,     0.54955,     0.55055,     0.55155,\n",
              "           0.55255,     0.55355,     0.55455,     0.55556,     0.55656,     0.55756,     0.55856,     0.55956,     0.56056,     0.56156,     0.56256,     0.56356,     0.56456,     0.56557,     0.56657,     0.56757,     0.56857,     0.56957,     0.57057,     0.57157,     0.57257,     0.57357,     0.57457,     0.57558,\n",
              "           0.57658,     0.57758,     0.57858,     0.57958,     0.58058,     0.58158,     0.58258,     0.58358,     0.58458,     0.58559,     0.58659,     0.58759,     0.58859,     0.58959,     0.59059,     0.59159,     0.59259,     0.59359,     0.59459,      0.5956,      0.5966,      0.5976,      0.5986,      0.5996,\n",
              "            0.6006,      0.6016,      0.6026,      0.6036,      0.6046,     0.60561,     0.60661,     0.60761,     0.60861,     0.60961,     0.61061,     0.61161,     0.61261,     0.61361,     0.61461,     0.61562,     0.61662,     0.61762,     0.61862,     0.61962,     0.62062,     0.62162,     0.62262,     0.62362,\n",
              "           0.62462,     0.62563,     0.62663,     0.62763,     0.62863,     0.62963,     0.63063,     0.63163,     0.63263,     0.63363,     0.63463,     0.63564,     0.63664,     0.63764,     0.63864,     0.63964,     0.64064,     0.64164,     0.64264,     0.64364,     0.64464,     0.64565,     0.64665,     0.64765,\n",
              "           0.64865,     0.64965,     0.65065,     0.65165,     0.65265,     0.65365,     0.65465,     0.65566,     0.65666,     0.65766,     0.65866,     0.65966,     0.66066,     0.66166,     0.66266,     0.66366,     0.66466,     0.66567,     0.66667,     0.66767,     0.66867,     0.66967,     0.67067,     0.67167,\n",
              "           0.67267,     0.67367,     0.67467,     0.67568,     0.67668,     0.67768,     0.67868,     0.67968,     0.68068,     0.68168,     0.68268,     0.68368,     0.68468,     0.68569,     0.68669,     0.68769,     0.68869,     0.68969,     0.69069,     0.69169,     0.69269,     0.69369,     0.69469,      0.6957,\n",
              "            0.6967,      0.6977,      0.6987,      0.6997,      0.7007,      0.7017,      0.7027,      0.7037,      0.7047,     0.70571,     0.70671,     0.70771,     0.70871,     0.70971,     0.71071,     0.71171,     0.71271,     0.71371,     0.71471,     0.71572,     0.71672,     0.71772,     0.71872,     0.71972,\n",
              "           0.72072,     0.72172,     0.72272,     0.72372,     0.72472,     0.72573,     0.72673,     0.72773,     0.72873,     0.72973,     0.73073,     0.73173,     0.73273,     0.73373,     0.73473,     0.73574,     0.73674,     0.73774,     0.73874,     0.73974,     0.74074,     0.74174,     0.74274,     0.74374,\n",
              "           0.74474,     0.74575,     0.74675,     0.74775,     0.74875,     0.74975,     0.75075,     0.75175,     0.75275,     0.75375,     0.75475,     0.75576,     0.75676,     0.75776,     0.75876,     0.75976,     0.76076,     0.76176,     0.76276,     0.76376,     0.76476,     0.76577,     0.76677,     0.76777,\n",
              "           0.76877,     0.76977,     0.77077,     0.77177,     0.77277,     0.77377,     0.77477,     0.77578,     0.77678,     0.77778,     0.77878,     0.77978,     0.78078,     0.78178,     0.78278,     0.78378,     0.78478,     0.78579,     0.78679,     0.78779,     0.78879,     0.78979,     0.79079,     0.79179,\n",
              "           0.79279,     0.79379,     0.79479,      0.7958,      0.7968,      0.7978,      0.7988,      0.7998,      0.8008,      0.8018,      0.8028,      0.8038,      0.8048,     0.80581,     0.80681,     0.80781,     0.80881,     0.80981,     0.81081,     0.81181,     0.81281,     0.81381,     0.81481,     0.81582,\n",
              "           0.81682,     0.81782,     0.81882,     0.81982,     0.82082,     0.82182,     0.82282,     0.82382,     0.82482,     0.82583,     0.82683,     0.82783,     0.82883,     0.82983,     0.83083,     0.83183,     0.83283,     0.83383,     0.83483,     0.83584,     0.83684,     0.83784,     0.83884,     0.83984,\n",
              "           0.84084,     0.84184,     0.84284,     0.84384,     0.84484,     0.84585,     0.84685,     0.84785,     0.84885,     0.84985,     0.85085,     0.85185,     0.85285,     0.85385,     0.85485,     0.85586,     0.85686,     0.85786,     0.85886,     0.85986,     0.86086,     0.86186,     0.86286,     0.86386,\n",
              "           0.86486,     0.86587,     0.86687,     0.86787,     0.86887,     0.86987,     0.87087,     0.87187,     0.87287,     0.87387,     0.87487,     0.87588,     0.87688,     0.87788,     0.87888,     0.87988,     0.88088,     0.88188,     0.88288,     0.88388,     0.88488,     0.88589,     0.88689,     0.88789,\n",
              "           0.88889,     0.88989,     0.89089,     0.89189,     0.89289,     0.89389,     0.89489,      0.8959,      0.8969,      0.8979,      0.8989,      0.8999,      0.9009,      0.9019,      0.9029,      0.9039,      0.9049,     0.90591,     0.90691,     0.90791,     0.90891,     0.90991,     0.91091,     0.91191,\n",
              "           0.91291,     0.91391,     0.91491,     0.91592,     0.91692,     0.91792,     0.91892,     0.91992,     0.92092,     0.92192,     0.92292,     0.92392,     0.92492,     0.92593,     0.92693,     0.92793,     0.92893,     0.92993,     0.93093,     0.93193,     0.93293,     0.93393,     0.93493,     0.93594,\n",
              "           0.93694,     0.93794,     0.93894,     0.93994,     0.94094,     0.94194,     0.94294,     0.94394,     0.94494,     0.94595,     0.94695,     0.94795,     0.94895,     0.94995,     0.95095,     0.95195,     0.95295,     0.95395,     0.95495,     0.95596,     0.95696,     0.95796,     0.95896,     0.95996,\n",
              "           0.96096,     0.96196,     0.96296,     0.96396,     0.96496,     0.96597,     0.96697,     0.96797,     0.96897,     0.96997,     0.97097,     0.97197,     0.97297,     0.97397,     0.97497,     0.97598,     0.97698,     0.97798,     0.97898,     0.97998,     0.98098,     0.98198,     0.98298,     0.98398,\n",
              "           0.98498,     0.98599,     0.98699,     0.98799,     0.98899,     0.98999,     0.99099,     0.99199,     0.99299,     0.99399,     0.99499,       0.996,       0.997,       0.998,       0.999,           1]), array([[   0.027088,    0.027088,    0.043433, ...,           0,           0,           0],\n",
              "       [   0.031359,    0.031359,    0.047256, ...,           0,           0,           0],\n",
              "       [   0.036229,    0.036229,    0.051601, ...,           0,           0,           0],\n",
              "       [   0.061303,    0.061303,     0.09142, ...,           0,           0,           0],\n",
              "       [   0.066909,    0.066909,    0.092779, ...,           0,           0,           0],\n",
              "       [   0.099688,    0.099688,     0.13872, ...,           0,           0,           0]]), 'Confidence', 'F1'], [array([          0,    0.001001,    0.002002,    0.003003,    0.004004,    0.005005,    0.006006,    0.007007,    0.008008,    0.009009,     0.01001,    0.011011,    0.012012,    0.013013,    0.014014,    0.015015,    0.016016,    0.017017,    0.018018,    0.019019,     0.02002,    0.021021,    0.022022,    0.023023,\n",
              "          0.024024,    0.025025,    0.026026,    0.027027,    0.028028,    0.029029,     0.03003,    0.031031,    0.032032,    0.033033,    0.034034,    0.035035,    0.036036,    0.037037,    0.038038,    0.039039,     0.04004,    0.041041,    0.042042,    0.043043,    0.044044,    0.045045,    0.046046,    0.047047,\n",
              "          0.048048,    0.049049,     0.05005,    0.051051,    0.052052,    0.053053,    0.054054,    0.055055,    0.056056,    0.057057,    0.058058,    0.059059,     0.06006,    0.061061,    0.062062,    0.063063,    0.064064,    0.065065,    0.066066,    0.067067,    0.068068,    0.069069,     0.07007,    0.071071,\n",
              "          0.072072,    0.073073,    0.074074,    0.075075,    0.076076,    0.077077,    0.078078,    0.079079,     0.08008,    0.081081,    0.082082,    0.083083,    0.084084,    0.085085,    0.086086,    0.087087,    0.088088,    0.089089,     0.09009,    0.091091,    0.092092,    0.093093,    0.094094,    0.095095,\n",
              "          0.096096,    0.097097,    0.098098,    0.099099,      0.1001,      0.1011,      0.1021,      0.1031,      0.1041,     0.10511,     0.10611,     0.10711,     0.10811,     0.10911,     0.11011,     0.11111,     0.11211,     0.11311,     0.11411,     0.11512,     0.11612,     0.11712,     0.11812,     0.11912,\n",
              "           0.12012,     0.12112,     0.12212,     0.12312,     0.12412,     0.12513,     0.12613,     0.12713,     0.12813,     0.12913,     0.13013,     0.13113,     0.13213,     0.13313,     0.13413,     0.13514,     0.13614,     0.13714,     0.13814,     0.13914,     0.14014,     0.14114,     0.14214,     0.14314,\n",
              "           0.14414,     0.14515,     0.14615,     0.14715,     0.14815,     0.14915,     0.15015,     0.15115,     0.15215,     0.15315,     0.15415,     0.15516,     0.15616,     0.15716,     0.15816,     0.15916,     0.16016,     0.16116,     0.16216,     0.16316,     0.16416,     0.16517,     0.16617,     0.16717,\n",
              "           0.16817,     0.16917,     0.17017,     0.17117,     0.17217,     0.17317,     0.17417,     0.17518,     0.17618,     0.17718,     0.17818,     0.17918,     0.18018,     0.18118,     0.18218,     0.18318,     0.18418,     0.18519,     0.18619,     0.18719,     0.18819,     0.18919,     0.19019,     0.19119,\n",
              "           0.19219,     0.19319,     0.19419,      0.1952,      0.1962,      0.1972,      0.1982,      0.1992,      0.2002,      0.2012,      0.2022,      0.2032,      0.2042,     0.20521,     0.20621,     0.20721,     0.20821,     0.20921,     0.21021,     0.21121,     0.21221,     0.21321,     0.21421,     0.21522,\n",
              "           0.21622,     0.21722,     0.21822,     0.21922,     0.22022,     0.22122,     0.22222,     0.22322,     0.22422,     0.22523,     0.22623,     0.22723,     0.22823,     0.22923,     0.23023,     0.23123,     0.23223,     0.23323,     0.23423,     0.23524,     0.23624,     0.23724,     0.23824,     0.23924,\n",
              "           0.24024,     0.24124,     0.24224,     0.24324,     0.24424,     0.24525,     0.24625,     0.24725,     0.24825,     0.24925,     0.25025,     0.25125,     0.25225,     0.25325,     0.25425,     0.25526,     0.25626,     0.25726,     0.25826,     0.25926,     0.26026,     0.26126,     0.26226,     0.26326,\n",
              "           0.26426,     0.26527,     0.26627,     0.26727,     0.26827,     0.26927,     0.27027,     0.27127,     0.27227,     0.27327,     0.27427,     0.27528,     0.27628,     0.27728,     0.27828,     0.27928,     0.28028,     0.28128,     0.28228,     0.28328,     0.28428,     0.28529,     0.28629,     0.28729,\n",
              "           0.28829,     0.28929,     0.29029,     0.29129,     0.29229,     0.29329,     0.29429,      0.2953,      0.2963,      0.2973,      0.2983,      0.2993,      0.3003,      0.3013,      0.3023,      0.3033,      0.3043,     0.30531,     0.30631,     0.30731,     0.30831,     0.30931,     0.31031,     0.31131,\n",
              "           0.31231,     0.31331,     0.31431,     0.31532,     0.31632,     0.31732,     0.31832,     0.31932,     0.32032,     0.32132,     0.32232,     0.32332,     0.32432,     0.32533,     0.32633,     0.32733,     0.32833,     0.32933,     0.33033,     0.33133,     0.33233,     0.33333,     0.33433,     0.33534,\n",
              "           0.33634,     0.33734,     0.33834,     0.33934,     0.34034,     0.34134,     0.34234,     0.34334,     0.34434,     0.34535,     0.34635,     0.34735,     0.34835,     0.34935,     0.35035,     0.35135,     0.35235,     0.35335,     0.35435,     0.35536,     0.35636,     0.35736,     0.35836,     0.35936,\n",
              "           0.36036,     0.36136,     0.36236,     0.36336,     0.36436,     0.36537,     0.36637,     0.36737,     0.36837,     0.36937,     0.37037,     0.37137,     0.37237,     0.37337,     0.37437,     0.37538,     0.37638,     0.37738,     0.37838,     0.37938,     0.38038,     0.38138,     0.38238,     0.38338,\n",
              "           0.38438,     0.38539,     0.38639,     0.38739,     0.38839,     0.38939,     0.39039,     0.39139,     0.39239,     0.39339,     0.39439,      0.3954,      0.3964,      0.3974,      0.3984,      0.3994,      0.4004,      0.4014,      0.4024,      0.4034,      0.4044,     0.40541,     0.40641,     0.40741,\n",
              "           0.40841,     0.40941,     0.41041,     0.41141,     0.41241,     0.41341,     0.41441,     0.41542,     0.41642,     0.41742,     0.41842,     0.41942,     0.42042,     0.42142,     0.42242,     0.42342,     0.42442,     0.42543,     0.42643,     0.42743,     0.42843,     0.42943,     0.43043,     0.43143,\n",
              "           0.43243,     0.43343,     0.43443,     0.43544,     0.43644,     0.43744,     0.43844,     0.43944,     0.44044,     0.44144,     0.44244,     0.44344,     0.44444,     0.44545,     0.44645,     0.44745,     0.44845,     0.44945,     0.45045,     0.45145,     0.45245,     0.45345,     0.45445,     0.45546,\n",
              "           0.45646,     0.45746,     0.45846,     0.45946,     0.46046,     0.46146,     0.46246,     0.46346,     0.46446,     0.46547,     0.46647,     0.46747,     0.46847,     0.46947,     0.47047,     0.47147,     0.47247,     0.47347,     0.47447,     0.47548,     0.47648,     0.47748,     0.47848,     0.47948,\n",
              "           0.48048,     0.48148,     0.48248,     0.48348,     0.48448,     0.48549,     0.48649,     0.48749,     0.48849,     0.48949,     0.49049,     0.49149,     0.49249,     0.49349,     0.49449,      0.4955,      0.4965,      0.4975,      0.4985,      0.4995,      0.5005,      0.5015,      0.5025,      0.5035,\n",
              "            0.5045,     0.50551,     0.50651,     0.50751,     0.50851,     0.50951,     0.51051,     0.51151,     0.51251,     0.51351,     0.51451,     0.51552,     0.51652,     0.51752,     0.51852,     0.51952,     0.52052,     0.52152,     0.52252,     0.52352,     0.52452,     0.52553,     0.52653,     0.52753,\n",
              "           0.52853,     0.52953,     0.53053,     0.53153,     0.53253,     0.53353,     0.53453,     0.53554,     0.53654,     0.53754,     0.53854,     0.53954,     0.54054,     0.54154,     0.54254,     0.54354,     0.54454,     0.54555,     0.54655,     0.54755,     0.54855,     0.54955,     0.55055,     0.55155,\n",
              "           0.55255,     0.55355,     0.55455,     0.55556,     0.55656,     0.55756,     0.55856,     0.55956,     0.56056,     0.56156,     0.56256,     0.56356,     0.56456,     0.56557,     0.56657,     0.56757,     0.56857,     0.56957,     0.57057,     0.57157,     0.57257,     0.57357,     0.57457,     0.57558,\n",
              "           0.57658,     0.57758,     0.57858,     0.57958,     0.58058,     0.58158,     0.58258,     0.58358,     0.58458,     0.58559,     0.58659,     0.58759,     0.58859,     0.58959,     0.59059,     0.59159,     0.59259,     0.59359,     0.59459,      0.5956,      0.5966,      0.5976,      0.5986,      0.5996,\n",
              "            0.6006,      0.6016,      0.6026,      0.6036,      0.6046,     0.60561,     0.60661,     0.60761,     0.60861,     0.60961,     0.61061,     0.61161,     0.61261,     0.61361,     0.61461,     0.61562,     0.61662,     0.61762,     0.61862,     0.61962,     0.62062,     0.62162,     0.62262,     0.62362,\n",
              "           0.62462,     0.62563,     0.62663,     0.62763,     0.62863,     0.62963,     0.63063,     0.63163,     0.63263,     0.63363,     0.63463,     0.63564,     0.63664,     0.63764,     0.63864,     0.63964,     0.64064,     0.64164,     0.64264,     0.64364,     0.64464,     0.64565,     0.64665,     0.64765,\n",
              "           0.64865,     0.64965,     0.65065,     0.65165,     0.65265,     0.65365,     0.65465,     0.65566,     0.65666,     0.65766,     0.65866,     0.65966,     0.66066,     0.66166,     0.66266,     0.66366,     0.66466,     0.66567,     0.66667,     0.66767,     0.66867,     0.66967,     0.67067,     0.67167,\n",
              "           0.67267,     0.67367,     0.67467,     0.67568,     0.67668,     0.67768,     0.67868,     0.67968,     0.68068,     0.68168,     0.68268,     0.68368,     0.68468,     0.68569,     0.68669,     0.68769,     0.68869,     0.68969,     0.69069,     0.69169,     0.69269,     0.69369,     0.69469,      0.6957,\n",
              "            0.6967,      0.6977,      0.6987,      0.6997,      0.7007,      0.7017,      0.7027,      0.7037,      0.7047,     0.70571,     0.70671,     0.70771,     0.70871,     0.70971,     0.71071,     0.71171,     0.71271,     0.71371,     0.71471,     0.71572,     0.71672,     0.71772,     0.71872,     0.71972,\n",
              "           0.72072,     0.72172,     0.72272,     0.72372,     0.72472,     0.72573,     0.72673,     0.72773,     0.72873,     0.72973,     0.73073,     0.73173,     0.73273,     0.73373,     0.73473,     0.73574,     0.73674,     0.73774,     0.73874,     0.73974,     0.74074,     0.74174,     0.74274,     0.74374,\n",
              "           0.74474,     0.74575,     0.74675,     0.74775,     0.74875,     0.74975,     0.75075,     0.75175,     0.75275,     0.75375,     0.75475,     0.75576,     0.75676,     0.75776,     0.75876,     0.75976,     0.76076,     0.76176,     0.76276,     0.76376,     0.76476,     0.76577,     0.76677,     0.76777,\n",
              "           0.76877,     0.76977,     0.77077,     0.77177,     0.77277,     0.77377,     0.77477,     0.77578,     0.77678,     0.77778,     0.77878,     0.77978,     0.78078,     0.78178,     0.78278,     0.78378,     0.78478,     0.78579,     0.78679,     0.78779,     0.78879,     0.78979,     0.79079,     0.79179,\n",
              "           0.79279,     0.79379,     0.79479,      0.7958,      0.7968,      0.7978,      0.7988,      0.7998,      0.8008,      0.8018,      0.8028,      0.8038,      0.8048,     0.80581,     0.80681,     0.80781,     0.80881,     0.80981,     0.81081,     0.81181,     0.81281,     0.81381,     0.81481,     0.81582,\n",
              "           0.81682,     0.81782,     0.81882,     0.81982,     0.82082,     0.82182,     0.82282,     0.82382,     0.82482,     0.82583,     0.82683,     0.82783,     0.82883,     0.82983,     0.83083,     0.83183,     0.83283,     0.83383,     0.83483,     0.83584,     0.83684,     0.83784,     0.83884,     0.83984,\n",
              "           0.84084,     0.84184,     0.84284,     0.84384,     0.84484,     0.84585,     0.84685,     0.84785,     0.84885,     0.84985,     0.85085,     0.85185,     0.85285,     0.85385,     0.85485,     0.85586,     0.85686,     0.85786,     0.85886,     0.85986,     0.86086,     0.86186,     0.86286,     0.86386,\n",
              "           0.86486,     0.86587,     0.86687,     0.86787,     0.86887,     0.86987,     0.87087,     0.87187,     0.87287,     0.87387,     0.87487,     0.87588,     0.87688,     0.87788,     0.87888,     0.87988,     0.88088,     0.88188,     0.88288,     0.88388,     0.88488,     0.88589,     0.88689,     0.88789,\n",
              "           0.88889,     0.88989,     0.89089,     0.89189,     0.89289,     0.89389,     0.89489,      0.8959,      0.8969,      0.8979,      0.8989,      0.8999,      0.9009,      0.9019,      0.9029,      0.9039,      0.9049,     0.90591,     0.90691,     0.90791,     0.90891,     0.90991,     0.91091,     0.91191,\n",
              "           0.91291,     0.91391,     0.91491,     0.91592,     0.91692,     0.91792,     0.91892,     0.91992,     0.92092,     0.92192,     0.92292,     0.92392,     0.92492,     0.92593,     0.92693,     0.92793,     0.92893,     0.92993,     0.93093,     0.93193,     0.93293,     0.93393,     0.93493,     0.93594,\n",
              "           0.93694,     0.93794,     0.93894,     0.93994,     0.94094,     0.94194,     0.94294,     0.94394,     0.94494,     0.94595,     0.94695,     0.94795,     0.94895,     0.94995,     0.95095,     0.95195,     0.95295,     0.95395,     0.95495,     0.95596,     0.95696,     0.95796,     0.95896,     0.95996,\n",
              "           0.96096,     0.96196,     0.96296,     0.96396,     0.96496,     0.96597,     0.96697,     0.96797,     0.96897,     0.96997,     0.97097,     0.97197,     0.97297,     0.97397,     0.97497,     0.97598,     0.97698,     0.97798,     0.97898,     0.97998,     0.98098,     0.98198,     0.98298,     0.98398,\n",
              "           0.98498,     0.98599,     0.98699,     0.98799,     0.98899,     0.98999,     0.99099,     0.99199,     0.99299,     0.99399,     0.99499,       0.996,       0.997,       0.998,       0.999,           1]), array([[   0.013801,    0.013801,    0.022415, ...,           1,           1,           1],\n",
              "       [   0.015943,    0.015943,    0.024244, ...,           1,           1,           1],\n",
              "       [   0.018483,    0.018483,    0.026598, ...,           1,           1,           1],\n",
              "       [      0.032,       0.032,    0.048776, ...,           1,           1,           1],\n",
              "       [   0.034691,    0.034691,    0.048857, ...,           1,           1,           1],\n",
              "       [   0.052545,    0.052545,    0.075306, ...,           1,           1,           1]]), 'Confidence', 'Precision'], [array([          0,    0.001001,    0.002002,    0.003003,    0.004004,    0.005005,    0.006006,    0.007007,    0.008008,    0.009009,     0.01001,    0.011011,    0.012012,    0.013013,    0.014014,    0.015015,    0.016016,    0.017017,    0.018018,    0.019019,     0.02002,    0.021021,    0.022022,    0.023023,\n",
              "          0.024024,    0.025025,    0.026026,    0.027027,    0.028028,    0.029029,     0.03003,    0.031031,    0.032032,    0.033033,    0.034034,    0.035035,    0.036036,    0.037037,    0.038038,    0.039039,     0.04004,    0.041041,    0.042042,    0.043043,    0.044044,    0.045045,    0.046046,    0.047047,\n",
              "          0.048048,    0.049049,     0.05005,    0.051051,    0.052052,    0.053053,    0.054054,    0.055055,    0.056056,    0.057057,    0.058058,    0.059059,     0.06006,    0.061061,    0.062062,    0.063063,    0.064064,    0.065065,    0.066066,    0.067067,    0.068068,    0.069069,     0.07007,    0.071071,\n",
              "          0.072072,    0.073073,    0.074074,    0.075075,    0.076076,    0.077077,    0.078078,    0.079079,     0.08008,    0.081081,    0.082082,    0.083083,    0.084084,    0.085085,    0.086086,    0.087087,    0.088088,    0.089089,     0.09009,    0.091091,    0.092092,    0.093093,    0.094094,    0.095095,\n",
              "          0.096096,    0.097097,    0.098098,    0.099099,      0.1001,      0.1011,      0.1021,      0.1031,      0.1041,     0.10511,     0.10611,     0.10711,     0.10811,     0.10911,     0.11011,     0.11111,     0.11211,     0.11311,     0.11411,     0.11512,     0.11612,     0.11712,     0.11812,     0.11912,\n",
              "           0.12012,     0.12112,     0.12212,     0.12312,     0.12412,     0.12513,     0.12613,     0.12713,     0.12813,     0.12913,     0.13013,     0.13113,     0.13213,     0.13313,     0.13413,     0.13514,     0.13614,     0.13714,     0.13814,     0.13914,     0.14014,     0.14114,     0.14214,     0.14314,\n",
              "           0.14414,     0.14515,     0.14615,     0.14715,     0.14815,     0.14915,     0.15015,     0.15115,     0.15215,     0.15315,     0.15415,     0.15516,     0.15616,     0.15716,     0.15816,     0.15916,     0.16016,     0.16116,     0.16216,     0.16316,     0.16416,     0.16517,     0.16617,     0.16717,\n",
              "           0.16817,     0.16917,     0.17017,     0.17117,     0.17217,     0.17317,     0.17417,     0.17518,     0.17618,     0.17718,     0.17818,     0.17918,     0.18018,     0.18118,     0.18218,     0.18318,     0.18418,     0.18519,     0.18619,     0.18719,     0.18819,     0.18919,     0.19019,     0.19119,\n",
              "           0.19219,     0.19319,     0.19419,      0.1952,      0.1962,      0.1972,      0.1982,      0.1992,      0.2002,      0.2012,      0.2022,      0.2032,      0.2042,     0.20521,     0.20621,     0.20721,     0.20821,     0.20921,     0.21021,     0.21121,     0.21221,     0.21321,     0.21421,     0.21522,\n",
              "           0.21622,     0.21722,     0.21822,     0.21922,     0.22022,     0.22122,     0.22222,     0.22322,     0.22422,     0.22523,     0.22623,     0.22723,     0.22823,     0.22923,     0.23023,     0.23123,     0.23223,     0.23323,     0.23423,     0.23524,     0.23624,     0.23724,     0.23824,     0.23924,\n",
              "           0.24024,     0.24124,     0.24224,     0.24324,     0.24424,     0.24525,     0.24625,     0.24725,     0.24825,     0.24925,     0.25025,     0.25125,     0.25225,     0.25325,     0.25425,     0.25526,     0.25626,     0.25726,     0.25826,     0.25926,     0.26026,     0.26126,     0.26226,     0.26326,\n",
              "           0.26426,     0.26527,     0.26627,     0.26727,     0.26827,     0.26927,     0.27027,     0.27127,     0.27227,     0.27327,     0.27427,     0.27528,     0.27628,     0.27728,     0.27828,     0.27928,     0.28028,     0.28128,     0.28228,     0.28328,     0.28428,     0.28529,     0.28629,     0.28729,\n",
              "           0.28829,     0.28929,     0.29029,     0.29129,     0.29229,     0.29329,     0.29429,      0.2953,      0.2963,      0.2973,      0.2983,      0.2993,      0.3003,      0.3013,      0.3023,      0.3033,      0.3043,     0.30531,     0.30631,     0.30731,     0.30831,     0.30931,     0.31031,     0.31131,\n",
              "           0.31231,     0.31331,     0.31431,     0.31532,     0.31632,     0.31732,     0.31832,     0.31932,     0.32032,     0.32132,     0.32232,     0.32332,     0.32432,     0.32533,     0.32633,     0.32733,     0.32833,     0.32933,     0.33033,     0.33133,     0.33233,     0.33333,     0.33433,     0.33534,\n",
              "           0.33634,     0.33734,     0.33834,     0.33934,     0.34034,     0.34134,     0.34234,     0.34334,     0.34434,     0.34535,     0.34635,     0.34735,     0.34835,     0.34935,     0.35035,     0.35135,     0.35235,     0.35335,     0.35435,     0.35536,     0.35636,     0.35736,     0.35836,     0.35936,\n",
              "           0.36036,     0.36136,     0.36236,     0.36336,     0.36436,     0.36537,     0.36637,     0.36737,     0.36837,     0.36937,     0.37037,     0.37137,     0.37237,     0.37337,     0.37437,     0.37538,     0.37638,     0.37738,     0.37838,     0.37938,     0.38038,     0.38138,     0.38238,     0.38338,\n",
              "           0.38438,     0.38539,     0.38639,     0.38739,     0.38839,     0.38939,     0.39039,     0.39139,     0.39239,     0.39339,     0.39439,      0.3954,      0.3964,      0.3974,      0.3984,      0.3994,      0.4004,      0.4014,      0.4024,      0.4034,      0.4044,     0.40541,     0.40641,     0.40741,\n",
              "           0.40841,     0.40941,     0.41041,     0.41141,     0.41241,     0.41341,     0.41441,     0.41542,     0.41642,     0.41742,     0.41842,     0.41942,     0.42042,     0.42142,     0.42242,     0.42342,     0.42442,     0.42543,     0.42643,     0.42743,     0.42843,     0.42943,     0.43043,     0.43143,\n",
              "           0.43243,     0.43343,     0.43443,     0.43544,     0.43644,     0.43744,     0.43844,     0.43944,     0.44044,     0.44144,     0.44244,     0.44344,     0.44444,     0.44545,     0.44645,     0.44745,     0.44845,     0.44945,     0.45045,     0.45145,     0.45245,     0.45345,     0.45445,     0.45546,\n",
              "           0.45646,     0.45746,     0.45846,     0.45946,     0.46046,     0.46146,     0.46246,     0.46346,     0.46446,     0.46547,     0.46647,     0.46747,     0.46847,     0.46947,     0.47047,     0.47147,     0.47247,     0.47347,     0.47447,     0.47548,     0.47648,     0.47748,     0.47848,     0.47948,\n",
              "           0.48048,     0.48148,     0.48248,     0.48348,     0.48448,     0.48549,     0.48649,     0.48749,     0.48849,     0.48949,     0.49049,     0.49149,     0.49249,     0.49349,     0.49449,      0.4955,      0.4965,      0.4975,      0.4985,      0.4995,      0.5005,      0.5015,      0.5025,      0.5035,\n",
              "            0.5045,     0.50551,     0.50651,     0.50751,     0.50851,     0.50951,     0.51051,     0.51151,     0.51251,     0.51351,     0.51451,     0.51552,     0.51652,     0.51752,     0.51852,     0.51952,     0.52052,     0.52152,     0.52252,     0.52352,     0.52452,     0.52553,     0.52653,     0.52753,\n",
              "           0.52853,     0.52953,     0.53053,     0.53153,     0.53253,     0.53353,     0.53453,     0.53554,     0.53654,     0.53754,     0.53854,     0.53954,     0.54054,     0.54154,     0.54254,     0.54354,     0.54454,     0.54555,     0.54655,     0.54755,     0.54855,     0.54955,     0.55055,     0.55155,\n",
              "           0.55255,     0.55355,     0.55455,     0.55556,     0.55656,     0.55756,     0.55856,     0.55956,     0.56056,     0.56156,     0.56256,     0.56356,     0.56456,     0.56557,     0.56657,     0.56757,     0.56857,     0.56957,     0.57057,     0.57157,     0.57257,     0.57357,     0.57457,     0.57558,\n",
              "           0.57658,     0.57758,     0.57858,     0.57958,     0.58058,     0.58158,     0.58258,     0.58358,     0.58458,     0.58559,     0.58659,     0.58759,     0.58859,     0.58959,     0.59059,     0.59159,     0.59259,     0.59359,     0.59459,      0.5956,      0.5966,      0.5976,      0.5986,      0.5996,\n",
              "            0.6006,      0.6016,      0.6026,      0.6036,      0.6046,     0.60561,     0.60661,     0.60761,     0.60861,     0.60961,     0.61061,     0.61161,     0.61261,     0.61361,     0.61461,     0.61562,     0.61662,     0.61762,     0.61862,     0.61962,     0.62062,     0.62162,     0.62262,     0.62362,\n",
              "           0.62462,     0.62563,     0.62663,     0.62763,     0.62863,     0.62963,     0.63063,     0.63163,     0.63263,     0.63363,     0.63463,     0.63564,     0.63664,     0.63764,     0.63864,     0.63964,     0.64064,     0.64164,     0.64264,     0.64364,     0.64464,     0.64565,     0.64665,     0.64765,\n",
              "           0.64865,     0.64965,     0.65065,     0.65165,     0.65265,     0.65365,     0.65465,     0.65566,     0.65666,     0.65766,     0.65866,     0.65966,     0.66066,     0.66166,     0.66266,     0.66366,     0.66466,     0.66567,     0.66667,     0.66767,     0.66867,     0.66967,     0.67067,     0.67167,\n",
              "           0.67267,     0.67367,     0.67467,     0.67568,     0.67668,     0.67768,     0.67868,     0.67968,     0.68068,     0.68168,     0.68268,     0.68368,     0.68468,     0.68569,     0.68669,     0.68769,     0.68869,     0.68969,     0.69069,     0.69169,     0.69269,     0.69369,     0.69469,      0.6957,\n",
              "            0.6967,      0.6977,      0.6987,      0.6997,      0.7007,      0.7017,      0.7027,      0.7037,      0.7047,     0.70571,     0.70671,     0.70771,     0.70871,     0.70971,     0.71071,     0.71171,     0.71271,     0.71371,     0.71471,     0.71572,     0.71672,     0.71772,     0.71872,     0.71972,\n",
              "           0.72072,     0.72172,     0.72272,     0.72372,     0.72472,     0.72573,     0.72673,     0.72773,     0.72873,     0.72973,     0.73073,     0.73173,     0.73273,     0.73373,     0.73473,     0.73574,     0.73674,     0.73774,     0.73874,     0.73974,     0.74074,     0.74174,     0.74274,     0.74374,\n",
              "           0.74474,     0.74575,     0.74675,     0.74775,     0.74875,     0.74975,     0.75075,     0.75175,     0.75275,     0.75375,     0.75475,     0.75576,     0.75676,     0.75776,     0.75876,     0.75976,     0.76076,     0.76176,     0.76276,     0.76376,     0.76476,     0.76577,     0.76677,     0.76777,\n",
              "           0.76877,     0.76977,     0.77077,     0.77177,     0.77277,     0.77377,     0.77477,     0.77578,     0.77678,     0.77778,     0.77878,     0.77978,     0.78078,     0.78178,     0.78278,     0.78378,     0.78478,     0.78579,     0.78679,     0.78779,     0.78879,     0.78979,     0.79079,     0.79179,\n",
              "           0.79279,     0.79379,     0.79479,      0.7958,      0.7968,      0.7978,      0.7988,      0.7998,      0.8008,      0.8018,      0.8028,      0.8038,      0.8048,     0.80581,     0.80681,     0.80781,     0.80881,     0.80981,     0.81081,     0.81181,     0.81281,     0.81381,     0.81481,     0.81582,\n",
              "           0.81682,     0.81782,     0.81882,     0.81982,     0.82082,     0.82182,     0.82282,     0.82382,     0.82482,     0.82583,     0.82683,     0.82783,     0.82883,     0.82983,     0.83083,     0.83183,     0.83283,     0.83383,     0.83483,     0.83584,     0.83684,     0.83784,     0.83884,     0.83984,\n",
              "           0.84084,     0.84184,     0.84284,     0.84384,     0.84484,     0.84585,     0.84685,     0.84785,     0.84885,     0.84985,     0.85085,     0.85185,     0.85285,     0.85385,     0.85485,     0.85586,     0.85686,     0.85786,     0.85886,     0.85986,     0.86086,     0.86186,     0.86286,     0.86386,\n",
              "           0.86486,     0.86587,     0.86687,     0.86787,     0.86887,     0.86987,     0.87087,     0.87187,     0.87287,     0.87387,     0.87487,     0.87588,     0.87688,     0.87788,     0.87888,     0.87988,     0.88088,     0.88188,     0.88288,     0.88388,     0.88488,     0.88589,     0.88689,     0.88789,\n",
              "           0.88889,     0.88989,     0.89089,     0.89189,     0.89289,     0.89389,     0.89489,      0.8959,      0.8969,      0.8979,      0.8989,      0.8999,      0.9009,      0.9019,      0.9029,      0.9039,      0.9049,     0.90591,     0.90691,     0.90791,     0.90891,     0.90991,     0.91091,     0.91191,\n",
              "           0.91291,     0.91391,     0.91491,     0.91592,     0.91692,     0.91792,     0.91892,     0.91992,     0.92092,     0.92192,     0.92292,     0.92392,     0.92492,     0.92593,     0.92693,     0.92793,     0.92893,     0.92993,     0.93093,     0.93193,     0.93293,     0.93393,     0.93493,     0.93594,\n",
              "           0.93694,     0.93794,     0.93894,     0.93994,     0.94094,     0.94194,     0.94294,     0.94394,     0.94494,     0.94595,     0.94695,     0.94795,     0.94895,     0.94995,     0.95095,     0.95195,     0.95295,     0.95395,     0.95495,     0.95596,     0.95696,     0.95796,     0.95896,     0.95996,\n",
              "           0.96096,     0.96196,     0.96296,     0.96396,     0.96496,     0.96597,     0.96697,     0.96797,     0.96897,     0.96997,     0.97097,     0.97197,     0.97297,     0.97397,     0.97497,     0.97598,     0.97698,     0.97798,     0.97898,     0.97998,     0.98098,     0.98198,     0.98298,     0.98398,\n",
              "           0.98498,     0.98599,     0.98699,     0.98799,     0.98899,     0.98999,     0.99099,     0.99199,     0.99299,     0.99399,     0.99499,       0.996,       0.997,       0.998,       0.999,           1]), array([[    0.72727,     0.72727,     0.69697, ...,           0,           0,           0],\n",
              "       [    0.94737,     0.94737,     0.92982, ...,           0,           0,           0],\n",
              "       [    0.90698,     0.90698,     0.86047, ...,           0,           0,           0],\n",
              "       [    0.72727,     0.72727,     0.72727, ...,           0,           0,           0],\n",
              "       [    0.93878,     0.93878,     0.91837, ...,           0,           0,           0],\n",
              "       [     0.9697,      0.9697,     0.87879, ...,           0,           0,           0]]), 'Confidence', 'Recall']]\n",
              "fitness: np.float64(0.2226493438464338)\n",
              "keys: ['metrics/precision(B)', 'metrics/recall(B)', 'metrics/mAP50(B)', 'metrics/mAP50-95(B)']\n",
              "maps: array([    0.17313,     0.11393,     0.20832,     0.13179,     0.24363,     0.29984])\n",
              "names: {0: 'broken_road_signs', 1: 'damaged_buildings', 2: 'littering', 3: 'parking_issues', 4: 'potholes', 5: 'vandalism'}\n",
              "nt_per_class: array([33, 57, 43, 33, 49, 33])\n",
              "nt_per_image: array([20, 33, 30, 23, 30, 26])\n",
              "results_dict: {'metrics/precision(B)': np.float64(0.5319519771300796), 'metrics/recall(B)': np.float64(0.474590548021306), 'metrics/mAP50(B)': np.float64(0.47052273571280306), 'metrics/mAP50-95(B)': np.float64(0.19510785586128168), 'fitness': np.float64(0.2226493438464338)}\n",
              "save_dir: PosixPath('runs/detect/train5')\n",
              "speed: {'preprocess': 0.32796012919136314, 'inference': 3.1092510047763766, 'loss': 0.0011061913733210183, 'postprocess': 6.051540889956322}\n",
              "stats: {'tp': [], 'conf': [], 'pred_cls': [], 'target_cls': [], 'target_img': []}\n",
              "task: 'detect'"
            ]
          },
          "metadata": {},
          "execution_count": 11
        }
      ]
    },
    {
      "cell_type": "code",
      "source": [
        "from google.colab import drive\n",
        "drive.mount('/content/drive')\n",
        "\n",
        "!cp runs/detect/train5/weights/best.pt /content/drive/MyDrive/"
      ],
      "metadata": {
        "colab": {
          "base_uri": "https://localhost:8080/"
        },
        "id": "m6kXezRoEs1P",
        "outputId": "f5505f75-1237-4650-b1f4-5c5a3a2d5b16"
      },
      "execution_count": 12,
      "outputs": [
        {
          "output_type": "stream",
          "name": "stdout",
          "text": [
            "Drive already mounted at /content/drive; to attempt to forcibly remount, call drive.mount(\"/content/drive\", force_remount=True).\n"
          ]
        }
      ]
    },
    {
      "cell_type": "code",
      "source": [
        "# Train the model\n",
        "\n",
        "# Load model\n",
        "model = YOLO('yolov8s.pt')\n",
        "\n",
        "model.train(\n",
        "    data='dataset/data.yml',\n",
        "    epochs=50,\n",
        "    imgsz=640,\n",
        "    batch=16,\n",
        ")"
      ],
      "metadata": {
        "colab": {
          "base_uri": "https://localhost:8080/"
        },
        "id": "CgK6i0cdSWR_",
        "outputId": "69b56089-7297-40db-a63a-0d2c77c8352f"
      },
      "execution_count": 13,
      "outputs": [
        {
          "output_type": "stream",
          "name": "stderr",
          "text": [
            "Downloading https://github.com/ultralytics/assets/releases/download/v8.3.0/yolov8s.pt to 'yolov8s.pt': 100%|██████████| 21.5M/21.5M [00:00<00:00, 118MB/s] \n"
          ]
        },
        {
          "output_type": "stream",
          "name": "stdout",
          "text": [
            "Ultralytics 8.3.176 🚀 Python-3.11.13 torch-2.6.0+cu124 CUDA:0 (Tesla T4, 15095MiB)\n",
            "\u001b[34m\u001b[1mengine/trainer: \u001b[0magnostic_nms=False, amp=True, augment=False, auto_augment=randaugment, batch=16, bgr=0.0, box=7.5, cache=False, cfg=None, classes=None, close_mosaic=10, cls=0.5, conf=None, copy_paste=0.0, copy_paste_mode=flip, cos_lr=False, cutmix=0.0, data=dataset/data.yml, degrees=0.0, deterministic=True, device=None, dfl=1.5, dnn=False, dropout=0.0, dynamic=False, embed=None, epochs=50, erasing=0.4, exist_ok=False, fliplr=0.5, flipud=0.0, format=torchscript, fraction=1.0, freeze=None, half=False, hsv_h=0.015, hsv_s=0.7, hsv_v=0.4, imgsz=640, int8=False, iou=0.7, keras=False, kobj=1.0, line_width=None, lr0=0.01, lrf=0.01, mask_ratio=4, max_det=300, mixup=0.0, mode=train, model=yolov8s.pt, momentum=0.937, mosaic=1.0, multi_scale=False, name=train6, nbs=64, nms=False, opset=None, optimize=False, optimizer=auto, overlap_mask=True, patience=100, perspective=0.0, plots=True, pose=12.0, pretrained=True, profile=False, project=None, rect=False, resume=False, retina_masks=False, save=True, save_conf=False, save_crop=False, save_dir=runs/detect/train6, save_frames=False, save_json=False, save_period=-1, save_txt=False, scale=0.5, seed=0, shear=0.0, show=False, show_boxes=True, show_conf=True, show_labels=True, simplify=True, single_cls=False, source=None, split=val, stream_buffer=False, task=detect, time=None, tracker=botsort.yaml, translate=0.1, val=True, verbose=True, vid_stride=1, visualize=False, warmup_bias_lr=0.1, warmup_epochs=3.0, warmup_momentum=0.8, weight_decay=0.0005, workers=8, workspace=None\n",
            "Overriding model.yaml nc=80 with nc=6\n",
            "\n",
            "                   from  n    params  module                                       arguments                     \n",
            "  0                  -1  1       928  ultralytics.nn.modules.conv.Conv             [3, 32, 3, 2]                 \n",
            "  1                  -1  1     18560  ultralytics.nn.modules.conv.Conv             [32, 64, 3, 2]                \n",
            "  2                  -1  1     29056  ultralytics.nn.modules.block.C2f             [64, 64, 1, True]             \n",
            "  3                  -1  1     73984  ultralytics.nn.modules.conv.Conv             [64, 128, 3, 2]               \n",
            "  4                  -1  2    197632  ultralytics.nn.modules.block.C2f             [128, 128, 2, True]           \n",
            "  5                  -1  1    295424  ultralytics.nn.modules.conv.Conv             [128, 256, 3, 2]              \n",
            "  6                  -1  2    788480  ultralytics.nn.modules.block.C2f             [256, 256, 2, True]           \n",
            "  7                  -1  1   1180672  ultralytics.nn.modules.conv.Conv             [256, 512, 3, 2]              \n",
            "  8                  -1  1   1838080  ultralytics.nn.modules.block.C2f             [512, 512, 1, True]           \n",
            "  9                  -1  1    656896  ultralytics.nn.modules.block.SPPF            [512, 512, 5]                 \n",
            " 10                  -1  1         0  torch.nn.modules.upsampling.Upsample         [None, 2, 'nearest']          \n",
            " 11             [-1, 6]  1         0  ultralytics.nn.modules.conv.Concat           [1]                           \n",
            " 12                  -1  1    591360  ultralytics.nn.modules.block.C2f             [768, 256, 1]                 \n",
            " 13                  -1  1         0  torch.nn.modules.upsampling.Upsample         [None, 2, 'nearest']          \n",
            " 14             [-1, 4]  1         0  ultralytics.nn.modules.conv.Concat           [1]                           \n",
            " 15                  -1  1    148224  ultralytics.nn.modules.block.C2f             [384, 128, 1]                 \n",
            " 16                  -1  1    147712  ultralytics.nn.modules.conv.Conv             [128, 128, 3, 2]              \n",
            " 17            [-1, 12]  1         0  ultralytics.nn.modules.conv.Concat           [1]                           \n",
            " 18                  -1  1    493056  ultralytics.nn.modules.block.C2f             [384, 256, 1]                 \n",
            " 19                  -1  1    590336  ultralytics.nn.modules.conv.Conv             [256, 256, 3, 2]              \n",
            " 20             [-1, 9]  1         0  ultralytics.nn.modules.conv.Concat           [1]                           \n",
            " 21                  -1  1   1969152  ultralytics.nn.modules.block.C2f             [768, 512, 1]                 \n",
            " 22        [15, 18, 21]  1   2118370  ultralytics.nn.modules.head.Detect           [6, [128, 256, 512]]          \n",
            "Model summary: 129 layers, 11,137,922 parameters, 11,137,906 gradients, 28.7 GFLOPs\n",
            "\n",
            "Transferred 349/355 items from pretrained weights\n",
            "Freezing layer 'model.22.dfl.conv.weight'\n",
            "\u001b[34m\u001b[1mAMP: \u001b[0mrunning Automatic Mixed Precision (AMP) checks...\n",
            "\u001b[34m\u001b[1mAMP: \u001b[0mchecks passed ✅\n",
            "\u001b[34m\u001b[1mtrain: \u001b[0mFast image access ✅ (ping: 0.0±0.0 ms, read: 1632.3±736.5 MB/s, size: 65.8 KB)\n"
          ]
        },
        {
          "output_type": "stream",
          "name": "stderr",
          "text": [
            "\u001b[34m\u001b[1mtrain: \u001b[0mScanning /content/dataset/labels/train.cache... 1672 images, 490 backgrounds, 0 corrupt: 100%|██████████| 1672/1672 [00:00<?, ?it/s]"
          ]
        },
        {
          "output_type": "stream",
          "name": "stdout",
          "text": [
            "\u001b[34m\u001b[1mtrain: \u001b[0m/content/dataset/images/train/img1683.jpg: corrupt JPEG restored and saved\n",
            "\u001b[34m\u001b[1mtrain: \u001b[0m/content/dataset/images/train/img368.jpg: corrupt JPEG restored and saved\n",
            "\u001b[34m\u001b[1mtrain: \u001b[0m/content/dataset/images/train/img789.jpg: corrupt JPEG restored and saved\n",
            "\u001b[34m\u001b[1malbumentations: \u001b[0mBlur(p=0.01, blur_limit=(3, 7)), MedianBlur(p=0.01, blur_limit=(3, 7)), ToGray(p=0.01, method='weighted_average', num_output_channels=3), CLAHE(p=0.01, clip_limit=(1.0, 4.0), tile_grid_size=(8, 8))\n"
          ]
        },
        {
          "output_type": "stream",
          "name": "stderr",
          "text": [
            "\n"
          ]
        },
        {
          "output_type": "stream",
          "name": "stdout",
          "text": [
            "\u001b[34m\u001b[1mval: \u001b[0mFast image access ✅ (ping: 0.0±0.0 ms, read: 345.8±181.4 MB/s, size: 311.2 KB)\n"
          ]
        },
        {
          "output_type": "stream",
          "name": "stderr",
          "text": [
            "\u001b[34m\u001b[1mval: \u001b[0mScanning /content/dataset/labels/val.cache... 209 images, 51 backgrounds, 0 corrupt: 100%|██████████| 209/209 [00:00<?, ?it/s]"
          ]
        },
        {
          "output_type": "stream",
          "name": "stdout",
          "text": [
            "\u001b[34m\u001b[1mval: \u001b[0m/content/dataset/images/val/img340.jpg: corrupt JPEG restored and saved\n",
            "\u001b[34m\u001b[1mval: \u001b[0m/content/dataset/images/val/img354.jpg: corrupt JPEG restored and saved\n",
            "\u001b[34m\u001b[1mval: \u001b[0m/content/dataset/images/val/img790.jpg: corrupt JPEG restored and saved\n"
          ]
        },
        {
          "output_type": "stream",
          "name": "stderr",
          "text": [
            "\n"
          ]
        },
        {
          "output_type": "stream",
          "name": "stdout",
          "text": [
            "Plotting labels to runs/detect/train6/labels.jpg... \n",
            "\u001b[34m\u001b[1moptimizer:\u001b[0m 'optimizer=auto' found, ignoring 'lr0=0.01' and 'momentum=0.937' and determining best 'optimizer', 'lr0' and 'momentum' automatically... \n",
            "\u001b[34m\u001b[1moptimizer:\u001b[0m AdamW(lr=0.001, momentum=0.9) with parameter groups 57 weight(decay=0.0), 64 weight(decay=0.0005), 63 bias(decay=0.0)\n",
            "Image sizes 640 train, 640 val\n",
            "Using 2 dataloader workers\n",
            "Logging results to \u001b[1mruns/detect/train6\u001b[0m\n",
            "Starting training for 50 epochs...\n",
            "\n",
            "      Epoch    GPU_mem   box_loss   cls_loss   dfl_loss  Instances       Size\n"
          ]
        },
        {
          "output_type": "stream",
          "name": "stderr",
          "text": [
            "       1/50      3.84G      2.041      5.286      2.034         21        640: 100%|██████████| 105/105 [00:55<00:00,  1.89it/s]\n",
            "                 Class     Images  Instances      Box(P          R      mAP50  mAP50-95): 100%|██████████| 7/7 [00:04<00:00,  1.71it/s]"
          ]
        },
        {
          "output_type": "stream",
          "name": "stdout",
          "text": [
            "                   all        209        248      0.565       0.13      0.105     0.0379\n"
          ]
        },
        {
          "output_type": "stream",
          "name": "stderr",
          "text": [
            "\n"
          ]
        },
        {
          "output_type": "stream",
          "name": "stdout",
          "text": [
            "\n",
            "      Epoch    GPU_mem   box_loss   cls_loss   dfl_loss  Instances       Size\n"
          ]
        },
        {
          "output_type": "stream",
          "name": "stderr",
          "text": [
            "       2/50      4.63G      2.097       3.01      2.112         11        640: 100%|██████████| 105/105 [00:48<00:00,  2.17it/s]\n",
            "                 Class     Images  Instances      Box(P          R      mAP50  mAP50-95): 100%|██████████| 7/7 [00:07<00:00,  1.05s/it]"
          ]
        },
        {
          "output_type": "stream",
          "name": "stdout",
          "text": [
            "                   all        209        248     0.0969      0.205     0.0571     0.0144\n"
          ]
        },
        {
          "output_type": "stream",
          "name": "stderr",
          "text": [
            "\n"
          ]
        },
        {
          "output_type": "stream",
          "name": "stdout",
          "text": [
            "\n",
            "      Epoch    GPU_mem   box_loss   cls_loss   dfl_loss  Instances       Size\n"
          ]
        },
        {
          "output_type": "stream",
          "name": "stderr",
          "text": [
            "       3/50      4.63G      2.198      3.088      2.229         19        640: 100%|██████████| 105/105 [00:51<00:00,  2.03it/s]\n",
            "                 Class     Images  Instances      Box(P          R      mAP50  mAP50-95): 100%|██████████| 7/7 [00:07<00:00,  1.04s/it]"
          ]
        },
        {
          "output_type": "stream",
          "name": "stdout",
          "text": [
            "                   all        209        248      0.224      0.171     0.0758     0.0237\n"
          ]
        },
        {
          "output_type": "stream",
          "name": "stderr",
          "text": [
            "\n"
          ]
        },
        {
          "output_type": "stream",
          "name": "stdout",
          "text": [
            "\n",
            "      Epoch    GPU_mem   box_loss   cls_loss   dfl_loss  Instances       Size\n"
          ]
        },
        {
          "output_type": "stream",
          "name": "stderr",
          "text": [
            "       4/50      4.63G      2.144      3.032       2.23         17        640: 100%|██████████| 105/105 [00:44<00:00,  2.35it/s]\n",
            "                 Class     Images  Instances      Box(P          R      mAP50  mAP50-95): 100%|██████████| 7/7 [00:03<00:00,  1.79it/s]"
          ]
        },
        {
          "output_type": "stream",
          "name": "stdout",
          "text": [
            "                   all        209        248     0.0314      0.156     0.0281    0.00696\n"
          ]
        },
        {
          "output_type": "stream",
          "name": "stderr",
          "text": [
            "\n"
          ]
        },
        {
          "output_type": "stream",
          "name": "stdout",
          "text": [
            "\n",
            "      Epoch    GPU_mem   box_loss   cls_loss   dfl_loss  Instances       Size\n"
          ]
        },
        {
          "output_type": "stream",
          "name": "stderr",
          "text": [
            "       5/50      4.63G      2.175      2.922      2.195         19        640: 100%|██████████| 105/105 [00:43<00:00,  2.41it/s]\n",
            "                 Class     Images  Instances      Box(P          R      mAP50  mAP50-95): 100%|██████████| 7/7 [00:04<00:00,  1.54it/s]"
          ]
        },
        {
          "output_type": "stream",
          "name": "stdout",
          "text": [
            "                   all        209        248      0.236      0.127     0.0969     0.0302\n"
          ]
        },
        {
          "output_type": "stream",
          "name": "stderr",
          "text": [
            "\n"
          ]
        },
        {
          "output_type": "stream",
          "name": "stdout",
          "text": [
            "\n",
            "      Epoch    GPU_mem   box_loss   cls_loss   dfl_loss  Instances       Size\n"
          ]
        },
        {
          "output_type": "stream",
          "name": "stderr",
          "text": [
            "       6/50      4.63G      2.109       2.95      2.183         14        640: 100%|██████████| 105/105 [00:44<00:00,  2.36it/s]\n",
            "                 Class     Images  Instances      Box(P          R      mAP50  mAP50-95): 100%|██████████| 7/7 [00:03<00:00,  1.97it/s]"
          ]
        },
        {
          "output_type": "stream",
          "name": "stdout",
          "text": [
            "                   all        209        248      0.178      0.116     0.0981     0.0349\n"
          ]
        },
        {
          "output_type": "stream",
          "name": "stderr",
          "text": [
            "\n"
          ]
        },
        {
          "output_type": "stream",
          "name": "stdout",
          "text": [
            "\n",
            "      Epoch    GPU_mem   box_loss   cls_loss   dfl_loss  Instances       Size\n"
          ]
        },
        {
          "output_type": "stream",
          "name": "stderr",
          "text": [
            "       7/50      4.63G       2.07      2.859      2.153         18        640: 100%|██████████| 105/105 [00:44<00:00,  2.38it/s]\n",
            "                 Class     Images  Instances      Box(P          R      mAP50  mAP50-95): 100%|██████████| 7/7 [00:04<00:00,  1.57it/s]"
          ]
        },
        {
          "output_type": "stream",
          "name": "stdout",
          "text": [
            "                   all        209        248      0.675      0.126      0.123     0.0359\n"
          ]
        },
        {
          "output_type": "stream",
          "name": "stderr",
          "text": [
            "\n"
          ]
        },
        {
          "output_type": "stream",
          "name": "stdout",
          "text": [
            "\n",
            "      Epoch    GPU_mem   box_loss   cls_loss   dfl_loss  Instances       Size\n"
          ]
        },
        {
          "output_type": "stream",
          "name": "stderr",
          "text": [
            "       8/50      4.63G       2.04       2.75      2.122         20        640: 100%|██████████| 105/105 [00:46<00:00,  2.25it/s]\n",
            "                 Class     Images  Instances      Box(P          R      mAP50  mAP50-95): 100%|██████████| 7/7 [00:03<00:00,  1.86it/s]"
          ]
        },
        {
          "output_type": "stream",
          "name": "stdout",
          "text": [
            "                   all        209        248      0.395      0.213      0.188     0.0617\n"
          ]
        },
        {
          "output_type": "stream",
          "name": "stderr",
          "text": [
            "\n"
          ]
        },
        {
          "output_type": "stream",
          "name": "stdout",
          "text": [
            "\n",
            "      Epoch    GPU_mem   box_loss   cls_loss   dfl_loss  Instances       Size\n"
          ]
        },
        {
          "output_type": "stream",
          "name": "stderr",
          "text": [
            "       9/50      4.63G      2.028       2.74      2.116          8        640: 100%|██████████| 105/105 [00:43<00:00,  2.40it/s]\n",
            "                 Class     Images  Instances      Box(P          R      mAP50  mAP50-95): 100%|██████████| 7/7 [00:04<00:00,  1.47it/s]"
          ]
        },
        {
          "output_type": "stream",
          "name": "stdout",
          "text": [
            "                   all        209        248      0.374      0.246      0.156      0.048\n"
          ]
        },
        {
          "output_type": "stream",
          "name": "stderr",
          "text": [
            "\n"
          ]
        },
        {
          "output_type": "stream",
          "name": "stdout",
          "text": [
            "\n",
            "      Epoch    GPU_mem   box_loss   cls_loss   dfl_loss  Instances       Size\n"
          ]
        },
        {
          "output_type": "stream",
          "name": "stderr",
          "text": [
            "      10/50      4.63G      1.966      2.628      2.035         21        640: 100%|██████████| 105/105 [00:43<00:00,  2.39it/s]\n",
            "                 Class     Images  Instances      Box(P          R      mAP50  mAP50-95): 100%|██████████| 7/7 [00:03<00:00,  2.09it/s]"
          ]
        },
        {
          "output_type": "stream",
          "name": "stdout",
          "text": [
            "                   all        209        248      0.179      0.279      0.148     0.0504\n"
          ]
        },
        {
          "output_type": "stream",
          "name": "stderr",
          "text": [
            "\n"
          ]
        },
        {
          "output_type": "stream",
          "name": "stdout",
          "text": [
            "\n",
            "      Epoch    GPU_mem   box_loss   cls_loss   dfl_loss  Instances       Size\n"
          ]
        },
        {
          "output_type": "stream",
          "name": "stderr",
          "text": [
            "      11/50      4.63G      1.955      2.591      2.029         14        640: 100%|██████████| 105/105 [00:44<00:00,  2.35it/s]\n",
            "                 Class     Images  Instances      Box(P          R      mAP50  mAP50-95): 100%|██████████| 7/7 [00:03<00:00,  2.00it/s]"
          ]
        },
        {
          "output_type": "stream",
          "name": "stdout",
          "text": [
            "                   all        209        248      0.391      0.261      0.243     0.0789\n"
          ]
        },
        {
          "output_type": "stream",
          "name": "stderr",
          "text": [
            "\n"
          ]
        },
        {
          "output_type": "stream",
          "name": "stdout",
          "text": [
            "\n",
            "      Epoch    GPU_mem   box_loss   cls_loss   dfl_loss  Instances       Size\n"
          ]
        },
        {
          "output_type": "stream",
          "name": "stderr",
          "text": [
            "      12/50      4.63G       1.93      2.535      2.026         20        640: 100%|██████████| 105/105 [00:45<00:00,  2.31it/s]\n",
            "                 Class     Images  Instances      Box(P          R      mAP50  mAP50-95): 100%|██████████| 7/7 [00:03<00:00,  1.96it/s]"
          ]
        },
        {
          "output_type": "stream",
          "name": "stdout",
          "text": [
            "                   all        209        248      0.282      0.256      0.201     0.0698\n"
          ]
        },
        {
          "output_type": "stream",
          "name": "stderr",
          "text": [
            "\n"
          ]
        },
        {
          "output_type": "stream",
          "name": "stdout",
          "text": [
            "\n",
            "      Epoch    GPU_mem   box_loss   cls_loss   dfl_loss  Instances       Size\n"
          ]
        },
        {
          "output_type": "stream",
          "name": "stderr",
          "text": [
            "      13/50      4.63G      1.905      2.449      1.973         14        640: 100%|██████████| 105/105 [00:43<00:00,  2.39it/s]\n",
            "                 Class     Images  Instances      Box(P          R      mAP50  mAP50-95): 100%|██████████| 7/7 [00:03<00:00,  1.94it/s]"
          ]
        },
        {
          "output_type": "stream",
          "name": "stdout",
          "text": [
            "                   all        209        248       0.35      0.334      0.241     0.0859\n"
          ]
        },
        {
          "output_type": "stream",
          "name": "stderr",
          "text": [
            "\n"
          ]
        },
        {
          "output_type": "stream",
          "name": "stdout",
          "text": [
            "\n",
            "      Epoch    GPU_mem   box_loss   cls_loss   dfl_loss  Instances       Size\n"
          ]
        },
        {
          "output_type": "stream",
          "name": "stderr",
          "text": [
            "      14/50      4.63G      1.899      2.448      1.999         15        640: 100%|██████████| 105/105 [00:43<00:00,  2.39it/s]\n",
            "                 Class     Images  Instances      Box(P          R      mAP50  mAP50-95): 100%|██████████| 7/7 [00:04<00:00,  1.44it/s]"
          ]
        },
        {
          "output_type": "stream",
          "name": "stdout",
          "text": [
            "                   all        209        248      0.388      0.333      0.293      0.108\n"
          ]
        },
        {
          "output_type": "stream",
          "name": "stderr",
          "text": [
            "\n"
          ]
        },
        {
          "output_type": "stream",
          "name": "stdout",
          "text": [
            "\n",
            "      Epoch    GPU_mem   box_loss   cls_loss   dfl_loss  Instances       Size\n"
          ]
        },
        {
          "output_type": "stream",
          "name": "stderr",
          "text": [
            "      15/50      4.66G      1.882      2.399      1.967         27        640: 100%|██████████| 105/105 [00:45<00:00,  2.30it/s]\n",
            "                 Class     Images  Instances      Box(P          R      mAP50  mAP50-95): 100%|██████████| 7/7 [00:03<00:00,  2.04it/s]"
          ]
        },
        {
          "output_type": "stream",
          "name": "stdout",
          "text": [
            "                   all        209        248      0.338      0.304      0.264     0.0891\n"
          ]
        },
        {
          "output_type": "stream",
          "name": "stderr",
          "text": [
            "\n"
          ]
        },
        {
          "output_type": "stream",
          "name": "stdout",
          "text": [
            "\n",
            "      Epoch    GPU_mem   box_loss   cls_loss   dfl_loss  Instances       Size\n"
          ]
        },
        {
          "output_type": "stream",
          "name": "stderr",
          "text": [
            "      16/50      4.67G      1.859      2.393      1.944         14        640: 100%|██████████| 105/105 [00:43<00:00,  2.39it/s]\n",
            "                 Class     Images  Instances      Box(P          R      mAP50  mAP50-95): 100%|██████████| 7/7 [00:04<00:00,  1.48it/s]"
          ]
        },
        {
          "output_type": "stream",
          "name": "stdout",
          "text": [
            "                   all        209        248      0.332      0.328      0.258     0.0884\n"
          ]
        },
        {
          "output_type": "stream",
          "name": "stderr",
          "text": [
            "\n"
          ]
        },
        {
          "output_type": "stream",
          "name": "stdout",
          "text": [
            "\n",
            "      Epoch    GPU_mem   box_loss   cls_loss   dfl_loss  Instances       Size\n"
          ]
        },
        {
          "output_type": "stream",
          "name": "stderr",
          "text": [
            "      17/50       4.7G       1.85      2.341      1.946         23        640: 100%|██████████| 105/105 [00:43<00:00,  2.40it/s]\n",
            "                 Class     Images  Instances      Box(P          R      mAP50  mAP50-95): 100%|██████████| 7/7 [00:03<00:00,  1.92it/s]"
          ]
        },
        {
          "output_type": "stream",
          "name": "stdout",
          "text": [
            "                   all        209        248      0.369      0.306       0.28     0.0993\n"
          ]
        },
        {
          "output_type": "stream",
          "name": "stderr",
          "text": [
            "\n"
          ]
        },
        {
          "output_type": "stream",
          "name": "stdout",
          "text": [
            "\n",
            "      Epoch    GPU_mem   box_loss   cls_loss   dfl_loss  Instances       Size\n"
          ]
        },
        {
          "output_type": "stream",
          "name": "stderr",
          "text": [
            "      18/50       4.7G      1.849      2.328      1.937         22        640: 100%|██████████| 105/105 [00:45<00:00,  2.29it/s]\n",
            "                 Class     Images  Instances      Box(P          R      mAP50  mAP50-95): 100%|██████████| 7/7 [00:03<00:00,  1.86it/s]"
          ]
        },
        {
          "output_type": "stream",
          "name": "stdout",
          "text": [
            "                   all        209        248      0.337      0.366      0.261     0.0942\n"
          ]
        },
        {
          "output_type": "stream",
          "name": "stderr",
          "text": [
            "\n"
          ]
        },
        {
          "output_type": "stream",
          "name": "stdout",
          "text": [
            "\n",
            "      Epoch    GPU_mem   box_loss   cls_loss   dfl_loss  Instances       Size\n"
          ]
        },
        {
          "output_type": "stream",
          "name": "stderr",
          "text": [
            "      19/50      4.73G      1.816      2.275      1.926         16        640: 100%|██████████| 105/105 [00:45<00:00,  2.31it/s]\n",
            "                 Class     Images  Instances      Box(P          R      mAP50  mAP50-95): 100%|██████████| 7/7 [00:04<00:00,  1.70it/s]"
          ]
        },
        {
          "output_type": "stream",
          "name": "stdout",
          "text": [
            "                   all        209        248      0.344      0.339      0.292      0.104\n"
          ]
        },
        {
          "output_type": "stream",
          "name": "stderr",
          "text": [
            "\n"
          ]
        },
        {
          "output_type": "stream",
          "name": "stdout",
          "text": [
            "\n",
            "      Epoch    GPU_mem   box_loss   cls_loss   dfl_loss  Instances       Size\n"
          ]
        },
        {
          "output_type": "stream",
          "name": "stderr",
          "text": [
            "      20/50      4.74G      1.799       2.23      1.897         12        640: 100%|██████████| 105/105 [00:44<00:00,  2.37it/s]\n",
            "                 Class     Images  Instances      Box(P          R      mAP50  mAP50-95): 100%|██████████| 7/7 [00:03<00:00,  1.90it/s]"
          ]
        },
        {
          "output_type": "stream",
          "name": "stdout",
          "text": [
            "                   all        209        248      0.336      0.402      0.262      0.106\n"
          ]
        },
        {
          "output_type": "stream",
          "name": "stderr",
          "text": [
            "\n"
          ]
        },
        {
          "output_type": "stream",
          "name": "stdout",
          "text": [
            "\n",
            "      Epoch    GPU_mem   box_loss   cls_loss   dfl_loss  Instances       Size\n"
          ]
        },
        {
          "output_type": "stream",
          "name": "stderr",
          "text": [
            "      21/50      4.77G      1.803      2.196      1.895         16        640: 100%|██████████| 105/105 [00:43<00:00,  2.40it/s]\n",
            "                 Class     Images  Instances      Box(P          R      mAP50  mAP50-95): 100%|██████████| 7/7 [00:04<00:00,  1.42it/s]"
          ]
        },
        {
          "output_type": "stream",
          "name": "stdout",
          "text": [
            "                   all        209        248      0.436      0.343      0.324      0.118\n"
          ]
        },
        {
          "output_type": "stream",
          "name": "stderr",
          "text": [
            "\n"
          ]
        },
        {
          "output_type": "stream",
          "name": "stdout",
          "text": [
            "\n",
            "      Epoch    GPU_mem   box_loss   cls_loss   dfl_loss  Instances       Size\n"
          ]
        },
        {
          "output_type": "stream",
          "name": "stderr",
          "text": [
            "      22/50      4.77G      1.777      2.161      1.869         10        640: 100%|██████████| 105/105 [00:44<00:00,  2.35it/s]\n",
            "                 Class     Images  Instances      Box(P          R      mAP50  mAP50-95): 100%|██████████| 7/7 [00:03<00:00,  2.10it/s]"
          ]
        },
        {
          "output_type": "stream",
          "name": "stdout",
          "text": [
            "                   all        209        248      0.375      0.361      0.316      0.119\n"
          ]
        },
        {
          "output_type": "stream",
          "name": "stderr",
          "text": [
            "\n"
          ]
        },
        {
          "output_type": "stream",
          "name": "stdout",
          "text": [
            "\n",
            "      Epoch    GPU_mem   box_loss   cls_loss   dfl_loss  Instances       Size\n"
          ]
        },
        {
          "output_type": "stream",
          "name": "stderr",
          "text": [
            "      23/50      4.77G      1.759       2.14      1.864         20        640: 100%|██████████| 105/105 [00:44<00:00,  2.37it/s]\n",
            "                 Class     Images  Instances      Box(P          R      mAP50  mAP50-95): 100%|██████████| 7/7 [00:04<00:00,  1.57it/s]"
          ]
        },
        {
          "output_type": "stream",
          "name": "stdout",
          "text": [
            "                   all        209        248      0.443      0.335      0.322      0.133\n"
          ]
        },
        {
          "output_type": "stream",
          "name": "stderr",
          "text": [
            "\n"
          ]
        },
        {
          "output_type": "stream",
          "name": "stdout",
          "text": [
            "\n",
            "      Epoch    GPU_mem   box_loss   cls_loss   dfl_loss  Instances       Size\n"
          ]
        },
        {
          "output_type": "stream",
          "name": "stderr",
          "text": [
            "      24/50      4.77G      1.763      2.071      1.842         15        640: 100%|██████████| 105/105 [00:43<00:00,  2.40it/s]\n",
            "                 Class     Images  Instances      Box(P          R      mAP50  mAP50-95): 100%|██████████| 7/7 [00:03<00:00,  1.95it/s]"
          ]
        },
        {
          "output_type": "stream",
          "name": "stdout",
          "text": [
            "                   all        209        248      0.318      0.383      0.281       0.11\n"
          ]
        },
        {
          "output_type": "stream",
          "name": "stderr",
          "text": [
            "\n"
          ]
        },
        {
          "output_type": "stream",
          "name": "stdout",
          "text": [
            "\n",
            "      Epoch    GPU_mem   box_loss   cls_loss   dfl_loss  Instances       Size\n"
          ]
        },
        {
          "output_type": "stream",
          "name": "stderr",
          "text": [
            "      25/50      4.77G      1.743      2.026      1.831         14        640: 100%|██████████| 105/105 [00:45<00:00,  2.32it/s]\n",
            "                 Class     Images  Instances      Box(P          R      mAP50  mAP50-95): 100%|██████████| 7/7 [00:03<00:00,  1.99it/s]"
          ]
        },
        {
          "output_type": "stream",
          "name": "stdout",
          "text": [
            "                   all        209        248      0.372      0.398      0.318      0.126\n"
          ]
        },
        {
          "output_type": "stream",
          "name": "stderr",
          "text": [
            "\n"
          ]
        },
        {
          "output_type": "stream",
          "name": "stdout",
          "text": [
            "\n",
            "      Epoch    GPU_mem   box_loss   cls_loss   dfl_loss  Instances       Size\n"
          ]
        },
        {
          "output_type": "stream",
          "name": "stderr",
          "text": [
            "      26/50      4.77G      1.716      2.062      1.819         19        640: 100%|██████████| 105/105 [00:44<00:00,  2.36it/s]\n",
            "                 Class     Images  Instances      Box(P          R      mAP50  mAP50-95): 100%|██████████| 7/7 [00:03<00:00,  1.77it/s]"
          ]
        },
        {
          "output_type": "stream",
          "name": "stdout",
          "text": [
            "                   all        209        248      0.428      0.373      0.362      0.148\n"
          ]
        },
        {
          "output_type": "stream",
          "name": "stderr",
          "text": [
            "\n"
          ]
        },
        {
          "output_type": "stream",
          "name": "stdout",
          "text": [
            "\n",
            "      Epoch    GPU_mem   box_loss   cls_loss   dfl_loss  Instances       Size\n"
          ]
        },
        {
          "output_type": "stream",
          "name": "stderr",
          "text": [
            "      27/50      4.77G      1.707      1.986      1.822         22        640: 100%|██████████| 105/105 [00:44<00:00,  2.34it/s]\n",
            "                 Class     Images  Instances      Box(P          R      mAP50  mAP50-95): 100%|██████████| 7/7 [00:03<00:00,  2.12it/s]"
          ]
        },
        {
          "output_type": "stream",
          "name": "stdout",
          "text": [
            "                   all        209        248      0.432      0.361      0.349      0.146\n"
          ]
        },
        {
          "output_type": "stream",
          "name": "stderr",
          "text": [
            "\n"
          ]
        },
        {
          "output_type": "stream",
          "name": "stdout",
          "text": [
            "\n",
            "      Epoch    GPU_mem   box_loss   cls_loss   dfl_loss  Instances       Size\n"
          ]
        },
        {
          "output_type": "stream",
          "name": "stderr",
          "text": [
            "      28/50      4.77G      1.693      1.975      1.819         23        640: 100%|██████████| 105/105 [00:43<00:00,  2.39it/s]\n",
            "                 Class     Images  Instances      Box(P          R      mAP50  mAP50-95): 100%|██████████| 7/7 [00:04<00:00,  1.55it/s]"
          ]
        },
        {
          "output_type": "stream",
          "name": "stdout",
          "text": [
            "                   all        209        248      0.403       0.35      0.335      0.138\n"
          ]
        },
        {
          "output_type": "stream",
          "name": "stderr",
          "text": [
            "\n"
          ]
        },
        {
          "output_type": "stream",
          "name": "stdout",
          "text": [
            "\n",
            "      Epoch    GPU_mem   box_loss   cls_loss   dfl_loss  Instances       Size\n"
          ]
        },
        {
          "output_type": "stream",
          "name": "stderr",
          "text": [
            "      29/50      4.77G      1.654      1.881      1.781          9        640: 100%|██████████| 105/105 [00:47<00:00,  2.22it/s]\n",
            "                 Class     Images  Instances      Box(P          R      mAP50  mAP50-95): 100%|██████████| 7/7 [00:03<00:00,  2.27it/s]"
          ]
        },
        {
          "output_type": "stream",
          "name": "stdout",
          "text": [
            "                   all        209        248      0.403      0.431      0.381      0.142\n"
          ]
        },
        {
          "output_type": "stream",
          "name": "stderr",
          "text": [
            "\n"
          ]
        },
        {
          "output_type": "stream",
          "name": "stdout",
          "text": [
            "\n",
            "      Epoch    GPU_mem   box_loss   cls_loss   dfl_loss  Instances       Size\n"
          ]
        },
        {
          "output_type": "stream",
          "name": "stderr",
          "text": [
            "      30/50      4.77G      1.659      1.858      1.755         26        640: 100%|██████████| 105/105 [00:45<00:00,  2.30it/s]\n",
            "                 Class     Images  Instances      Box(P          R      mAP50  mAP50-95): 100%|██████████| 7/7 [00:03<00:00,  1.85it/s]"
          ]
        },
        {
          "output_type": "stream",
          "name": "stdout",
          "text": [
            "                   all        209        248      0.446      0.391       0.37      0.149\n"
          ]
        },
        {
          "output_type": "stream",
          "name": "stderr",
          "text": [
            "\n"
          ]
        },
        {
          "output_type": "stream",
          "name": "stdout",
          "text": [
            "\n",
            "      Epoch    GPU_mem   box_loss   cls_loss   dfl_loss  Instances       Size\n"
          ]
        },
        {
          "output_type": "stream",
          "name": "stderr",
          "text": [
            "      31/50      4.77G      1.672      1.886      1.779         20        640: 100%|██████████| 105/105 [00:44<00:00,  2.36it/s]\n",
            "                 Class     Images  Instances      Box(P          R      mAP50  mAP50-95): 100%|██████████| 7/7 [00:03<00:00,  2.01it/s]"
          ]
        },
        {
          "output_type": "stream",
          "name": "stdout",
          "text": [
            "                   all        209        248      0.379      0.386      0.357       0.14\n"
          ]
        },
        {
          "output_type": "stream",
          "name": "stderr",
          "text": [
            "\n"
          ]
        },
        {
          "output_type": "stream",
          "name": "stdout",
          "text": [
            "\n",
            "      Epoch    GPU_mem   box_loss   cls_loss   dfl_loss  Instances       Size\n"
          ]
        },
        {
          "output_type": "stream",
          "name": "stderr",
          "text": [
            "      32/50      4.81G      1.619      1.855      1.743          7        640: 100%|██████████| 105/105 [00:48<00:00,  2.17it/s]\n",
            "                 Class     Images  Instances      Box(P          R      mAP50  mAP50-95): 100%|██████████| 7/7 [00:03<00:00,  2.03it/s]"
          ]
        },
        {
          "output_type": "stream",
          "name": "stdout",
          "text": [
            "                   all        209        248      0.402      0.419      0.375      0.143\n"
          ]
        },
        {
          "output_type": "stream",
          "name": "stderr",
          "text": [
            "\n"
          ]
        },
        {
          "output_type": "stream",
          "name": "stdout",
          "text": [
            "\n",
            "      Epoch    GPU_mem   box_loss   cls_loss   dfl_loss  Instances       Size\n"
          ]
        },
        {
          "output_type": "stream",
          "name": "stderr",
          "text": [
            "      33/50      4.81G      1.607      1.769      1.734         26        640: 100%|██████████| 105/105 [00:46<00:00,  2.28it/s]\n",
            "                 Class     Images  Instances      Box(P          R      mAP50  mAP50-95): 100%|██████████| 7/7 [00:03<00:00,  1.76it/s]"
          ]
        },
        {
          "output_type": "stream",
          "name": "stdout",
          "text": [
            "                   all        209        248      0.408      0.396      0.363      0.137\n"
          ]
        },
        {
          "output_type": "stream",
          "name": "stderr",
          "text": [
            "\n"
          ]
        },
        {
          "output_type": "stream",
          "name": "stdout",
          "text": [
            "\n",
            "      Epoch    GPU_mem   box_loss   cls_loss   dfl_loss  Instances       Size\n"
          ]
        },
        {
          "output_type": "stream",
          "name": "stderr",
          "text": [
            "      34/50      4.84G      1.609      1.739      1.725         18        640: 100%|██████████| 105/105 [00:44<00:00,  2.34it/s]\n",
            "                 Class     Images  Instances      Box(P          R      mAP50  mAP50-95): 100%|██████████| 7/7 [00:03<00:00,  2.06it/s]"
          ]
        },
        {
          "output_type": "stream",
          "name": "stdout",
          "text": [
            "                   all        209        248      0.426      0.477      0.392      0.156\n"
          ]
        },
        {
          "output_type": "stream",
          "name": "stderr",
          "text": [
            "\n"
          ]
        },
        {
          "output_type": "stream",
          "name": "stdout",
          "text": [
            "\n",
            "      Epoch    GPU_mem   box_loss   cls_loss   dfl_loss  Instances       Size\n"
          ]
        },
        {
          "output_type": "stream",
          "name": "stderr",
          "text": [
            "      35/50      4.85G      1.576      1.725      1.706         14        640: 100%|██████████| 105/105 [00:43<00:00,  2.42it/s]\n",
            "                 Class     Images  Instances      Box(P          R      mAP50  mAP50-95): 100%|██████████| 7/7 [00:03<00:00,  1.83it/s]"
          ]
        },
        {
          "output_type": "stream",
          "name": "stdout",
          "text": [
            "                   all        209        248      0.464       0.43      0.401      0.156\n"
          ]
        },
        {
          "output_type": "stream",
          "name": "stderr",
          "text": [
            "\n"
          ]
        },
        {
          "output_type": "stream",
          "name": "stdout",
          "text": [
            "\n",
            "      Epoch    GPU_mem   box_loss   cls_loss   dfl_loss  Instances       Size\n"
          ]
        },
        {
          "output_type": "stream",
          "name": "stderr",
          "text": [
            "      36/50      4.85G      1.556      1.687      1.687         22        640: 100%|██████████| 105/105 [00:46<00:00,  2.26it/s]\n",
            "                 Class     Images  Instances      Box(P          R      mAP50  mAP50-95): 100%|██████████| 7/7 [00:03<00:00,  1.92it/s]"
          ]
        },
        {
          "output_type": "stream",
          "name": "stdout",
          "text": [
            "                   all        209        248      0.538      0.394      0.416      0.159\n"
          ]
        },
        {
          "output_type": "stream",
          "name": "stderr",
          "text": [
            "\n"
          ]
        },
        {
          "output_type": "stream",
          "name": "stdout",
          "text": [
            "\n",
            "      Epoch    GPU_mem   box_loss   cls_loss   dfl_loss  Instances       Size\n"
          ]
        },
        {
          "output_type": "stream",
          "name": "stderr",
          "text": [
            "      37/50      4.85G      1.552      1.641       1.68         18        640: 100%|██████████| 105/105 [00:46<00:00,  2.24it/s]\n",
            "                 Class     Images  Instances      Box(P          R      mAP50  mAP50-95): 100%|██████████| 7/7 [00:03<00:00,  2.23it/s]"
          ]
        },
        {
          "output_type": "stream",
          "name": "stdout",
          "text": [
            "                   all        209        248      0.446      0.425      0.405      0.156\n"
          ]
        },
        {
          "output_type": "stream",
          "name": "stderr",
          "text": [
            "\n"
          ]
        },
        {
          "output_type": "stream",
          "name": "stdout",
          "text": [
            "\n",
            "      Epoch    GPU_mem   box_loss   cls_loss   dfl_loss  Instances       Size\n"
          ]
        },
        {
          "output_type": "stream",
          "name": "stderr",
          "text": [
            "      38/50      4.85G       1.53      1.633      1.665         19        640: 100%|██████████| 105/105 [00:46<00:00,  2.26it/s]\n",
            "                 Class     Images  Instances      Box(P          R      mAP50  mAP50-95): 100%|██████████| 7/7 [00:03<00:00,  1.97it/s]"
          ]
        },
        {
          "output_type": "stream",
          "name": "stdout",
          "text": [
            "                   all        209        248      0.392      0.418       0.35       0.14\n"
          ]
        },
        {
          "output_type": "stream",
          "name": "stderr",
          "text": [
            "\n"
          ]
        },
        {
          "output_type": "stream",
          "name": "stdout",
          "text": [
            "\n",
            "      Epoch    GPU_mem   box_loss   cls_loss   dfl_loss  Instances       Size\n"
          ]
        },
        {
          "output_type": "stream",
          "name": "stderr",
          "text": [
            "      39/50      4.85G      1.527      1.617      1.655         22        640: 100%|██████████| 105/105 [00:46<00:00,  2.26it/s]\n",
            "                 Class     Images  Instances      Box(P          R      mAP50  mAP50-95): 100%|██████████| 7/7 [00:03<00:00,  1.82it/s]"
          ]
        },
        {
          "output_type": "stream",
          "name": "stdout",
          "text": [
            "                   all        209        248      0.454      0.407      0.381      0.145\n"
          ]
        },
        {
          "output_type": "stream",
          "name": "stderr",
          "text": [
            "\n"
          ]
        },
        {
          "output_type": "stream",
          "name": "stdout",
          "text": [
            "\n",
            "      Epoch    GPU_mem   box_loss   cls_loss   dfl_loss  Instances       Size\n"
          ]
        },
        {
          "output_type": "stream",
          "name": "stderr",
          "text": [
            "      40/50      4.85G       1.49      1.544      1.635         18        640: 100%|██████████| 105/105 [00:47<00:00,  2.22it/s]\n",
            "                 Class     Images  Instances      Box(P          R      mAP50  mAP50-95): 100%|██████████| 7/7 [00:03<00:00,  1.84it/s]"
          ]
        },
        {
          "output_type": "stream",
          "name": "stdout",
          "text": [
            "                   all        209        248      0.515      0.391      0.411      0.166\n"
          ]
        },
        {
          "output_type": "stream",
          "name": "stderr",
          "text": [
            "\n"
          ]
        },
        {
          "output_type": "stream",
          "name": "stdout",
          "text": [
            "Closing dataloader mosaic\n",
            "\u001b[34m\u001b[1malbumentations: \u001b[0mBlur(p=0.01, blur_limit=(3, 7)), MedianBlur(p=0.01, blur_limit=(3, 7)), ToGray(p=0.01, method='weighted_average', num_output_channels=3), CLAHE(p=0.01, clip_limit=(1.0, 4.0), tile_grid_size=(8, 8))\n",
            "\n",
            "      Epoch    GPU_mem   box_loss   cls_loss   dfl_loss  Instances       Size\n"
          ]
        },
        {
          "output_type": "stream",
          "name": "stderr",
          "text": [
            "      41/50      4.85G      1.554      1.562      1.731          9        640: 100%|██████████| 105/105 [00:45<00:00,  2.30it/s]\n",
            "                 Class     Images  Instances      Box(P          R      mAP50  mAP50-95): 100%|██████████| 7/7 [00:04<00:00,  1.53it/s]"
          ]
        },
        {
          "output_type": "stream",
          "name": "stdout",
          "text": [
            "                   all        209        248      0.438      0.426        0.4      0.167\n"
          ]
        },
        {
          "output_type": "stream",
          "name": "stderr",
          "text": [
            "\n"
          ]
        },
        {
          "output_type": "stream",
          "name": "stdout",
          "text": [
            "\n",
            "      Epoch    GPU_mem   box_loss   cls_loss   dfl_loss  Instances       Size\n"
          ]
        },
        {
          "output_type": "stream",
          "name": "stderr",
          "text": [
            "      42/50      4.85G      1.494      1.455      1.707          9        640: 100%|██████████| 105/105 [00:44<00:00,  2.35it/s]\n",
            "                 Class     Images  Instances      Box(P          R      mAP50  mAP50-95): 100%|██████████| 7/7 [00:03<00:00,  2.05it/s]"
          ]
        },
        {
          "output_type": "stream",
          "name": "stdout",
          "text": [
            "                   all        209        248      0.494      0.399      0.392      0.147\n"
          ]
        },
        {
          "output_type": "stream",
          "name": "stderr",
          "text": [
            "\n"
          ]
        },
        {
          "output_type": "stream",
          "name": "stdout",
          "text": [
            "\n",
            "      Epoch    GPU_mem   box_loss   cls_loss   dfl_loss  Instances       Size\n"
          ]
        },
        {
          "output_type": "stream",
          "name": "stderr",
          "text": [
            "      43/50      4.85G      1.467      1.394      1.684          8        640: 100%|██████████| 105/105 [00:45<00:00,  2.32it/s]\n",
            "                 Class     Images  Instances      Box(P          R      mAP50  mAP50-95): 100%|██████████| 7/7 [00:04<00:00,  1.52it/s]"
          ]
        },
        {
          "output_type": "stream",
          "name": "stdout",
          "text": [
            "                   all        209        248      0.481      0.403       0.39      0.156\n"
          ]
        },
        {
          "output_type": "stream",
          "name": "stderr",
          "text": [
            "\n"
          ]
        },
        {
          "output_type": "stream",
          "name": "stdout",
          "text": [
            "\n",
            "      Epoch    GPU_mem   box_loss   cls_loss   dfl_loss  Instances       Size\n"
          ]
        },
        {
          "output_type": "stream",
          "name": "stderr",
          "text": [
            "      44/50      4.85G      1.447       1.36      1.665         10        640: 100%|██████████| 105/105 [00:43<00:00,  2.42it/s]\n",
            "                 Class     Images  Instances      Box(P          R      mAP50  mAP50-95): 100%|██████████| 7/7 [00:03<00:00,  1.83it/s]"
          ]
        },
        {
          "output_type": "stream",
          "name": "stdout",
          "text": [
            "                   all        209        248      0.592      0.399      0.453       0.18\n"
          ]
        },
        {
          "output_type": "stream",
          "name": "stderr",
          "text": [
            "\n"
          ]
        },
        {
          "output_type": "stream",
          "name": "stdout",
          "text": [
            "\n",
            "      Epoch    GPU_mem   box_loss   cls_loss   dfl_loss  Instances       Size\n"
          ]
        },
        {
          "output_type": "stream",
          "name": "stderr",
          "text": [
            "      45/50      4.85G       1.41        1.3      1.618          5        640: 100%|██████████| 105/105 [00:42<00:00,  2.44it/s]\n",
            "                 Class     Images  Instances      Box(P          R      mAP50  mAP50-95): 100%|██████████| 7/7 [00:03<00:00,  2.25it/s]"
          ]
        },
        {
          "output_type": "stream",
          "name": "stdout",
          "text": [
            "                   all        209        248      0.574      0.403      0.436       0.18\n"
          ]
        },
        {
          "output_type": "stream",
          "name": "stderr",
          "text": [
            "\n"
          ]
        },
        {
          "output_type": "stream",
          "name": "stdout",
          "text": [
            "\n",
            "      Epoch    GPU_mem   box_loss   cls_loss   dfl_loss  Instances       Size\n"
          ]
        },
        {
          "output_type": "stream",
          "name": "stderr",
          "text": [
            "      46/50      4.85G      1.365      1.219      1.589         10        640: 100%|██████████| 105/105 [00:44<00:00,  2.38it/s]\n",
            "                 Class     Images  Instances      Box(P          R      mAP50  mAP50-95): 100%|██████████| 7/7 [00:05<00:00,  1.20it/s]"
          ]
        },
        {
          "output_type": "stream",
          "name": "stdout",
          "text": [
            "                   all        209        248      0.608        0.4      0.423      0.165\n"
          ]
        },
        {
          "output_type": "stream",
          "name": "stderr",
          "text": [
            "\n"
          ]
        },
        {
          "output_type": "stream",
          "name": "stdout",
          "text": [
            "\n",
            "      Epoch    GPU_mem   box_loss   cls_loss   dfl_loss  Instances       Size\n"
          ]
        },
        {
          "output_type": "stream",
          "name": "stderr",
          "text": [
            "      47/50      4.85G      1.361      1.208      1.582          4        640: 100%|██████████| 105/105 [00:43<00:00,  2.41it/s]\n",
            "                 Class     Images  Instances      Box(P          R      mAP50  mAP50-95): 100%|██████████| 7/7 [00:03<00:00,  2.27it/s]"
          ]
        },
        {
          "output_type": "stream",
          "name": "stdout",
          "text": [
            "                   all        209        248      0.639       0.39       0.43      0.176\n"
          ]
        },
        {
          "output_type": "stream",
          "name": "stderr",
          "text": [
            "\n"
          ]
        },
        {
          "output_type": "stream",
          "name": "stdout",
          "text": [
            "\n",
            "      Epoch    GPU_mem   box_loss   cls_loss   dfl_loss  Instances       Size\n"
          ]
        },
        {
          "output_type": "stream",
          "name": "stderr",
          "text": [
            "      48/50      4.85G       1.33      1.164       1.55          8        640: 100%|██████████| 105/105 [00:43<00:00,  2.42it/s]\n",
            "                 Class     Images  Instances      Box(P          R      mAP50  mAP50-95): 100%|██████████| 7/7 [00:04<00:00,  1.40it/s]"
          ]
        },
        {
          "output_type": "stream",
          "name": "stdout",
          "text": [
            "                   all        209        248      0.515      0.426      0.418      0.169\n"
          ]
        },
        {
          "output_type": "stream",
          "name": "stderr",
          "text": [
            "\n"
          ]
        },
        {
          "output_type": "stream",
          "name": "stdout",
          "text": [
            "\n",
            "      Epoch    GPU_mem   box_loss   cls_loss   dfl_loss  Instances       Size\n"
          ]
        },
        {
          "output_type": "stream",
          "name": "stderr",
          "text": [
            "      49/50      4.85G      1.303      1.157      1.541         10        640: 100%|██████████| 105/105 [00:43<00:00,  2.44it/s]\n",
            "                 Class     Images  Instances      Box(P          R      mAP50  mAP50-95): 100%|██████████| 7/7 [00:03<00:00,  2.22it/s]"
          ]
        },
        {
          "output_type": "stream",
          "name": "stdout",
          "text": [
            "                   all        209        248      0.574      0.413      0.433      0.175\n"
          ]
        },
        {
          "output_type": "stream",
          "name": "stderr",
          "text": [
            "\n"
          ]
        },
        {
          "output_type": "stream",
          "name": "stdout",
          "text": [
            "\n",
            "      Epoch    GPU_mem   box_loss   cls_loss   dfl_loss  Instances       Size\n"
          ]
        },
        {
          "output_type": "stream",
          "name": "stderr",
          "text": [
            "      50/50      4.85G      1.296      1.114      1.529          5        640: 100%|██████████| 105/105 [00:44<00:00,  2.34it/s]\n",
            "                 Class     Images  Instances      Box(P          R      mAP50  mAP50-95): 100%|██████████| 7/7 [00:03<00:00,  1.85it/s]"
          ]
        },
        {
          "output_type": "stream",
          "name": "stdout",
          "text": [
            "                   all        209        248      0.504      0.434      0.428      0.174\n"
          ]
        },
        {
          "output_type": "stream",
          "name": "stderr",
          "text": [
            "\n"
          ]
        },
        {
          "output_type": "stream",
          "name": "stdout",
          "text": [
            "\n",
            "50 epochs completed in 0.697 hours.\n",
            "Optimizer stripped from runs/detect/train6/weights/last.pt, 22.5MB\n",
            "Optimizer stripped from runs/detect/train6/weights/best.pt, 22.5MB\n",
            "\n",
            "Validating runs/detect/train6/weights/best.pt...\n",
            "Ultralytics 8.3.176 🚀 Python-3.11.13 torch-2.6.0+cu124 CUDA:0 (Tesla T4, 15095MiB)\n",
            "Model summary (fused): 72 layers, 11,127,906 parameters, 0 gradients, 28.4 GFLOPs\n"
          ]
        },
        {
          "output_type": "stream",
          "name": "stderr",
          "text": [
            "                 Class     Images  Instances      Box(P          R      mAP50  mAP50-95): 100%|██████████| 7/7 [00:04<00:00,  1.66it/s]\n"
          ]
        },
        {
          "output_type": "stream",
          "name": "stdout",
          "text": [
            "                   all        209        248      0.594      0.399      0.452       0.18\n",
            "     broken_road_signs         20         33      0.662      0.212      0.288      0.145\n",
            "     damaged_buildings         33         57      0.478      0.321       0.38      0.142\n",
            "             littering         30         43      0.487      0.349      0.397      0.145\n",
            "        parking_issues         23         33      0.623      0.424      0.491      0.133\n",
            "              potholes         30         49      0.605       0.51      0.551      0.193\n",
            "             vandalism         26         33      0.708      0.576      0.606      0.321\n",
            "Speed: 0.4ms preprocess, 4.8ms inference, 0.0ms loss, 5.0ms postprocess per image\n",
            "Results saved to \u001b[1mruns/detect/train6\u001b[0m\n"
          ]
        },
        {
          "output_type": "execute_result",
          "data": {
            "text/plain": [
              "ultralytics.utils.metrics.DetMetrics object with attributes:\n",
              "\n",
              "ap_class_index: array([0, 1, 2, 3, 4, 5])\n",
              "box: ultralytics.utils.metrics.Metric object\n",
              "confusion_matrix: <ultralytics.utils.metrics.ConfusionMatrix object at 0x7c2a0f495950>\n",
              "curves: ['Precision-Recall(B)', 'F1-Confidence(B)', 'Precision-Confidence(B)', 'Recall-Confidence(B)']\n",
              "curves_results: [[array([          0,    0.001001,    0.002002,    0.003003,    0.004004,    0.005005,    0.006006,    0.007007,    0.008008,    0.009009,     0.01001,    0.011011,    0.012012,    0.013013,    0.014014,    0.015015,    0.016016,    0.017017,    0.018018,    0.019019,     0.02002,    0.021021,    0.022022,    0.023023,\n",
              "          0.024024,    0.025025,    0.026026,    0.027027,    0.028028,    0.029029,     0.03003,    0.031031,    0.032032,    0.033033,    0.034034,    0.035035,    0.036036,    0.037037,    0.038038,    0.039039,     0.04004,    0.041041,    0.042042,    0.043043,    0.044044,    0.045045,    0.046046,    0.047047,\n",
              "          0.048048,    0.049049,     0.05005,    0.051051,    0.052052,    0.053053,    0.054054,    0.055055,    0.056056,    0.057057,    0.058058,    0.059059,     0.06006,    0.061061,    0.062062,    0.063063,    0.064064,    0.065065,    0.066066,    0.067067,    0.068068,    0.069069,     0.07007,    0.071071,\n",
              "          0.072072,    0.073073,    0.074074,    0.075075,    0.076076,    0.077077,    0.078078,    0.079079,     0.08008,    0.081081,    0.082082,    0.083083,    0.084084,    0.085085,    0.086086,    0.087087,    0.088088,    0.089089,     0.09009,    0.091091,    0.092092,    0.093093,    0.094094,    0.095095,\n",
              "          0.096096,    0.097097,    0.098098,    0.099099,      0.1001,      0.1011,      0.1021,      0.1031,      0.1041,     0.10511,     0.10611,     0.10711,     0.10811,     0.10911,     0.11011,     0.11111,     0.11211,     0.11311,     0.11411,     0.11512,     0.11612,     0.11712,     0.11812,     0.11912,\n",
              "           0.12012,     0.12112,     0.12212,     0.12312,     0.12412,     0.12513,     0.12613,     0.12713,     0.12813,     0.12913,     0.13013,     0.13113,     0.13213,     0.13313,     0.13413,     0.13514,     0.13614,     0.13714,     0.13814,     0.13914,     0.14014,     0.14114,     0.14214,     0.14314,\n",
              "           0.14414,     0.14515,     0.14615,     0.14715,     0.14815,     0.14915,     0.15015,     0.15115,     0.15215,     0.15315,     0.15415,     0.15516,     0.15616,     0.15716,     0.15816,     0.15916,     0.16016,     0.16116,     0.16216,     0.16316,     0.16416,     0.16517,     0.16617,     0.16717,\n",
              "           0.16817,     0.16917,     0.17017,     0.17117,     0.17217,     0.17317,     0.17417,     0.17518,     0.17618,     0.17718,     0.17818,     0.17918,     0.18018,     0.18118,     0.18218,     0.18318,     0.18418,     0.18519,     0.18619,     0.18719,     0.18819,     0.18919,     0.19019,     0.19119,\n",
              "           0.19219,     0.19319,     0.19419,      0.1952,      0.1962,      0.1972,      0.1982,      0.1992,      0.2002,      0.2012,      0.2022,      0.2032,      0.2042,     0.20521,     0.20621,     0.20721,     0.20821,     0.20921,     0.21021,     0.21121,     0.21221,     0.21321,     0.21421,     0.21522,\n",
              "           0.21622,     0.21722,     0.21822,     0.21922,     0.22022,     0.22122,     0.22222,     0.22322,     0.22422,     0.22523,     0.22623,     0.22723,     0.22823,     0.22923,     0.23023,     0.23123,     0.23223,     0.23323,     0.23423,     0.23524,     0.23624,     0.23724,     0.23824,     0.23924,\n",
              "           0.24024,     0.24124,     0.24224,     0.24324,     0.24424,     0.24525,     0.24625,     0.24725,     0.24825,     0.24925,     0.25025,     0.25125,     0.25225,     0.25325,     0.25425,     0.25526,     0.25626,     0.25726,     0.25826,     0.25926,     0.26026,     0.26126,     0.26226,     0.26326,\n",
              "           0.26426,     0.26527,     0.26627,     0.26727,     0.26827,     0.26927,     0.27027,     0.27127,     0.27227,     0.27327,     0.27427,     0.27528,     0.27628,     0.27728,     0.27828,     0.27928,     0.28028,     0.28128,     0.28228,     0.28328,     0.28428,     0.28529,     0.28629,     0.28729,\n",
              "           0.28829,     0.28929,     0.29029,     0.29129,     0.29229,     0.29329,     0.29429,      0.2953,      0.2963,      0.2973,      0.2983,      0.2993,      0.3003,      0.3013,      0.3023,      0.3033,      0.3043,     0.30531,     0.30631,     0.30731,     0.30831,     0.30931,     0.31031,     0.31131,\n",
              "           0.31231,     0.31331,     0.31431,     0.31532,     0.31632,     0.31732,     0.31832,     0.31932,     0.32032,     0.32132,     0.32232,     0.32332,     0.32432,     0.32533,     0.32633,     0.32733,     0.32833,     0.32933,     0.33033,     0.33133,     0.33233,     0.33333,     0.33433,     0.33534,\n",
              "           0.33634,     0.33734,     0.33834,     0.33934,     0.34034,     0.34134,     0.34234,     0.34334,     0.34434,     0.34535,     0.34635,     0.34735,     0.34835,     0.34935,     0.35035,     0.35135,     0.35235,     0.35335,     0.35435,     0.35536,     0.35636,     0.35736,     0.35836,     0.35936,\n",
              "           0.36036,     0.36136,     0.36236,     0.36336,     0.36436,     0.36537,     0.36637,     0.36737,     0.36837,     0.36937,     0.37037,     0.37137,     0.37237,     0.37337,     0.37437,     0.37538,     0.37638,     0.37738,     0.37838,     0.37938,     0.38038,     0.38138,     0.38238,     0.38338,\n",
              "           0.38438,     0.38539,     0.38639,     0.38739,     0.38839,     0.38939,     0.39039,     0.39139,     0.39239,     0.39339,     0.39439,      0.3954,      0.3964,      0.3974,      0.3984,      0.3994,      0.4004,      0.4014,      0.4024,      0.4034,      0.4044,     0.40541,     0.40641,     0.40741,\n",
              "           0.40841,     0.40941,     0.41041,     0.41141,     0.41241,     0.41341,     0.41441,     0.41542,     0.41642,     0.41742,     0.41842,     0.41942,     0.42042,     0.42142,     0.42242,     0.42342,     0.42442,     0.42543,     0.42643,     0.42743,     0.42843,     0.42943,     0.43043,     0.43143,\n",
              "           0.43243,     0.43343,     0.43443,     0.43544,     0.43644,     0.43744,     0.43844,     0.43944,     0.44044,     0.44144,     0.44244,     0.44344,     0.44444,     0.44545,     0.44645,     0.44745,     0.44845,     0.44945,     0.45045,     0.45145,     0.45245,     0.45345,     0.45445,     0.45546,\n",
              "           0.45646,     0.45746,     0.45846,     0.45946,     0.46046,     0.46146,     0.46246,     0.46346,     0.46446,     0.46547,     0.46647,     0.46747,     0.46847,     0.46947,     0.47047,     0.47147,     0.47247,     0.47347,     0.47447,     0.47548,     0.47648,     0.47748,     0.47848,     0.47948,\n",
              "           0.48048,     0.48148,     0.48248,     0.48348,     0.48448,     0.48549,     0.48649,     0.48749,     0.48849,     0.48949,     0.49049,     0.49149,     0.49249,     0.49349,     0.49449,      0.4955,      0.4965,      0.4975,      0.4985,      0.4995,      0.5005,      0.5015,      0.5025,      0.5035,\n",
              "            0.5045,     0.50551,     0.50651,     0.50751,     0.50851,     0.50951,     0.51051,     0.51151,     0.51251,     0.51351,     0.51451,     0.51552,     0.51652,     0.51752,     0.51852,     0.51952,     0.52052,     0.52152,     0.52252,     0.52352,     0.52452,     0.52553,     0.52653,     0.52753,\n",
              "           0.52853,     0.52953,     0.53053,     0.53153,     0.53253,     0.53353,     0.53453,     0.53554,     0.53654,     0.53754,     0.53854,     0.53954,     0.54054,     0.54154,     0.54254,     0.54354,     0.54454,     0.54555,     0.54655,     0.54755,     0.54855,     0.54955,     0.55055,     0.55155,\n",
              "           0.55255,     0.55355,     0.55455,     0.55556,     0.55656,     0.55756,     0.55856,     0.55956,     0.56056,     0.56156,     0.56256,     0.56356,     0.56456,     0.56557,     0.56657,     0.56757,     0.56857,     0.56957,     0.57057,     0.57157,     0.57257,     0.57357,     0.57457,     0.57558,\n",
              "           0.57658,     0.57758,     0.57858,     0.57958,     0.58058,     0.58158,     0.58258,     0.58358,     0.58458,     0.58559,     0.58659,     0.58759,     0.58859,     0.58959,     0.59059,     0.59159,     0.59259,     0.59359,     0.59459,      0.5956,      0.5966,      0.5976,      0.5986,      0.5996,\n",
              "            0.6006,      0.6016,      0.6026,      0.6036,      0.6046,     0.60561,     0.60661,     0.60761,     0.60861,     0.60961,     0.61061,     0.61161,     0.61261,     0.61361,     0.61461,     0.61562,     0.61662,     0.61762,     0.61862,     0.61962,     0.62062,     0.62162,     0.62262,     0.62362,\n",
              "           0.62462,     0.62563,     0.62663,     0.62763,     0.62863,     0.62963,     0.63063,     0.63163,     0.63263,     0.63363,     0.63463,     0.63564,     0.63664,     0.63764,     0.63864,     0.63964,     0.64064,     0.64164,     0.64264,     0.64364,     0.64464,     0.64565,     0.64665,     0.64765,\n",
              "           0.64865,     0.64965,     0.65065,     0.65165,     0.65265,     0.65365,     0.65465,     0.65566,     0.65666,     0.65766,     0.65866,     0.65966,     0.66066,     0.66166,     0.66266,     0.66366,     0.66466,     0.66567,     0.66667,     0.66767,     0.66867,     0.66967,     0.67067,     0.67167,\n",
              "           0.67267,     0.67367,     0.67467,     0.67568,     0.67668,     0.67768,     0.67868,     0.67968,     0.68068,     0.68168,     0.68268,     0.68368,     0.68468,     0.68569,     0.68669,     0.68769,     0.68869,     0.68969,     0.69069,     0.69169,     0.69269,     0.69369,     0.69469,      0.6957,\n",
              "            0.6967,      0.6977,      0.6987,      0.6997,      0.7007,      0.7017,      0.7027,      0.7037,      0.7047,     0.70571,     0.70671,     0.70771,     0.70871,     0.70971,     0.71071,     0.71171,     0.71271,     0.71371,     0.71471,     0.71572,     0.71672,     0.71772,     0.71872,     0.71972,\n",
              "           0.72072,     0.72172,     0.72272,     0.72372,     0.72472,     0.72573,     0.72673,     0.72773,     0.72873,     0.72973,     0.73073,     0.73173,     0.73273,     0.73373,     0.73473,     0.73574,     0.73674,     0.73774,     0.73874,     0.73974,     0.74074,     0.74174,     0.74274,     0.74374,\n",
              "           0.74474,     0.74575,     0.74675,     0.74775,     0.74875,     0.74975,     0.75075,     0.75175,     0.75275,     0.75375,     0.75475,     0.75576,     0.75676,     0.75776,     0.75876,     0.75976,     0.76076,     0.76176,     0.76276,     0.76376,     0.76476,     0.76577,     0.76677,     0.76777,\n",
              "           0.76877,     0.76977,     0.77077,     0.77177,     0.77277,     0.77377,     0.77477,     0.77578,     0.77678,     0.77778,     0.77878,     0.77978,     0.78078,     0.78178,     0.78278,     0.78378,     0.78478,     0.78579,     0.78679,     0.78779,     0.78879,     0.78979,     0.79079,     0.79179,\n",
              "           0.79279,     0.79379,     0.79479,      0.7958,      0.7968,      0.7978,      0.7988,      0.7998,      0.8008,      0.8018,      0.8028,      0.8038,      0.8048,     0.80581,     0.80681,     0.80781,     0.80881,     0.80981,     0.81081,     0.81181,     0.81281,     0.81381,     0.81481,     0.81582,\n",
              "           0.81682,     0.81782,     0.81882,     0.81982,     0.82082,     0.82182,     0.82282,     0.82382,     0.82482,     0.82583,     0.82683,     0.82783,     0.82883,     0.82983,     0.83083,     0.83183,     0.83283,     0.83383,     0.83483,     0.83584,     0.83684,     0.83784,     0.83884,     0.83984,\n",
              "           0.84084,     0.84184,     0.84284,     0.84384,     0.84484,     0.84585,     0.84685,     0.84785,     0.84885,     0.84985,     0.85085,     0.85185,     0.85285,     0.85385,     0.85485,     0.85586,     0.85686,     0.85786,     0.85886,     0.85986,     0.86086,     0.86186,     0.86286,     0.86386,\n",
              "           0.86486,     0.86587,     0.86687,     0.86787,     0.86887,     0.86987,     0.87087,     0.87187,     0.87287,     0.87387,     0.87487,     0.87588,     0.87688,     0.87788,     0.87888,     0.87988,     0.88088,     0.88188,     0.88288,     0.88388,     0.88488,     0.88589,     0.88689,     0.88789,\n",
              "           0.88889,     0.88989,     0.89089,     0.89189,     0.89289,     0.89389,     0.89489,      0.8959,      0.8969,      0.8979,      0.8989,      0.8999,      0.9009,      0.9019,      0.9029,      0.9039,      0.9049,     0.90591,     0.90691,     0.90791,     0.90891,     0.90991,     0.91091,     0.91191,\n",
              "           0.91291,     0.91391,     0.91491,     0.91592,     0.91692,     0.91792,     0.91892,     0.91992,     0.92092,     0.92192,     0.92292,     0.92392,     0.92492,     0.92593,     0.92693,     0.92793,     0.92893,     0.92993,     0.93093,     0.93193,     0.93293,     0.93393,     0.93493,     0.93594,\n",
              "           0.93694,     0.93794,     0.93894,     0.93994,     0.94094,     0.94194,     0.94294,     0.94394,     0.94494,     0.94595,     0.94695,     0.94795,     0.94895,     0.94995,     0.95095,     0.95195,     0.95295,     0.95395,     0.95495,     0.95596,     0.95696,     0.95796,     0.95896,     0.95996,\n",
              "           0.96096,     0.96196,     0.96296,     0.96396,     0.96496,     0.96597,     0.96697,     0.96797,     0.96897,     0.96997,     0.97097,     0.97197,     0.97297,     0.97397,     0.97497,     0.97598,     0.97698,     0.97798,     0.97898,     0.97998,     0.98098,     0.98198,     0.98298,     0.98398,\n",
              "           0.98498,     0.98599,     0.98699,     0.98799,     0.98899,     0.98999,     0.99099,     0.99199,     0.99299,     0.99399,     0.99499,       0.996,       0.997,       0.998,       0.999,           1]), array([[          1,           1,           1, ...,   0.0001018,  5.0898e-05,           0],\n",
              "       [          1,           1,           1, ...,  0.00075904,  0.00037952,           0],\n",
              "       [          1,           1,           1, ...,  0.00079105,  0.00039553,           0],\n",
              "       [          1,           1,           1, ...,  0.00044882,  0.00022441,           0],\n",
              "       [          1,           1,           1, ...,  0.00087198,  0.00043599,           0],\n",
              "       [          1,           1,           1, ...,   0.0010257,  0.00051283,           0]]), 'Recall', 'Precision'], [array([          0,    0.001001,    0.002002,    0.003003,    0.004004,    0.005005,    0.006006,    0.007007,    0.008008,    0.009009,     0.01001,    0.011011,    0.012012,    0.013013,    0.014014,    0.015015,    0.016016,    0.017017,    0.018018,    0.019019,     0.02002,    0.021021,    0.022022,    0.023023,\n",
              "          0.024024,    0.025025,    0.026026,    0.027027,    0.028028,    0.029029,     0.03003,    0.031031,    0.032032,    0.033033,    0.034034,    0.035035,    0.036036,    0.037037,    0.038038,    0.039039,     0.04004,    0.041041,    0.042042,    0.043043,    0.044044,    0.045045,    0.046046,    0.047047,\n",
              "          0.048048,    0.049049,     0.05005,    0.051051,    0.052052,    0.053053,    0.054054,    0.055055,    0.056056,    0.057057,    0.058058,    0.059059,     0.06006,    0.061061,    0.062062,    0.063063,    0.064064,    0.065065,    0.066066,    0.067067,    0.068068,    0.069069,     0.07007,    0.071071,\n",
              "          0.072072,    0.073073,    0.074074,    0.075075,    0.076076,    0.077077,    0.078078,    0.079079,     0.08008,    0.081081,    0.082082,    0.083083,    0.084084,    0.085085,    0.086086,    0.087087,    0.088088,    0.089089,     0.09009,    0.091091,    0.092092,    0.093093,    0.094094,    0.095095,\n",
              "          0.096096,    0.097097,    0.098098,    0.099099,      0.1001,      0.1011,      0.1021,      0.1031,      0.1041,     0.10511,     0.10611,     0.10711,     0.10811,     0.10911,     0.11011,     0.11111,     0.11211,     0.11311,     0.11411,     0.11512,     0.11612,     0.11712,     0.11812,     0.11912,\n",
              "           0.12012,     0.12112,     0.12212,     0.12312,     0.12412,     0.12513,     0.12613,     0.12713,     0.12813,     0.12913,     0.13013,     0.13113,     0.13213,     0.13313,     0.13413,     0.13514,     0.13614,     0.13714,     0.13814,     0.13914,     0.14014,     0.14114,     0.14214,     0.14314,\n",
              "           0.14414,     0.14515,     0.14615,     0.14715,     0.14815,     0.14915,     0.15015,     0.15115,     0.15215,     0.15315,     0.15415,     0.15516,     0.15616,     0.15716,     0.15816,     0.15916,     0.16016,     0.16116,     0.16216,     0.16316,     0.16416,     0.16517,     0.16617,     0.16717,\n",
              "           0.16817,     0.16917,     0.17017,     0.17117,     0.17217,     0.17317,     0.17417,     0.17518,     0.17618,     0.17718,     0.17818,     0.17918,     0.18018,     0.18118,     0.18218,     0.18318,     0.18418,     0.18519,     0.18619,     0.18719,     0.18819,     0.18919,     0.19019,     0.19119,\n",
              "           0.19219,     0.19319,     0.19419,      0.1952,      0.1962,      0.1972,      0.1982,      0.1992,      0.2002,      0.2012,      0.2022,      0.2032,      0.2042,     0.20521,     0.20621,     0.20721,     0.20821,     0.20921,     0.21021,     0.21121,     0.21221,     0.21321,     0.21421,     0.21522,\n",
              "           0.21622,     0.21722,     0.21822,     0.21922,     0.22022,     0.22122,     0.22222,     0.22322,     0.22422,     0.22523,     0.22623,     0.22723,     0.22823,     0.22923,     0.23023,     0.23123,     0.23223,     0.23323,     0.23423,     0.23524,     0.23624,     0.23724,     0.23824,     0.23924,\n",
              "           0.24024,     0.24124,     0.24224,     0.24324,     0.24424,     0.24525,     0.24625,     0.24725,     0.24825,     0.24925,     0.25025,     0.25125,     0.25225,     0.25325,     0.25425,     0.25526,     0.25626,     0.25726,     0.25826,     0.25926,     0.26026,     0.26126,     0.26226,     0.26326,\n",
              "           0.26426,     0.26527,     0.26627,     0.26727,     0.26827,     0.26927,     0.27027,     0.27127,     0.27227,     0.27327,     0.27427,     0.27528,     0.27628,     0.27728,     0.27828,     0.27928,     0.28028,     0.28128,     0.28228,     0.28328,     0.28428,     0.28529,     0.28629,     0.28729,\n",
              "           0.28829,     0.28929,     0.29029,     0.29129,     0.29229,     0.29329,     0.29429,      0.2953,      0.2963,      0.2973,      0.2983,      0.2993,      0.3003,      0.3013,      0.3023,      0.3033,      0.3043,     0.30531,     0.30631,     0.30731,     0.30831,     0.30931,     0.31031,     0.31131,\n",
              "           0.31231,     0.31331,     0.31431,     0.31532,     0.31632,     0.31732,     0.31832,     0.31932,     0.32032,     0.32132,     0.32232,     0.32332,     0.32432,     0.32533,     0.32633,     0.32733,     0.32833,     0.32933,     0.33033,     0.33133,     0.33233,     0.33333,     0.33433,     0.33534,\n",
              "           0.33634,     0.33734,     0.33834,     0.33934,     0.34034,     0.34134,     0.34234,     0.34334,     0.34434,     0.34535,     0.34635,     0.34735,     0.34835,     0.34935,     0.35035,     0.35135,     0.35235,     0.35335,     0.35435,     0.35536,     0.35636,     0.35736,     0.35836,     0.35936,\n",
              "           0.36036,     0.36136,     0.36236,     0.36336,     0.36436,     0.36537,     0.36637,     0.36737,     0.36837,     0.36937,     0.37037,     0.37137,     0.37237,     0.37337,     0.37437,     0.37538,     0.37638,     0.37738,     0.37838,     0.37938,     0.38038,     0.38138,     0.38238,     0.38338,\n",
              "           0.38438,     0.38539,     0.38639,     0.38739,     0.38839,     0.38939,     0.39039,     0.39139,     0.39239,     0.39339,     0.39439,      0.3954,      0.3964,      0.3974,      0.3984,      0.3994,      0.4004,      0.4014,      0.4024,      0.4034,      0.4044,     0.40541,     0.40641,     0.40741,\n",
              "           0.40841,     0.40941,     0.41041,     0.41141,     0.41241,     0.41341,     0.41441,     0.41542,     0.41642,     0.41742,     0.41842,     0.41942,     0.42042,     0.42142,     0.42242,     0.42342,     0.42442,     0.42543,     0.42643,     0.42743,     0.42843,     0.42943,     0.43043,     0.43143,\n",
              "           0.43243,     0.43343,     0.43443,     0.43544,     0.43644,     0.43744,     0.43844,     0.43944,     0.44044,     0.44144,     0.44244,     0.44344,     0.44444,     0.44545,     0.44645,     0.44745,     0.44845,     0.44945,     0.45045,     0.45145,     0.45245,     0.45345,     0.45445,     0.45546,\n",
              "           0.45646,     0.45746,     0.45846,     0.45946,     0.46046,     0.46146,     0.46246,     0.46346,     0.46446,     0.46547,     0.46647,     0.46747,     0.46847,     0.46947,     0.47047,     0.47147,     0.47247,     0.47347,     0.47447,     0.47548,     0.47648,     0.47748,     0.47848,     0.47948,\n",
              "           0.48048,     0.48148,     0.48248,     0.48348,     0.48448,     0.48549,     0.48649,     0.48749,     0.48849,     0.48949,     0.49049,     0.49149,     0.49249,     0.49349,     0.49449,      0.4955,      0.4965,      0.4975,      0.4985,      0.4995,      0.5005,      0.5015,      0.5025,      0.5035,\n",
              "            0.5045,     0.50551,     0.50651,     0.50751,     0.50851,     0.50951,     0.51051,     0.51151,     0.51251,     0.51351,     0.51451,     0.51552,     0.51652,     0.51752,     0.51852,     0.51952,     0.52052,     0.52152,     0.52252,     0.52352,     0.52452,     0.52553,     0.52653,     0.52753,\n",
              "           0.52853,     0.52953,     0.53053,     0.53153,     0.53253,     0.53353,     0.53453,     0.53554,     0.53654,     0.53754,     0.53854,     0.53954,     0.54054,     0.54154,     0.54254,     0.54354,     0.54454,     0.54555,     0.54655,     0.54755,     0.54855,     0.54955,     0.55055,     0.55155,\n",
              "           0.55255,     0.55355,     0.55455,     0.55556,     0.55656,     0.55756,     0.55856,     0.55956,     0.56056,     0.56156,     0.56256,     0.56356,     0.56456,     0.56557,     0.56657,     0.56757,     0.56857,     0.56957,     0.57057,     0.57157,     0.57257,     0.57357,     0.57457,     0.57558,\n",
              "           0.57658,     0.57758,     0.57858,     0.57958,     0.58058,     0.58158,     0.58258,     0.58358,     0.58458,     0.58559,     0.58659,     0.58759,     0.58859,     0.58959,     0.59059,     0.59159,     0.59259,     0.59359,     0.59459,      0.5956,      0.5966,      0.5976,      0.5986,      0.5996,\n",
              "            0.6006,      0.6016,      0.6026,      0.6036,      0.6046,     0.60561,     0.60661,     0.60761,     0.60861,     0.60961,     0.61061,     0.61161,     0.61261,     0.61361,     0.61461,     0.61562,     0.61662,     0.61762,     0.61862,     0.61962,     0.62062,     0.62162,     0.62262,     0.62362,\n",
              "           0.62462,     0.62563,     0.62663,     0.62763,     0.62863,     0.62963,     0.63063,     0.63163,     0.63263,     0.63363,     0.63463,     0.63564,     0.63664,     0.63764,     0.63864,     0.63964,     0.64064,     0.64164,     0.64264,     0.64364,     0.64464,     0.64565,     0.64665,     0.64765,\n",
              "           0.64865,     0.64965,     0.65065,     0.65165,     0.65265,     0.65365,     0.65465,     0.65566,     0.65666,     0.65766,     0.65866,     0.65966,     0.66066,     0.66166,     0.66266,     0.66366,     0.66466,     0.66567,     0.66667,     0.66767,     0.66867,     0.66967,     0.67067,     0.67167,\n",
              "           0.67267,     0.67367,     0.67467,     0.67568,     0.67668,     0.67768,     0.67868,     0.67968,     0.68068,     0.68168,     0.68268,     0.68368,     0.68468,     0.68569,     0.68669,     0.68769,     0.68869,     0.68969,     0.69069,     0.69169,     0.69269,     0.69369,     0.69469,      0.6957,\n",
              "            0.6967,      0.6977,      0.6987,      0.6997,      0.7007,      0.7017,      0.7027,      0.7037,      0.7047,     0.70571,     0.70671,     0.70771,     0.70871,     0.70971,     0.71071,     0.71171,     0.71271,     0.71371,     0.71471,     0.71572,     0.71672,     0.71772,     0.71872,     0.71972,\n",
              "           0.72072,     0.72172,     0.72272,     0.72372,     0.72472,     0.72573,     0.72673,     0.72773,     0.72873,     0.72973,     0.73073,     0.73173,     0.73273,     0.73373,     0.73473,     0.73574,     0.73674,     0.73774,     0.73874,     0.73974,     0.74074,     0.74174,     0.74274,     0.74374,\n",
              "           0.74474,     0.74575,     0.74675,     0.74775,     0.74875,     0.74975,     0.75075,     0.75175,     0.75275,     0.75375,     0.75475,     0.75576,     0.75676,     0.75776,     0.75876,     0.75976,     0.76076,     0.76176,     0.76276,     0.76376,     0.76476,     0.76577,     0.76677,     0.76777,\n",
              "           0.76877,     0.76977,     0.77077,     0.77177,     0.77277,     0.77377,     0.77477,     0.77578,     0.77678,     0.77778,     0.77878,     0.77978,     0.78078,     0.78178,     0.78278,     0.78378,     0.78478,     0.78579,     0.78679,     0.78779,     0.78879,     0.78979,     0.79079,     0.79179,\n",
              "           0.79279,     0.79379,     0.79479,      0.7958,      0.7968,      0.7978,      0.7988,      0.7998,      0.8008,      0.8018,      0.8028,      0.8038,      0.8048,     0.80581,     0.80681,     0.80781,     0.80881,     0.80981,     0.81081,     0.81181,     0.81281,     0.81381,     0.81481,     0.81582,\n",
              "           0.81682,     0.81782,     0.81882,     0.81982,     0.82082,     0.82182,     0.82282,     0.82382,     0.82482,     0.82583,     0.82683,     0.82783,     0.82883,     0.82983,     0.83083,     0.83183,     0.83283,     0.83383,     0.83483,     0.83584,     0.83684,     0.83784,     0.83884,     0.83984,\n",
              "           0.84084,     0.84184,     0.84284,     0.84384,     0.84484,     0.84585,     0.84685,     0.84785,     0.84885,     0.84985,     0.85085,     0.85185,     0.85285,     0.85385,     0.85485,     0.85586,     0.85686,     0.85786,     0.85886,     0.85986,     0.86086,     0.86186,     0.86286,     0.86386,\n",
              "           0.86486,     0.86587,     0.86687,     0.86787,     0.86887,     0.86987,     0.87087,     0.87187,     0.87287,     0.87387,     0.87487,     0.87588,     0.87688,     0.87788,     0.87888,     0.87988,     0.88088,     0.88188,     0.88288,     0.88388,     0.88488,     0.88589,     0.88689,     0.88789,\n",
              "           0.88889,     0.88989,     0.89089,     0.89189,     0.89289,     0.89389,     0.89489,      0.8959,      0.8969,      0.8979,      0.8989,      0.8999,      0.9009,      0.9019,      0.9029,      0.9039,      0.9049,     0.90591,     0.90691,     0.90791,     0.90891,     0.90991,     0.91091,     0.91191,\n",
              "           0.91291,     0.91391,     0.91491,     0.91592,     0.91692,     0.91792,     0.91892,     0.91992,     0.92092,     0.92192,     0.92292,     0.92392,     0.92492,     0.92593,     0.92693,     0.92793,     0.92893,     0.92993,     0.93093,     0.93193,     0.93293,     0.93393,     0.93493,     0.93594,\n",
              "           0.93694,     0.93794,     0.93894,     0.93994,     0.94094,     0.94194,     0.94294,     0.94394,     0.94494,     0.94595,     0.94695,     0.94795,     0.94895,     0.94995,     0.95095,     0.95195,     0.95295,     0.95395,     0.95495,     0.95596,     0.95696,     0.95796,     0.95896,     0.95996,\n",
              "           0.96096,     0.96196,     0.96296,     0.96396,     0.96496,     0.96597,     0.96697,     0.96797,     0.96897,     0.96997,     0.97097,     0.97197,     0.97297,     0.97397,     0.97497,     0.97598,     0.97698,     0.97798,     0.97898,     0.97998,     0.98098,     0.98198,     0.98298,     0.98398,\n",
              "           0.98498,     0.98599,     0.98699,     0.98799,     0.98899,     0.98999,     0.99099,     0.99199,     0.99299,     0.99399,     0.99499,       0.996,       0.997,       0.998,       0.999,           1]), array([[   0.033058,    0.033058,    0.049235, ...,           0,           0,           0],\n",
              "       [   0.051733,    0.051733,    0.072029, ...,           0,           0,           0],\n",
              "       [   0.053548,    0.053548,    0.076439, ...,           0,           0,           0],\n",
              "       [    0.10142,     0.10142,     0.13772, ...,           0,           0,           0],\n",
              "       [   0.084697,    0.084697,     0.11696, ...,           0,           0,           0],\n",
              "       [      0.116,       0.116,     0.16215, ...,           0,           0,           0]]), 'Confidence', 'F1'], [array([          0,    0.001001,    0.002002,    0.003003,    0.004004,    0.005005,    0.006006,    0.007007,    0.008008,    0.009009,     0.01001,    0.011011,    0.012012,    0.013013,    0.014014,    0.015015,    0.016016,    0.017017,    0.018018,    0.019019,     0.02002,    0.021021,    0.022022,    0.023023,\n",
              "          0.024024,    0.025025,    0.026026,    0.027027,    0.028028,    0.029029,     0.03003,    0.031031,    0.032032,    0.033033,    0.034034,    0.035035,    0.036036,    0.037037,    0.038038,    0.039039,     0.04004,    0.041041,    0.042042,    0.043043,    0.044044,    0.045045,    0.046046,    0.047047,\n",
              "          0.048048,    0.049049,     0.05005,    0.051051,    0.052052,    0.053053,    0.054054,    0.055055,    0.056056,    0.057057,    0.058058,    0.059059,     0.06006,    0.061061,    0.062062,    0.063063,    0.064064,    0.065065,    0.066066,    0.067067,    0.068068,    0.069069,     0.07007,    0.071071,\n",
              "          0.072072,    0.073073,    0.074074,    0.075075,    0.076076,    0.077077,    0.078078,    0.079079,     0.08008,    0.081081,    0.082082,    0.083083,    0.084084,    0.085085,    0.086086,    0.087087,    0.088088,    0.089089,     0.09009,    0.091091,    0.092092,    0.093093,    0.094094,    0.095095,\n",
              "          0.096096,    0.097097,    0.098098,    0.099099,      0.1001,      0.1011,      0.1021,      0.1031,      0.1041,     0.10511,     0.10611,     0.10711,     0.10811,     0.10911,     0.11011,     0.11111,     0.11211,     0.11311,     0.11411,     0.11512,     0.11612,     0.11712,     0.11812,     0.11912,\n",
              "           0.12012,     0.12112,     0.12212,     0.12312,     0.12412,     0.12513,     0.12613,     0.12713,     0.12813,     0.12913,     0.13013,     0.13113,     0.13213,     0.13313,     0.13413,     0.13514,     0.13614,     0.13714,     0.13814,     0.13914,     0.14014,     0.14114,     0.14214,     0.14314,\n",
              "           0.14414,     0.14515,     0.14615,     0.14715,     0.14815,     0.14915,     0.15015,     0.15115,     0.15215,     0.15315,     0.15415,     0.15516,     0.15616,     0.15716,     0.15816,     0.15916,     0.16016,     0.16116,     0.16216,     0.16316,     0.16416,     0.16517,     0.16617,     0.16717,\n",
              "           0.16817,     0.16917,     0.17017,     0.17117,     0.17217,     0.17317,     0.17417,     0.17518,     0.17618,     0.17718,     0.17818,     0.17918,     0.18018,     0.18118,     0.18218,     0.18318,     0.18418,     0.18519,     0.18619,     0.18719,     0.18819,     0.18919,     0.19019,     0.19119,\n",
              "           0.19219,     0.19319,     0.19419,      0.1952,      0.1962,      0.1972,      0.1982,      0.1992,      0.2002,      0.2012,      0.2022,      0.2032,      0.2042,     0.20521,     0.20621,     0.20721,     0.20821,     0.20921,     0.21021,     0.21121,     0.21221,     0.21321,     0.21421,     0.21522,\n",
              "           0.21622,     0.21722,     0.21822,     0.21922,     0.22022,     0.22122,     0.22222,     0.22322,     0.22422,     0.22523,     0.22623,     0.22723,     0.22823,     0.22923,     0.23023,     0.23123,     0.23223,     0.23323,     0.23423,     0.23524,     0.23624,     0.23724,     0.23824,     0.23924,\n",
              "           0.24024,     0.24124,     0.24224,     0.24324,     0.24424,     0.24525,     0.24625,     0.24725,     0.24825,     0.24925,     0.25025,     0.25125,     0.25225,     0.25325,     0.25425,     0.25526,     0.25626,     0.25726,     0.25826,     0.25926,     0.26026,     0.26126,     0.26226,     0.26326,\n",
              "           0.26426,     0.26527,     0.26627,     0.26727,     0.26827,     0.26927,     0.27027,     0.27127,     0.27227,     0.27327,     0.27427,     0.27528,     0.27628,     0.27728,     0.27828,     0.27928,     0.28028,     0.28128,     0.28228,     0.28328,     0.28428,     0.28529,     0.28629,     0.28729,\n",
              "           0.28829,     0.28929,     0.29029,     0.29129,     0.29229,     0.29329,     0.29429,      0.2953,      0.2963,      0.2973,      0.2983,      0.2993,      0.3003,      0.3013,      0.3023,      0.3033,      0.3043,     0.30531,     0.30631,     0.30731,     0.30831,     0.30931,     0.31031,     0.31131,\n",
              "           0.31231,     0.31331,     0.31431,     0.31532,     0.31632,     0.31732,     0.31832,     0.31932,     0.32032,     0.32132,     0.32232,     0.32332,     0.32432,     0.32533,     0.32633,     0.32733,     0.32833,     0.32933,     0.33033,     0.33133,     0.33233,     0.33333,     0.33433,     0.33534,\n",
              "           0.33634,     0.33734,     0.33834,     0.33934,     0.34034,     0.34134,     0.34234,     0.34334,     0.34434,     0.34535,     0.34635,     0.34735,     0.34835,     0.34935,     0.35035,     0.35135,     0.35235,     0.35335,     0.35435,     0.35536,     0.35636,     0.35736,     0.35836,     0.35936,\n",
              "           0.36036,     0.36136,     0.36236,     0.36336,     0.36436,     0.36537,     0.36637,     0.36737,     0.36837,     0.36937,     0.37037,     0.37137,     0.37237,     0.37337,     0.37437,     0.37538,     0.37638,     0.37738,     0.37838,     0.37938,     0.38038,     0.38138,     0.38238,     0.38338,\n",
              "           0.38438,     0.38539,     0.38639,     0.38739,     0.38839,     0.38939,     0.39039,     0.39139,     0.39239,     0.39339,     0.39439,      0.3954,      0.3964,      0.3974,      0.3984,      0.3994,      0.4004,      0.4014,      0.4024,      0.4034,      0.4044,     0.40541,     0.40641,     0.40741,\n",
              "           0.40841,     0.40941,     0.41041,     0.41141,     0.41241,     0.41341,     0.41441,     0.41542,     0.41642,     0.41742,     0.41842,     0.41942,     0.42042,     0.42142,     0.42242,     0.42342,     0.42442,     0.42543,     0.42643,     0.42743,     0.42843,     0.42943,     0.43043,     0.43143,\n",
              "           0.43243,     0.43343,     0.43443,     0.43544,     0.43644,     0.43744,     0.43844,     0.43944,     0.44044,     0.44144,     0.44244,     0.44344,     0.44444,     0.44545,     0.44645,     0.44745,     0.44845,     0.44945,     0.45045,     0.45145,     0.45245,     0.45345,     0.45445,     0.45546,\n",
              "           0.45646,     0.45746,     0.45846,     0.45946,     0.46046,     0.46146,     0.46246,     0.46346,     0.46446,     0.46547,     0.46647,     0.46747,     0.46847,     0.46947,     0.47047,     0.47147,     0.47247,     0.47347,     0.47447,     0.47548,     0.47648,     0.47748,     0.47848,     0.47948,\n",
              "           0.48048,     0.48148,     0.48248,     0.48348,     0.48448,     0.48549,     0.48649,     0.48749,     0.48849,     0.48949,     0.49049,     0.49149,     0.49249,     0.49349,     0.49449,      0.4955,      0.4965,      0.4975,      0.4985,      0.4995,      0.5005,      0.5015,      0.5025,      0.5035,\n",
              "            0.5045,     0.50551,     0.50651,     0.50751,     0.50851,     0.50951,     0.51051,     0.51151,     0.51251,     0.51351,     0.51451,     0.51552,     0.51652,     0.51752,     0.51852,     0.51952,     0.52052,     0.52152,     0.52252,     0.52352,     0.52452,     0.52553,     0.52653,     0.52753,\n",
              "           0.52853,     0.52953,     0.53053,     0.53153,     0.53253,     0.53353,     0.53453,     0.53554,     0.53654,     0.53754,     0.53854,     0.53954,     0.54054,     0.54154,     0.54254,     0.54354,     0.54454,     0.54555,     0.54655,     0.54755,     0.54855,     0.54955,     0.55055,     0.55155,\n",
              "           0.55255,     0.55355,     0.55455,     0.55556,     0.55656,     0.55756,     0.55856,     0.55956,     0.56056,     0.56156,     0.56256,     0.56356,     0.56456,     0.56557,     0.56657,     0.56757,     0.56857,     0.56957,     0.57057,     0.57157,     0.57257,     0.57357,     0.57457,     0.57558,\n",
              "           0.57658,     0.57758,     0.57858,     0.57958,     0.58058,     0.58158,     0.58258,     0.58358,     0.58458,     0.58559,     0.58659,     0.58759,     0.58859,     0.58959,     0.59059,     0.59159,     0.59259,     0.59359,     0.59459,      0.5956,      0.5966,      0.5976,      0.5986,      0.5996,\n",
              "            0.6006,      0.6016,      0.6026,      0.6036,      0.6046,     0.60561,     0.60661,     0.60761,     0.60861,     0.60961,     0.61061,     0.61161,     0.61261,     0.61361,     0.61461,     0.61562,     0.61662,     0.61762,     0.61862,     0.61962,     0.62062,     0.62162,     0.62262,     0.62362,\n",
              "           0.62462,     0.62563,     0.62663,     0.62763,     0.62863,     0.62963,     0.63063,     0.63163,     0.63263,     0.63363,     0.63463,     0.63564,     0.63664,     0.63764,     0.63864,     0.63964,     0.64064,     0.64164,     0.64264,     0.64364,     0.64464,     0.64565,     0.64665,     0.64765,\n",
              "           0.64865,     0.64965,     0.65065,     0.65165,     0.65265,     0.65365,     0.65465,     0.65566,     0.65666,     0.65766,     0.65866,     0.65966,     0.66066,     0.66166,     0.66266,     0.66366,     0.66466,     0.66567,     0.66667,     0.66767,     0.66867,     0.66967,     0.67067,     0.67167,\n",
              "           0.67267,     0.67367,     0.67467,     0.67568,     0.67668,     0.67768,     0.67868,     0.67968,     0.68068,     0.68168,     0.68268,     0.68368,     0.68468,     0.68569,     0.68669,     0.68769,     0.68869,     0.68969,     0.69069,     0.69169,     0.69269,     0.69369,     0.69469,      0.6957,\n",
              "            0.6967,      0.6977,      0.6987,      0.6997,      0.7007,      0.7017,      0.7027,      0.7037,      0.7047,     0.70571,     0.70671,     0.70771,     0.70871,     0.70971,     0.71071,     0.71171,     0.71271,     0.71371,     0.71471,     0.71572,     0.71672,     0.71772,     0.71872,     0.71972,\n",
              "           0.72072,     0.72172,     0.72272,     0.72372,     0.72472,     0.72573,     0.72673,     0.72773,     0.72873,     0.72973,     0.73073,     0.73173,     0.73273,     0.73373,     0.73473,     0.73574,     0.73674,     0.73774,     0.73874,     0.73974,     0.74074,     0.74174,     0.74274,     0.74374,\n",
              "           0.74474,     0.74575,     0.74675,     0.74775,     0.74875,     0.74975,     0.75075,     0.75175,     0.75275,     0.75375,     0.75475,     0.75576,     0.75676,     0.75776,     0.75876,     0.75976,     0.76076,     0.76176,     0.76276,     0.76376,     0.76476,     0.76577,     0.76677,     0.76777,\n",
              "           0.76877,     0.76977,     0.77077,     0.77177,     0.77277,     0.77377,     0.77477,     0.77578,     0.77678,     0.77778,     0.77878,     0.77978,     0.78078,     0.78178,     0.78278,     0.78378,     0.78478,     0.78579,     0.78679,     0.78779,     0.78879,     0.78979,     0.79079,     0.79179,\n",
              "           0.79279,     0.79379,     0.79479,      0.7958,      0.7968,      0.7978,      0.7988,      0.7998,      0.8008,      0.8018,      0.8028,      0.8038,      0.8048,     0.80581,     0.80681,     0.80781,     0.80881,     0.80981,     0.81081,     0.81181,     0.81281,     0.81381,     0.81481,     0.81582,\n",
              "           0.81682,     0.81782,     0.81882,     0.81982,     0.82082,     0.82182,     0.82282,     0.82382,     0.82482,     0.82583,     0.82683,     0.82783,     0.82883,     0.82983,     0.83083,     0.83183,     0.83283,     0.83383,     0.83483,     0.83584,     0.83684,     0.83784,     0.83884,     0.83984,\n",
              "           0.84084,     0.84184,     0.84284,     0.84384,     0.84484,     0.84585,     0.84685,     0.84785,     0.84885,     0.84985,     0.85085,     0.85185,     0.85285,     0.85385,     0.85485,     0.85586,     0.85686,     0.85786,     0.85886,     0.85986,     0.86086,     0.86186,     0.86286,     0.86386,\n",
              "           0.86486,     0.86587,     0.86687,     0.86787,     0.86887,     0.86987,     0.87087,     0.87187,     0.87287,     0.87387,     0.87487,     0.87588,     0.87688,     0.87788,     0.87888,     0.87988,     0.88088,     0.88188,     0.88288,     0.88388,     0.88488,     0.88589,     0.88689,     0.88789,\n",
              "           0.88889,     0.88989,     0.89089,     0.89189,     0.89289,     0.89389,     0.89489,      0.8959,      0.8969,      0.8979,      0.8989,      0.8999,      0.9009,      0.9019,      0.9029,      0.9039,      0.9049,     0.90591,     0.90691,     0.90791,     0.90891,     0.90991,     0.91091,     0.91191,\n",
              "           0.91291,     0.91391,     0.91491,     0.91592,     0.91692,     0.91792,     0.91892,     0.91992,     0.92092,     0.92192,     0.92292,     0.92392,     0.92492,     0.92593,     0.92693,     0.92793,     0.92893,     0.92993,     0.93093,     0.93193,     0.93293,     0.93393,     0.93493,     0.93594,\n",
              "           0.93694,     0.93794,     0.93894,     0.93994,     0.94094,     0.94194,     0.94294,     0.94394,     0.94494,     0.94595,     0.94695,     0.94795,     0.94895,     0.94995,     0.95095,     0.95195,     0.95295,     0.95395,     0.95495,     0.95596,     0.95696,     0.95796,     0.95896,     0.95996,\n",
              "           0.96096,     0.96196,     0.96296,     0.96396,     0.96496,     0.96597,     0.96697,     0.96797,     0.96897,     0.96997,     0.97097,     0.97197,     0.97297,     0.97397,     0.97497,     0.97598,     0.97698,     0.97798,     0.97898,     0.97998,     0.98098,     0.98198,     0.98298,     0.98398,\n",
              "           0.98498,     0.98599,     0.98699,     0.98799,     0.98899,     0.98999,     0.99099,     0.99199,     0.99299,     0.99399,     0.99499,       0.996,       0.997,       0.998,       0.999,           1]), array([[   0.016949,    0.016949,    0.025608, ...,           1,           1,           1],\n",
              "       [   0.026606,    0.026606,    0.037525, ...,           1,           1,           1],\n",
              "       [   0.027567,    0.027567,    0.039996, ...,           1,           1,           1],\n",
              "       [   0.054348,    0.054348,    0.076408, ...,           1,           1,           1],\n",
              "       [   0.044444,    0.044444,    0.062556, ...,           1,           1,           1],\n",
              "       [   0.062099,    0.062099,    0.089639, ...,           1,           1,           1]]), 'Confidence', 'Precision'], [array([          0,    0.001001,    0.002002,    0.003003,    0.004004,    0.005005,    0.006006,    0.007007,    0.008008,    0.009009,     0.01001,    0.011011,    0.012012,    0.013013,    0.014014,    0.015015,    0.016016,    0.017017,    0.018018,    0.019019,     0.02002,    0.021021,    0.022022,    0.023023,\n",
              "          0.024024,    0.025025,    0.026026,    0.027027,    0.028028,    0.029029,     0.03003,    0.031031,    0.032032,    0.033033,    0.034034,    0.035035,    0.036036,    0.037037,    0.038038,    0.039039,     0.04004,    0.041041,    0.042042,    0.043043,    0.044044,    0.045045,    0.046046,    0.047047,\n",
              "          0.048048,    0.049049,     0.05005,    0.051051,    0.052052,    0.053053,    0.054054,    0.055055,    0.056056,    0.057057,    0.058058,    0.059059,     0.06006,    0.061061,    0.062062,    0.063063,    0.064064,    0.065065,    0.066066,    0.067067,    0.068068,    0.069069,     0.07007,    0.071071,\n",
              "          0.072072,    0.073073,    0.074074,    0.075075,    0.076076,    0.077077,    0.078078,    0.079079,     0.08008,    0.081081,    0.082082,    0.083083,    0.084084,    0.085085,    0.086086,    0.087087,    0.088088,    0.089089,     0.09009,    0.091091,    0.092092,    0.093093,    0.094094,    0.095095,\n",
              "          0.096096,    0.097097,    0.098098,    0.099099,      0.1001,      0.1011,      0.1021,      0.1031,      0.1041,     0.10511,     0.10611,     0.10711,     0.10811,     0.10911,     0.11011,     0.11111,     0.11211,     0.11311,     0.11411,     0.11512,     0.11612,     0.11712,     0.11812,     0.11912,\n",
              "           0.12012,     0.12112,     0.12212,     0.12312,     0.12412,     0.12513,     0.12613,     0.12713,     0.12813,     0.12913,     0.13013,     0.13113,     0.13213,     0.13313,     0.13413,     0.13514,     0.13614,     0.13714,     0.13814,     0.13914,     0.14014,     0.14114,     0.14214,     0.14314,\n",
              "           0.14414,     0.14515,     0.14615,     0.14715,     0.14815,     0.14915,     0.15015,     0.15115,     0.15215,     0.15315,     0.15415,     0.15516,     0.15616,     0.15716,     0.15816,     0.15916,     0.16016,     0.16116,     0.16216,     0.16316,     0.16416,     0.16517,     0.16617,     0.16717,\n",
              "           0.16817,     0.16917,     0.17017,     0.17117,     0.17217,     0.17317,     0.17417,     0.17518,     0.17618,     0.17718,     0.17818,     0.17918,     0.18018,     0.18118,     0.18218,     0.18318,     0.18418,     0.18519,     0.18619,     0.18719,     0.18819,     0.18919,     0.19019,     0.19119,\n",
              "           0.19219,     0.19319,     0.19419,      0.1952,      0.1962,      0.1972,      0.1982,      0.1992,      0.2002,      0.2012,      0.2022,      0.2032,      0.2042,     0.20521,     0.20621,     0.20721,     0.20821,     0.20921,     0.21021,     0.21121,     0.21221,     0.21321,     0.21421,     0.21522,\n",
              "           0.21622,     0.21722,     0.21822,     0.21922,     0.22022,     0.22122,     0.22222,     0.22322,     0.22422,     0.22523,     0.22623,     0.22723,     0.22823,     0.22923,     0.23023,     0.23123,     0.23223,     0.23323,     0.23423,     0.23524,     0.23624,     0.23724,     0.23824,     0.23924,\n",
              "           0.24024,     0.24124,     0.24224,     0.24324,     0.24424,     0.24525,     0.24625,     0.24725,     0.24825,     0.24925,     0.25025,     0.25125,     0.25225,     0.25325,     0.25425,     0.25526,     0.25626,     0.25726,     0.25826,     0.25926,     0.26026,     0.26126,     0.26226,     0.26326,\n",
              "           0.26426,     0.26527,     0.26627,     0.26727,     0.26827,     0.26927,     0.27027,     0.27127,     0.27227,     0.27327,     0.27427,     0.27528,     0.27628,     0.27728,     0.27828,     0.27928,     0.28028,     0.28128,     0.28228,     0.28328,     0.28428,     0.28529,     0.28629,     0.28729,\n",
              "           0.28829,     0.28929,     0.29029,     0.29129,     0.29229,     0.29329,     0.29429,      0.2953,      0.2963,      0.2973,      0.2983,      0.2993,      0.3003,      0.3013,      0.3023,      0.3033,      0.3043,     0.30531,     0.30631,     0.30731,     0.30831,     0.30931,     0.31031,     0.31131,\n",
              "           0.31231,     0.31331,     0.31431,     0.31532,     0.31632,     0.31732,     0.31832,     0.31932,     0.32032,     0.32132,     0.32232,     0.32332,     0.32432,     0.32533,     0.32633,     0.32733,     0.32833,     0.32933,     0.33033,     0.33133,     0.33233,     0.33333,     0.33433,     0.33534,\n",
              "           0.33634,     0.33734,     0.33834,     0.33934,     0.34034,     0.34134,     0.34234,     0.34334,     0.34434,     0.34535,     0.34635,     0.34735,     0.34835,     0.34935,     0.35035,     0.35135,     0.35235,     0.35335,     0.35435,     0.35536,     0.35636,     0.35736,     0.35836,     0.35936,\n",
              "           0.36036,     0.36136,     0.36236,     0.36336,     0.36436,     0.36537,     0.36637,     0.36737,     0.36837,     0.36937,     0.37037,     0.37137,     0.37237,     0.37337,     0.37437,     0.37538,     0.37638,     0.37738,     0.37838,     0.37938,     0.38038,     0.38138,     0.38238,     0.38338,\n",
              "           0.38438,     0.38539,     0.38639,     0.38739,     0.38839,     0.38939,     0.39039,     0.39139,     0.39239,     0.39339,     0.39439,      0.3954,      0.3964,      0.3974,      0.3984,      0.3994,      0.4004,      0.4014,      0.4024,      0.4034,      0.4044,     0.40541,     0.40641,     0.40741,\n",
              "           0.40841,     0.40941,     0.41041,     0.41141,     0.41241,     0.41341,     0.41441,     0.41542,     0.41642,     0.41742,     0.41842,     0.41942,     0.42042,     0.42142,     0.42242,     0.42342,     0.42442,     0.42543,     0.42643,     0.42743,     0.42843,     0.42943,     0.43043,     0.43143,\n",
              "           0.43243,     0.43343,     0.43443,     0.43544,     0.43644,     0.43744,     0.43844,     0.43944,     0.44044,     0.44144,     0.44244,     0.44344,     0.44444,     0.44545,     0.44645,     0.44745,     0.44845,     0.44945,     0.45045,     0.45145,     0.45245,     0.45345,     0.45445,     0.45546,\n",
              "           0.45646,     0.45746,     0.45846,     0.45946,     0.46046,     0.46146,     0.46246,     0.46346,     0.46446,     0.46547,     0.46647,     0.46747,     0.46847,     0.46947,     0.47047,     0.47147,     0.47247,     0.47347,     0.47447,     0.47548,     0.47648,     0.47748,     0.47848,     0.47948,\n",
              "           0.48048,     0.48148,     0.48248,     0.48348,     0.48448,     0.48549,     0.48649,     0.48749,     0.48849,     0.48949,     0.49049,     0.49149,     0.49249,     0.49349,     0.49449,      0.4955,      0.4965,      0.4975,      0.4985,      0.4995,      0.5005,      0.5015,      0.5025,      0.5035,\n",
              "            0.5045,     0.50551,     0.50651,     0.50751,     0.50851,     0.50951,     0.51051,     0.51151,     0.51251,     0.51351,     0.51451,     0.51552,     0.51652,     0.51752,     0.51852,     0.51952,     0.52052,     0.52152,     0.52252,     0.52352,     0.52452,     0.52553,     0.52653,     0.52753,\n",
              "           0.52853,     0.52953,     0.53053,     0.53153,     0.53253,     0.53353,     0.53453,     0.53554,     0.53654,     0.53754,     0.53854,     0.53954,     0.54054,     0.54154,     0.54254,     0.54354,     0.54454,     0.54555,     0.54655,     0.54755,     0.54855,     0.54955,     0.55055,     0.55155,\n",
              "           0.55255,     0.55355,     0.55455,     0.55556,     0.55656,     0.55756,     0.55856,     0.55956,     0.56056,     0.56156,     0.56256,     0.56356,     0.56456,     0.56557,     0.56657,     0.56757,     0.56857,     0.56957,     0.57057,     0.57157,     0.57257,     0.57357,     0.57457,     0.57558,\n",
              "           0.57658,     0.57758,     0.57858,     0.57958,     0.58058,     0.58158,     0.58258,     0.58358,     0.58458,     0.58559,     0.58659,     0.58759,     0.58859,     0.58959,     0.59059,     0.59159,     0.59259,     0.59359,     0.59459,      0.5956,      0.5966,      0.5976,      0.5986,      0.5996,\n",
              "            0.6006,      0.6016,      0.6026,      0.6036,      0.6046,     0.60561,     0.60661,     0.60761,     0.60861,     0.60961,     0.61061,     0.61161,     0.61261,     0.61361,     0.61461,     0.61562,     0.61662,     0.61762,     0.61862,     0.61962,     0.62062,     0.62162,     0.62262,     0.62362,\n",
              "           0.62462,     0.62563,     0.62663,     0.62763,     0.62863,     0.62963,     0.63063,     0.63163,     0.63263,     0.63363,     0.63463,     0.63564,     0.63664,     0.63764,     0.63864,     0.63964,     0.64064,     0.64164,     0.64264,     0.64364,     0.64464,     0.64565,     0.64665,     0.64765,\n",
              "           0.64865,     0.64965,     0.65065,     0.65165,     0.65265,     0.65365,     0.65465,     0.65566,     0.65666,     0.65766,     0.65866,     0.65966,     0.66066,     0.66166,     0.66266,     0.66366,     0.66466,     0.66567,     0.66667,     0.66767,     0.66867,     0.66967,     0.67067,     0.67167,\n",
              "           0.67267,     0.67367,     0.67467,     0.67568,     0.67668,     0.67768,     0.67868,     0.67968,     0.68068,     0.68168,     0.68268,     0.68368,     0.68468,     0.68569,     0.68669,     0.68769,     0.68869,     0.68969,     0.69069,     0.69169,     0.69269,     0.69369,     0.69469,      0.6957,\n",
              "            0.6967,      0.6977,      0.6987,      0.6997,      0.7007,      0.7017,      0.7027,      0.7037,      0.7047,     0.70571,     0.70671,     0.70771,     0.70871,     0.70971,     0.71071,     0.71171,     0.71271,     0.71371,     0.71471,     0.71572,     0.71672,     0.71772,     0.71872,     0.71972,\n",
              "           0.72072,     0.72172,     0.72272,     0.72372,     0.72472,     0.72573,     0.72673,     0.72773,     0.72873,     0.72973,     0.73073,     0.73173,     0.73273,     0.73373,     0.73473,     0.73574,     0.73674,     0.73774,     0.73874,     0.73974,     0.74074,     0.74174,     0.74274,     0.74374,\n",
              "           0.74474,     0.74575,     0.74675,     0.74775,     0.74875,     0.74975,     0.75075,     0.75175,     0.75275,     0.75375,     0.75475,     0.75576,     0.75676,     0.75776,     0.75876,     0.75976,     0.76076,     0.76176,     0.76276,     0.76376,     0.76476,     0.76577,     0.76677,     0.76777,\n",
              "           0.76877,     0.76977,     0.77077,     0.77177,     0.77277,     0.77377,     0.77477,     0.77578,     0.77678,     0.77778,     0.77878,     0.77978,     0.78078,     0.78178,     0.78278,     0.78378,     0.78478,     0.78579,     0.78679,     0.78779,     0.78879,     0.78979,     0.79079,     0.79179,\n",
              "           0.79279,     0.79379,     0.79479,      0.7958,      0.7968,      0.7978,      0.7988,      0.7998,      0.8008,      0.8018,      0.8028,      0.8038,      0.8048,     0.80581,     0.80681,     0.80781,     0.80881,     0.80981,     0.81081,     0.81181,     0.81281,     0.81381,     0.81481,     0.81582,\n",
              "           0.81682,     0.81782,     0.81882,     0.81982,     0.82082,     0.82182,     0.82282,     0.82382,     0.82482,     0.82583,     0.82683,     0.82783,     0.82883,     0.82983,     0.83083,     0.83183,     0.83283,     0.83383,     0.83483,     0.83584,     0.83684,     0.83784,     0.83884,     0.83984,\n",
              "           0.84084,     0.84184,     0.84284,     0.84384,     0.84484,     0.84585,     0.84685,     0.84785,     0.84885,     0.84985,     0.85085,     0.85185,     0.85285,     0.85385,     0.85485,     0.85586,     0.85686,     0.85786,     0.85886,     0.85986,     0.86086,     0.86186,     0.86286,     0.86386,\n",
              "           0.86486,     0.86587,     0.86687,     0.86787,     0.86887,     0.86987,     0.87087,     0.87187,     0.87287,     0.87387,     0.87487,     0.87588,     0.87688,     0.87788,     0.87888,     0.87988,     0.88088,     0.88188,     0.88288,     0.88388,     0.88488,     0.88589,     0.88689,     0.88789,\n",
              "           0.88889,     0.88989,     0.89089,     0.89189,     0.89289,     0.89389,     0.89489,      0.8959,      0.8969,      0.8979,      0.8989,      0.8999,      0.9009,      0.9019,      0.9029,      0.9039,      0.9049,     0.90591,     0.90691,     0.90791,     0.90891,     0.90991,     0.91091,     0.91191,\n",
              "           0.91291,     0.91391,     0.91491,     0.91592,     0.91692,     0.91792,     0.91892,     0.91992,     0.92092,     0.92192,     0.92292,     0.92392,     0.92492,     0.92593,     0.92693,     0.92793,     0.92893,     0.92993,     0.93093,     0.93193,     0.93293,     0.93393,     0.93493,     0.93594,\n",
              "           0.93694,     0.93794,     0.93894,     0.93994,     0.94094,     0.94194,     0.94294,     0.94394,     0.94494,     0.94595,     0.94695,     0.94795,     0.94895,     0.94995,     0.95095,     0.95195,     0.95295,     0.95395,     0.95495,     0.95596,     0.95696,     0.95796,     0.95896,     0.95996,\n",
              "           0.96096,     0.96196,     0.96296,     0.96396,     0.96496,     0.96597,     0.96697,     0.96797,     0.96897,     0.96997,     0.97097,     0.97197,     0.97297,     0.97397,     0.97497,     0.97598,     0.97698,     0.97798,     0.97898,     0.97998,     0.98098,     0.98198,     0.98298,     0.98398,\n",
              "           0.98498,     0.98599,     0.98699,     0.98799,     0.98899,     0.98999,     0.99099,     0.99199,     0.99299,     0.99399,     0.99499,       0.996,       0.997,       0.998,       0.999,           1]), array([[    0.66667,     0.66667,     0.63636, ...,           0,           0,           0],\n",
              "       [    0.92982,     0.92982,     0.89474, ...,           0,           0,           0],\n",
              "       [    0.93023,     0.93023,     0.86047, ...,           0,           0,           0],\n",
              "       [    0.75758,     0.75758,     0.69697, ...,           0,           0,           0],\n",
              "       [    0.89796,     0.89796,     0.89796, ...,           0,           0,           0],\n",
              "       [    0.87879,     0.87879,     0.84848, ...,           0,           0,           0]]), 'Confidence', 'Recall']]\n",
              "fitness: np.float64(0.20704672141664404)\n",
              "keys: ['metrics/precision(B)', 'metrics/recall(B)', 'metrics/mAP50(B)', 'metrics/mAP50-95(B)']\n",
              "maps: array([    0.14493,     0.14246,     0.14498,     0.13283,     0.19276,      0.3209])\n",
              "names: {0: 'broken_road_signs', 1: 'damaged_buildings', 2: 'littering', 3: 'parking_issues', 4: 'potholes', 5: 'vandalism'}\n",
              "nt_per_class: array([33, 57, 43, 33, 49, 33])\n",
              "nt_per_image: array([20, 33, 30, 23, 30, 26])\n",
              "results_dict: {'metrics/precision(B)': np.float64(0.593850332478672), 'metrics/recall(B)': np.float64(0.39870525558993375), 'metrics/mAP50(B)': np.float64(0.4521745081685045), 'metrics/mAP50-95(B)': np.float64(0.1798103006664373), 'fitness': np.float64(0.20704672141664404)}\n",
              "save_dir: PosixPath('runs/detect/train6')\n",
              "speed: {'preprocess': 0.39221795215267236, 'inference': 4.750016669868926, 'loss': 0.000438239221345816, 'postprocess': 4.981797588515331}\n",
              "stats: {'tp': [], 'conf': [], 'pred_cls': [], 'target_cls': [], 'target_img': []}\n",
              "task: 'detect'"
            ]
          },
          "metadata": {},
          "execution_count": 13
        }
      ]
    },
    {
      "cell_type": "code",
      "source": [
        "from google.colab import drive\n",
        "drive.mount('/content/drive')\n",
        "\n",
        "!cp runs/detect/train6/weights/best.pt /content/drive/MyDrive/"
      ],
      "metadata": {
        "colab": {
          "base_uri": "https://localhost:8080/"
        },
        "id": "Jnnfm6G1ciPP",
        "outputId": "9ff6fa93-5863-42f9-8089-222203bbb6e6"
      },
      "execution_count": 15,
      "outputs": [
        {
          "output_type": "stream",
          "name": "stdout",
          "text": [
            "Drive already mounted at /content/drive; to attempt to forcibly remount, call drive.mount(\"/content/drive\", force_remount=True).\n"
          ]
        }
      ]
    }
  ]
}