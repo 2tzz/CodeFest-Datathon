{
 "cells": [
  {
   "cell_type": "code",
   "execution_count": 5,
   "id": "038e64db-73b3-48a8-9da6-f9da7745b119",
   "metadata": {},
   "outputs": [],
   "source": [
    "import os\n",
    "import numpy as np\n",
    "import random"
   ]
  },
  {
   "cell_type": "code",
   "execution_count": 3,
   "id": "fbcb9aef-5b8f-4f0b-8605-656470f90899",
   "metadata": {},
   "outputs": [
    {
     "name": "stdout",
     "output_type": "stream",
     "text": [
      "it has 791\n"
     ]
    }
   ],
   "source": [
    "files = os.listdir('./')\n",
    "print(f\"it has {len(files)}\")"
   ]
  },
  {
   "cell_type": "code",
   "execution_count": 6,
   "id": "e3d00092-f9a3-4744-8f01-dbbf85160ab9",
   "metadata": {},
   "outputs": [],
   "source": [
    "files_to_delete=random.sample(files, 500)\n",
    "\n",
    "for f in files_to_delete:\n",
    "    os.remove(os.path.join('./', f))"
   ]
  }
 ],
 "metadata": {
  "kernelspec": {
   "display_name": "Python 3 (ipykernel)",
   "language": "python",
   "name": "python3"
  },
  "language_info": {
   "codemirror_mode": {
    "name": "ipython",
    "version": 3
   },
   "file_extension": ".py",
   "mimetype": "text/x-python",
   "name": "python",
   "nbconvert_exporter": "python",
   "pygments_lexer": "ipython3",
   "version": "3.10.0"
  }
 },
 "nbformat": 4,
 "nbformat_minor": 5
}
