{
 "cells": [
  {
   "cell_type": "code",
   "execution_count": 1,
   "id": "7dd485ab-e5f8-4ac5-b254-3fcff4846837",
   "metadata": {},
   "outputs": [
    {
     "name": "stdout",
     "output_type": "stream",
     "text": [
      "Renamed 2116 files successfully.\n"
     ]
    }
   ],
   "source": [
    "import os\n",
    "\n",
    "folder = './Datathoon'\n",
    "valid_exts = ('.jpg', '.png')  \n",
    "\n",
    "files = os.listdir(folder)\n",
    "files = [f for f in files if f.lower().endswith(valid_exts)]\n",
    "\n",
    "files.sort() # sorting\n",
    "\n",
    "for i, filename in enumerate(files, start=1):\n",
    "    old_path = os.path.join(folder, filename)\n",
    "    ext = os.path.splitext(filename)[1] \n",
    "    new_name = f'img{i}{ext}'\n",
    "    new_path = os.path.join(folder, new_name)\n",
    "    os.rename(old_path, new_path)\n",
    "\n",
    "print(f'Renamed {len(files)} files successfully.')\n"
   ]
  }
 ],
 "metadata": {
  "kernelspec": {
   "display_name": "Python 3 (ipykernel)",
   "language": "python",
   "name": "python3"
  },
  "language_info": {
   "codemirror_mode": {
    "name": "ipython",
    "version": 3
   },
   "file_extension": ".py",
   "mimetype": "text/x-python",
   "name": "python",
   "nbconvert_exporter": "python",
   "pygments_lexer": "ipython3",
   "version": "3.10.0"
  }
 },
 "nbformat": 4,
 "nbformat_minor": 5
}
